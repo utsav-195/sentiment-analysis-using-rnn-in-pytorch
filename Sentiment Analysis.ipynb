{
  "nbformat": 4,
  "nbformat_minor": 0,
  "metadata": {
    "colab": {
      "name": "dnlp-1.ipynb",
      "provenance": [],
      "collapsed_sections": [],
      "toc_visible": true,
      "mount_file_id": "1tRjOCgL6kdfCCYQ3vBmNutR3lsxdqAuk",
      "authorship_tag": "ABX9TyNA0KA51XcN3o7IIlLFveam",
      "include_colab_link": true
    },
    "kernelspec": {
      "name": "python3",
      "display_name": "Python 3"
    },
    "accelerator": "GPU"
  },
  "cells": [
    {
      "cell_type": "markdown",
      "metadata": {
        "id": "view-in-github",
        "colab_type": "text"
      },
      "source": [
        "<a href=\"https://colab.research.google.com/github/utsav-195/sentiment-analysis-using-rnn-in-pytorch/blob/main/Sentiment%20Analysis.ipynb\" target=\"_parent\"><img src=\"https://colab.research.google.com/assets/colab-badge.svg\" alt=\"Open In Colab\"/></a>"
      ]
    },
    {
      "cell_type": "code",
      "metadata": {
        "id": "8_ta3q88thJD",
        "outputId": "addac408-028f-4752-d6bf-d8ed95135680",
        "colab": {
          "base_uri": "https://localhost:8080/",
          "height": 104
        }
      },
      "source": [
        "!tar -xvf \"/content/drive/My Drive/D4NLP/Ass 1/rt-polaritydata.tar.gz\" -C \"/content/drive/My Drive/D4NLP/Ass 1/\""
      ],
      "execution_count": null,
      "outputs": [
        {
          "output_type": "stream",
          "text": [
            "tar: option requires an argument -- 'f'\n",
            "Try 'tar --help' or 'tar --usage' for more information.\n",
            "rt-polaritydata.README.1.0.txt\n",
            "rt-polaritydata/rt-polarity.neg\n",
            "rt-polaritydata/rt-polarity.pos\n"
          ],
          "name": "stdout"
        }
      ]
    },
    {
      "cell_type": "code",
      "metadata": {
        "id": "XVH8R3ucMoE2",
        "outputId": "ce4b1e03-e656-4cb7-ef70-91f8b6b177c2",
        "colab": {
          "base_uri": "https://localhost:8080/",
          "height": 34
        }
      },
      "source": [
        "!pip install pyprind"
      ],
      "execution_count": 1,
      "outputs": [
        {
          "output_type": "stream",
          "text": [
            "Requirement already satisfied: pyprind in /usr/local/lib/python3.6/dist-packages (2.11.2)\n"
          ],
          "name": "stdout"
        }
      ]
    },
    {
      "cell_type": "code",
      "metadata": {
        "id": "ixJYP4i7vCsA"
      },
      "source": [
        "import numpy as np\n",
        "import pandas as pd\n",
        "import torch\n",
        "from torchtext import data\n",
        "import torch.nn as nn\n",
        "import torch.optim as optim\n",
        "import torch.nn.functional as F\n",
        "import torchtext\n",
        "from torch.autograd import Variable\n",
        "from tqdm import tqdm\n",
        "import nltk\n",
        "\n",
        "import random\n",
        "from sklearn.metrics import classification_report\n",
        "\n",
        "import pyprind\n",
        "%matplotlib inline  "
      ],
      "execution_count": 2,
      "outputs": []
    },
    {
      "cell_type": "markdown",
      "metadata": {
        "id": "KSIqTJw38Ho6"
      },
      "source": [
        "#Pre-Processing"
      ]
    },
    {
      "cell_type": "code",
      "metadata": {
        "id": "QtZQJpB7uXrR"
      },
      "source": [
        "data_pos = []\n",
        "with open(\"/content/drive/My Drive/D4NLP/Ass 1/rt-polaritydata/rt-polarity.pos\",encoding='latin-1') as f:\n",
        "  for line in f:\n",
        "    line  = line[:-2]\n",
        "    line = line.replace(\"'t\",\"t\")\n",
        "    line = line.replace(\"'\",\" '\")\n",
        "    line = line.replace(\"/\",\" / \")\n",
        "    line = line.replace(\"-\",\" - \")\n",
        "    line = line.replace(\"[\",\" [ \")\n",
        "    line = line.replace(\"]\",\" ] \")\n",
        "    data_pos.append(line)"
      ],
      "execution_count": null,
      "outputs": []
    },
    {
      "cell_type": "code",
      "metadata": {
        "id": "vD78OQDdvf3w",
        "outputId": "acd47ebc-edb1-486b-dc35-3204adc28455",
        "colab": {
          "base_uri": "https://localhost:8080/",
          "height": 69
        }
      },
      "source": [
        "# creating train, dev, test split positive reviews\n",
        "data_pos_train = data_pos[:int(len(data_pos)*0.6)]\n",
        "data_pos_dev = data_pos[int(len(data_pos)*0.6):int(len(data_pos)*0.8)]\n",
        "data_pos_test = data_pos[int(len(data_pos)*0.8):]\n",
        "\n",
        "data_pos_train = np.asarray(data_pos_train)\n",
        "data_pos_dev = np.asarray(data_pos_dev)\n",
        "data_pos_test = np.asarray(data_pos_test)\n",
        "\n",
        "y_pos_train = np.asarray([1]*len(data_pos_train))\n",
        "y_pos_dev = np.asarray([1]*len(data_pos_dev))\n",
        "y_pos_test = np.asarray([1]*len(data_pos_test))\n",
        "\n",
        "print(data_pos_train.shape)\n",
        "print(data_pos_dev.shape)\n",
        "print(data_pos_test.shape)"
      ],
      "execution_count": null,
      "outputs": [
        {
          "output_type": "stream",
          "text": [
            "(3198,)\n",
            "(1066,)\n",
            "(1067,)\n"
          ],
          "name": "stdout"
        }
      ]
    },
    {
      "cell_type": "code",
      "metadata": {
        "id": "N74uYVSovhBx"
      },
      "source": [
        "# reading the negative reviews\n",
        "data_neg = []\n",
        "with open(\"/content/drive/My Drive/D4NLP/Ass 1/rt-polaritydata/rt-polarity.neg\",encoding='latin-1') as f:\n",
        "    for line in f:\n",
        "        line  = line[:-2]\n",
        "        line = line.replace(\"'t\",\"t\")\n",
        "        line = line.replace(\"'\",\" '\")\n",
        "        line = line.replace(\"/\",\" / \")\n",
        "        line = line.replace(\"-\",\" - \")\n",
        "        line = line.replace(\"[\",\" [ \")\n",
        "        line = line.replace(\"]\",\" ] \")\n",
        "        data_neg.append(line)"
      ],
      "execution_count": null,
      "outputs": []
    },
    {
      "cell_type": "code",
      "metadata": {
        "id": "vudVC7eqvnLN",
        "outputId": "5a011556-280b-4b6d-e8c6-8b3c893e200e",
        "colab": {
          "base_uri": "https://localhost:8080/",
          "height": 69
        }
      },
      "source": [
        "# creating train, dev, test split for negative reviews\n",
        "data_neg_train = data_neg[:int(len(data_neg)*0.6)]\n",
        "data_neg_dev = data_neg[int(len(data_neg)*0.6):int(len(data_neg)*0.8)]\n",
        "data_neg_test = data_neg[int(len(data_neg)*0.8):]\n",
        "\n",
        "data_neg_train = np.asarray(data_neg_train)\n",
        "data_neg_dev = np.asarray(data_neg_dev)\n",
        "data_neg_test = np.asarray(data_neg_test)\n",
        "\n",
        "y_neg_train = np.asarray([0]*len(data_neg_train))\n",
        "y_neg_dev = np.asarray([0]*len(data_neg_dev))\n",
        "y_neg_test = np.asarray([0]*len(data_neg_test))\n",
        "\n",
        "print(data_neg_train.shape)\n",
        "print(data_neg_dev.shape)\n",
        "print(data_neg_test.shape)"
      ],
      "execution_count": null,
      "outputs": [
        {
          "output_type": "stream",
          "text": [
            "(3198,)\n",
            "(1066,)\n",
            "(1067,)\n"
          ],
          "name": "stdout"
        }
      ]
    },
    {
      "cell_type": "code",
      "metadata": {
        "id": "7SrkLS-Jvplu",
        "outputId": "2964d552-651f-4342-a5d8-385f02a0d59f",
        "colab": {
          "base_uri": "https://localhost:8080/",
          "height": 52
        }
      },
      "source": [
        "x_train = np.concatenate((data_pos_train, data_neg_train), axis=0)\n",
        "x_dev = np.concatenate((data_pos_dev, data_neg_dev), axis=0)\n",
        "x_test = np.concatenate((data_pos_test, data_neg_test), axis=0)\n",
        "\n",
        "y_train = np.concatenate((y_pos_train, y_neg_train), axis=0)\n",
        "y_dev = np.concatenate((y_pos_dev, y_neg_dev), axis=0)\n",
        "y_test = np.concatenate((y_pos_test, y_neg_test), axis=0)\n",
        "\n",
        "print(x_train.shape)\n",
        "print(y_train.shape)\n"
      ],
      "execution_count": null,
      "outputs": [
        {
          "output_type": "stream",
          "text": [
            "(6396,)\n",
            "(6396,)\n"
          ],
          "name": "stdout"
        }
      ]
    },
    {
      "cell_type": "code",
      "metadata": {
        "id": "8m_xvKmkVeer"
      },
      "source": [
        "def seq_length(data,label,seq_len):\n",
        "  data_seq_len = []\n",
        "  for i in range(len(data)):\n",
        "    data_seq_len.append(\" \".join(data[i].split()[:seq_len]))\n",
        "  df = pd.DataFrame()\n",
        "  df['reviews'] = data_seq_len\n",
        "  df['senti'] = label\n",
        "\n",
        "  df = df.sample(frac = 1).reset_index(drop=True)\n",
        "\n",
        "  return df"
      ],
      "execution_count": null,
      "outputs": []
    },
    {
      "cell_type": "code",
      "metadata": {
        "id": "SmV9W2OHXAho"
      },
      "source": [
        "seq_len = 35\n",
        "df_train = seq_length(x_train,y_train,seq_len)\n",
        "df_dev = seq_length(x_dev,y_dev,seq_len)\n",
        "df_test = seq_length(x_test,y_test,seq_len)"
      ],
      "execution_count": null,
      "outputs": []
    },
    {
      "cell_type": "code",
      "metadata": {
        "id": "858H7dNDIbJj"
      },
      "source": [
        "!mkdir \"/content/drive/My Drive/D4NLP/Ass 1/torchtext_data/\""
      ],
      "execution_count": null,
      "outputs": []
    },
    {
      "cell_type": "code",
      "metadata": {
        "id": "i4zu6A_fIhza"
      },
      "source": [
        "df_train.to_csv(\"/content/drive/My Drive/D4NLP/Ass 1/torchtext_data/train.csv\", index=False)\n",
        "df_test.to_csv(\"/content/drive/My Drive/D4NLP/Ass 1/torchtext_data/test.csv\", index=False)\n",
        "df_dev.to_csv(\"/content/drive/My Drive/D4NLP/Ass 1/torchtext_data/dev.csv\", index=False)"
      ],
      "execution_count": null,
      "outputs": []
    },
    {
      "cell_type": "markdown",
      "metadata": {
        "id": "NCy8mueue6pj"
      },
      "source": [
        "# Referenced"
      ]
    },
    {
      "cell_type": "markdown",
      "metadata": {
        "id": "wvFcCwMbsjQa"
      },
      "source": [
        "https://www.kaggle.com/kuldeep7688/simple-rnn-using-glove-embeddings-in-pytorch\n",
        "\n",
        "https://github.com/bentrevett/pytorch-sentiment-analysis"
      ]
    },
    {
      "cell_type": "code",
      "metadata": {
        "id": "eD_3ejnEJB8v"
      },
      "source": [
        "# sample tokenizer which you can use\n",
        "def tokenizer(text):\n",
        "    return [tok for tok in text.split()]"
      ],
      "execution_count": 3,
      "outputs": []
    },
    {
      "cell_type": "code",
      "metadata": {
        "id": "eU2IimrqJDU7"
      },
      "source": [
        "# tokenizer = \"spacy\" uses spacy's tokenizer\n",
        "TEXT = data.Field(sequential=True, tokenize=tokenizer)\n",
        "LABEL = data.LabelField(dtype=torch.long, sequential=False)"
      ],
      "execution_count": 4,
      "outputs": []
    },
    {
      "cell_type": "code",
      "metadata": {
        "id": "NAOrbbOmtI6O"
      },
      "source": [
        "device = torch.device('cuda' if torch.cuda.is_available() else 'cpu')"
      ],
      "execution_count": 5,
      "outputs": []
    },
    {
      "cell_type": "code",
      "metadata": {
        "id": "mBaeCRTqJDXx"
      },
      "source": [
        "# loading train, test and validation data \n",
        "train_data, dev_data, test_data = data.TabularDataset.splits(\n",
        "    path=\"/content/drive/My Drive/D4NLP/Ass 1/torchtext_data/\", train=\"train.csv\", \n",
        "    validation=\"dev.csv\", test=\"test.csv\",format=\"csv\", skip_header=True, \n",
        "    fields=[('reviews', TEXT), ('senti', LABEL)]\n",
        ")"
      ],
      "execution_count": 6,
      "outputs": []
    },
    {
      "cell_type": "code",
      "metadata": {
        "id": "eezpoEr5JDSD",
        "outputId": "682fd905-7ef6-49ab-a950-82b051f11619",
        "colab": {
          "base_uri": "https://localhost:8080/",
          "height": 68
        }
      },
      "source": [
        "print(f'Number of training examples: {len(train_data)}')\n",
        "print(f'Number of valid examples: {len(dev_data)}')\n",
        "print(f'Number of testing examples: {len(test_data)}')"
      ],
      "execution_count": 7,
      "outputs": [
        {
          "output_type": "stream",
          "text": [
            "Number of training examples: 6396\n",
            "Number of valid examples: 2132\n",
            "Number of testing examples: 2134\n"
          ],
          "name": "stdout"
        }
      ]
    },
    {
      "cell_type": "code",
      "metadata": {
        "id": "k9b4x4pYJgUj"
      },
      "source": [
        "TEXT.build_vocab(train_data, vectors=torchtext.vocab.Vectors(\"/content/drive/My Drive/D4NLP/Ass 1/glove.6B.300d.txt\"), \n",
        "                 max_size=40000, min_freq=1)\n",
        "LABEL.build_vocab(train_data)"
      ],
      "execution_count": 8,
      "outputs": []
    },
    {
      "cell_type": "code",
      "metadata": {
        "id": "MMcEDLu2JytQ",
        "outputId": "70cb6949-e276-486c-9a67-389801d5bf89",
        "colab": {
          "base_uri": "https://localhost:8080/",
          "height": 51
        }
      },
      "source": [
        "print(f\"Unique tokens in TEXT vocabulary: {len(TEXT.vocab)}\")\n",
        "print(f\"Unique tokens in LABEL vocabulary: {len(LABEL.vocab)}\")"
      ],
      "execution_count": 9,
      "outputs": [
        {
          "output_type": "stream",
          "text": [
            "Unique tokens in TEXT vocabulary: 14410\n",
            "Unique tokens in LABEL vocabulary: 2\n"
          ],
          "name": "stdout"
        }
      ]
    },
    {
      "cell_type": "code",
      "metadata": {
        "id": "g2mGk7lpJyqR"
      },
      "source": [
        "BATCH_SIZE = 32\n",
        "\n",
        "device = torch.device('cuda' if torch.cuda.is_available() else 'cpu')\n",
        "\n",
        "# keep in mind the sort_key option \n",
        "train_iterator, dev_iterator, test_iterator = data.BucketIterator.splits(\n",
        "    (train_data, dev_data, test_data), sort_key=lambda x: len(x.reviews),\n",
        "    batch_size=BATCH_SIZE,\n",
        "    device=device)"
      ],
      "execution_count": 10,
      "outputs": []
    },
    {
      "cell_type": "code",
      "metadata": {
        "id": "2376H4OHYfOx",
        "outputId": "52a592d5-504b-47f6-9dae-f308fba528fd",
        "colab": {
          "base_uri": "https://localhost:8080/",
          "height": 85
        }
      },
      "source": [
        "for i in train_iterator:\n",
        "  print(i)\n",
        "  break"
      ],
      "execution_count": 11,
      "outputs": [
        {
          "output_type": "stream",
          "text": [
            "\n",
            "[torchtext.data.batch.Batch of size 32]\n",
            "\t[.reviews]:[torch.cuda.LongTensor of size 35x32 (GPU 0)]\n",
            "\t[.senti]:[torch.cuda.LongTensor of size 32 (GPU 0)]\n"
          ],
          "name": "stdout"
        }
      ]
    },
    {
      "cell_type": "markdown",
      "metadata": {
        "id": "NCq28YbQ3Iou"
      },
      "source": [
        "## RNN"
      ]
    },
    {
      "cell_type": "code",
      "metadata": {
        "id": "PZBlByCqKJQL"
      },
      "source": [
        "class RNN(nn.Module):\n",
        "    def __init__(self, input_dim, embedding_dim, hidden_dim, output_dim, dropout):\n",
        "        super().__init__()\n",
        "        self.hidden_dim = hidden_dim\n",
        "        self.embedding = nn.Embedding(input_dim, embedding_dim)\n",
        "        self.rnn = nn.RNN(embedding_dim, hidden_dim, dropout=dropout)\n",
        "        self.fc = nn.Linear(hidden_dim, output_dim)\n",
        "\n",
        "        self.dropout = nn.Dropout(dropout)\n",
        "    \n",
        "    def forward(self, x):\n",
        "\n",
        "        #x = [sent len, batch size]\n",
        "        \n",
        "        embedded = self.dropout(self.embedding(x))\n",
        "        \n",
        "        #embedded = [sent len, batch size, emb dim]\n",
        "        # print(x.shape)\n",
        "        # print(embedded.shape)\n",
        "        #pack sequence\n",
        "        # packed_embedded = nn.utils.rnn.pack_padded_sequence(embedded, text_lengths)\n",
        "\n",
        "        output, hidden = self.rnn(embedded)\n",
        "        \n",
        "        #output = [sent len, batch size, hid dim]\n",
        "        #hidden = [1, batch size, hid dim]\n",
        "        \n",
        "        assert torch.equal(output[-1,:,:], hidden.squeeze(0))\n",
        "\n",
        "        hidden = self.dropout(hidden)\n",
        "        \n",
        "        out = self.fc(hidden)\n",
        "        return out"
      ],
      "execution_count": 12,
      "outputs": []
    },
    {
      "cell_type": "code",
      "metadata": {
        "id": "Teif48R0T006",
        "outputId": "1a421d45-06b9-431a-b2f3-9b4b972f9c9d",
        "colab": {
          "base_uri": "https://localhost:8080/",
          "height": 71
        }
      },
      "source": [
        "INPUT_DIM = len(TEXT.vocab)\n",
        "EMBEDDING_DIM = 300\n",
        "HIDDEN_DIM = 300\n",
        "OUTPUT_DIM = 2\n",
        "DROPOUT = 0.5\n",
        "PAD_IDX = TEXT.vocab.stoi[TEXT.pad_token]\n",
        "\n",
        "model_rnn = RNN(INPUT_DIM, \n",
        "            EMBEDDING_DIM, \n",
        "            HIDDEN_DIM, \n",
        "            OUTPUT_DIM, \n",
        "            DROPOUT)"
      ],
      "execution_count": 13,
      "outputs": [
        {
          "output_type": "stream",
          "text": [
            "/usr/local/lib/python3.6/dist-packages/torch/nn/modules/rnn.py:60: UserWarning: dropout option adds dropout after all but last recurrent layer, so non-zero dropout expects num_layers greater than 1, but got dropout=0.5 and num_layers=1\n",
            "  \"num_layers={}\".format(dropout, num_layers))\n"
          ],
          "name": "stderr"
        }
      ]
    },
    {
      "cell_type": "code",
      "metadata": {
        "id": "NKlFFWTzKDna",
        "outputId": "1c724833-8b0b-4625-bc37-6f9a33c9ee73",
        "colab": {
          "base_uri": "https://localhost:8080/",
          "height": 34
        }
      },
      "source": [
        "pretrained_embeddings = TEXT.vocab.vectors\n",
        "\n",
        "print(pretrained_embeddings.shape)\n",
        "\n",
        "model_rnn.embedding.weight.data = pretrained_embeddings.cuda()\n",
        "\n",
        "class_weights = torch.tensor([1.0, 1.0]).cuda()\n",
        "\n",
        "optimizer = optim.Adam(model_rnn.parameters(), lr=0.00003)\n",
        "\n",
        "criterion = nn.CrossEntropyLoss(weight=class_weights)\n",
        "\n",
        "model_rnn = model_rnn.to(device)\n",
        "criterion = criterion.to(device)"
      ],
      "execution_count": 16,
      "outputs": [
        {
          "output_type": "stream",
          "text": [
            "torch.Size([14410, 300])\n"
          ],
          "name": "stdout"
        }
      ]
    },
    {
      "cell_type": "code",
      "metadata": {
        "id": "VqKYCvNyL-1n"
      },
      "source": [
        "def binary_accuracy(preds, y):\n",
        "    \"\"\"\n",
        "    Returns accuracy per batch, i.e. if you get 8/10 right, this returns 0.8, NOT 8\n",
        "    \"\"\"\n",
        "\n",
        "    preds, ind= torch.max(F.softmax(preds, dim=-1), 1)\n",
        "    correct = (ind == y).float()\n",
        "    acc = correct.sum()/float(len(correct))\n",
        "\n",
        "    return acc"
      ],
      "execution_count": 17,
      "outputs": []
    },
    {
      "cell_type": "code",
      "metadata": {
        "id": "ERpod4UZMKVn"
      },
      "source": [
        "def train(model, iterator, optimizer, criterion):\n",
        "    \n",
        "    epoch_loss = 0\n",
        "    epoch_acc = 0\n",
        "    \n",
        "    model.train()\n",
        "    bar = pyprind.ProgBar(len(iterator), bar_char='█')\n",
        "    for batch in iterator:\n",
        "        \n",
        "        optimizer.zero_grad()\n",
        "        # batch, batch_lengths = batch.reviews\n",
        "\n",
        "        predictions = model(batch.reviews).squeeze(0)\n",
        "#         print(predictions.shape, batch.Label.shape, model(batch.Text).shape)\n",
        "        # print(\"idar\")\n",
        "        # print(predictions.shape)\n",
        "        # print(batch.senti.reshape((len(batch.senti),1)).shape)\n",
        "\n",
        "        loss = criterion(predictions, batch.senti)\n",
        "\n",
        "        acc = binary_accuracy(predictions, batch.senti)\n",
        "        \n",
        "        loss.backward()\n",
        "        \n",
        "        optimizer.step()\n",
        "        \n",
        "        epoch_loss += loss.item()\n",
        "        epoch_acc += acc.item()\n",
        "        bar.update()\n",
        "    \n",
        "    return epoch_loss / len(iterator), epoch_acc / len(iterator)"
      ],
      "execution_count": 18,
      "outputs": []
    },
    {
      "cell_type": "code",
      "metadata": {
        "id": "WXk8h5ueMKSp"
      },
      "source": [
        "def evaluate(model, iterator, criterion):\n",
        "    \n",
        "    epoch_loss = 0\n",
        "    epoch_acc = 0\n",
        "    \n",
        "    model.eval()\n",
        "    \n",
        "    with torch.no_grad():\n",
        "        bar = pyprind.ProgBar(len(iterator), bar_char='█')\n",
        "        for batch in iterator:\n",
        "\n",
        "            predictions = model(batch.reviews).squeeze(0)\n",
        "            \n",
        "            loss = criterion(predictions, batch.senti)\n",
        "            \n",
        "            acc = binary_accuracy(predictions, batch.senti)\n",
        "\n",
        "            epoch_loss += loss.item()\n",
        "            epoch_acc += acc.item()\n",
        "            bar.update()\n",
        "    \n",
        "    return epoch_loss / len(iterator), epoch_acc / len(iterator)"
      ],
      "execution_count": 19,
      "outputs": []
    },
    {
      "cell_type": "code",
      "metadata": {
        "id": "4uvk5I0kMXeD",
        "outputId": "fe297325-15fb-4a09-ff2d-c872186356b1",
        "colab": {
          "base_uri": "https://localhost:8080/",
          "height": 1000
        }
      },
      "source": [
        "N_EPOCHS = 100\n",
        "train_rnn_loss = []\n",
        "train_rnn_acc = []\n",
        "dev_rnn_loss = []\n",
        "dev_rnn_acc = []\n",
        "\n",
        "\n",
        "for epoch in range(N_EPOCHS):\n",
        "    train_loss, train_acc = train(model_rnn, train_iterator, optimizer, criterion)\n",
        "    dev_loss, dev_acc = evaluate(model_rnn, dev_iterator, criterion)\n",
        "    \n",
        "    train_rnn_loss.append(train_loss)\n",
        "    train_rnn_acc.append(train_acc)\n",
        "\n",
        "    dev_rnn_loss.append(dev_loss)\n",
        "    dev_rnn_acc.append(dev_acc)\n",
        "\n",
        "\n",
        "    print(f'| Epoch: {epoch+1:02} | Train Loss: {train_loss:.3f} | Train Acc: {train_acc*100:.2f}% | Val. Loss: {dev_loss:.3f} | Val. Acc: {dev_acc*100:.2f}% |')"
      ],
      "execution_count": 20,
      "outputs": [
        {
          "output_type": "stream",
          "text": [
            "0% [██████████████████████████████] 100% | ETA: 00:00:00\n",
            "Total time elapsed: 00:00:01\n",
            "0% [██████████████████████████████] 100% | ETA: 00:00:00"
          ],
          "name": "stderr"
        },
        {
          "output_type": "stream",
          "text": [
            "| Epoch: 01 | Train Loss: 0.695 | Train Acc: 49.39% | Val. Loss: 0.697 | Val. Acc: 50.32% |\n"
          ],
          "name": "stdout"
        },
        {
          "output_type": "stream",
          "text": [
            "\n",
            "Total time elapsed: 00:00:00\n",
            "0% [██████████████████████████████] 100% | ETA: 00:00:00\n",
            "Total time elapsed: 00:00:01\n",
            "0% [██████████████████████████████] 100% | ETA: 00:00:00"
          ],
          "name": "stderr"
        },
        {
          "output_type": "stream",
          "text": [
            "| Epoch: 02 | Train Loss: 0.693 | Train Acc: 50.04% | Val. Loss: 0.695 | Val. Acc: 50.46% |\n"
          ],
          "name": "stdout"
        },
        {
          "output_type": "stream",
          "text": [
            "\n",
            "Total time elapsed: 00:00:00\n",
            "0% [██████████████████████████████] 100% | ETA: 00:00:00\n",
            "Total time elapsed: 00:00:01\n",
            "0% [██████████████████████████████] 100% | ETA: 00:00:00"
          ],
          "name": "stderr"
        },
        {
          "output_type": "stream",
          "text": [
            "| Epoch: 03 | Train Loss: 0.693 | Train Acc: 49.84% | Val. Loss: 0.693 | Val. Acc: 51.11% |\n"
          ],
          "name": "stdout"
        },
        {
          "output_type": "stream",
          "text": [
            "\n",
            "Total time elapsed: 00:00:00\n",
            "0% [██████████████████████████████] 100% | ETA: 00:00:00\n",
            "Total time elapsed: 00:00:01\n",
            "0% [██████████████████████████████] 100% | ETA: 00:00:00"
          ],
          "name": "stderr"
        },
        {
          "output_type": "stream",
          "text": [
            "| Epoch: 04 | Train Loss: 0.693 | Train Acc: 51.63% | Val. Loss: 0.692 | Val. Acc: 51.57% |\n"
          ],
          "name": "stdout"
        },
        {
          "output_type": "stream",
          "text": [
            "\n",
            "Total time elapsed: 00:00:00\n",
            "0% [██████████████████████████████] 100% | ETA: 00:00:00\n",
            "Total time elapsed: 00:00:01\n",
            "0% [██████████████████████████████] 100% | ETA: 00:00:00"
          ],
          "name": "stderr"
        },
        {
          "output_type": "stream",
          "text": [
            "| Epoch: 05 | Train Loss: 0.690 | Train Acc: 50.68% | Val. Loss: 0.691 | Val. Acc: 51.74% |\n"
          ],
          "name": "stdout"
        },
        {
          "output_type": "stream",
          "text": [
            "\n",
            "Total time elapsed: 00:00:00\n",
            "0% [██████████████████████████████] 100% | ETA: 00:00:00\n",
            "Total time elapsed: 00:00:01\n",
            "0% [██████████████████████████████] 100% | ETA: 00:00:00"
          ],
          "name": "stderr"
        },
        {
          "output_type": "stream",
          "text": [
            "| Epoch: 06 | Train Loss: 0.690 | Train Acc: 52.02% | Val. Loss: 0.688 | Val. Acc: 53.20% |\n"
          ],
          "name": "stdout"
        },
        {
          "output_type": "stream",
          "text": [
            "\n",
            "Total time elapsed: 00:00:00\n",
            "0% [██████████████████████████████] 100% | ETA: 00:00:00\n",
            "Total time elapsed: 00:00:01\n",
            "0% [██████████████████████████████] 100% | ETA: 00:00:00"
          ],
          "name": "stderr"
        },
        {
          "output_type": "stream",
          "text": [
            "| Epoch: 07 | Train Loss: 0.687 | Train Acc: 53.88% | Val. Loss: 0.676 | Val. Acc: 55.64% |\n"
          ],
          "name": "stdout"
        },
        {
          "output_type": "stream",
          "text": [
            "\n",
            "Total time elapsed: 00:00:00\n",
            "0% [██████████████████████████████] 100% | ETA: 00:00:00\n",
            "Total time elapsed: 00:00:01\n",
            "0% [██████████████████████████████] 100% | ETA: 00:00:00"
          ],
          "name": "stderr"
        },
        {
          "output_type": "stream",
          "text": [
            "| Epoch: 08 | Train Loss: 0.611 | Train Acc: 67.48% | Val. Loss: 0.578 | Val. Acc: 69.29% |\n"
          ],
          "name": "stdout"
        },
        {
          "output_type": "stream",
          "text": [
            "\n",
            "Total time elapsed: 00:00:00\n",
            "0% [██████████████████████████████] 100% | ETA: 00:00:00\n",
            "Total time elapsed: 00:00:01\n",
            "0% [██████████████████████████████] 100% | ETA: 00:00:00"
          ],
          "name": "stderr"
        },
        {
          "output_type": "stream",
          "text": [
            "| Epoch: 09 | Train Loss: 0.554 | Train Acc: 72.09% | Val. Loss: 0.567 | Val. Acc: 70.07% |\n"
          ],
          "name": "stdout"
        },
        {
          "output_type": "stream",
          "text": [
            "\n",
            "Total time elapsed: 00:00:00\n",
            "0% [██████████████████████████████] 100% | ETA: 00:00:00\n",
            "Total time elapsed: 00:00:01\n",
            "0% [██████████████████████████████] 100% | ETA: 00:00:00"
          ],
          "name": "stderr"
        },
        {
          "output_type": "stream",
          "text": [
            "| Epoch: 10 | Train Loss: 0.543 | Train Acc: 73.45% | Val. Loss: 0.545 | Val. Acc: 72.06% |\n"
          ],
          "name": "stdout"
        },
        {
          "output_type": "stream",
          "text": [
            "\n",
            "Total time elapsed: 00:00:00\n",
            "0% [██████████████████████████████] 100% | ETA: 00:00:00\n",
            "Total time elapsed: 00:00:01\n",
            "0% [██████████████████████████████] 100% | ETA: 00:00:00"
          ],
          "name": "stderr"
        },
        {
          "output_type": "stream",
          "text": [
            "| Epoch: 11 | Train Loss: 0.534 | Train Acc: 73.74% | Val. Loss: 0.533 | Val. Acc: 72.63% |\n"
          ],
          "name": "stdout"
        },
        {
          "output_type": "stream",
          "text": [
            "\n",
            "Total time elapsed: 00:00:00\n",
            "0% [██████████████████████████████] 100% | ETA: 00:00:00\n",
            "Total time elapsed: 00:00:01\n",
            "0% [██████████████████████████████] 100% | ETA: 00:00:00"
          ],
          "name": "stderr"
        },
        {
          "output_type": "stream",
          "text": [
            "| Epoch: 12 | Train Loss: 0.521 | Train Acc: 74.98% | Val. Loss: 0.532 | Val. Acc: 73.47% |\n"
          ],
          "name": "stdout"
        },
        {
          "output_type": "stream",
          "text": [
            "\n",
            "Total time elapsed: 00:00:00\n",
            "0% [██████████████████████████████] 100% | ETA: 00:00:00\n",
            "Total time elapsed: 00:00:01\n",
            "0% [██████████████████████████████] 100% | ETA: 00:00:00"
          ],
          "name": "stderr"
        },
        {
          "output_type": "stream",
          "text": [
            "| Epoch: 13 | Train Loss: 0.514 | Train Acc: 75.47% | Val. Loss: 0.532 | Val. Acc: 73.04% |\n"
          ],
          "name": "stdout"
        },
        {
          "output_type": "stream",
          "text": [
            "\n",
            "Total time elapsed: 00:00:00\n",
            "0% [██████████████████████████████] 100% | ETA: 00:00:00\n",
            "Total time elapsed: 00:00:01\n",
            "0% [██████████████████████████████] 100% | ETA: 00:00:00"
          ],
          "name": "stderr"
        },
        {
          "output_type": "stream",
          "text": [
            "| Epoch: 14 | Train Loss: 0.512 | Train Acc: 75.41% | Val. Loss: 0.541 | Val. Acc: 72.22% |\n"
          ],
          "name": "stdout"
        },
        {
          "output_type": "stream",
          "text": [
            "\n",
            "Total time elapsed: 00:00:00\n",
            "0% [██████████████████████████████] 100% | ETA: 00:00:00\n",
            "Total time elapsed: 00:00:01\n",
            "0% [██████████████████████████████] 100% | ETA: 00:00:00"
          ],
          "name": "stderr"
        },
        {
          "output_type": "stream",
          "text": [
            "| Epoch: 15 | Train Loss: 0.500 | Train Acc: 76.53% | Val. Loss: 0.521 | Val. Acc: 74.36% |\n"
          ],
          "name": "stdout"
        },
        {
          "output_type": "stream",
          "text": [
            "\n",
            "Total time elapsed: 00:00:00\n",
            "0% [██████████████████████████████] 100% | ETA: 00:00:00\n",
            "Total time elapsed: 00:00:01\n",
            "0% [██████████████████████████████] 100% | ETA: 00:00:00"
          ],
          "name": "stderr"
        },
        {
          "output_type": "stream",
          "text": [
            "| Epoch: 16 | Train Loss: 0.499 | Train Acc: 76.40% | Val. Loss: 0.518 | Val. Acc: 74.26% |\n"
          ],
          "name": "stdout"
        },
        {
          "output_type": "stream",
          "text": [
            "\n",
            "Total time elapsed: 00:00:00\n",
            "0% [██████████████████████████████] 100% | ETA: 00:00:00\n",
            "Total time elapsed: 00:00:01\n",
            "0% [██████████████████████████████] 100% | ETA: 00:00:00"
          ],
          "name": "stderr"
        },
        {
          "output_type": "stream",
          "text": [
            "| Epoch: 17 | Train Loss: 0.489 | Train Acc: 76.77% | Val. Loss: 0.525 | Val. Acc: 72.84% |\n"
          ],
          "name": "stdout"
        },
        {
          "output_type": "stream",
          "text": [
            "\n",
            "Total time elapsed: 00:00:00\n",
            "0% [██████████████████████████████] 100% | ETA: 00:00:00\n",
            "Total time elapsed: 00:00:01\n",
            "0% [██████████████████████████████] 100% | ETA: 00:00:00"
          ],
          "name": "stderr"
        },
        {
          "output_type": "stream",
          "text": [
            "| Epoch: 18 | Train Loss: 0.491 | Train Acc: 76.96% | Val. Loss: 0.518 | Val. Acc: 74.68% |\n"
          ],
          "name": "stdout"
        },
        {
          "output_type": "stream",
          "text": [
            "\n",
            "Total time elapsed: 00:00:00\n",
            "0% [██████████████████████████████] 100% | ETA: 00:00:00\n",
            "Total time elapsed: 00:00:01\n",
            "0% [██████████████████████████████] 100% | ETA: 00:00:00"
          ],
          "name": "stderr"
        },
        {
          "output_type": "stream",
          "text": [
            "| Epoch: 19 | Train Loss: 0.479 | Train Acc: 77.38% | Val. Loss: 0.525 | Val. Acc: 73.52% |\n"
          ],
          "name": "stdout"
        },
        {
          "output_type": "stream",
          "text": [
            "\n",
            "Total time elapsed: 00:00:00\n",
            "0% [██████████████████████████████] 100% | ETA: 00:00:00\n",
            "Total time elapsed: 00:00:01\n",
            "0% [██████████████████████████████] 100% | ETA: 00:00:00"
          ],
          "name": "stderr"
        },
        {
          "output_type": "stream",
          "text": [
            "| Epoch: 20 | Train Loss: 0.486 | Train Acc: 77.33% | Val. Loss: 0.520 | Val. Acc: 74.00% |\n"
          ],
          "name": "stdout"
        },
        {
          "output_type": "stream",
          "text": [
            "\n",
            "Total time elapsed: 00:00:00\n",
            "0% [██████████████████████████████] 100% | ETA: 00:00:00\n",
            "Total time elapsed: 00:00:01\n",
            "0% [██████████████████████████████] 100% | ETA: 00:00:00"
          ],
          "name": "stderr"
        },
        {
          "output_type": "stream",
          "text": [
            "| Epoch: 21 | Train Loss: 0.472 | Train Acc: 78.32% | Val. Loss: 0.526 | Val. Acc: 74.22% |\n"
          ],
          "name": "stdout"
        },
        {
          "output_type": "stream",
          "text": [
            "\n",
            "Total time elapsed: 00:00:00\n",
            "0% [██████████████████████████████] 100% | ETA: 00:00:00\n",
            "Total time elapsed: 00:00:01\n",
            "0% [██████████████████████████████] 100% | ETA: 00:00:00"
          ],
          "name": "stderr"
        },
        {
          "output_type": "stream",
          "text": [
            "| Epoch: 22 | Train Loss: 0.466 | Train Acc: 78.64% | Val. Loss: 0.528 | Val. Acc: 73.83% |\n"
          ],
          "name": "stdout"
        },
        {
          "output_type": "stream",
          "text": [
            "\n",
            "Total time elapsed: 00:00:00\n",
            "0% [██████████████████████████████] 100% | ETA: 00:00:00\n",
            "Total time elapsed: 00:00:01\n",
            "0% [██████████████████████████████] 100% | ETA: 00:00:00"
          ],
          "name": "stderr"
        },
        {
          "output_type": "stream",
          "text": [
            "| Epoch: 23 | Train Loss: 0.465 | Train Acc: 78.78% | Val. Loss: 0.511 | Val. Acc: 74.82% |\n"
          ],
          "name": "stdout"
        },
        {
          "output_type": "stream",
          "text": [
            "\n",
            "Total time elapsed: 00:00:00\n",
            "0% [██████████████████████████████] 100% | ETA: 00:00:00\n",
            "Total time elapsed: 00:00:01\n",
            "0% [██████████████████████████████] 100% | ETA: 00:00:00"
          ],
          "name": "stderr"
        },
        {
          "output_type": "stream",
          "text": [
            "| Epoch: 24 | Train Loss: 0.457 | Train Acc: 79.13% | Val. Loss: 0.508 | Val. Acc: 74.85% |\n"
          ],
          "name": "stdout"
        },
        {
          "output_type": "stream",
          "text": [
            "\n",
            "Total time elapsed: 00:00:00\n",
            "0% [██████████████████████████████] 100% | ETA: 00:00:00\n",
            "Total time elapsed: 00:00:01\n",
            "0% [██████████████████████████████] 100% | ETA: 00:00:00"
          ],
          "name": "stderr"
        },
        {
          "output_type": "stream",
          "text": [
            "| Epoch: 25 | Train Loss: 0.457 | Train Acc: 79.30% | Val. Loss: 0.505 | Val. Acc: 75.29% |\n"
          ],
          "name": "stdout"
        },
        {
          "output_type": "stream",
          "text": [
            "\n",
            "Total time elapsed: 00:00:00\n",
            "0% [██████████████████████████████] 100% | ETA: 00:00:00\n",
            "Total time elapsed: 00:00:01\n",
            "0% [██████████████████████████████] 100% | ETA: 00:00:00"
          ],
          "name": "stderr"
        },
        {
          "output_type": "stream",
          "text": [
            "| Epoch: 26 | Train Loss: 0.453 | Train Acc: 79.48% | Val. Loss: 0.509 | Val. Acc: 74.71% |\n"
          ],
          "name": "stdout"
        },
        {
          "output_type": "stream",
          "text": [
            "\n",
            "Total time elapsed: 00:00:00\n",
            "0% [██████████████████████████████] 100% | ETA: 00:00:00\n",
            "Total time elapsed: 00:00:01\n",
            "0% [██████████████████████████████] 100% | ETA: 00:00:00"
          ],
          "name": "stderr"
        },
        {
          "output_type": "stream",
          "text": [
            "| Epoch: 27 | Train Loss: 0.445 | Train Acc: 79.56% | Val. Loss: 0.512 | Val. Acc: 74.82% |\n"
          ],
          "name": "stdout"
        },
        {
          "output_type": "stream",
          "text": [
            "\n",
            "Total time elapsed: 00:00:00\n",
            "0% [██████████████████████████████] 100% | ETA: 00:00:00\n",
            "Total time elapsed: 00:00:01\n",
            "0% [██████████████████████████████] 100% | ETA: 00:00:00"
          ],
          "name": "stderr"
        },
        {
          "output_type": "stream",
          "text": [
            "| Epoch: 28 | Train Loss: 0.448 | Train Acc: 79.97% | Val. Loss: 0.508 | Val. Acc: 75.21% |\n"
          ],
          "name": "stdout"
        },
        {
          "output_type": "stream",
          "text": [
            "\n",
            "Total time elapsed: 00:00:00\n",
            "0% [██████████████████████████████] 100% | ETA: 00:00:00\n",
            "Total time elapsed: 00:00:01\n",
            "0% [██████████████████████████████] 100% | ETA: 00:00:00"
          ],
          "name": "stderr"
        },
        {
          "output_type": "stream",
          "text": [
            "| Epoch: 29 | Train Loss: 0.440 | Train Acc: 80.02% | Val. Loss: 0.508 | Val. Acc: 75.15% |\n"
          ],
          "name": "stdout"
        },
        {
          "output_type": "stream",
          "text": [
            "\n",
            "Total time elapsed: 00:00:00\n",
            "0% [██████████████████████████████] 100% | ETA: 00:00:00\n",
            "Total time elapsed: 00:00:01\n",
            "0% [██████████████████████████████] 100% | ETA: 00:00:00"
          ],
          "name": "stderr"
        },
        {
          "output_type": "stream",
          "text": [
            "| Epoch: 30 | Train Loss: 0.430 | Train Acc: 81.20% | Val. Loss: 0.509 | Val. Acc: 74.85% |\n"
          ],
          "name": "stdout"
        },
        {
          "output_type": "stream",
          "text": [
            "\n",
            "Total time elapsed: 00:00:00\n",
            "0% [██████████████████████████████] 100% | ETA: 00:00:00\n",
            "Total time elapsed: 00:00:01\n",
            "0% [██████████████████████████████] 100% | ETA: 00:00:00"
          ],
          "name": "stderr"
        },
        {
          "output_type": "stream",
          "text": [
            "| Epoch: 31 | Train Loss: 0.432 | Train Acc: 81.26% | Val. Loss: 0.517 | Val. Acc: 74.54% |\n"
          ],
          "name": "stdout"
        },
        {
          "output_type": "stream",
          "text": [
            "\n",
            "Total time elapsed: 00:00:00\n",
            "0% [██████████████████████████████] 100% | ETA: 00:00:00\n",
            "Total time elapsed: 00:00:01\n",
            "0% [██████████████████████████████] 100% | ETA: 00:00:00"
          ],
          "name": "stderr"
        },
        {
          "output_type": "stream",
          "text": [
            "| Epoch: 32 | Train Loss: 0.432 | Train Acc: 80.40% | Val. Loss: 0.504 | Val. Acc: 75.13% |\n"
          ],
          "name": "stdout"
        },
        {
          "output_type": "stream",
          "text": [
            "\n",
            "Total time elapsed: 00:00:00\n",
            "0% [██████████████████████████████] 100% | ETA: 00:00:00\n",
            "Total time elapsed: 00:00:01\n",
            "0% [██████████████████████████████] 100% | ETA: 00:00:00"
          ],
          "name": "stderr"
        },
        {
          "output_type": "stream",
          "text": [
            "| Epoch: 33 | Train Loss: 0.425 | Train Acc: 80.83% | Val. Loss: 0.520 | Val. Acc: 74.68% |\n"
          ],
          "name": "stdout"
        },
        {
          "output_type": "stream",
          "text": [
            "\n",
            "Total time elapsed: 00:00:00\n",
            "0% [██████████████████████████████] 100% | ETA: 00:00:00\n",
            "Total time elapsed: 00:00:01\n",
            "0% [██████████████████████████████] 100% | ETA: 00:00:00"
          ],
          "name": "stderr"
        },
        {
          "output_type": "stream",
          "text": [
            "| Epoch: 34 | Train Loss: 0.423 | Train Acc: 80.65% | Val. Loss: 0.508 | Val. Acc: 75.20% |\n"
          ],
          "name": "stdout"
        },
        {
          "output_type": "stream",
          "text": [
            "\n",
            "Total time elapsed: 00:00:00\n",
            "0% [██████████████████████████████] 100% | ETA: 00:00:00\n",
            "Total time elapsed: 00:00:01\n",
            "0% [██████████████████████████████] 100% | ETA: 00:00:00"
          ],
          "name": "stderr"
        },
        {
          "output_type": "stream",
          "text": [
            "| Epoch: 35 | Train Loss: 0.417 | Train Acc: 81.16% | Val. Loss: 0.513 | Val. Acc: 74.73% |\n"
          ],
          "name": "stdout"
        },
        {
          "output_type": "stream",
          "text": [
            "\n",
            "Total time elapsed: 00:00:00\n",
            "0% [██████████████████████████████] 100% | ETA: 00:00:00\n",
            "Total time elapsed: 00:00:01\n",
            "0% [██████████████████████████████] 100% | ETA: 00:00:00"
          ],
          "name": "stderr"
        },
        {
          "output_type": "stream",
          "text": [
            "| Epoch: 36 | Train Loss: 0.413 | Train Acc: 81.33% | Val. Loss: 0.502 | Val. Acc: 75.27% |\n"
          ],
          "name": "stdout"
        },
        {
          "output_type": "stream",
          "text": [
            "\n",
            "Total time elapsed: 00:00:00\n",
            "0% [██████████████████████████████] 100% | ETA: 00:00:00\n",
            "Total time elapsed: 00:00:01\n",
            "0% [██████████████████████████████] 100% | ETA: 00:00:00"
          ],
          "name": "stderr"
        },
        {
          "output_type": "stream",
          "text": [
            "| Epoch: 37 | Train Loss: 0.410 | Train Acc: 82.30% | Val. Loss: 0.505 | Val. Acc: 74.62% |\n"
          ],
          "name": "stdout"
        },
        {
          "output_type": "stream",
          "text": [
            "\n",
            "Total time elapsed: 00:00:00\n",
            "0% [██████████████████████████████] 100% | ETA: 00:00:00\n",
            "Total time elapsed: 00:00:01\n",
            "0% [██████████████████████████████] 100% | ETA: 00:00:00"
          ],
          "name": "stderr"
        },
        {
          "output_type": "stream",
          "text": [
            "| Epoch: 38 | Train Loss: 0.394 | Train Acc: 83.20% | Val. Loss: 0.504 | Val. Acc: 75.57% |\n"
          ],
          "name": "stdout"
        },
        {
          "output_type": "stream",
          "text": [
            "\n",
            "Total time elapsed: 00:00:00\n",
            "0% [██████████████████████████████] 100% | ETA: 00:00:00\n",
            "Total time elapsed: 00:00:01\n",
            "0% [██████████████████████████████] 100% | ETA: 00:00:00"
          ],
          "name": "stderr"
        },
        {
          "output_type": "stream",
          "text": [
            "| Epoch: 39 | Train Loss: 0.413 | Train Acc: 81.58% | Val. Loss: 0.508 | Val. Acc: 74.82% |\n"
          ],
          "name": "stdout"
        },
        {
          "output_type": "stream",
          "text": [
            "\n",
            "Total time elapsed: 00:00:00\n",
            "0% [██████████████████████████████] 100% | ETA: 00:00:00\n",
            "Total time elapsed: 00:00:01\n",
            "0% [██████████████████████████████] 100% | ETA: 00:00:00"
          ],
          "name": "stderr"
        },
        {
          "output_type": "stream",
          "text": [
            "| Epoch: 40 | Train Loss: 0.400 | Train Acc: 82.74% | Val. Loss: 0.507 | Val. Acc: 74.92% |\n"
          ],
          "name": "stdout"
        },
        {
          "output_type": "stream",
          "text": [
            "\n",
            "Total time elapsed: 00:00:00\n",
            "0% [██████████████████████████████] 100% | ETA: 00:00:00\n",
            "Total time elapsed: 00:00:01\n",
            "0% [██████████████████████████████] 100% | ETA: 00:00:00"
          ],
          "name": "stderr"
        },
        {
          "output_type": "stream",
          "text": [
            "| Epoch: 41 | Train Loss: 0.391 | Train Acc: 83.43% | Val. Loss: 0.510 | Val. Acc: 74.14% |\n"
          ],
          "name": "stdout"
        },
        {
          "output_type": "stream",
          "text": [
            "\n",
            "Total time elapsed: 00:00:00\n",
            "0% [██████████████████████████████] 100% | ETA: 00:00:00\n",
            "Total time elapsed: 00:00:01\n",
            "0% [██████████████████████████████] 100% | ETA: 00:00:00"
          ],
          "name": "stderr"
        },
        {
          "output_type": "stream",
          "text": [
            "| Epoch: 42 | Train Loss: 0.392 | Train Acc: 82.79% | Val. Loss: 0.510 | Val. Acc: 74.14% |\n"
          ],
          "name": "stdout"
        },
        {
          "output_type": "stream",
          "text": [
            "\n",
            "Total time elapsed: 00:00:00\n",
            "0% [██████████████████████████████] 100% | ETA: 00:00:00\n",
            "Total time elapsed: 00:00:01\n",
            "0% [██████████████████████████████] 100% | ETA: 00:00:00"
          ],
          "name": "stderr"
        },
        {
          "output_type": "stream",
          "text": [
            "| Epoch: 43 | Train Loss: 0.381 | Train Acc: 83.78% | Val. Loss: 0.511 | Val. Acc: 74.85% |\n"
          ],
          "name": "stdout"
        },
        {
          "output_type": "stream",
          "text": [
            "\n",
            "Total time elapsed: 00:00:00\n",
            "0% [██████████████████████████████] 100% | ETA: 00:00:00\n",
            "Total time elapsed: 00:00:01\n",
            "0% [██████████████████████████████] 100% | ETA: 00:00:00"
          ],
          "name": "stderr"
        },
        {
          "output_type": "stream",
          "text": [
            "| Epoch: 44 | Train Loss: 0.383 | Train Acc: 83.60% | Val. Loss: 0.519 | Val. Acc: 74.21% |\n"
          ],
          "name": "stdout"
        },
        {
          "output_type": "stream",
          "text": [
            "\n",
            "Total time elapsed: 00:00:00\n",
            "0% [██████████████████████████████] 100% | ETA: 00:00:00\n",
            "Total time elapsed: 00:00:01\n",
            "0% [██████████████████████████████] 100% | ETA: 00:00:00"
          ],
          "name": "stderr"
        },
        {
          "output_type": "stream",
          "text": [
            "| Epoch: 45 | Train Loss: 0.366 | Train Acc: 84.17% | Val. Loss: 0.512 | Val. Acc: 74.40% |\n"
          ],
          "name": "stdout"
        },
        {
          "output_type": "stream",
          "text": [
            "\n",
            "Total time elapsed: 00:00:00\n",
            "0% [██████████████████████████████] 100% | ETA: 00:00:00\n",
            "Total time elapsed: 00:00:01\n",
            "0% [██████████████████████████████] 100% | ETA: 00:00:00"
          ],
          "name": "stderr"
        },
        {
          "output_type": "stream",
          "text": [
            "| Epoch: 46 | Train Loss: 0.371 | Train Acc: 84.23% | Val. Loss: 0.522 | Val. Acc: 74.08% |\n"
          ],
          "name": "stdout"
        },
        {
          "output_type": "stream",
          "text": [
            "\n",
            "Total time elapsed: 00:00:00\n",
            "0% [██████████████████████████████] 100% | ETA: 00:00:00\n",
            "Total time elapsed: 00:00:01\n",
            "0% [██████████████████████████████] 100% | ETA: 00:00:00"
          ],
          "name": "stderr"
        },
        {
          "output_type": "stream",
          "text": [
            "| Epoch: 47 | Train Loss: 0.374 | Train Acc: 83.66% | Val. Loss: 0.529 | Val. Acc: 74.31% |\n"
          ],
          "name": "stdout"
        },
        {
          "output_type": "stream",
          "text": [
            "\n",
            "Total time elapsed: 00:00:00\n",
            "0% [██████████████████████████████] 100% | ETA: 00:00:00\n",
            "Total time elapsed: 00:00:01\n",
            "0% [██████████████████████████████] 100% | ETA: 00:00:00"
          ],
          "name": "stderr"
        },
        {
          "output_type": "stream",
          "text": [
            "| Epoch: 48 | Train Loss: 0.371 | Train Acc: 83.86% | Val. Loss: 0.525 | Val. Acc: 73.94% |\n"
          ],
          "name": "stdout"
        },
        {
          "output_type": "stream",
          "text": [
            "\n",
            "Total time elapsed: 00:00:00\n",
            "0% [██████████████████████████████] 100% | ETA: 00:00:00\n",
            "Total time elapsed: 00:00:01\n",
            "0% [██████████████████████████████] 100% | ETA: 00:00:00"
          ],
          "name": "stderr"
        },
        {
          "output_type": "stream",
          "text": [
            "| Epoch: 49 | Train Loss: 0.372 | Train Acc: 83.73% | Val. Loss: 0.527 | Val. Acc: 73.98% |\n"
          ],
          "name": "stdout"
        },
        {
          "output_type": "stream",
          "text": [
            "\n",
            "Total time elapsed: 00:00:00\n",
            "0% [██████████████████████████████] 100% | ETA: 00:00:00\n",
            "Total time elapsed: 00:00:01\n",
            "0% [██████████████████████████████] 100% | ETA: 00:00:00"
          ],
          "name": "stderr"
        },
        {
          "output_type": "stream",
          "text": [
            "| Epoch: 50 | Train Loss: 0.368 | Train Acc: 84.49% | Val. Loss: 0.537 | Val. Acc: 73.58% |\n"
          ],
          "name": "stdout"
        },
        {
          "output_type": "stream",
          "text": [
            "\n",
            "Total time elapsed: 00:00:00\n",
            "0% [██████████████████████████████] 100% | ETA: 00:00:00\n",
            "Total time elapsed: 00:00:01\n",
            "0% [██████████████████████████████] 100% | ETA: 00:00:00"
          ],
          "name": "stderr"
        },
        {
          "output_type": "stream",
          "text": [
            "| Epoch: 51 | Train Loss: 0.353 | Train Acc: 85.17% | Val. Loss: 0.526 | Val. Acc: 74.26% |\n"
          ],
          "name": "stdout"
        },
        {
          "output_type": "stream",
          "text": [
            "\n",
            "Total time elapsed: 00:00:00\n",
            "0% [██████████████████████████████] 100% | ETA: 00:00:00\n",
            "Total time elapsed: 00:00:01\n",
            "0% [██████████████████████████████] 100% | ETA: 00:00:00"
          ],
          "name": "stderr"
        },
        {
          "output_type": "stream",
          "text": [
            "| Epoch: 52 | Train Loss: 0.348 | Train Acc: 85.47% | Val. Loss: 0.525 | Val. Acc: 74.36% |\n"
          ],
          "name": "stdout"
        },
        {
          "output_type": "stream",
          "text": [
            "\n",
            "Total time elapsed: 00:00:00\n",
            "0% [██████████████████████████████] 100% | ETA: 00:00:00\n",
            "Total time elapsed: 00:00:01\n",
            "0% [██████████████████████████████] 100% | ETA: 00:00:00"
          ],
          "name": "stderr"
        },
        {
          "output_type": "stream",
          "text": [
            "| Epoch: 53 | Train Loss: 0.352 | Train Acc: 85.32% | Val. Loss: 0.531 | Val. Acc: 73.82% |\n"
          ],
          "name": "stdout"
        },
        {
          "output_type": "stream",
          "text": [
            "\n",
            "Total time elapsed: 00:00:00\n",
            "0% [██████████████████████████████] 100% | ETA: 00:00:00\n",
            "Total time elapsed: 00:00:01\n",
            "0% [██████████████████████████████] 100% | ETA: 00:00:00"
          ],
          "name": "stderr"
        },
        {
          "output_type": "stream",
          "text": [
            "| Epoch: 54 | Train Loss: 0.350 | Train Acc: 85.54% | Val. Loss: 0.536 | Val. Acc: 73.98% |\n"
          ],
          "name": "stdout"
        },
        {
          "output_type": "stream",
          "text": [
            "\n",
            "Total time elapsed: 00:00:00\n",
            "0% [██████████████████████████████] 100% | ETA: 00:00:00\n",
            "Total time elapsed: 00:00:01\n",
            "0% [██████████████████████████████] 100% | ETA: 00:00:00"
          ],
          "name": "stderr"
        },
        {
          "output_type": "stream",
          "text": [
            "| Epoch: 55 | Train Loss: 0.349 | Train Acc: 85.29% | Val. Loss: 0.537 | Val. Acc: 73.96% |\n"
          ],
          "name": "stdout"
        },
        {
          "output_type": "stream",
          "text": [
            "\n",
            "Total time elapsed: 00:00:00\n",
            "0% [██████████████████████████████] 100% | ETA: 00:00:00\n",
            "Total time elapsed: 00:00:01\n",
            "0% [██████████████████████████████] 100% | ETA: 00:00:00"
          ],
          "name": "stderr"
        },
        {
          "output_type": "stream",
          "text": [
            "| Epoch: 56 | Train Loss: 0.335 | Train Acc: 86.38% | Val. Loss: 0.548 | Val. Acc: 74.31% |\n"
          ],
          "name": "stdout"
        },
        {
          "output_type": "stream",
          "text": [
            "\n",
            "Total time elapsed: 00:00:00\n",
            "0% [██████████████████████████████] 100% | ETA: 00:00:00\n",
            "Total time elapsed: 00:00:01\n",
            "0% [██████████████████████████████] 100% | ETA: 00:00:00"
          ],
          "name": "stderr"
        },
        {
          "output_type": "stream",
          "text": [
            "| Epoch: 57 | Train Loss: 0.336 | Train Acc: 86.04% | Val. Loss: 0.551 | Val. Acc: 74.31% |\n"
          ],
          "name": "stdout"
        },
        {
          "output_type": "stream",
          "text": [
            "\n",
            "Total time elapsed: 00:00:00\n",
            "0% [██████████████████████████████] 100% | ETA: 00:00:00\n",
            "Total time elapsed: 00:00:01\n",
            "0% [██████████████████████████████] 100% | ETA: 00:00:00"
          ],
          "name": "stderr"
        },
        {
          "output_type": "stream",
          "text": [
            "| Epoch: 58 | Train Loss: 0.325 | Train Acc: 86.25% | Val. Loss: 0.546 | Val. Acc: 74.10% |\n"
          ],
          "name": "stdout"
        },
        {
          "output_type": "stream",
          "text": [
            "\n",
            "Total time elapsed: 00:00:00\n",
            "0% [██████████████████████████████] 100% | ETA: 00:00:00\n",
            "Total time elapsed: 00:00:01\n",
            "0% [██████████████████████████████] 100% | ETA: 00:00:00"
          ],
          "name": "stderr"
        },
        {
          "output_type": "stream",
          "text": [
            "| Epoch: 59 | Train Loss: 0.329 | Train Acc: 86.43% | Val. Loss: 0.545 | Val. Acc: 73.98% |\n"
          ],
          "name": "stdout"
        },
        {
          "output_type": "stream",
          "text": [
            "\n",
            "Total time elapsed: 00:00:00\n",
            "0% [██████████████████████████████] 100% | ETA: 00:00:00\n",
            "Total time elapsed: 00:00:01\n",
            "0% [██████████████████████████████] 100% | ETA: 00:00:00"
          ],
          "name": "stderr"
        },
        {
          "output_type": "stream",
          "text": [
            "| Epoch: 60 | Train Loss: 0.335 | Train Acc: 85.71% | Val. Loss: 0.544 | Val. Acc: 74.08% |\n"
          ],
          "name": "stdout"
        },
        {
          "output_type": "stream",
          "text": [
            "\n",
            "Total time elapsed: 00:00:00\n",
            "0% [██████████████████████████████] 100% | ETA: 00:00:00\n",
            "Total time elapsed: 00:00:01\n",
            "0% [██████████████████████████████] 100% | ETA: 00:00:00"
          ],
          "name": "stderr"
        },
        {
          "output_type": "stream",
          "text": [
            "| Epoch: 61 | Train Loss: 0.317 | Train Acc: 86.93% | Val. Loss: 0.561 | Val. Acc: 73.33% |\n"
          ],
          "name": "stdout"
        },
        {
          "output_type": "stream",
          "text": [
            "\n",
            "Total time elapsed: 00:00:00\n",
            "0% [██████████████████████████████] 100% | ETA: 00:00:00\n",
            "Total time elapsed: 00:00:01\n",
            "0% [██████████████████████████████] 100% | ETA: 00:00:00"
          ],
          "name": "stderr"
        },
        {
          "output_type": "stream",
          "text": [
            "| Epoch: 62 | Train Loss: 0.315 | Train Acc: 87.05% | Val. Loss: 0.547 | Val. Acc: 74.48% |\n"
          ],
          "name": "stdout"
        },
        {
          "output_type": "stream",
          "text": [
            "\n",
            "Total time elapsed: 00:00:00\n",
            "0% [██████████████████████████████] 100% | ETA: 00:00:00\n",
            "Total time elapsed: 00:00:01\n",
            "0% [██████████████████████████████] 100% | ETA: 00:00:00"
          ],
          "name": "stderr"
        },
        {
          "output_type": "stream",
          "text": [
            "| Epoch: 63 | Train Loss: 0.311 | Train Acc: 87.46% | Val. Loss: 0.555 | Val. Acc: 74.82% |\n"
          ],
          "name": "stdout"
        },
        {
          "output_type": "stream",
          "text": [
            "\n",
            "Total time elapsed: 00:00:00\n",
            "0% [██████████████████████████████] 100% | ETA: 00:00:00\n",
            "Total time elapsed: 00:00:01\n",
            "0% [██████████████████████████████] 100% | ETA: 00:00:00"
          ],
          "name": "stderr"
        },
        {
          "output_type": "stream",
          "text": [
            "| Epoch: 64 | Train Loss: 0.317 | Train Acc: 87.23% | Val. Loss: 0.561 | Val. Acc: 73.82% |\n"
          ],
          "name": "stdout"
        },
        {
          "output_type": "stream",
          "text": [
            "\n",
            "Total time elapsed: 00:00:00\n",
            "0% [██████████████████████████████] 100% | ETA: 00:00:00\n",
            "Total time elapsed: 00:00:01\n",
            "0% [██████████████████████████████] 100% | ETA: 00:00:00"
          ],
          "name": "stderr"
        },
        {
          "output_type": "stream",
          "text": [
            "| Epoch: 65 | Train Loss: 0.313 | Train Acc: 87.59% | Val. Loss: 0.557 | Val. Acc: 74.15% |\n"
          ],
          "name": "stdout"
        },
        {
          "output_type": "stream",
          "text": [
            "\n",
            "Total time elapsed: 00:00:00\n",
            "0% [██████████████████████████████] 100% | ETA: 00:00:00\n",
            "Total time elapsed: 00:00:01\n",
            "0% [██████████████████████████████] 100% | ETA: 00:00:00"
          ],
          "name": "stderr"
        },
        {
          "output_type": "stream",
          "text": [
            "| Epoch: 66 | Train Loss: 0.300 | Train Acc: 88.04% | Val. Loss: 0.565 | Val. Acc: 74.22% |\n"
          ],
          "name": "stdout"
        },
        {
          "output_type": "stream",
          "text": [
            "\n",
            "Total time elapsed: 00:00:00\n",
            "0% [██████████████████████████████] 100% | ETA: 00:00:00\n",
            "Total time elapsed: 00:00:01\n",
            "0% [██████████████████████████████] 100% | ETA: 00:00:00"
          ],
          "name": "stderr"
        },
        {
          "output_type": "stream",
          "text": [
            "| Epoch: 67 | Train Loss: 0.293 | Train Acc: 88.38% | Val. Loss: 0.566 | Val. Acc: 74.38% |\n"
          ],
          "name": "stdout"
        },
        {
          "output_type": "stream",
          "text": [
            "\n",
            "Total time elapsed: 00:00:00\n",
            "0% [██████████████████████████████] 100% | ETA: 00:00:00\n",
            "Total time elapsed: 00:00:01\n",
            "0% [██████████████████████████████] 100% | ETA: 00:00:00"
          ],
          "name": "stderr"
        },
        {
          "output_type": "stream",
          "text": [
            "| Epoch: 68 | Train Loss: 0.297 | Train Acc: 88.20% | Val. Loss: 0.567 | Val. Acc: 73.56% |\n"
          ],
          "name": "stdout"
        },
        {
          "output_type": "stream",
          "text": [
            "\n",
            "Total time elapsed: 00:00:00\n",
            "0% [██████████████████████████████] 100% | ETA: 00:00:00\n",
            "Total time elapsed: 00:00:01\n",
            "0% [██████████████████████████████] 100% | ETA: 00:00:00"
          ],
          "name": "stderr"
        },
        {
          "output_type": "stream",
          "text": [
            "| Epoch: 69 | Train Loss: 0.299 | Train Acc: 87.43% | Val. Loss: 0.572 | Val. Acc: 74.51% |\n"
          ],
          "name": "stdout"
        },
        {
          "output_type": "stream",
          "text": [
            "\n",
            "Total time elapsed: 00:00:00\n",
            "0% [██████████████████████████████] 100% | ETA: 00:00:00\n",
            "Total time elapsed: 00:00:01\n",
            "0% [██████████████████████████████] 100% | ETA: 00:00:00"
          ],
          "name": "stderr"
        },
        {
          "output_type": "stream",
          "text": [
            "| Epoch: 70 | Train Loss: 0.292 | Train Acc: 88.29% | Val. Loss: 0.586 | Val. Acc: 73.70% |\n"
          ],
          "name": "stdout"
        },
        {
          "output_type": "stream",
          "text": [
            "\n",
            "Total time elapsed: 00:00:00\n",
            "0% [██████████████████████████████] 100% | ETA: 00:00:00\n",
            "Total time elapsed: 00:00:01\n",
            "0% [██████████████████████████████] 100% | ETA: 00:00:00"
          ],
          "name": "stderr"
        },
        {
          "output_type": "stream",
          "text": [
            "| Epoch: 71 | Train Loss: 0.296 | Train Acc: 88.10% | Val. Loss: 0.579 | Val. Acc: 74.08% |\n"
          ],
          "name": "stdout"
        },
        {
          "output_type": "stream",
          "text": [
            "\n",
            "Total time elapsed: 00:00:00\n",
            "0% [██████████████████████████████] 100% | ETA: 00:00:00\n",
            "Total time elapsed: 00:00:01\n",
            "0% [██████████████████████████████] 100% | ETA: 00:00:00"
          ],
          "name": "stderr"
        },
        {
          "output_type": "stream",
          "text": [
            "| Epoch: 72 | Train Loss: 0.294 | Train Acc: 87.96% | Val. Loss: 0.572 | Val. Acc: 74.10% |\n"
          ],
          "name": "stdout"
        },
        {
          "output_type": "stream",
          "text": [
            "\n",
            "Total time elapsed: 00:00:00\n",
            "0% [██████████████████████████████] 100% | ETA: 00:00:00\n",
            "Total time elapsed: 00:00:01\n",
            "0% [██████████████████████████████] 100% | ETA: 00:00:00"
          ],
          "name": "stderr"
        },
        {
          "output_type": "stream",
          "text": [
            "| Epoch: 73 | Train Loss: 0.287 | Train Acc: 88.13% | Val. Loss: 0.606 | Val. Acc: 72.68% |\n"
          ],
          "name": "stdout"
        },
        {
          "output_type": "stream",
          "text": [
            "\n",
            "Total time elapsed: 00:00:00\n",
            "0% [██████████████████████████████] 100% | ETA: 00:00:00\n",
            "Total time elapsed: 00:00:01\n",
            "0% [██████████████████████████████] 100% | ETA: 00:00:00"
          ],
          "name": "stderr"
        },
        {
          "output_type": "stream",
          "text": [
            "| Epoch: 74 | Train Loss: 0.281 | Train Acc: 88.74% | Val. Loss: 0.585 | Val. Acc: 73.19% |\n"
          ],
          "name": "stdout"
        },
        {
          "output_type": "stream",
          "text": [
            "\n",
            "Total time elapsed: 00:00:00\n",
            "0% [██████████████████████████████] 100% | ETA: 00:00:00\n",
            "Total time elapsed: 00:00:01\n",
            "0% [██████████████████████████████] 100% | ETA: 00:00:00"
          ],
          "name": "stderr"
        },
        {
          "output_type": "stream",
          "text": [
            "| Epoch: 75 | Train Loss: 0.286 | Train Acc: 88.74% | Val. Loss: 0.589 | Val. Acc: 73.36% |\n"
          ],
          "name": "stdout"
        },
        {
          "output_type": "stream",
          "text": [
            "\n",
            "Total time elapsed: 00:00:00\n",
            "0% [██████████████████████████████] 100% | ETA: 00:00:00\n",
            "Total time elapsed: 00:00:01\n",
            "0% [██████████████████████████████] 100% | ETA: 00:00:00"
          ],
          "name": "stderr"
        },
        {
          "output_type": "stream",
          "text": [
            "| Epoch: 76 | Train Loss: 0.272 | Train Acc: 88.99% | Val. Loss: 0.598 | Val. Acc: 73.68% |\n"
          ],
          "name": "stdout"
        },
        {
          "output_type": "stream",
          "text": [
            "\n",
            "Total time elapsed: 00:00:00\n",
            "0% [██████████████████████████████] 100% | ETA: 00:00:00\n",
            "Total time elapsed: 00:00:01\n",
            "0% [██████████████████████████████] 100% | ETA: 00:00:00"
          ],
          "name": "stderr"
        },
        {
          "output_type": "stream",
          "text": [
            "| Epoch: 77 | Train Loss: 0.273 | Train Acc: 89.22% | Val. Loss: 0.589 | Val. Acc: 73.73% |\n"
          ],
          "name": "stdout"
        },
        {
          "output_type": "stream",
          "text": [
            "\n",
            "Total time elapsed: 00:00:00\n",
            "0% [██████████████████████████████] 100% | ETA: 00:00:00\n",
            "Total time elapsed: 00:00:01\n",
            "0% [██████████████████████████████] 100% | ETA: 00:00:00"
          ],
          "name": "stderr"
        },
        {
          "output_type": "stream",
          "text": [
            "| Epoch: 78 | Train Loss: 0.272 | Train Acc: 89.32% | Val. Loss: 0.605 | Val. Acc: 73.92% |\n"
          ],
          "name": "stdout"
        },
        {
          "output_type": "stream",
          "text": [
            "\n",
            "Total time elapsed: 00:00:00\n",
            "0% [██████████████████████████████] 100% | ETA: 00:00:00\n",
            "Total time elapsed: 00:00:01\n",
            "0% [██████████████████████████████] 100% | ETA: 00:00:00"
          ],
          "name": "stderr"
        },
        {
          "output_type": "stream",
          "text": [
            "| Epoch: 79 | Train Loss: 0.264 | Train Acc: 89.64% | Val. Loss: 0.602 | Val. Acc: 73.78% |\n"
          ],
          "name": "stdout"
        },
        {
          "output_type": "stream",
          "text": [
            "\n",
            "Total time elapsed: 00:00:00\n",
            "0% [██████████████████████████████] 100% | ETA: 00:00:00\n",
            "Total time elapsed: 00:00:01\n",
            "0% [██████████████████████████████] 100% | ETA: 00:00:00"
          ],
          "name": "stderr"
        },
        {
          "output_type": "stream",
          "text": [
            "| Epoch: 80 | Train Loss: 0.268 | Train Acc: 89.41% | Val. Loss: 0.599 | Val. Acc: 73.92% |\n"
          ],
          "name": "stdout"
        },
        {
          "output_type": "stream",
          "text": [
            "\n",
            "Total time elapsed: 00:00:00\n",
            "0% [██████████████████████████████] 100% | ETA: 00:00:00\n",
            "Total time elapsed: 00:00:01\n",
            "0% [██████████████████████████████] 100% | ETA: 00:00:00"
          ],
          "name": "stderr"
        },
        {
          "output_type": "stream",
          "text": [
            "| Epoch: 81 | Train Loss: 0.271 | Train Acc: 89.35% | Val. Loss: 0.609 | Val. Acc: 73.87% |\n"
          ],
          "name": "stdout"
        },
        {
          "output_type": "stream",
          "text": [
            "\n",
            "Total time elapsed: 00:00:00\n",
            "0% [██████████████████████████████] 100% | ETA: 00:00:00\n",
            "Total time elapsed: 00:00:01\n",
            "0% [██████████████████████████████] 100% | ETA: 00:00:00"
          ],
          "name": "stderr"
        },
        {
          "output_type": "stream",
          "text": [
            "| Epoch: 82 | Train Loss: 0.262 | Train Acc: 89.93% | Val. Loss: 0.620 | Val. Acc: 73.78% |\n"
          ],
          "name": "stdout"
        },
        {
          "output_type": "stream",
          "text": [
            "\n",
            "Total time elapsed: 00:00:00\n",
            "0% [██████████████████████████████] 100% | ETA: 00:00:00\n",
            "Total time elapsed: 00:00:01\n",
            "0% [██████████████████████████████] 100% | ETA: 00:00:00"
          ],
          "name": "stderr"
        },
        {
          "output_type": "stream",
          "text": [
            "| Epoch: 83 | Train Loss: 0.255 | Train Acc: 90.14% | Val. Loss: 0.634 | Val. Acc: 73.64% |\n"
          ],
          "name": "stdout"
        },
        {
          "output_type": "stream",
          "text": [
            "\n",
            "Total time elapsed: 00:00:00\n",
            "0% [██████████████████████████████] 100% | ETA: 00:00:00\n",
            "Total time elapsed: 00:00:01\n",
            "0% [██████████████████████████████] 100% | ETA: 00:00:00"
          ],
          "name": "stderr"
        },
        {
          "output_type": "stream",
          "text": [
            "| Epoch: 84 | Train Loss: 0.252 | Train Acc: 89.80% | Val. Loss: 0.630 | Val. Acc: 74.79% |\n"
          ],
          "name": "stdout"
        },
        {
          "output_type": "stream",
          "text": [
            "\n",
            "Total time elapsed: 00:00:00\n",
            "0% [██████████████████████████████] 100% | ETA: 00:00:00\n",
            "Total time elapsed: 00:00:01\n",
            "0% [██████████████████████████████] 100% | ETA: 00:00:00"
          ],
          "name": "stderr"
        },
        {
          "output_type": "stream",
          "text": [
            "| Epoch: 85 | Train Loss: 0.266 | Train Acc: 89.20% | Val. Loss: 0.622 | Val. Acc: 73.82% |\n"
          ],
          "name": "stdout"
        },
        {
          "output_type": "stream",
          "text": [
            "\n",
            "Total time elapsed: 00:00:00\n",
            "0% [██████████████████████████████] 100% | ETA: 00:00:00\n",
            "Total time elapsed: 00:00:01\n",
            "0% [██████████████████████████████] 100% | ETA: 00:00:00"
          ],
          "name": "stderr"
        },
        {
          "output_type": "stream",
          "text": [
            "| Epoch: 86 | Train Loss: 0.258 | Train Acc: 90.10% | Val. Loss: 0.615 | Val. Acc: 73.64% |\n"
          ],
          "name": "stdout"
        },
        {
          "output_type": "stream",
          "text": [
            "\n",
            "Total time elapsed: 00:00:00\n",
            "0% [██████████████████████████████] 100% | ETA: 00:00:00\n",
            "Total time elapsed: 00:00:01\n",
            "0% [██████████████████████████████] 100% | ETA: 00:00:00"
          ],
          "name": "stderr"
        },
        {
          "output_type": "stream",
          "text": [
            "| Epoch: 87 | Train Loss: 0.248 | Train Acc: 90.50% | Val. Loss: 0.626 | Val. Acc: 73.82% |\n"
          ],
          "name": "stdout"
        },
        {
          "output_type": "stream",
          "text": [
            "\n",
            "Total time elapsed: 00:00:00\n",
            "0% [██████████████████████████████] 100% | ETA: 00:00:00\n",
            "Total time elapsed: 00:00:01\n",
            "0% [██████████████████████████████] 100% | ETA: 00:00:00"
          ],
          "name": "stderr"
        },
        {
          "output_type": "stream",
          "text": [
            "| Epoch: 88 | Train Loss: 0.242 | Train Acc: 90.73% | Val. Loss: 0.625 | Val. Acc: 73.54% |\n"
          ],
          "name": "stdout"
        },
        {
          "output_type": "stream",
          "text": [
            "\n",
            "Total time elapsed: 00:00:00\n",
            "0% [██████████████████████████████] 100% | ETA: 00:00:00\n",
            "Total time elapsed: 00:00:01\n",
            "0% [██████████████████████████████] 100% | ETA: 00:00:00"
          ],
          "name": "stderr"
        },
        {
          "output_type": "stream",
          "text": [
            "| Epoch: 89 | Train Loss: 0.251 | Train Acc: 90.09% | Val. Loss: 0.622 | Val. Acc: 73.10% |\n"
          ],
          "name": "stdout"
        },
        {
          "output_type": "stream",
          "text": [
            "\n",
            "Total time elapsed: 00:00:00\n",
            "0% [██████████████████████████████] 100% | ETA: 00:00:00\n",
            "Total time elapsed: 00:00:01\n",
            "0% [██████████████████████████████] 100% | ETA: 00:00:00"
          ],
          "name": "stderr"
        },
        {
          "output_type": "stream",
          "text": [
            "| Epoch: 90 | Train Loss: 0.245 | Train Acc: 90.27% | Val. Loss: 0.641 | Val. Acc: 73.92% |\n"
          ],
          "name": "stdout"
        },
        {
          "output_type": "stream",
          "text": [
            "\n",
            "Total time elapsed: 00:00:00\n",
            "0% [██████████████████████████████] 100% | ETA: 00:00:00\n",
            "Total time elapsed: 00:00:01\n",
            "0% [██████████████████████████████] 100% | ETA: 00:00:00"
          ],
          "name": "stderr"
        },
        {
          "output_type": "stream",
          "text": [
            "| Epoch: 91 | Train Loss: 0.231 | Train Acc: 90.87% | Val. Loss: 0.633 | Val. Acc: 73.00% |\n"
          ],
          "name": "stdout"
        },
        {
          "output_type": "stream",
          "text": [
            "\n",
            "Total time elapsed: 00:00:00\n",
            "0% [██████████████████████████████] 100% | ETA: 00:00:00\n",
            "Total time elapsed: 00:00:01\n",
            "0% [██████████████████████████████] 100% | ETA: 00:00:00"
          ],
          "name": "stderr"
        },
        {
          "output_type": "stream",
          "text": [
            "| Epoch: 92 | Train Loss: 0.244 | Train Acc: 90.71% | Val. Loss: 0.628 | Val. Acc: 72.40% |\n"
          ],
          "name": "stdout"
        },
        {
          "output_type": "stream",
          "text": [
            "\n",
            "Total time elapsed: 00:00:00\n",
            "0% [██████████████████████████████] 100% | ETA: 00:00:00\n",
            "Total time elapsed: 00:00:01\n",
            "0% [██████████████████████████████] 100% | ETA: 00:00:00"
          ],
          "name": "stderr"
        },
        {
          "output_type": "stream",
          "text": [
            "| Epoch: 93 | Train Loss: 0.241 | Train Acc: 90.59% | Val. Loss: 0.633 | Val. Acc: 73.92% |\n"
          ],
          "name": "stdout"
        },
        {
          "output_type": "stream",
          "text": [
            "\n",
            "Total time elapsed: 00:00:00\n",
            "0% [██████████████████████████████] 100% | ETA: 00:00:00\n",
            "Total time elapsed: 00:00:01\n",
            "0% [██████████████████████████████] 100% | ETA: 00:00:00"
          ],
          "name": "stderr"
        },
        {
          "output_type": "stream",
          "text": [
            "| Epoch: 94 | Train Loss: 0.241 | Train Acc: 90.23% | Val. Loss: 0.645 | Val. Acc: 72.47% |\n"
          ],
          "name": "stdout"
        },
        {
          "output_type": "stream",
          "text": [
            "\n",
            "Total time elapsed: 00:00:00\n",
            "0% [██████████████████████████████] 100% | ETA: 00:00:00\n",
            "Total time elapsed: 00:00:01\n",
            "0% [██████████████████████████████] 100% | ETA: 00:00:00"
          ],
          "name": "stderr"
        },
        {
          "output_type": "stream",
          "text": [
            "| Epoch: 95 | Train Loss: 0.230 | Train Acc: 90.97% | Val. Loss: 0.657 | Val. Acc: 74.06% |\n"
          ],
          "name": "stdout"
        },
        {
          "output_type": "stream",
          "text": [
            "\n",
            "Total time elapsed: 00:00:00\n",
            "0% [██████████████████████████████] 100% | ETA: 00:00:00\n",
            "Total time elapsed: 00:00:01\n",
            "0% [██████████████████████████████] 100% | ETA: 00:00:00"
          ],
          "name": "stderr"
        },
        {
          "output_type": "stream",
          "text": [
            "| Epoch: 96 | Train Loss: 0.233 | Train Acc: 91.12% | Val. Loss: 0.646 | Val. Acc: 73.64% |\n"
          ],
          "name": "stdout"
        },
        {
          "output_type": "stream",
          "text": [
            "\n",
            "Total time elapsed: 00:00:00\n",
            "0% [██████████████████████████████] 100% | ETA: 00:00:00\n",
            "Total time elapsed: 00:00:01\n",
            "0% [██████████████████████████████] 100% | ETA: 00:00:00"
          ],
          "name": "stderr"
        },
        {
          "output_type": "stream",
          "text": [
            "| Epoch: 97 | Train Loss: 0.226 | Train Acc: 91.26% | Val. Loss: 0.647 | Val. Acc: 73.08% |\n"
          ],
          "name": "stdout"
        },
        {
          "output_type": "stream",
          "text": [
            "\n",
            "Total time elapsed: 00:00:00\n",
            "0% [██████████████████████████████] 100% | ETA: 00:00:00\n",
            "Total time elapsed: 00:00:01\n",
            "0% [██████████████████████████████] 100% | ETA: 00:00:00"
          ],
          "name": "stderr"
        },
        {
          "output_type": "stream",
          "text": [
            "| Epoch: 98 | Train Loss: 0.234 | Train Acc: 90.94% | Val. Loss: 0.662 | Val. Acc: 72.66% |\n"
          ],
          "name": "stdout"
        },
        {
          "output_type": "stream",
          "text": [
            "\n",
            "Total time elapsed: 00:00:00\n",
            "0% [██████████████████████████████] 100% | ETA: 00:00:00\n",
            "Total time elapsed: 00:00:01\n",
            "0% [██████████████████████████████] 100% | ETA: 00:00:00"
          ],
          "name": "stderr"
        },
        {
          "output_type": "stream",
          "text": [
            "| Epoch: 99 | Train Loss: 0.230 | Train Acc: 91.41% | Val. Loss: 0.661 | Val. Acc: 72.71% |\n"
          ],
          "name": "stdout"
        },
        {
          "output_type": "stream",
          "text": [
            "\n",
            "Total time elapsed: 00:00:00\n",
            "0% [██████████████████████████████] 100% | ETA: 00:00:00\n",
            "Total time elapsed: 00:00:01\n",
            "0% [██████████████████████████████] 100% | ETA: 00:00:00"
          ],
          "name": "stderr"
        },
        {
          "output_type": "stream",
          "text": [
            "| Epoch: 100 | Train Loss: 0.215 | Train Acc: 91.89% | Val. Loss: 0.663 | Val. Acc: 71.56% |\n"
          ],
          "name": "stdout"
        },
        {
          "output_type": "stream",
          "text": [
            "\n",
            "Total time elapsed: 00:00:00\n"
          ],
          "name": "stderr"
        }
      ]
    },
    {
      "cell_type": "markdown",
      "metadata": {
        "id": "Ay73h8jt3Syw"
      },
      "source": [
        "## LSTM"
      ]
    },
    {
      "cell_type": "code",
      "metadata": {
        "id": "FlhqJ1CTMXXZ"
      },
      "source": [
        "class LSTM(nn.Module):\n",
        "    def __init__(self, input_dim, embedding_dim, hidden_dim, output_dim, dropout):\n",
        "        super().__init__()\n",
        "        self.hidden_dim = hidden_dim\n",
        "        self.embedding = nn.Embedding(input_dim, embedding_dim)\n",
        "        self.rnn = nn.LSTM(embedding_dim, hidden_dim, dropout=dropout)\n",
        "        self.fc = nn.Linear(hidden_dim, output_dim)\n",
        "\n",
        "        self.dropout = nn.Dropout(dropout)\n",
        "    \n",
        "    def forward(self, x):\n",
        "\n",
        "        #x = [sent len, batch size]\n",
        "        \n",
        "        embedded = self.dropout(self.embedding(x))\n",
        "        # print(\"here1\")\n",
        "        #embedded = [sent len, batch size, emb dim]\n",
        "        # print(x.shape)\n",
        "        # print(embedded.shape)\n",
        "        output, (hidden,cell) = self.rnn(embedded)\n",
        "        # print(\"here2\")\n",
        "        #output = [sent len, batch size, hid dim]\n",
        "        #hidden = [1, batch size, hid dim]\n",
        "        \n",
        "        # assert torch.equal(output[-1,:,:], hidden.squeeze(0))\n",
        "        # print(hidden)\n",
        "        # print(hidden[0].shape)\n",
        "        hidden = self.dropout(hidden)\n",
        "        # print(\"here3\")\n",
        "        out = self.fc(hidden)\n",
        "        # print(\"here4\")\n",
        "        return out"
      ],
      "execution_count": 21,
      "outputs": []
    },
    {
      "cell_type": "code",
      "metadata": {
        "id": "E2jpj8m1L-zo",
        "outputId": "2f444dd6-2e34-4c5c-9b4d-6cae0654ab86",
        "colab": {
          "base_uri": "https://localhost:8080/",
          "height": 71
        }
      },
      "source": [
        "INPUT_DIM = len(TEXT.vocab)\n",
        "EMBEDDING_DIM = 300\n",
        "HIDDEN_DIM = 300\n",
        "OUTPUT_DIM = 2\n",
        "DROPOUT = 0.5\n",
        "\n",
        "model_lstm = LSTM(INPUT_DIM, EMBEDDING_DIM, HIDDEN_DIM, OUTPUT_DIM, DROPOUT)"
      ],
      "execution_count": 22,
      "outputs": [
        {
          "output_type": "stream",
          "text": [
            "/usr/local/lib/python3.6/dist-packages/torch/nn/modules/rnn.py:60: UserWarning: dropout option adds dropout after all but last recurrent layer, so non-zero dropout expects num_layers greater than 1, but got dropout=0.5 and num_layers=1\n",
            "  \"num_layers={}\".format(dropout, num_layers))\n"
          ],
          "name": "stderr"
        }
      ]
    },
    {
      "cell_type": "code",
      "metadata": {
        "id": "Au4d0K6_3o6A",
        "outputId": "7e9297c1-4e38-4ef8-8918-0fa57b23b0e7",
        "colab": {
          "base_uri": "https://localhost:8080/",
          "height": 34
        }
      },
      "source": [
        "pretrained_embeddings = TEXT.vocab.vectors\n",
        "\n",
        "print(pretrained_embeddings.shape)\n",
        "\n",
        "model_lstm.embedding.weight.data = pretrained_embeddings\n",
        "\n",
        "class_weights = torch.tensor([1.0, 1.0])\n",
        "\n",
        "optimizer = optim.Adam(model_lstm.parameters(), lr=0.00003)\n",
        "\n",
        "criterion = nn.CrossEntropyLoss(weight=class_weights)\n",
        "\n",
        "model_lstm = model_lstm.to(device)\n",
        "criterion = criterion.to(device)"
      ],
      "execution_count": 23,
      "outputs": [
        {
          "output_type": "stream",
          "text": [
            "torch.Size([14410, 300])\n"
          ],
          "name": "stdout"
        }
      ]
    },
    {
      "cell_type": "code",
      "metadata": {
        "id": "FTTZ1uUWJB5s",
        "outputId": "9558219a-9c90-4cf2-bffa-a419e599b461",
        "colab": {
          "base_uri": "https://localhost:8080/",
          "height": 1000
        }
      },
      "source": [
        "N_EPOCHS = 100\n",
        "train_lstm_loss = []\n",
        "train_lstm_acc = []\n",
        "dev_lstm_loss = []\n",
        "dev_lstm_acc = []\n",
        "\n",
        "for epoch in range(N_EPOCHS):\n",
        "    train_loss, train_acc = train(model_lstm, train_iterator, optimizer, criterion)\n",
        "    dev_loss, dev_acc = evaluate(model_lstm, dev_iterator, criterion)\n",
        "    \n",
        "    train_lstm_loss.append(train_loss)\n",
        "    train_lstm_acc.append(train_acc)\n",
        "\n",
        "    dev_lstm_loss.append(dev_loss)\n",
        "    dev_lstm_acc.append(dev_acc)\n",
        "\n",
        "    print(f'| Epoch: {epoch+1:02} | Train Loss: {train_loss:.3f} | Train Acc: {train_acc*100:.2f}% | Val. Loss: {dev_loss:.3f} | Val. Acc: {dev_acc*100:.2f}% |')"
      ],
      "execution_count": 24,
      "outputs": [
        {
          "output_type": "stream",
          "text": [
            "0% [██████████████████████████████] 100% | ETA: 00:00:00\n",
            "Total time elapsed: 00:00:01\n",
            "0% [██████████████████████████████] 100% | ETA: 00:00:00"
          ],
          "name": "stderr"
        },
        {
          "output_type": "stream",
          "text": [
            "| Epoch: 01 | Train Loss: 0.694 | Train Acc: 49.69% | Val. Loss: 0.693 | Val. Acc: 51.10% |\n"
          ],
          "name": "stdout"
        },
        {
          "output_type": "stream",
          "text": [
            "\n",
            "Total time elapsed: 00:00:00\n",
            "0% [██████████████████████████████] 100% | ETA: 00:00:00\n",
            "Total time elapsed: 00:00:01\n",
            "0% [██████████████████████████████] 100% | ETA: 00:00:00"
          ],
          "name": "stderr"
        },
        {
          "output_type": "stream",
          "text": [
            "| Epoch: 02 | Train Loss: 0.693 | Train Acc: 50.17% | Val. Loss: 0.692 | Val. Acc: 54.81% |\n"
          ],
          "name": "stdout"
        },
        {
          "output_type": "stream",
          "text": [
            "\n",
            "Total time elapsed: 00:00:00\n",
            "0% [██████████████████████████████] 100% | ETA: 00:00:00\n",
            "Total time elapsed: 00:00:01\n",
            "0% [██████████████████████████████] 100% | ETA: 00:00:00"
          ],
          "name": "stderr"
        },
        {
          "output_type": "stream",
          "text": [
            "| Epoch: 03 | Train Loss: 0.693 | Train Acc: 50.27% | Val. Loss: 0.691 | Val. Acc: 56.88% |\n"
          ],
          "name": "stdout"
        },
        {
          "output_type": "stream",
          "text": [
            "\n",
            "Total time elapsed: 00:00:00\n",
            "0% [██████████████████████████████] 100% | ETA: 00:00:00\n",
            "Total time elapsed: 00:00:01\n",
            "0% [██████████████████████████████] 100% | ETA: 00:00:00"
          ],
          "name": "stderr"
        },
        {
          "output_type": "stream",
          "text": [
            "| Epoch: 04 | Train Loss: 0.692 | Train Acc: 50.74% | Val. Loss: 0.690 | Val. Acc: 57.80% |\n"
          ],
          "name": "stdout"
        },
        {
          "output_type": "stream",
          "text": [
            "\n",
            "Total time elapsed: 00:00:00\n",
            "0% [██████████████████████████████] 100% | ETA: 00:00:00\n",
            "Total time elapsed: 00:00:01\n",
            "0% [██████████████████████████████] 100% | ETA: 00:00:00"
          ],
          "name": "stderr"
        },
        {
          "output_type": "stream",
          "text": [
            "| Epoch: 05 | Train Loss: 0.692 | Train Acc: 50.88% | Val. Loss: 0.688 | Val. Acc: 57.16% |\n"
          ],
          "name": "stdout"
        },
        {
          "output_type": "stream",
          "text": [
            "\n",
            "Total time elapsed: 00:00:00\n",
            "0% [██████████████████████████████] 100% | ETA: 00:00:00\n",
            "Total time elapsed: 00:00:01\n",
            "0% [██████████████████████████████] 100% | ETA: 00:00:00"
          ],
          "name": "stderr"
        },
        {
          "output_type": "stream",
          "text": [
            "| Epoch: 06 | Train Loss: 0.691 | Train Acc: 52.15% | Val. Loss: 0.686 | Val. Acc: 60.41% |\n"
          ],
          "name": "stdout"
        },
        {
          "output_type": "stream",
          "text": [
            "\n",
            "Total time elapsed: 00:00:00\n",
            "0% [██████████████████████████████] 100% | ETA: 00:00:00\n",
            "Total time elapsed: 00:00:01\n",
            "0% [██████████████████████████████] 100% | ETA: 00:00:00"
          ],
          "name": "stderr"
        },
        {
          "output_type": "stream",
          "text": [
            "| Epoch: 07 | Train Loss: 0.691 | Train Acc: 51.90% | Val. Loss: 0.683 | Val. Acc: 60.97% |\n"
          ],
          "name": "stdout"
        },
        {
          "output_type": "stream",
          "text": [
            "\n",
            "Total time elapsed: 00:00:00\n",
            "0% [██████████████████████████████] 100% | ETA: 00:00:00\n",
            "Total time elapsed: 00:00:01\n",
            "0% [██████████████████████████████] 100% | ETA: 00:00:00"
          ],
          "name": "stderr"
        },
        {
          "output_type": "stream",
          "text": [
            "| Epoch: 08 | Train Loss: 0.689 | Train Acc: 53.75% | Val. Loss: 0.675 | Val. Acc: 61.34% |\n"
          ],
          "name": "stdout"
        },
        {
          "output_type": "stream",
          "text": [
            "\n",
            "Total time elapsed: 00:00:00\n",
            "0% [██████████████████████████████] 100% | ETA: 00:00:00\n",
            "Total time elapsed: 00:00:01\n",
            "0% [██████████████████████████████] 100% | ETA: 00:00:00"
          ],
          "name": "stderr"
        },
        {
          "output_type": "stream",
          "text": [
            "| Epoch: 09 | Train Loss: 0.648 | Train Acc: 62.53% | Val. Loss: 0.611 | Val. Acc: 67.89% |\n"
          ],
          "name": "stdout"
        },
        {
          "output_type": "stream",
          "text": [
            "\n",
            "Total time elapsed: 00:00:00\n",
            "0% [██████████████████████████████] 100% | ETA: 00:00:00\n",
            "Total time elapsed: 00:00:01\n",
            "0% [██████████████████████████████] 100% | ETA: 00:00:00"
          ],
          "name": "stderr"
        },
        {
          "output_type": "stream",
          "text": [
            "| Epoch: 10 | Train Loss: 0.554 | Train Acc: 71.77% | Val. Loss: 0.564 | Val. Acc: 72.51% |\n"
          ],
          "name": "stdout"
        },
        {
          "output_type": "stream",
          "text": [
            "\n",
            "Total time elapsed: 00:00:00\n",
            "0% [██████████████████████████████] 100% | ETA: 00:00:00\n",
            "Total time elapsed: 00:00:01\n",
            "0% [██████████████████████████████] 100% | ETA: 00:00:00"
          ],
          "name": "stderr"
        },
        {
          "output_type": "stream",
          "text": [
            "| Epoch: 11 | Train Loss: 0.527 | Train Acc: 73.52% | Val. Loss: 0.562 | Val. Acc: 70.71% |\n"
          ],
          "name": "stdout"
        },
        {
          "output_type": "stream",
          "text": [
            "\n",
            "Total time elapsed: 00:00:00\n",
            "0% [██████████████████████████████] 100% | ETA: 00:00:00\n",
            "Total time elapsed: 00:00:01\n",
            "0% [██████████████████████████████] 100% | ETA: 00:00:00"
          ],
          "name": "stderr"
        },
        {
          "output_type": "stream",
          "text": [
            "| Epoch: 12 | Train Loss: 0.504 | Train Acc: 74.92% | Val. Loss: 0.542 | Val. Acc: 72.51% |\n"
          ],
          "name": "stdout"
        },
        {
          "output_type": "stream",
          "text": [
            "\n",
            "Total time elapsed: 00:00:00\n",
            "0% [██████████████████████████████] 100% | ETA: 00:00:00\n",
            "Total time elapsed: 00:00:01\n",
            "0% [██████████████████████████████] 100% | ETA: 00:00:00"
          ],
          "name": "stderr"
        },
        {
          "output_type": "stream",
          "text": [
            "| Epoch: 13 | Train Loss: 0.505 | Train Acc: 75.49% | Val. Loss: 0.532 | Val. Acc: 73.26% |\n"
          ],
          "name": "stdout"
        },
        {
          "output_type": "stream",
          "text": [
            "\n",
            "Total time elapsed: 00:00:00\n",
            "0% [██████████████████████████████] 100% | ETA: 00:00:00\n",
            "Total time elapsed: 00:00:01\n",
            "0% [██████████████████████████████] 100% | ETA: 00:00:00"
          ],
          "name": "stderr"
        },
        {
          "output_type": "stream",
          "text": [
            "| Epoch: 14 | Train Loss: 0.487 | Train Acc: 76.38% | Val. Loss: 0.525 | Val. Acc: 74.05% |\n"
          ],
          "name": "stdout"
        },
        {
          "output_type": "stream",
          "text": [
            "\n",
            "Total time elapsed: 00:00:00\n",
            "0% [██████████████████████████████] 100% | ETA: 00:00:00\n",
            "Total time elapsed: 00:00:01\n",
            "0% [██████████████████████████████] 100% | ETA: 00:00:00"
          ],
          "name": "stderr"
        },
        {
          "output_type": "stream",
          "text": [
            "| Epoch: 15 | Train Loss: 0.478 | Train Acc: 76.88% | Val. Loss: 0.521 | Val. Acc: 74.10% |\n"
          ],
          "name": "stdout"
        },
        {
          "output_type": "stream",
          "text": [
            "\n",
            "Total time elapsed: 00:00:00\n",
            "0% [██████████████████████████████] 100% | ETA: 00:00:00\n",
            "Total time elapsed: 00:00:01\n",
            "0% [██████████████████████████████] 100% | ETA: 00:00:00"
          ],
          "name": "stderr"
        },
        {
          "output_type": "stream",
          "text": [
            "| Epoch: 16 | Train Loss: 0.474 | Train Acc: 77.14% | Val. Loss: 0.532 | Val. Acc: 73.82% |\n"
          ],
          "name": "stdout"
        },
        {
          "output_type": "stream",
          "text": [
            "\n",
            "Total time elapsed: 00:00:00\n",
            "0% [██████████████████████████████] 100% | ETA: 00:00:00\n",
            "Total time elapsed: 00:00:01\n",
            "0% [██████████████████████████████] 100% | ETA: 00:00:00"
          ],
          "name": "stderr"
        },
        {
          "output_type": "stream",
          "text": [
            "| Epoch: 17 | Train Loss: 0.468 | Train Acc: 77.56% | Val. Loss: 0.515 | Val. Acc: 75.38% |\n"
          ],
          "name": "stdout"
        },
        {
          "output_type": "stream",
          "text": [
            "\n",
            "Total time elapsed: 00:00:00\n",
            "0% [██████████████████████████████] 100% | ETA: 00:00:00\n",
            "Total time elapsed: 00:00:01\n",
            "0% [██████████████████████████████] 100% | ETA: 00:00:00"
          ],
          "name": "stderr"
        },
        {
          "output_type": "stream",
          "text": [
            "| Epoch: 18 | Train Loss: 0.464 | Train Acc: 78.29% | Val. Loss: 0.516 | Val. Acc: 75.01% |\n"
          ],
          "name": "stdout"
        },
        {
          "output_type": "stream",
          "text": [
            "\n",
            "Total time elapsed: 00:00:00\n",
            "0% [██████████████████████████████] 100% | ETA: 00:00:00\n",
            "Total time elapsed: 00:00:01\n",
            "0% [██████████████████████████████] 100% | ETA: 00:00:00"
          ],
          "name": "stderr"
        },
        {
          "output_type": "stream",
          "text": [
            "| Epoch: 19 | Train Loss: 0.458 | Train Acc: 78.33% | Val. Loss: 0.516 | Val. Acc: 74.36% |\n"
          ],
          "name": "stdout"
        },
        {
          "output_type": "stream",
          "text": [
            "\n",
            "Total time elapsed: 00:00:00\n",
            "0% [██████████████████████████████] 100% | ETA: 00:00:00\n",
            "Total time elapsed: 00:00:01\n",
            "0% [██████████████████████████████] 100% | ETA: 00:00:00"
          ],
          "name": "stderr"
        },
        {
          "output_type": "stream",
          "text": [
            "| Epoch: 20 | Train Loss: 0.444 | Train Acc: 78.79% | Val. Loss: 0.505 | Val. Acc: 75.66% |\n"
          ],
          "name": "stdout"
        },
        {
          "output_type": "stream",
          "text": [
            "\n",
            "Total time elapsed: 00:00:00\n",
            "0% [██████████████████████████████] 100% | ETA: 00:00:00\n",
            "Total time elapsed: 00:00:01\n",
            "0% [██████████████████████████████] 100% | ETA: 00:00:00"
          ],
          "name": "stderr"
        },
        {
          "output_type": "stream",
          "text": [
            "| Epoch: 21 | Train Loss: 0.439 | Train Acc: 79.25% | Val. Loss: 0.501 | Val. Acc: 75.57% |\n"
          ],
          "name": "stdout"
        },
        {
          "output_type": "stream",
          "text": [
            "\n",
            "Total time elapsed: 00:00:00\n",
            "0% [██████████████████████████████] 100% | ETA: 00:00:00\n",
            "Total time elapsed: 00:00:01\n",
            "0% [██████████████████████████████] 100% | ETA: 00:00:00"
          ],
          "name": "stderr"
        },
        {
          "output_type": "stream",
          "text": [
            "| Epoch: 22 | Train Loss: 0.443 | Train Acc: 79.47% | Val. Loss: 0.502 | Val. Acc: 75.73% |\n"
          ],
          "name": "stdout"
        },
        {
          "output_type": "stream",
          "text": [
            "\n",
            "Total time elapsed: 00:00:00\n",
            "0% [██████████████████████████████] 100% | ETA: 00:00:00\n",
            "Total time elapsed: 00:00:01\n",
            "0% [██████████████████████████████] 100% | ETA: 00:00:00"
          ],
          "name": "stderr"
        },
        {
          "output_type": "stream",
          "text": [
            "| Epoch: 23 | Train Loss: 0.423 | Train Acc: 80.58% | Val. Loss: 0.497 | Val. Acc: 75.97% |\n"
          ],
          "name": "stdout"
        },
        {
          "output_type": "stream",
          "text": [
            "\n",
            "Total time elapsed: 00:00:00\n",
            "0% [██████████████████████████████] 100% | ETA: 00:00:00\n",
            "Total time elapsed: 00:00:01\n",
            "0% [██████████████████████████████] 100% | ETA: 00:00:00"
          ],
          "name": "stderr"
        },
        {
          "output_type": "stream",
          "text": [
            "| Epoch: 24 | Train Loss: 0.428 | Train Acc: 80.29% | Val. Loss: 0.508 | Val. Acc: 75.62% |\n"
          ],
          "name": "stdout"
        },
        {
          "output_type": "stream",
          "text": [
            "\n",
            "Total time elapsed: 00:00:00\n",
            "0% [██████████████████████████████] 100% | ETA: 00:00:00\n",
            "Total time elapsed: 00:00:01\n",
            "0% [██████████████████████████████] 100% | ETA: 00:00:00"
          ],
          "name": "stderr"
        },
        {
          "output_type": "stream",
          "text": [
            "| Epoch: 25 | Train Loss: 0.426 | Train Acc: 80.58% | Val. Loss: 0.493 | Val. Acc: 75.90% |\n"
          ],
          "name": "stdout"
        },
        {
          "output_type": "stream",
          "text": [
            "\n",
            "Total time elapsed: 00:00:00\n",
            "0% [██████████████████████████████] 100% | ETA: 00:00:00\n",
            "Total time elapsed: 00:00:01\n",
            "0% [██████████████████████████████] 100% | ETA: 00:00:00"
          ],
          "name": "stderr"
        },
        {
          "output_type": "stream",
          "text": [
            "| Epoch: 26 | Train Loss: 0.409 | Train Acc: 80.50% | Val. Loss: 0.492 | Val. Acc: 75.96% |\n"
          ],
          "name": "stdout"
        },
        {
          "output_type": "stream",
          "text": [
            "\n",
            "Total time elapsed: 00:00:00\n",
            "0% [██████████████████████████████] 100% | ETA: 00:00:00\n",
            "Total time elapsed: 00:00:01\n",
            "0% [██████████████████████████████] 100% | ETA: 00:00:00"
          ],
          "name": "stderr"
        },
        {
          "output_type": "stream",
          "text": [
            "| Epoch: 27 | Train Loss: 0.412 | Train Acc: 80.96% | Val. Loss: 0.490 | Val. Acc: 76.34% |\n"
          ],
          "name": "stdout"
        },
        {
          "output_type": "stream",
          "text": [
            "\n",
            "Total time elapsed: 00:00:00\n",
            "0% [██████████████████████████████] 100% | ETA: 00:00:00\n",
            "Total time elapsed: 00:00:01\n",
            "0% [██████████████████████████████] 100% | ETA: 00:00:00"
          ],
          "name": "stderr"
        },
        {
          "output_type": "stream",
          "text": [
            "| Epoch: 28 | Train Loss: 0.404 | Train Acc: 81.54% | Val. Loss: 0.485 | Val. Acc: 76.39% |\n"
          ],
          "name": "stdout"
        },
        {
          "output_type": "stream",
          "text": [
            "\n",
            "Total time elapsed: 00:00:00\n",
            "0% [██████████████████████████████] 100% | ETA: 00:00:00\n",
            "Total time elapsed: 00:00:01\n",
            "0% [██████████████████████████████] 100% | ETA: 00:00:00"
          ],
          "name": "stderr"
        },
        {
          "output_type": "stream",
          "text": [
            "| Epoch: 29 | Train Loss: 0.397 | Train Acc: 81.97% | Val. Loss: 0.491 | Val. Acc: 76.76% |\n"
          ],
          "name": "stdout"
        },
        {
          "output_type": "stream",
          "text": [
            "\n",
            "Total time elapsed: 00:00:00\n",
            "0% [██████████████████████████████] 100% | ETA: 00:00:00\n",
            "Total time elapsed: 00:00:01\n",
            "0% [██████████████████████████████] 100% | ETA: 00:00:00"
          ],
          "name": "stderr"
        },
        {
          "output_type": "stream",
          "text": [
            "| Epoch: 30 | Train Loss: 0.396 | Train Acc: 81.69% | Val. Loss: 0.488 | Val. Acc: 76.46% |\n"
          ],
          "name": "stdout"
        },
        {
          "output_type": "stream",
          "text": [
            "\n",
            "Total time elapsed: 00:00:00\n",
            "0% [██████████████████████████████] 100% | ETA: 00:00:00\n",
            "Total time elapsed: 00:00:01\n",
            "0% [██████████████████████████████] 100% | ETA: 00:00:00"
          ],
          "name": "stderr"
        },
        {
          "output_type": "stream",
          "text": [
            "| Epoch: 31 | Train Loss: 0.392 | Train Acc: 82.23% | Val. Loss: 0.487 | Val. Acc: 76.83% |\n"
          ],
          "name": "stdout"
        },
        {
          "output_type": "stream",
          "text": [
            "\n",
            "Total time elapsed: 00:00:00\n",
            "0% [██████████████████████████████] 100% | ETA: 00:00:00\n",
            "Total time elapsed: 00:00:01\n",
            "0% [██████████████████████████████] 100% | ETA: 00:00:00"
          ],
          "name": "stderr"
        },
        {
          "output_type": "stream",
          "text": [
            "| Epoch: 32 | Train Loss: 0.387 | Train Acc: 83.04% | Val. Loss: 0.485 | Val. Acc: 76.92% |\n"
          ],
          "name": "stdout"
        },
        {
          "output_type": "stream",
          "text": [
            "\n",
            "Total time elapsed: 00:00:00\n",
            "0% [██████████████████████████████] 100% | ETA: 00:00:00\n",
            "Total time elapsed: 00:00:01\n",
            "0% [██████████████████████████████] 100% | ETA: 00:00:00"
          ],
          "name": "stderr"
        },
        {
          "output_type": "stream",
          "text": [
            "| Epoch: 33 | Train Loss: 0.390 | Train Acc: 82.81% | Val. Loss: 0.481 | Val. Acc: 76.78% |\n"
          ],
          "name": "stdout"
        },
        {
          "output_type": "stream",
          "text": [
            "\n",
            "Total time elapsed: 00:00:00\n",
            "0% [██████████████████████████████] 100% | ETA: 00:00:00\n",
            "Total time elapsed: 00:00:01\n",
            "0% [██████████████████████████████] 100% | ETA: 00:00:00"
          ],
          "name": "stderr"
        },
        {
          "output_type": "stream",
          "text": [
            "| Epoch: 34 | Train Loss: 0.372 | Train Acc: 83.10% | Val. Loss: 0.493 | Val. Acc: 76.90% |\n"
          ],
          "name": "stdout"
        },
        {
          "output_type": "stream",
          "text": [
            "\n",
            "Total time elapsed: 00:00:00\n",
            "0% [██████████████████████████████] 100% | ETA: 00:00:00\n",
            "Total time elapsed: 00:00:01\n",
            "0% [██████████████████████████████] 100% | ETA: 00:00:00"
          ],
          "name": "stderr"
        },
        {
          "output_type": "stream",
          "text": [
            "| Epoch: 35 | Train Loss: 0.371 | Train Acc: 82.60% | Val. Loss: 0.497 | Val. Acc: 76.44% |\n"
          ],
          "name": "stdout"
        },
        {
          "output_type": "stream",
          "text": [
            "\n",
            "Total time elapsed: 00:00:00\n",
            "0% [██████████████████████████████] 100% | ETA: 00:00:00\n",
            "Total time elapsed: 00:00:01\n",
            "0% [██████████████████████████████] 100% | ETA: 00:00:00"
          ],
          "name": "stderr"
        },
        {
          "output_type": "stream",
          "text": [
            "| Epoch: 36 | Train Loss: 0.363 | Train Acc: 83.57% | Val. Loss: 0.473 | Val. Acc: 76.70% |\n"
          ],
          "name": "stdout"
        },
        {
          "output_type": "stream",
          "text": [
            "\n",
            "Total time elapsed: 00:00:00\n",
            "0% [██████████████████████████████] 100% | ETA: 00:00:00\n",
            "Total time elapsed: 00:00:01\n",
            "0% [██████████████████████████████] 100% | ETA: 00:00:00"
          ],
          "name": "stderr"
        },
        {
          "output_type": "stream",
          "text": [
            "| Epoch: 37 | Train Loss: 0.367 | Train Acc: 83.58% | Val. Loss: 0.482 | Val. Acc: 77.46% |\n"
          ],
          "name": "stdout"
        },
        {
          "output_type": "stream",
          "text": [
            "\n",
            "Total time elapsed: 00:00:00\n",
            "0% [██████████████████████████████] 100% | ETA: 00:00:00\n",
            "Total time elapsed: 00:00:01\n",
            "0% [██████████████████████████████] 100% | ETA: 00:00:00"
          ],
          "name": "stderr"
        },
        {
          "output_type": "stream",
          "text": [
            "| Epoch: 38 | Train Loss: 0.358 | Train Acc: 84.29% | Val. Loss: 0.473 | Val. Acc: 77.15% |\n"
          ],
          "name": "stdout"
        },
        {
          "output_type": "stream",
          "text": [
            "\n",
            "Total time elapsed: 00:00:00\n",
            "0% [██████████████████████████████] 100% | ETA: 00:00:00\n",
            "Total time elapsed: 00:00:01\n",
            "0% [██████████████████████████████] 100% | ETA: 00:00:00"
          ],
          "name": "stderr"
        },
        {
          "output_type": "stream",
          "text": [
            "| Epoch: 39 | Train Loss: 0.351 | Train Acc: 84.30% | Val. Loss: 0.483 | Val. Acc: 77.18% |\n"
          ],
          "name": "stdout"
        },
        {
          "output_type": "stream",
          "text": [
            "\n",
            "Total time elapsed: 00:00:00\n",
            "0% [██████████████████████████████] 100% | ETA: 00:00:00\n",
            "Total time elapsed: 00:00:01\n",
            "0% [██████████████████████████████] 100% | ETA: 00:00:00"
          ],
          "name": "stderr"
        },
        {
          "output_type": "stream",
          "text": [
            "| Epoch: 40 | Train Loss: 0.344 | Train Acc: 84.77% | Val. Loss: 0.481 | Val. Acc: 77.18% |\n"
          ],
          "name": "stdout"
        },
        {
          "output_type": "stream",
          "text": [
            "\n",
            "Total time elapsed: 00:00:00\n",
            "0% [██████████████████████████████] 100% | ETA: 00:00:00\n",
            "Total time elapsed: 00:00:01\n",
            "0% [██████████████████████████████] 100% | ETA: 00:00:00"
          ],
          "name": "stderr"
        },
        {
          "output_type": "stream",
          "text": [
            "| Epoch: 41 | Train Loss: 0.339 | Train Acc: 84.81% | Val. Loss: 0.479 | Val. Acc: 77.37% |\n"
          ],
          "name": "stdout"
        },
        {
          "output_type": "stream",
          "text": [
            "\n",
            "Total time elapsed: 00:00:00\n",
            "0% [██████████████████████████████] 100% | ETA: 00:00:00\n",
            "Total time elapsed: 00:00:01\n",
            "0% [██████████████████████████████] 100% | ETA: 00:00:00"
          ],
          "name": "stderr"
        },
        {
          "output_type": "stream",
          "text": [
            "| Epoch: 42 | Train Loss: 0.353 | Train Acc: 84.42% | Val. Loss: 0.486 | Val. Acc: 77.65% |\n"
          ],
          "name": "stdout"
        },
        {
          "output_type": "stream",
          "text": [
            "\n",
            "Total time elapsed: 00:00:00\n",
            "0% [██████████████████████████████] 100% | ETA: 00:00:00\n",
            "Total time elapsed: 00:00:01\n",
            "0% [██████████████████████████████] 100% | ETA: 00:00:00"
          ],
          "name": "stderr"
        },
        {
          "output_type": "stream",
          "text": [
            "| Epoch: 43 | Train Loss: 0.341 | Train Acc: 84.73% | Val. Loss: 0.488 | Val. Acc: 77.09% |\n"
          ],
          "name": "stdout"
        },
        {
          "output_type": "stream",
          "text": [
            "\n",
            "Total time elapsed: 00:00:00\n",
            "0% [██████████████████████████████] 100% | ETA: 00:00:00\n",
            "Total time elapsed: 00:00:01\n",
            "0% [██████████████████████████████] 100% | ETA: 00:00:00"
          ],
          "name": "stderr"
        },
        {
          "output_type": "stream",
          "text": [
            "| Epoch: 44 | Train Loss: 0.331 | Train Acc: 85.53% | Val. Loss: 0.477 | Val. Acc: 77.93% |\n"
          ],
          "name": "stdout"
        },
        {
          "output_type": "stream",
          "text": [
            "\n",
            "Total time elapsed: 00:00:00\n",
            "0% [██████████████████████████████] 100% | ETA: 00:00:00\n",
            "Total time elapsed: 00:00:01\n",
            "0% [██████████████████████████████] 100% | ETA: 00:00:00"
          ],
          "name": "stderr"
        },
        {
          "output_type": "stream",
          "text": [
            "| Epoch: 45 | Train Loss: 0.324 | Train Acc: 85.74% | Val. Loss: 0.495 | Val. Acc: 77.04% |\n"
          ],
          "name": "stdout"
        },
        {
          "output_type": "stream",
          "text": [
            "\n",
            "Total time elapsed: 00:00:00\n",
            "0% [██████████████████████████████] 100% | ETA: 00:00:00\n",
            "Total time elapsed: 00:00:01\n",
            "0% [██████████████████████████████] 100% | ETA: 00:00:00"
          ],
          "name": "stderr"
        },
        {
          "output_type": "stream",
          "text": [
            "| Epoch: 46 | Train Loss: 0.321 | Train Acc: 85.80% | Val. Loss: 0.484 | Val. Acc: 77.79% |\n"
          ],
          "name": "stdout"
        },
        {
          "output_type": "stream",
          "text": [
            "\n",
            "Total time elapsed: 00:00:00\n",
            "0% [██████████████████████████████] 100% | ETA: 00:00:00\n",
            "Total time elapsed: 00:00:01\n",
            "0% [██████████████████████████████] 100% | ETA: 00:00:00"
          ],
          "name": "stderr"
        },
        {
          "output_type": "stream",
          "text": [
            "| Epoch: 47 | Train Loss: 0.325 | Train Acc: 85.79% | Val. Loss: 0.495 | Val. Acc: 77.51% |\n"
          ],
          "name": "stdout"
        },
        {
          "output_type": "stream",
          "text": [
            "\n",
            "Total time elapsed: 00:00:00\n",
            "0% [██████████████████████████████] 100% | ETA: 00:00:00\n",
            "Total time elapsed: 00:00:01\n",
            "0% [██████████████████████████████] 100% | ETA: 00:00:00"
          ],
          "name": "stderr"
        },
        {
          "output_type": "stream",
          "text": [
            "| Epoch: 48 | Train Loss: 0.316 | Train Acc: 86.49% | Val. Loss: 0.479 | Val. Acc: 77.65% |\n"
          ],
          "name": "stdout"
        },
        {
          "output_type": "stream",
          "text": [
            "\n",
            "Total time elapsed: 00:00:00\n",
            "0% [██████████████████████████████] 100% | ETA: 00:00:00\n",
            "Total time elapsed: 00:00:01\n",
            "0% [██████████████████████████████] 100% | ETA: 00:00:00"
          ],
          "name": "stderr"
        },
        {
          "output_type": "stream",
          "text": [
            "| Epoch: 49 | Train Loss: 0.306 | Train Acc: 86.77% | Val. Loss: 0.470 | Val. Acc: 77.82% |\n"
          ],
          "name": "stdout"
        },
        {
          "output_type": "stream",
          "text": [
            "\n",
            "Total time elapsed: 00:00:00\n",
            "0% [██████████████████████████████] 100% | ETA: 00:00:00\n",
            "Total time elapsed: 00:00:01\n",
            "0% [██████████████████████████████] 100% | ETA: 00:00:00"
          ],
          "name": "stderr"
        },
        {
          "output_type": "stream",
          "text": [
            "| Epoch: 50 | Train Loss: 0.309 | Train Acc: 86.58% | Val. Loss: 0.486 | Val. Acc: 77.56% |\n"
          ],
          "name": "stdout"
        },
        {
          "output_type": "stream",
          "text": [
            "\n",
            "Total time elapsed: 00:00:00\n",
            "0% [██████████████████████████████] 100% | ETA: 00:00:00\n",
            "Total time elapsed: 00:00:01\n",
            "0% [██████████████████████████████] 100% | ETA: 00:00:00"
          ],
          "name": "stderr"
        },
        {
          "output_type": "stream",
          "text": [
            "| Epoch: 51 | Train Loss: 0.306 | Train Acc: 86.88% | Val. Loss: 0.486 | Val. Acc: 77.63% |\n"
          ],
          "name": "stdout"
        },
        {
          "output_type": "stream",
          "text": [
            "\n",
            "Total time elapsed: 00:00:00\n",
            "0% [██████████████████████████████] 100% | ETA: 00:00:00\n",
            "Total time elapsed: 00:00:01\n",
            "0% [██████████████████████████████] 100% | ETA: 00:00:00"
          ],
          "name": "stderr"
        },
        {
          "output_type": "stream",
          "text": [
            "| Epoch: 52 | Train Loss: 0.295 | Train Acc: 87.75% | Val. Loss: 0.507 | Val. Acc: 77.00% |\n"
          ],
          "name": "stdout"
        },
        {
          "output_type": "stream",
          "text": [
            "\n",
            "Total time elapsed: 00:00:00\n",
            "0% [██████████████████████████████] 100% | ETA: 00:00:00\n",
            "Total time elapsed: 00:00:01\n",
            "0% [██████████████████████████████] 100% | ETA: 00:00:00"
          ],
          "name": "stderr"
        },
        {
          "output_type": "stream",
          "text": [
            "| Epoch: 53 | Train Loss: 0.296 | Train Acc: 87.21% | Val. Loss: 0.481 | Val. Acc: 77.65% |\n"
          ],
          "name": "stdout"
        },
        {
          "output_type": "stream",
          "text": [
            "\n",
            "Total time elapsed: 00:00:00\n",
            "0% [██████████████████████████████] 100% | ETA: 00:00:00\n",
            "Total time elapsed: 00:00:01\n",
            "0% [██████████████████████████████] 100% | ETA: 00:00:00"
          ],
          "name": "stderr"
        },
        {
          "output_type": "stream",
          "text": [
            "| Epoch: 54 | Train Loss: 0.282 | Train Acc: 88.01% | Val. Loss: 0.500 | Val. Acc: 77.37% |\n"
          ],
          "name": "stdout"
        },
        {
          "output_type": "stream",
          "text": [
            "\n",
            "Total time elapsed: 00:00:00\n",
            "0% [██████████████████████████████] 100% | ETA: 00:00:00\n",
            "Total time elapsed: 00:00:01\n",
            "0% [██████████████████████████████] 100% | ETA: 00:00:00"
          ],
          "name": "stderr"
        },
        {
          "output_type": "stream",
          "text": [
            "| Epoch: 55 | Train Loss: 0.297 | Train Acc: 87.39% | Val. Loss: 0.489 | Val. Acc: 77.40% |\n"
          ],
          "name": "stdout"
        },
        {
          "output_type": "stream",
          "text": [
            "\n",
            "Total time elapsed: 00:00:00\n",
            "0% [██████████████████████████████] 100% | ETA: 00:00:00\n",
            "Total time elapsed: 00:00:01\n",
            "0% [██████████████████████████████] 100% | ETA: 00:00:00"
          ],
          "name": "stderr"
        },
        {
          "output_type": "stream",
          "text": [
            "| Epoch: 56 | Train Loss: 0.285 | Train Acc: 87.94% | Val. Loss: 0.484 | Val. Acc: 77.56% |\n"
          ],
          "name": "stdout"
        },
        {
          "output_type": "stream",
          "text": [
            "\n",
            "Total time elapsed: 00:00:00\n",
            "0% [██████████████████████████████] 100% | ETA: 00:00:00\n",
            "Total time elapsed: 00:00:01\n",
            "0% [██████████████████████████████] 100% | ETA: 00:00:00"
          ],
          "name": "stderr"
        },
        {
          "output_type": "stream",
          "text": [
            "| Epoch: 57 | Train Loss: 0.278 | Train Acc: 87.95% | Val. Loss: 0.489 | Val. Acc: 77.84% |\n"
          ],
          "name": "stdout"
        },
        {
          "output_type": "stream",
          "text": [
            "\n",
            "Total time elapsed: 00:00:00\n",
            "0% [██████████████████████████████] 100% | ETA: 00:00:00\n",
            "Total time elapsed: 00:00:01\n",
            "0% [██████████████████████████████] 100% | ETA: 00:00:00"
          ],
          "name": "stderr"
        },
        {
          "output_type": "stream",
          "text": [
            "| Epoch: 58 | Train Loss: 0.271 | Train Acc: 88.49% | Val. Loss: 0.484 | Val. Acc: 77.98% |\n"
          ],
          "name": "stdout"
        },
        {
          "output_type": "stream",
          "text": [
            "\n",
            "Total time elapsed: 00:00:00\n",
            "0% [██████████████████████████████] 100% | ETA: 00:00:00\n",
            "Total time elapsed: 00:00:01\n",
            "0% [██████████████████████████████] 100% | ETA: 00:00:00"
          ],
          "name": "stderr"
        },
        {
          "output_type": "stream",
          "text": [
            "| Epoch: 59 | Train Loss: 0.271 | Train Acc: 88.56% | Val. Loss: 0.485 | Val. Acc: 77.93% |\n"
          ],
          "name": "stdout"
        },
        {
          "output_type": "stream",
          "text": [
            "\n",
            "Total time elapsed: 00:00:00\n",
            "0% [██████████████████████████████] 100% | ETA: 00:00:00\n",
            "Total time elapsed: 00:00:01\n",
            "0% [██████████████████████████████] 100% | ETA: 00:00:00"
          ],
          "name": "stderr"
        },
        {
          "output_type": "stream",
          "text": [
            "| Epoch: 60 | Train Loss: 0.265 | Train Acc: 88.88% | Val. Loss: 0.499 | Val. Acc: 77.49% |\n"
          ],
          "name": "stdout"
        },
        {
          "output_type": "stream",
          "text": [
            "\n",
            "Total time elapsed: 00:00:00\n",
            "0% [██████████████████████████████] 100% | ETA: 00:00:00\n",
            "Total time elapsed: 00:00:01\n",
            "0% [██████████████████████████████] 100% | ETA: 00:00:00"
          ],
          "name": "stderr"
        },
        {
          "output_type": "stream",
          "text": [
            "| Epoch: 61 | Train Loss: 0.263 | Train Acc: 89.00% | Val. Loss: 0.493 | Val. Acc: 78.05% |\n"
          ],
          "name": "stdout"
        },
        {
          "output_type": "stream",
          "text": [
            "\n",
            "Total time elapsed: 00:00:00\n",
            "0% [██████████████████████████████] 100% | ETA: 00:00:00\n",
            "Total time elapsed: 00:00:01\n",
            "0% [██████████████████████████████] 100% | ETA: 00:00:00"
          ],
          "name": "stderr"
        },
        {
          "output_type": "stream",
          "text": [
            "| Epoch: 62 | Train Loss: 0.265 | Train Acc: 88.95% | Val. Loss: 0.510 | Val. Acc: 76.62% |\n"
          ],
          "name": "stdout"
        },
        {
          "output_type": "stream",
          "text": [
            "\n",
            "Total time elapsed: 00:00:00\n",
            "0% [██████████████████████████████] 100% | ETA: 00:00:00\n",
            "Total time elapsed: 00:00:01\n",
            "0% [██████████████████████████████] 100% | ETA: 00:00:00"
          ],
          "name": "stderr"
        },
        {
          "output_type": "stream",
          "text": [
            "| Epoch: 63 | Train Loss: 0.260 | Train Acc: 88.99% | Val. Loss: 0.491 | Val. Acc: 77.49% |\n"
          ],
          "name": "stdout"
        },
        {
          "output_type": "stream",
          "text": [
            "\n",
            "Total time elapsed: 00:00:00\n",
            "0% [██████████████████████████████] 100% | ETA: 00:00:00\n",
            "Total time elapsed: 00:00:01\n",
            "0% [██████████████████████████████] 100% | ETA: 00:00:00"
          ],
          "name": "stderr"
        },
        {
          "output_type": "stream",
          "text": [
            "| Epoch: 64 | Train Loss: 0.247 | Train Acc: 89.90% | Val. Loss: 0.517 | Val. Acc: 78.10% |\n"
          ],
          "name": "stdout"
        },
        {
          "output_type": "stream",
          "text": [
            "\n",
            "Total time elapsed: 00:00:00\n",
            "0% [██████████████████████████████] 100% | ETA: 00:00:00\n",
            "Total time elapsed: 00:00:01\n",
            "0% [██████████████████████████████] 100% | ETA: 00:00:00"
          ],
          "name": "stderr"
        },
        {
          "output_type": "stream",
          "text": [
            "| Epoch: 65 | Train Loss: 0.245 | Train Acc: 89.46% | Val. Loss: 0.498 | Val. Acc: 78.26% |\n"
          ],
          "name": "stdout"
        },
        {
          "output_type": "stream",
          "text": [
            "\n",
            "Total time elapsed: 00:00:00\n",
            "0% [██████████████████████████████] 100% | ETA: 00:00:00\n",
            "Total time elapsed: 00:00:01\n",
            "0% [██████████████████████████████] 100% | ETA: 00:00:00"
          ],
          "name": "stderr"
        },
        {
          "output_type": "stream",
          "text": [
            "| Epoch: 66 | Train Loss: 0.255 | Train Acc: 88.78% | Val. Loss: 0.521 | Val. Acc: 78.07% |\n"
          ],
          "name": "stdout"
        },
        {
          "output_type": "stream",
          "text": [
            "\n",
            "Total time elapsed: 00:00:00\n",
            "0% [██████████████████████████████] 100% | ETA: 00:00:00\n",
            "Total time elapsed: 00:00:01\n",
            "0% [██████████████████████████████] 100% | ETA: 00:00:00"
          ],
          "name": "stderr"
        },
        {
          "output_type": "stream",
          "text": [
            "| Epoch: 67 | Train Loss: 0.250 | Train Acc: 89.40% | Val. Loss: 0.509 | Val. Acc: 77.40% |\n"
          ],
          "name": "stdout"
        },
        {
          "output_type": "stream",
          "text": [
            "\n",
            "Total time elapsed: 00:00:00\n",
            "0% [██████████████████████████████] 100% | ETA: 00:00:00\n",
            "Total time elapsed: 00:00:01\n",
            "0% [██████████████████████████████] 100% | ETA: 00:00:00"
          ],
          "name": "stderr"
        },
        {
          "output_type": "stream",
          "text": [
            "| Epoch: 68 | Train Loss: 0.245 | Train Acc: 89.67% | Val. Loss: 0.509 | Val. Acc: 78.47% |\n"
          ],
          "name": "stdout"
        },
        {
          "output_type": "stream",
          "text": [
            "\n",
            "Total time elapsed: 00:00:00\n",
            "0% [██████████████████████████████] 100% | ETA: 00:00:00\n",
            "Total time elapsed: 00:00:01\n",
            "0% [██████████████████████████████] 100% | ETA: 00:00:00"
          ],
          "name": "stderr"
        },
        {
          "output_type": "stream",
          "text": [
            "| Epoch: 69 | Train Loss: 0.233 | Train Acc: 90.33% | Val. Loss: 0.519 | Val. Acc: 77.37% |\n"
          ],
          "name": "stdout"
        },
        {
          "output_type": "stream",
          "text": [
            "\n",
            "Total time elapsed: 00:00:00\n",
            "0% [██████████████████████████████] 100% | ETA: 00:00:00\n",
            "Total time elapsed: 00:00:01\n",
            "0% [██████████████████████████████] 100% | ETA: 00:00:00"
          ],
          "name": "stderr"
        },
        {
          "output_type": "stream",
          "text": [
            "| Epoch: 70 | Train Loss: 0.237 | Train Acc: 90.07% | Val. Loss: 0.506 | Val. Acc: 77.86% |\n"
          ],
          "name": "stdout"
        },
        {
          "output_type": "stream",
          "text": [
            "\n",
            "Total time elapsed: 00:00:00\n",
            "0% [██████████████████████████████] 100% | ETA: 00:00:00\n",
            "Total time elapsed: 00:00:01\n",
            "0% [██████████████████████████████] 100% | ETA: 00:00:00"
          ],
          "name": "stderr"
        },
        {
          "output_type": "stream",
          "text": [
            "| Epoch: 71 | Train Loss: 0.230 | Train Acc: 90.35% | Val. Loss: 0.538 | Val. Acc: 76.88% |\n"
          ],
          "name": "stdout"
        },
        {
          "output_type": "stream",
          "text": [
            "\n",
            "Total time elapsed: 00:00:00\n",
            "0% [██████████████████████████████] 100% | ETA: 00:00:00\n",
            "Total time elapsed: 00:00:01\n",
            "0% [██████████████████████████████] 100% | ETA: 00:00:00"
          ],
          "name": "stderr"
        },
        {
          "output_type": "stream",
          "text": [
            "| Epoch: 72 | Train Loss: 0.231 | Train Acc: 90.24% | Val. Loss: 0.553 | Val. Acc: 77.26% |\n"
          ],
          "name": "stdout"
        },
        {
          "output_type": "stream",
          "text": [
            "\n",
            "Total time elapsed: 00:00:00\n",
            "0% [██████████████████████████████] 100% | ETA: 00:00:00\n",
            "Total time elapsed: 00:00:01\n",
            "0% [██████████████████████████████] 100% | ETA: 00:00:00"
          ],
          "name": "stderr"
        },
        {
          "output_type": "stream",
          "text": [
            "| Epoch: 73 | Train Loss: 0.226 | Train Acc: 90.65% | Val. Loss: 0.508 | Val. Acc: 78.30% |\n"
          ],
          "name": "stdout"
        },
        {
          "output_type": "stream",
          "text": [
            "\n",
            "Total time elapsed: 00:00:00\n",
            "0% [██████████████████████████████] 100% | ETA: 00:00:00\n",
            "Total time elapsed: 00:00:01\n",
            "0% [██████████████████████████████] 100% | ETA: 00:00:00"
          ],
          "name": "stderr"
        },
        {
          "output_type": "stream",
          "text": [
            "| Epoch: 74 | Train Loss: 0.219 | Train Acc: 90.83% | Val. Loss: 0.590 | Val. Acc: 76.44% |\n"
          ],
          "name": "stdout"
        },
        {
          "output_type": "stream",
          "text": [
            "\n",
            "Total time elapsed: 00:00:00\n",
            "0% [██████████████████████████████] 100% | ETA: 00:00:00\n",
            "Total time elapsed: 00:00:01\n",
            "0% [██████████████████████████████] 100% | ETA: 00:00:00"
          ],
          "name": "stderr"
        },
        {
          "output_type": "stream",
          "text": [
            "| Epoch: 75 | Train Loss: 0.220 | Train Acc: 90.68% | Val. Loss: 0.514 | Val. Acc: 78.28% |\n"
          ],
          "name": "stdout"
        },
        {
          "output_type": "stream",
          "text": [
            "\n",
            "Total time elapsed: 00:00:00\n",
            "0% [██████████████████████████████] 100% | ETA: 00:00:00\n",
            "Total time elapsed: 00:00:01\n",
            "0% [██████████████████████████████] 100% | ETA: 00:00:00"
          ],
          "name": "stderr"
        },
        {
          "output_type": "stream",
          "text": [
            "| Epoch: 76 | Train Loss: 0.207 | Train Acc: 91.67% | Val. Loss: 0.528 | Val. Acc: 77.58% |\n"
          ],
          "name": "stdout"
        },
        {
          "output_type": "stream",
          "text": [
            "\n",
            "Total time elapsed: 00:00:00\n",
            "0% [██████████████████████████████] 100% | ETA: 00:00:00\n",
            "Total time elapsed: 00:00:01\n",
            "0% [██████████████████████████████] 100% | ETA: 00:00:00"
          ],
          "name": "stderr"
        },
        {
          "output_type": "stream",
          "text": [
            "| Epoch: 77 | Train Loss: 0.203 | Train Acc: 91.62% | Val. Loss: 0.536 | Val. Acc: 76.88% |\n"
          ],
          "name": "stdout"
        },
        {
          "output_type": "stream",
          "text": [
            "\n",
            "Total time elapsed: 00:00:00\n",
            "0% [██████████████████████████████] 100% | ETA: 00:00:00\n",
            "Total time elapsed: 00:00:01\n",
            "0% [██████████████████████████████] 100% | ETA: 00:00:00"
          ],
          "name": "stderr"
        },
        {
          "output_type": "stream",
          "text": [
            "| Epoch: 78 | Train Loss: 0.217 | Train Acc: 91.34% | Val. Loss: 0.509 | Val. Acc: 77.96% |\n"
          ],
          "name": "stdout"
        },
        {
          "output_type": "stream",
          "text": [
            "\n",
            "Total time elapsed: 00:00:00\n",
            "0% [██████████████████████████████] 100% | ETA: 00:00:00\n",
            "Total time elapsed: 00:00:01\n",
            "0% [██████████████████████████████] 100% | ETA: 00:00:00"
          ],
          "name": "stderr"
        },
        {
          "output_type": "stream",
          "text": [
            "| Epoch: 79 | Train Loss: 0.204 | Train Acc: 91.48% | Val. Loss: 0.574 | Val. Acc: 77.72% |\n"
          ],
          "name": "stdout"
        },
        {
          "output_type": "stream",
          "text": [
            "\n",
            "Total time elapsed: 00:00:00\n",
            "0% [██████████████████████████████] 100% | ETA: 00:00:00\n",
            "Total time elapsed: 00:00:01\n",
            "0% [██████████████████████████████] 100% | ETA: 00:00:00"
          ],
          "name": "stderr"
        },
        {
          "output_type": "stream",
          "text": [
            "| Epoch: 80 | Train Loss: 0.197 | Train Acc: 91.85% | Val. Loss: 0.540 | Val. Acc: 77.91% |\n"
          ],
          "name": "stdout"
        },
        {
          "output_type": "stream",
          "text": [
            "\n",
            "Total time elapsed: 00:00:00\n",
            "0% [██████████████████████████████] 100% | ETA: 00:00:00\n",
            "Total time elapsed: 00:00:01\n",
            "0% [██████████████████████████████] 100% | ETA: 00:00:00"
          ],
          "name": "stderr"
        },
        {
          "output_type": "stream",
          "text": [
            "| Epoch: 81 | Train Loss: 0.199 | Train Acc: 92.25% | Val. Loss: 0.533 | Val. Acc: 78.10% |\n"
          ],
          "name": "stdout"
        },
        {
          "output_type": "stream",
          "text": [
            "\n",
            "Total time elapsed: 00:00:00\n",
            "0% [██████████████████████████████] 100% | ETA: 00:00:00\n",
            "Total time elapsed: 00:00:01\n",
            "0% [██████████████████████████████] 100% | ETA: 00:00:00"
          ],
          "name": "stderr"
        },
        {
          "output_type": "stream",
          "text": [
            "| Epoch: 82 | Train Loss: 0.202 | Train Acc: 91.87% | Val. Loss: 0.494 | Val. Acc: 78.30% |\n"
          ],
          "name": "stdout"
        },
        {
          "output_type": "stream",
          "text": [
            "\n",
            "Total time elapsed: 00:00:00\n",
            "0% [██████████████████████████████] 100% | ETA: 00:00:00\n",
            "Total time elapsed: 00:00:01\n",
            "0% [██████████████████████████████] 100% | ETA: 00:00:00"
          ],
          "name": "stderr"
        },
        {
          "output_type": "stream",
          "text": [
            "| Epoch: 83 | Train Loss: 0.190 | Train Acc: 92.56% | Val. Loss: 0.522 | Val. Acc: 78.86% |\n"
          ],
          "name": "stdout"
        },
        {
          "output_type": "stream",
          "text": [
            "\n",
            "Total time elapsed: 00:00:00\n",
            "0% [██████████████████████████████] 100% | ETA: 00:00:00\n",
            "Total time elapsed: 00:00:01\n",
            "0% [██████████████████████████████] 100% | ETA: 00:00:00"
          ],
          "name": "stderr"
        },
        {
          "output_type": "stream",
          "text": [
            "| Epoch: 84 | Train Loss: 0.195 | Train Acc: 92.16% | Val. Loss: 0.512 | Val. Acc: 78.54% |\n"
          ],
          "name": "stdout"
        },
        {
          "output_type": "stream",
          "text": [
            "\n",
            "Total time elapsed: 00:00:00\n",
            "0% [██████████████████████████████] 100% | ETA: 00:00:00\n",
            "Total time elapsed: 00:00:01\n",
            "0% [██████████████████████████████] 100% | ETA: 00:00:00"
          ],
          "name": "stderr"
        },
        {
          "output_type": "stream",
          "text": [
            "| Epoch: 85 | Train Loss: 0.182 | Train Acc: 92.84% | Val. Loss: 0.547 | Val. Acc: 78.49% |\n"
          ],
          "name": "stdout"
        },
        {
          "output_type": "stream",
          "text": [
            "\n",
            "Total time elapsed: 00:00:00\n",
            "0% [██████████████████████████████] 100% | ETA: 00:00:00\n",
            "Total time elapsed: 00:00:01\n",
            "0% [██████████████████████████████] 100% | ETA: 00:00:00"
          ],
          "name": "stderr"
        },
        {
          "output_type": "stream",
          "text": [
            "| Epoch: 86 | Train Loss: 0.186 | Train Acc: 92.48% | Val. Loss: 0.543 | Val. Acc: 78.42% |\n"
          ],
          "name": "stdout"
        },
        {
          "output_type": "stream",
          "text": [
            "\n",
            "Total time elapsed: 00:00:00\n",
            "0% [██████████████████████████████] 100% | ETA: 00:00:00\n",
            "Total time elapsed: 00:00:01\n",
            "0% [██████████████████████████████] 100% | ETA: 00:00:00"
          ],
          "name": "stderr"
        },
        {
          "output_type": "stream",
          "text": [
            "| Epoch: 87 | Train Loss: 0.181 | Train Acc: 92.54% | Val. Loss: 0.539 | Val. Acc: 77.91% |\n"
          ],
          "name": "stdout"
        },
        {
          "output_type": "stream",
          "text": [
            "\n",
            "Total time elapsed: 00:00:00\n",
            "0% [██████████████████████████████] 100% | ETA: 00:00:00\n",
            "Total time elapsed: 00:00:01\n",
            "0% [██████████████████████████████] 100% | ETA: 00:00:00"
          ],
          "name": "stderr"
        },
        {
          "output_type": "stream",
          "text": [
            "| Epoch: 88 | Train Loss: 0.178 | Train Acc: 92.76% | Val. Loss: 0.563 | Val. Acc: 77.26% |\n"
          ],
          "name": "stdout"
        },
        {
          "output_type": "stream",
          "text": [
            "\n",
            "Total time elapsed: 00:00:00\n",
            "0% [██████████████████████████████] 100% | ETA: 00:00:00\n",
            "Total time elapsed: 00:00:01\n",
            "0% [██████████████████████████████] 100% | ETA: 00:00:00"
          ],
          "name": "stderr"
        },
        {
          "output_type": "stream",
          "text": [
            "| Epoch: 89 | Train Loss: 0.173 | Train Acc: 93.03% | Val. Loss: 0.522 | Val. Acc: 77.96% |\n"
          ],
          "name": "stdout"
        },
        {
          "output_type": "stream",
          "text": [
            "\n",
            "Total time elapsed: 00:00:00\n",
            "0% [██████████████████████████████] 100% | ETA: 00:00:00\n",
            "Total time elapsed: 00:00:01\n",
            "0% [██████████████████████████████] 100% | ETA: 00:00:00"
          ],
          "name": "stderr"
        },
        {
          "output_type": "stream",
          "text": [
            "| Epoch: 90 | Train Loss: 0.175 | Train Acc: 92.84% | Val. Loss: 0.561 | Val. Acc: 77.91% |\n"
          ],
          "name": "stdout"
        },
        {
          "output_type": "stream",
          "text": [
            "\n",
            "Total time elapsed: 00:00:00\n",
            "0% [██████████████████████████████] 100% | ETA: 00:00:00\n",
            "Total time elapsed: 00:00:01\n",
            "0% [██████████████████████████████] 100% | ETA: 00:00:00"
          ],
          "name": "stderr"
        },
        {
          "output_type": "stream",
          "text": [
            "| Epoch: 91 | Train Loss: 0.169 | Train Acc: 92.98% | Val. Loss: 0.565 | Val. Acc: 77.77% |\n"
          ],
          "name": "stdout"
        },
        {
          "output_type": "stream",
          "text": [
            "\n",
            "Total time elapsed: 00:00:00\n",
            "0% [██████████████████████████████] 100% | ETA: 00:00:00\n",
            "Total time elapsed: 00:00:01\n",
            "0% [██████████████████████████████] 100% | ETA: 00:00:00"
          ],
          "name": "stderr"
        },
        {
          "output_type": "stream",
          "text": [
            "| Epoch: 92 | Train Loss: 0.168 | Train Acc: 93.34% | Val. Loss: 0.561 | Val. Acc: 78.77% |\n"
          ],
          "name": "stdout"
        },
        {
          "output_type": "stream",
          "text": [
            "\n",
            "Total time elapsed: 00:00:00\n",
            "0% [██████████████████████████████] 100% | ETA: 00:00:00\n",
            "Total time elapsed: 00:00:01\n",
            "0% [██████████████████████████████] 100% | ETA: 00:00:00"
          ],
          "name": "stderr"
        },
        {
          "output_type": "stream",
          "text": [
            "| Epoch: 93 | Train Loss: 0.161 | Train Acc: 93.72% | Val. Loss: 0.583 | Val. Acc: 76.84% |\n"
          ],
          "name": "stdout"
        },
        {
          "output_type": "stream",
          "text": [
            "\n",
            "Total time elapsed: 00:00:00\n",
            "0% [██████████████████████████████] 100% | ETA: 00:00:00\n",
            "Total time elapsed: 00:00:01\n",
            "0% [██████████████████████████████] 100% | ETA: 00:00:00"
          ],
          "name": "stderr"
        },
        {
          "output_type": "stream",
          "text": [
            "| Epoch: 94 | Train Loss: 0.159 | Train Acc: 93.64% | Val. Loss: 0.570 | Val. Acc: 78.10% |\n"
          ],
          "name": "stdout"
        },
        {
          "output_type": "stream",
          "text": [
            "\n",
            "Total time elapsed: 00:00:00\n",
            "0% [██████████████████████████████] 100% | ETA: 00:00:00\n",
            "Total time elapsed: 00:00:01\n",
            "0% [██████████████████████████████] 100% | ETA: 00:00:00"
          ],
          "name": "stderr"
        },
        {
          "output_type": "stream",
          "text": [
            "| Epoch: 95 | Train Loss: 0.160 | Train Acc: 93.80% | Val. Loss: 0.599 | Val. Acc: 77.63% |\n"
          ],
          "name": "stdout"
        },
        {
          "output_type": "stream",
          "text": [
            "\n",
            "Total time elapsed: 00:00:00\n",
            "0% [██████████████████████████████] 100% | ETA: 00:00:00\n",
            "Total time elapsed: 00:00:01\n",
            "0% [██████████████████████████████] 100% | ETA: 00:00:00"
          ],
          "name": "stderr"
        },
        {
          "output_type": "stream",
          "text": [
            "| Epoch: 96 | Train Loss: 0.154 | Train Acc: 93.82% | Val. Loss: 0.604 | Val. Acc: 78.28% |\n"
          ],
          "name": "stdout"
        },
        {
          "output_type": "stream",
          "text": [
            "\n",
            "Total time elapsed: 00:00:00\n",
            "0% [██████████████████████████████] 100% | ETA: 00:00:00\n",
            "Total time elapsed: 00:00:01\n",
            "0% [██████████████████████████████] 100% | ETA: 00:00:00"
          ],
          "name": "stderr"
        },
        {
          "output_type": "stream",
          "text": [
            "| Epoch: 97 | Train Loss: 0.159 | Train Acc: 93.71% | Val. Loss: 0.563 | Val. Acc: 77.86% |\n"
          ],
          "name": "stdout"
        },
        {
          "output_type": "stream",
          "text": [
            "\n",
            "Total time elapsed: 00:00:00\n",
            "0% [██████████████████████████████] 100% | ETA: 00:00:00\n",
            "Total time elapsed: 00:00:01\n",
            "0% [██████████████████████████████] 100% | ETA: 00:00:00"
          ],
          "name": "stderr"
        },
        {
          "output_type": "stream",
          "text": [
            "| Epoch: 98 | Train Loss: 0.153 | Train Acc: 94.09% | Val. Loss: 0.550 | Val. Acc: 78.33% |\n"
          ],
          "name": "stdout"
        },
        {
          "output_type": "stream",
          "text": [
            "\n",
            "Total time elapsed: 00:00:00\n",
            "0% [██████████████████████████████] 100% | ETA: 00:00:00\n",
            "Total time elapsed: 00:00:01\n",
            "0% [██████████████████████████████] 100% | ETA: 00:00:00"
          ],
          "name": "stderr"
        },
        {
          "output_type": "stream",
          "text": [
            "| Epoch: 99 | Train Loss: 0.144 | Train Acc: 94.23% | Val. Loss: 0.595 | Val. Acc: 78.70% |\n"
          ],
          "name": "stdout"
        },
        {
          "output_type": "stream",
          "text": [
            "\n",
            "Total time elapsed: 00:00:00\n",
            "0% [██████████████████████████████] 100% | ETA: 00:00:00\n",
            "Total time elapsed: 00:00:01\n",
            "0% [██████████████████████████████] 100% | ETA: 00:00:00"
          ],
          "name": "stderr"
        },
        {
          "output_type": "stream",
          "text": [
            "| Epoch: 100 | Train Loss: 0.152 | Train Acc: 94.00% | Val. Loss: 0.589 | Val. Acc: 78.42% |\n"
          ],
          "name": "stdout"
        },
        {
          "output_type": "stream",
          "text": [
            "\n",
            "Total time elapsed: 00:00:00\n"
          ],
          "name": "stderr"
        }
      ]
    },
    {
      "cell_type": "markdown",
      "metadata": {
        "id": "5aWVBo_35aKX"
      },
      "source": [
        "##GRU"
      ]
    },
    {
      "cell_type": "code",
      "metadata": {
        "id": "GkfZkFV65Zpw"
      },
      "source": [
        "class GRU(nn.Module):\n",
        "    def __init__(self, input_dim, embedding_dim, hidden_dim, output_dim, dropout):\n",
        "        super().__init__()\n",
        "        self.embedding = nn.Embedding(input_dim, embedding_dim)\n",
        "        self.rnn = nn.GRU(embedding_dim, hidden_dim, dropout=dropout)\n",
        "        self.fc = nn.Linear(hidden_dim, output_dim)\n",
        "\n",
        "        self.dropout = nn.Dropout(dropout)\n",
        "    \n",
        "    def forward(self, x):\n",
        "\n",
        "        #x = [sent len, batch size]\n",
        "        \n",
        "        embedded = self.dropout(self.embedding(x))\n",
        "        # print(\"here1\")\n",
        "        #embedded = [sent len, batch size, emb dim]\n",
        "        # print(x.shape)\n",
        "        # print(embedded.shape)\n",
        "        output, hidden = self.rnn(embedded)\n",
        "        # print(\"here2\")\n",
        "        #output = [sent len, batch size, hid dim]\n",
        "        #hidden = [1, batch size, hid dim]\n",
        "        \n",
        "        assert torch.equal(output[-1,:,:], hidden.squeeze(0))\n",
        "        # print(hidden)\n",
        "        # print(hidden[0].shape)\n",
        "        hidden = self.dropout(hidden)\n",
        "        # print(\"here3\")\n",
        "        out = self.fc(hidden)\n",
        "        # print(\"here4\")\n",
        "        return out"
      ],
      "execution_count": 25,
      "outputs": []
    },
    {
      "cell_type": "code",
      "metadata": {
        "id": "z8yiou0_5ZtT",
        "outputId": "52748baf-fac8-4b72-b716-53b99d30fdbd",
        "colab": {
          "base_uri": "https://localhost:8080/",
          "height": 71
        }
      },
      "source": [
        "INPUT_DIM = len(TEXT.vocab)\n",
        "EMBEDDING_DIM = 300\n",
        "HIDDEN_DIM = 300\n",
        "OUTPUT_DIM = 2\n",
        "DROPOUT = 0.4\n",
        "\n",
        "model_gru = GRU(INPUT_DIM, EMBEDDING_DIM, HIDDEN_DIM, OUTPUT_DIM, DROPOUT)"
      ],
      "execution_count": 26,
      "outputs": [
        {
          "output_type": "stream",
          "text": [
            "/usr/local/lib/python3.6/dist-packages/torch/nn/modules/rnn.py:60: UserWarning: dropout option adds dropout after all but last recurrent layer, so non-zero dropout expects num_layers greater than 1, but got dropout=0.4 and num_layers=1\n",
            "  \"num_layers={}\".format(dropout, num_layers))\n"
          ],
          "name": "stderr"
        }
      ]
    },
    {
      "cell_type": "code",
      "metadata": {
        "id": "BHtkSk285Zmx",
        "outputId": "b46bac79-527b-41de-8058-6ce39d1a157c",
        "colab": {
          "base_uri": "https://localhost:8080/",
          "height": 34
        }
      },
      "source": [
        "pretrained_embeddings = TEXT.vocab.vectors\n",
        "\n",
        "print(pretrained_embeddings.shape)\n",
        "\n",
        "model_gru.embedding.weight.data = pretrained_embeddings\n",
        "\n",
        "class_weights = torch.tensor([1.0, 1.0])\n",
        "\n",
        "optimizer = optim.Adam(model_gru.parameters(), lr=0.00003)\n",
        "\n",
        "criterion = nn.CrossEntropyLoss(weight=class_weights)\n",
        "\n",
        "model_gru = model_gru.to(device)\n",
        "criterion = criterion.to(device)"
      ],
      "execution_count": 27,
      "outputs": [
        {
          "output_type": "stream",
          "text": [
            "torch.Size([14410, 300])\n"
          ],
          "name": "stdout"
        }
      ]
    },
    {
      "cell_type": "code",
      "metadata": {
        "id": "WWk_Hzr_4UZ3",
        "outputId": "7264cc49-b034-411c-9cc0-d4d24fb00dcf",
        "colab": {
          "base_uri": "https://localhost:8080/",
          "height": 1000
        }
      },
      "source": [
        "N_EPOCHS = 100\n",
        "train_gru_loss = []\n",
        "train_gru_acc = []\n",
        "dev_gru_loss = []\n",
        "dev_gru_acc = []\n",
        "\n",
        "for epoch in range(N_EPOCHS):\n",
        "    train_loss, train_acc = train(model_gru, train_iterator, optimizer, criterion)\n",
        "    dev_loss, dev_acc = evaluate(model_gru, dev_iterator, criterion)\n",
        "    \n",
        "    train_gru_loss.append(train_loss)\n",
        "    train_gru_acc.append(train_acc)\n",
        "\n",
        "    dev_gru_loss.append(dev_loss)\n",
        "    dev_gru_acc.append(dev_acc)\n",
        "\n",
        "    print(f'| Epoch: {epoch+1:02} | Train Loss: {train_loss:.3f} | Train Acc: {train_acc*100:.2f}% | Val. Loss: {dev_loss:.3f} | Val. Acc: {dev_acc*100:.2f}% |')"
      ],
      "execution_count": 28,
      "outputs": [
        {
          "output_type": "stream",
          "text": [
            "0% [██████████████████████████████] 100% | ETA: 00:00:00\n",
            "Total time elapsed: 00:00:01\n",
            "0% [██████████████████████████████] 100% | ETA: 00:00:00"
          ],
          "name": "stderr"
        },
        {
          "output_type": "stream",
          "text": [
            "| Epoch: 01 | Train Loss: 0.694 | Train Acc: 49.18% | Val. Loss: 0.692 | Val. Acc: 51.61% |\n"
          ],
          "name": "stdout"
        },
        {
          "output_type": "stream",
          "text": [
            "\n",
            "Total time elapsed: 00:00:00\n",
            "0% [██████████████████████████████] 100% | ETA: 00:00:00\n",
            "Total time elapsed: 00:00:01\n",
            "0% [██████████████████████████████] 100% | ETA: 00:00:00"
          ],
          "name": "stderr"
        },
        {
          "output_type": "stream",
          "text": [
            "| Epoch: 02 | Train Loss: 0.693 | Train Acc: 51.13% | Val. Loss: 0.690 | Val. Acc: 54.81% |\n"
          ],
          "name": "stdout"
        },
        {
          "output_type": "stream",
          "text": [
            "\n",
            "Total time elapsed: 00:00:00\n",
            "0% [██████████████████████████████] 100% | ETA: 00:00:00\n",
            "Total time elapsed: 00:00:01\n",
            "0% [██████████████████████████████] 100% | ETA: 00:00:00"
          ],
          "name": "stderr"
        },
        {
          "output_type": "stream",
          "text": [
            "| Epoch: 03 | Train Loss: 0.692 | Train Acc: 50.95% | Val. Loss: 0.688 | Val. Acc: 55.12% |\n"
          ],
          "name": "stdout"
        },
        {
          "output_type": "stream",
          "text": [
            "\n",
            "Total time elapsed: 00:00:00\n",
            "0% [██████████████████████████████] 100% | ETA: 00:00:00\n",
            "Total time elapsed: 00:00:01\n",
            "0% [██████████████████████████████] 100% | ETA: 00:00:00"
          ],
          "name": "stderr"
        },
        {
          "output_type": "stream",
          "text": [
            "| Epoch: 04 | Train Loss: 0.692 | Train Acc: 51.35% | Val. Loss: 0.686 | Val. Acc: 57.61% |\n"
          ],
          "name": "stdout"
        },
        {
          "output_type": "stream",
          "text": [
            "\n",
            "Total time elapsed: 00:00:00\n",
            "0% [██████████████████████████████] 100% | ETA: 00:00:00\n",
            "Total time elapsed: 00:00:01\n",
            "0% [██████████████████████████████] 100% | ETA: 00:00:00"
          ],
          "name": "stderr"
        },
        {
          "output_type": "stream",
          "text": [
            "| Epoch: 05 | Train Loss: 0.690 | Train Acc: 51.39% | Val. Loss: 0.683 | Val. Acc: 58.44% |\n"
          ],
          "name": "stdout"
        },
        {
          "output_type": "stream",
          "text": [
            "\n",
            "Total time elapsed: 00:00:00\n",
            "0% [██████████████████████████████] 100% | ETA: 00:00:00\n",
            "Total time elapsed: 00:00:01\n",
            "0% [██████████████████████████████] 100% | ETA: 00:00:00"
          ],
          "name": "stderr"
        },
        {
          "output_type": "stream",
          "text": [
            "| Epoch: 06 | Train Loss: 0.690 | Train Acc: 52.76% | Val. Loss: 0.679 | Val. Acc: 60.26% |\n"
          ],
          "name": "stdout"
        },
        {
          "output_type": "stream",
          "text": [
            "\n",
            "Total time elapsed: 00:00:00\n",
            "0% [██████████████████████████████] 100% | ETA: 00:00:00\n",
            "Total time elapsed: 00:00:01\n",
            "0% [██████████████████████████████] 100% | ETA: 00:00:00"
          ],
          "name": "stderr"
        },
        {
          "output_type": "stream",
          "text": [
            "| Epoch: 07 | Train Loss: 0.688 | Train Acc: 52.96% | Val. Loss: 0.672 | Val. Acc: 61.57% |\n"
          ],
          "name": "stdout"
        },
        {
          "output_type": "stream",
          "text": [
            "\n",
            "Total time elapsed: 00:00:00\n",
            "0% [██████████████████████████████] 100% | ETA: 00:00:00\n",
            "Total time elapsed: 00:00:01\n",
            "0% [██████████████████████████████] 100% | ETA: 00:00:00"
          ],
          "name": "stderr"
        },
        {
          "output_type": "stream",
          "text": [
            "| Epoch: 08 | Train Loss: 0.680 | Train Acc: 56.61% | Val. Loss: 0.613 | Val. Acc: 66.95% |\n"
          ],
          "name": "stdout"
        },
        {
          "output_type": "stream",
          "text": [
            "\n",
            "Total time elapsed: 00:00:00\n",
            "0% [██████████████████████████████] 100% | ETA: 00:00:00\n",
            "Total time elapsed: 00:00:01\n",
            "0% [██████████████████████████████] 100% | ETA: 00:00:00"
          ],
          "name": "stderr"
        },
        {
          "output_type": "stream",
          "text": [
            "| Epoch: 09 | Train Loss: 0.567 | Train Acc: 71.58% | Val. Loss: 0.557 | Val. Acc: 71.42% |\n"
          ],
          "name": "stdout"
        },
        {
          "output_type": "stream",
          "text": [
            "\n",
            "Total time elapsed: 00:00:00\n",
            "0% [██████████████████████████████] 100% | ETA: 00:00:00\n",
            "Total time elapsed: 00:00:01\n",
            "0% [██████████████████████████████] 100% | ETA: 00:00:00"
          ],
          "name": "stderr"
        },
        {
          "output_type": "stream",
          "text": [
            "| Epoch: 10 | Train Loss: 0.514 | Train Acc: 74.35% | Val. Loss: 0.533 | Val. Acc: 72.93% |\n"
          ],
          "name": "stdout"
        },
        {
          "output_type": "stream",
          "text": [
            "\n",
            "Total time elapsed: 00:00:00\n",
            "0% [██████████████████████████████] 100% | ETA: 00:00:00\n",
            "Total time elapsed: 00:00:01\n",
            "0% [██████████████████████████████] 100% | ETA: 00:00:00"
          ],
          "name": "stderr"
        },
        {
          "output_type": "stream",
          "text": [
            "| Epoch: 11 | Train Loss: 0.495 | Train Acc: 75.73% | Val. Loss: 0.525 | Val. Acc: 73.96% |\n"
          ],
          "name": "stdout"
        },
        {
          "output_type": "stream",
          "text": [
            "\n",
            "Total time elapsed: 00:00:00\n",
            "0% [██████████████████████████████] 100% | ETA: 00:00:00\n",
            "Total time elapsed: 00:00:01\n",
            "0% [██████████████████████████████] 100% | ETA: 00:00:00"
          ],
          "name": "stderr"
        },
        {
          "output_type": "stream",
          "text": [
            "| Epoch: 12 | Train Loss: 0.480 | Train Acc: 77.17% | Val. Loss: 0.516 | Val. Acc: 74.38% |\n"
          ],
          "name": "stdout"
        },
        {
          "output_type": "stream",
          "text": [
            "\n",
            "Total time elapsed: 00:00:00\n",
            "0% [██████████████████████████████] 100% | ETA: 00:00:00\n",
            "Total time elapsed: 00:00:01\n",
            "0% [██████████████████████████████] 100% | ETA: 00:00:00"
          ],
          "name": "stderr"
        },
        {
          "output_type": "stream",
          "text": [
            "| Epoch: 13 | Train Loss: 0.468 | Train Acc: 77.80% | Val. Loss: 0.509 | Val. Acc: 75.07% |\n"
          ],
          "name": "stdout"
        },
        {
          "output_type": "stream",
          "text": [
            "\n",
            "Total time elapsed: 00:00:00\n",
            "0% [██████████████████████████████] 100% | ETA: 00:00:00\n",
            "Total time elapsed: 00:00:01\n",
            "0% [██████████████████████████████] 100% | ETA: 00:00:00"
          ],
          "name": "stderr"
        },
        {
          "output_type": "stream",
          "text": [
            "| Epoch: 14 | Train Loss: 0.458 | Train Acc: 78.11% | Val. Loss: 0.508 | Val. Acc: 75.21% |\n"
          ],
          "name": "stdout"
        },
        {
          "output_type": "stream",
          "text": [
            "\n",
            "Total time elapsed: 00:00:00\n",
            "0% [██████████████████████████████] 100% | ETA: 00:00:00\n",
            "Total time elapsed: 00:00:01\n",
            "0% [██████████████████████████████] 100% | ETA: 00:00:00"
          ],
          "name": "stderr"
        },
        {
          "output_type": "stream",
          "text": [
            "| Epoch: 15 | Train Loss: 0.448 | Train Acc: 79.12% | Val. Loss: 0.508 | Val. Acc: 74.61% |\n"
          ],
          "name": "stdout"
        },
        {
          "output_type": "stream",
          "text": [
            "\n",
            "Total time elapsed: 00:00:00\n",
            "0% [██████████████████████████████] 100% | ETA: 00:00:00\n",
            "Total time elapsed: 00:00:01\n",
            "0% [██████████████████████████████] 100% | ETA: 00:00:00"
          ],
          "name": "stderr"
        },
        {
          "output_type": "stream",
          "text": [
            "| Epoch: 16 | Train Loss: 0.440 | Train Acc: 79.50% | Val. Loss: 0.506 | Val. Acc: 74.89% |\n"
          ],
          "name": "stdout"
        },
        {
          "output_type": "stream",
          "text": [
            "\n",
            "Total time elapsed: 00:00:00\n",
            "0% [██████████████████████████████] 100% | ETA: 00:00:00\n",
            "Total time elapsed: 00:00:01\n",
            "0% [██████████████████████████████] 100% | ETA: 00:00:00"
          ],
          "name": "stderr"
        },
        {
          "output_type": "stream",
          "text": [
            "| Epoch: 17 | Train Loss: 0.424 | Train Acc: 80.19% | Val. Loss: 0.499 | Val. Acc: 76.22% |\n"
          ],
          "name": "stdout"
        },
        {
          "output_type": "stream",
          "text": [
            "\n",
            "Total time elapsed: 00:00:00\n",
            "0% [██████████████████████████████] 100% | ETA: 00:00:00\n",
            "Total time elapsed: 00:00:01\n",
            "0% [██████████████████████████████] 100% | ETA: 00:00:00"
          ],
          "name": "stderr"
        },
        {
          "output_type": "stream",
          "text": [
            "| Epoch: 18 | Train Loss: 0.431 | Train Acc: 80.13% | Val. Loss: 0.495 | Val. Acc: 76.22% |\n"
          ],
          "name": "stdout"
        },
        {
          "output_type": "stream",
          "text": [
            "\n",
            "Total time elapsed: 00:00:00\n",
            "0% [██████████████████████████████] 100% | ETA: 00:00:00\n",
            "Total time elapsed: 00:00:01\n",
            "0% [██████████████████████████████] 100% | ETA: 00:00:00"
          ],
          "name": "stderr"
        },
        {
          "output_type": "stream",
          "text": [
            "| Epoch: 19 | Train Loss: 0.417 | Train Acc: 80.71% | Val. Loss: 0.492 | Val. Acc: 76.04% |\n"
          ],
          "name": "stdout"
        },
        {
          "output_type": "stream",
          "text": [
            "\n",
            "Total time elapsed: 00:00:00\n",
            "0% [██████████████████████████████] 100% | ETA: 00:00:00\n",
            "Total time elapsed: 00:00:01\n",
            "0% [██████████████████████████████] 100% | ETA: 00:00:00"
          ],
          "name": "stderr"
        },
        {
          "output_type": "stream",
          "text": [
            "| Epoch: 20 | Train Loss: 0.406 | Train Acc: 80.95% | Val. Loss: 0.487 | Val. Acc: 76.32% |\n"
          ],
          "name": "stdout"
        },
        {
          "output_type": "stream",
          "text": [
            "\n",
            "Total time elapsed: 00:00:00\n",
            "0% [██████████████████████████████] 100% | ETA: 00:00:00\n",
            "Total time elapsed: 00:00:01\n",
            "0% [██████████████████████████████] 100% | ETA: 00:00:00"
          ],
          "name": "stderr"
        },
        {
          "output_type": "stream",
          "text": [
            "| Epoch: 21 | Train Loss: 0.403 | Train Acc: 81.95% | Val. Loss: 0.492 | Val. Acc: 76.36% |\n"
          ],
          "name": "stdout"
        },
        {
          "output_type": "stream",
          "text": [
            "\n",
            "Total time elapsed: 00:00:00\n",
            "0% [██████████████████████████████] 100% | ETA: 00:00:00\n",
            "Total time elapsed: 00:00:01\n",
            "0% [██████████████████████████████] 100% | ETA: 00:00:00"
          ],
          "name": "stderr"
        },
        {
          "output_type": "stream",
          "text": [
            "| Epoch: 22 | Train Loss: 0.403 | Train Acc: 81.64% | Val. Loss: 0.494 | Val. Acc: 76.05% |\n"
          ],
          "name": "stdout"
        },
        {
          "output_type": "stream",
          "text": [
            "\n",
            "Total time elapsed: 00:00:00\n",
            "0% [██████████████████████████████] 100% | ETA: 00:00:00\n",
            "Total time elapsed: 00:00:01\n",
            "0% [██████████████████████████████] 100% | ETA: 00:00:00"
          ],
          "name": "stderr"
        },
        {
          "output_type": "stream",
          "text": [
            "| Epoch: 23 | Train Loss: 0.399 | Train Acc: 81.44% | Val. Loss: 0.491 | Val. Acc: 76.78% |\n"
          ],
          "name": "stdout"
        },
        {
          "output_type": "stream",
          "text": [
            "\n",
            "Total time elapsed: 00:00:00\n",
            "0% [██████████████████████████████] 100% | ETA: 00:00:00\n",
            "Total time elapsed: 00:00:01\n",
            "0% [██████████████████████████████] 100% | ETA: 00:00:00"
          ],
          "name": "stderr"
        },
        {
          "output_type": "stream",
          "text": [
            "| Epoch: 24 | Train Loss: 0.382 | Train Acc: 82.41% | Val. Loss: 0.480 | Val. Acc: 77.14% |\n"
          ],
          "name": "stdout"
        },
        {
          "output_type": "stream",
          "text": [
            "\n",
            "Total time elapsed: 00:00:00\n",
            "0% [██████████████████████████████] 100% | ETA: 00:00:00\n",
            "Total time elapsed: 00:00:01\n",
            "0% [██████████████████████████████] 100% | ETA: 00:00:00"
          ],
          "name": "stderr"
        },
        {
          "output_type": "stream",
          "text": [
            "| Epoch: 25 | Train Loss: 0.381 | Train Acc: 83.07% | Val. Loss: 0.495 | Val. Acc: 76.74% |\n"
          ],
          "name": "stdout"
        },
        {
          "output_type": "stream",
          "text": [
            "\n",
            "Total time elapsed: 00:00:00\n",
            "0% [██████████████████████████████] 100% | ETA: 00:00:00\n",
            "Total time elapsed: 00:00:01\n",
            "0% [██████████████████████████████] 100% | ETA: 00:00:00"
          ],
          "name": "stderr"
        },
        {
          "output_type": "stream",
          "text": [
            "| Epoch: 26 | Train Loss: 0.369 | Train Acc: 83.85% | Val. Loss: 0.486 | Val. Acc: 77.01% |\n"
          ],
          "name": "stdout"
        },
        {
          "output_type": "stream",
          "text": [
            "\n",
            "Total time elapsed: 00:00:00\n",
            "0% [██████████████████████████████] 100% | ETA: 00:00:00\n",
            "Total time elapsed: 00:00:01\n",
            "0% [██████████████████████████████] 100% | ETA: 00:00:00"
          ],
          "name": "stderr"
        },
        {
          "output_type": "stream",
          "text": [
            "| Epoch: 27 | Train Loss: 0.363 | Train Acc: 84.05% | Val. Loss: 0.474 | Val. Acc: 76.88% |\n"
          ],
          "name": "stdout"
        },
        {
          "output_type": "stream",
          "text": [
            "\n",
            "Total time elapsed: 00:00:00\n",
            "0% [██████████████████████████████] 100% | ETA: 00:00:00\n",
            "Total time elapsed: 00:00:01\n",
            "0% [██████████████████████████████] 100% | ETA: 00:00:00"
          ],
          "name": "stderr"
        },
        {
          "output_type": "stream",
          "text": [
            "| Epoch: 28 | Train Loss: 0.366 | Train Acc: 83.66% | Val. Loss: 0.476 | Val. Acc: 77.46% |\n"
          ],
          "name": "stdout"
        },
        {
          "output_type": "stream",
          "text": [
            "\n",
            "Total time elapsed: 00:00:00\n",
            "0% [██████████████████████████████] 100% | ETA: 00:00:00\n",
            "Total time elapsed: 00:00:01\n",
            "0% [██████████████████████████████] 100% | ETA: 00:00:00"
          ],
          "name": "stderr"
        },
        {
          "output_type": "stream",
          "text": [
            "| Epoch: 29 | Train Loss: 0.357 | Train Acc: 84.01% | Val. Loss: 0.472 | Val. Acc: 77.07% |\n"
          ],
          "name": "stdout"
        },
        {
          "output_type": "stream",
          "text": [
            "\n",
            "Total time elapsed: 00:00:00\n",
            "0% [██████████████████████████████] 100% | ETA: 00:00:00\n",
            "Total time elapsed: 00:00:01\n",
            "0% [██████████████████████████████] 100% | ETA: 00:00:00"
          ],
          "name": "stderr"
        },
        {
          "output_type": "stream",
          "text": [
            "| Epoch: 30 | Train Loss: 0.353 | Train Acc: 84.29% | Val. Loss: 0.487 | Val. Acc: 77.25% |\n"
          ],
          "name": "stdout"
        },
        {
          "output_type": "stream",
          "text": [
            "\n",
            "Total time elapsed: 00:00:00\n",
            "0% [██████████████████████████████] 100% | ETA: 00:00:00\n",
            "Total time elapsed: 00:00:01\n",
            "0% [██████████████████████████████] 100% | ETA: 00:00:00"
          ],
          "name": "stderr"
        },
        {
          "output_type": "stream",
          "text": [
            "| Epoch: 31 | Train Loss: 0.353 | Train Acc: 84.75% | Val. Loss: 0.466 | Val. Acc: 77.48% |\n"
          ],
          "name": "stdout"
        },
        {
          "output_type": "stream",
          "text": [
            "\n",
            "Total time elapsed: 00:00:00\n",
            "0% [██████████████████████████████] 100% | ETA: 00:00:00\n",
            "Total time elapsed: 00:00:01\n",
            "0% [██████████████████████████████] 100% | ETA: 00:00:00"
          ],
          "name": "stderr"
        },
        {
          "output_type": "stream",
          "text": [
            "| Epoch: 32 | Train Loss: 0.343 | Train Acc: 84.67% | Val. Loss: 0.467 | Val. Acc: 77.81% |\n"
          ],
          "name": "stdout"
        },
        {
          "output_type": "stream",
          "text": [
            "\n",
            "Total time elapsed: 00:00:00\n",
            "0% [██████████████████████████████] 100% | ETA: 00:00:00\n",
            "Total time elapsed: 00:00:01\n",
            "0% [██████████████████████████████] 100% | ETA: 00:00:00"
          ],
          "name": "stderr"
        },
        {
          "output_type": "stream",
          "text": [
            "| Epoch: 33 | Train Loss: 0.334 | Train Acc: 85.32% | Val. Loss: 0.467 | Val. Acc: 77.81% |\n"
          ],
          "name": "stdout"
        },
        {
          "output_type": "stream",
          "text": [
            "\n",
            "Total time elapsed: 00:00:00\n",
            "0% [██████████████████████████████] 100% | ETA: 00:00:00\n",
            "Total time elapsed: 00:00:01\n",
            "0% [██████████████████████████████] 100% | ETA: 00:00:00"
          ],
          "name": "stderr"
        },
        {
          "output_type": "stream",
          "text": [
            "| Epoch: 34 | Train Loss: 0.328 | Train Acc: 85.82% | Val. Loss: 0.469 | Val. Acc: 77.43% |\n"
          ],
          "name": "stdout"
        },
        {
          "output_type": "stream",
          "text": [
            "\n",
            "Total time elapsed: 00:00:00\n",
            "0% [██████████████████████████████] 100% | ETA: 00:00:00\n",
            "Total time elapsed: 00:00:01\n",
            "0% [██████████████████████████████] 100% | ETA: 00:00:00"
          ],
          "name": "stderr"
        },
        {
          "output_type": "stream",
          "text": [
            "| Epoch: 35 | Train Loss: 0.319 | Train Acc: 86.37% | Val. Loss: 0.466 | Val. Acc: 77.67% |\n"
          ],
          "name": "stdout"
        },
        {
          "output_type": "stream",
          "text": [
            "\n",
            "Total time elapsed: 00:00:00\n",
            "0% [██████████████████████████████] 100% | ETA: 00:00:00\n",
            "Total time elapsed: 00:00:01\n",
            "0% [██████████████████████████████] 100% | ETA: 00:00:00"
          ],
          "name": "stderr"
        },
        {
          "output_type": "stream",
          "text": [
            "| Epoch: 36 | Train Loss: 0.321 | Train Acc: 85.90% | Val. Loss: 0.467 | Val. Acc: 77.65% |\n"
          ],
          "name": "stdout"
        },
        {
          "output_type": "stream",
          "text": [
            "\n",
            "Total time elapsed: 00:00:00\n",
            "0% [██████████████████████████████] 100% | ETA: 00:00:00\n",
            "Total time elapsed: 00:00:01\n",
            "0% [██████████████████████████████] 100% | ETA: 00:00:00"
          ],
          "name": "stderr"
        },
        {
          "output_type": "stream",
          "text": [
            "| Epoch: 37 | Train Loss: 0.308 | Train Acc: 86.97% | Val. Loss: 0.467 | Val. Acc: 78.02% |\n"
          ],
          "name": "stdout"
        },
        {
          "output_type": "stream",
          "text": [
            "\n",
            "Total time elapsed: 00:00:00\n",
            "0% [██████████████████████████████] 100% | ETA: 00:00:00\n",
            "Total time elapsed: 00:00:01\n",
            "0% [██████████████████████████████] 100% | ETA: 00:00:00"
          ],
          "name": "stderr"
        },
        {
          "output_type": "stream",
          "text": [
            "| Epoch: 38 | Train Loss: 0.299 | Train Acc: 87.00% | Val. Loss: 0.466 | Val. Acc: 77.98% |\n"
          ],
          "name": "stdout"
        },
        {
          "output_type": "stream",
          "text": [
            "\n",
            "Total time elapsed: 00:00:00\n",
            "0% [██████████████████████████████] 100% | ETA: 00:00:00\n",
            "Total time elapsed: 00:00:01\n",
            "0% [██████████████████████████████] 100% | ETA: 00:00:00"
          ],
          "name": "stderr"
        },
        {
          "output_type": "stream",
          "text": [
            "| Epoch: 39 | Train Loss: 0.305 | Train Acc: 86.67% | Val. Loss: 0.463 | Val. Acc: 78.16% |\n"
          ],
          "name": "stdout"
        },
        {
          "output_type": "stream",
          "text": [
            "\n",
            "Total time elapsed: 00:00:00\n",
            "0% [██████████████████████████████] 100% | ETA: 00:00:00\n",
            "Total time elapsed: 00:00:01\n",
            "0% [██████████████████████████████] 100% | ETA: 00:00:00"
          ],
          "name": "stderr"
        },
        {
          "output_type": "stream",
          "text": [
            "| Epoch: 40 | Train Loss: 0.297 | Train Acc: 87.31% | Val. Loss: 0.470 | Val. Acc: 78.07% |\n"
          ],
          "name": "stdout"
        },
        {
          "output_type": "stream",
          "text": [
            "\n",
            "Total time elapsed: 00:00:00\n",
            "0% [██████████████████████████████] 100% | ETA: 00:00:00\n",
            "Total time elapsed: 00:00:01\n",
            "0% [██████████████████████████████] 100% | ETA: 00:00:00"
          ],
          "name": "stderr"
        },
        {
          "output_type": "stream",
          "text": [
            "| Epoch: 41 | Train Loss: 0.297 | Train Acc: 86.95% | Val. Loss: 0.478 | Val. Acc: 77.98% |\n"
          ],
          "name": "stdout"
        },
        {
          "output_type": "stream",
          "text": [
            "\n",
            "Total time elapsed: 00:00:00\n",
            "0% [██████████████████████████████] 100% | ETA: 00:00:00\n",
            "Total time elapsed: 00:00:01\n",
            "0% [██████████████████████████████] 100% | ETA: 00:00:00"
          ],
          "name": "stderr"
        },
        {
          "output_type": "stream",
          "text": [
            "| Epoch: 42 | Train Loss: 0.278 | Train Acc: 88.33% | Val. Loss: 0.488 | Val. Acc: 77.81% |\n"
          ],
          "name": "stdout"
        },
        {
          "output_type": "stream",
          "text": [
            "\n",
            "Total time elapsed: 00:00:00\n",
            "0% [██████████████████████████████] 100% | ETA: 00:00:00\n",
            "Total time elapsed: 00:00:01\n",
            "0% [██████████████████████████████] 100% | ETA: 00:00:00"
          ],
          "name": "stderr"
        },
        {
          "output_type": "stream",
          "text": [
            "| Epoch: 43 | Train Loss: 0.274 | Train Acc: 88.42% | Val. Loss: 0.494 | Val. Acc: 77.57% |\n"
          ],
          "name": "stdout"
        },
        {
          "output_type": "stream",
          "text": [
            "\n",
            "Total time elapsed: 00:00:00\n",
            "0% [██████████████████████████████] 100% | ETA: 00:00:00\n",
            "Total time elapsed: 00:00:01\n",
            "0% [██████████████████████████████] 100% | ETA: 00:00:00"
          ],
          "name": "stderr"
        },
        {
          "output_type": "stream",
          "text": [
            "| Epoch: 44 | Train Loss: 0.266 | Train Acc: 88.90% | Val. Loss: 0.475 | Val. Acc: 78.38% |\n"
          ],
          "name": "stdout"
        },
        {
          "output_type": "stream",
          "text": [
            "\n",
            "Total time elapsed: 00:00:00\n",
            "0% [██████████████████████████████] 100% | ETA: 00:00:00\n",
            "Total time elapsed: 00:00:01\n",
            "0% [██████████████████████████████] 100% | ETA: 00:00:00"
          ],
          "name": "stderr"
        },
        {
          "output_type": "stream",
          "text": [
            "| Epoch: 45 | Train Loss: 0.262 | Train Acc: 89.01% | Val. Loss: 0.459 | Val. Acc: 78.94% |\n"
          ],
          "name": "stdout"
        },
        {
          "output_type": "stream",
          "text": [
            "\n",
            "Total time elapsed: 00:00:00\n",
            "0% [██████████████████████████████] 100% | ETA: 00:00:00\n",
            "Total time elapsed: 00:00:01\n",
            "0% [██████████████████████████████] 100% | ETA: 00:00:00"
          ],
          "name": "stderr"
        },
        {
          "output_type": "stream",
          "text": [
            "| Epoch: 46 | Train Loss: 0.265 | Train Acc: 88.92% | Val. Loss: 0.471 | Val. Acc: 78.68% |\n"
          ],
          "name": "stdout"
        },
        {
          "output_type": "stream",
          "text": [
            "\n",
            "Total time elapsed: 00:00:00\n",
            "0% [██████████████████████████████] 100% | ETA: 00:00:00\n",
            "Total time elapsed: 00:00:01\n",
            "0% [██████████████████████████████] 100% | ETA: 00:00:00"
          ],
          "name": "stderr"
        },
        {
          "output_type": "stream",
          "text": [
            "| Epoch: 47 | Train Loss: 0.265 | Train Acc: 88.70% | Val. Loss: 0.471 | Val. Acc: 78.52% |\n"
          ],
          "name": "stdout"
        },
        {
          "output_type": "stream",
          "text": [
            "\n",
            "Total time elapsed: 00:00:00\n",
            "0% [██████████████████████████████] 100% | ETA: 00:00:00\n",
            "Total time elapsed: 00:00:01\n",
            "0% [██████████████████████████████] 100% | ETA: 00:00:00"
          ],
          "name": "stderr"
        },
        {
          "output_type": "stream",
          "text": [
            "| Epoch: 48 | Train Loss: 0.253 | Train Acc: 89.46% | Val. Loss: 0.489 | Val. Acc: 78.21% |\n"
          ],
          "name": "stdout"
        },
        {
          "output_type": "stream",
          "text": [
            "\n",
            "Total time elapsed: 00:00:00\n",
            "0% [██████████████████████████████] 100% | ETA: 00:00:00\n",
            "Total time elapsed: 00:00:01\n",
            "0% [██████████████████████████████] 100% | ETA: 00:00:00"
          ],
          "name": "stderr"
        },
        {
          "output_type": "stream",
          "text": [
            "| Epoch: 49 | Train Loss: 0.250 | Train Acc: 89.64% | Val. Loss: 0.479 | Val. Acc: 78.26% |\n"
          ],
          "name": "stdout"
        },
        {
          "output_type": "stream",
          "text": [
            "\n",
            "Total time elapsed: 00:00:00\n",
            "0% [██████████████████████████████] 100% | ETA: 00:00:00\n",
            "Total time elapsed: 00:00:01\n",
            "0% [██████████████████████████████] 100% | ETA: 00:00:00"
          ],
          "name": "stderr"
        },
        {
          "output_type": "stream",
          "text": [
            "| Epoch: 50 | Train Loss: 0.258 | Train Acc: 89.58% | Val. Loss: 0.481 | Val. Acc: 78.58% |\n"
          ],
          "name": "stdout"
        },
        {
          "output_type": "stream",
          "text": [
            "\n",
            "Total time elapsed: 00:00:00\n",
            "0% [██████████████████████████████] 100% | ETA: 00:00:00\n",
            "Total time elapsed: 00:00:01\n",
            "0% [██████████████████████████████] 100% | ETA: 00:00:00"
          ],
          "name": "stderr"
        },
        {
          "output_type": "stream",
          "text": [
            "| Epoch: 51 | Train Loss: 0.240 | Train Acc: 90.04% | Val. Loss: 0.483 | Val. Acc: 77.93% |\n"
          ],
          "name": "stdout"
        },
        {
          "output_type": "stream",
          "text": [
            "\n",
            "Total time elapsed: 00:00:00\n",
            "0% [██████████████████████████████] 100% | ETA: 00:00:00\n",
            "Total time elapsed: 00:00:01\n",
            "0% [██████████████████████████████] 100% | ETA: 00:00:00"
          ],
          "name": "stderr"
        },
        {
          "output_type": "stream",
          "text": [
            "| Epoch: 52 | Train Loss: 0.247 | Train Acc: 89.81% | Val. Loss: 0.481 | Val. Acc: 78.82% |\n"
          ],
          "name": "stdout"
        },
        {
          "output_type": "stream",
          "text": [
            "\n",
            "Total time elapsed: 00:00:00\n",
            "0% [██████████████████████████████] 100% | ETA: 00:00:00\n",
            "Total time elapsed: 00:00:01\n",
            "0% [██████████████████████████████] 100% | ETA: 00:00:00"
          ],
          "name": "stderr"
        },
        {
          "output_type": "stream",
          "text": [
            "| Epoch: 53 | Train Loss: 0.231 | Train Acc: 90.35% | Val. Loss: 0.494 | Val. Acc: 78.07% |\n"
          ],
          "name": "stdout"
        },
        {
          "output_type": "stream",
          "text": [
            "\n",
            "Total time elapsed: 00:00:00\n",
            "0% [██████████████████████████████] 100% | ETA: 00:00:00\n",
            "Total time elapsed: 00:00:01\n",
            "0% [██████████████████████████████] 100% | ETA: 00:00:00"
          ],
          "name": "stderr"
        },
        {
          "output_type": "stream",
          "text": [
            "| Epoch: 54 | Train Loss: 0.231 | Train Acc: 90.54% | Val. Loss: 0.504 | Val. Acc: 78.28% |\n"
          ],
          "name": "stdout"
        },
        {
          "output_type": "stream",
          "text": [
            "\n",
            "Total time elapsed: 00:00:00\n",
            "0% [██████████████████████████████] 100% | ETA: 00:00:00\n",
            "Total time elapsed: 00:00:01\n",
            "0% [██████████████████████████████] 100% | ETA: 00:00:00"
          ],
          "name": "stderr"
        },
        {
          "output_type": "stream",
          "text": [
            "| Epoch: 55 | Train Loss: 0.221 | Train Acc: 91.04% | Val. Loss: 0.495 | Val. Acc: 78.30% |\n"
          ],
          "name": "stdout"
        },
        {
          "output_type": "stream",
          "text": [
            "\n",
            "Total time elapsed: 00:00:00\n",
            "0% [██████████████████████████████] 100% | ETA: 00:00:00\n",
            "Total time elapsed: 00:00:01\n",
            "0% [██████████████████████████████] 100% | ETA: 00:00:00"
          ],
          "name": "stderr"
        },
        {
          "output_type": "stream",
          "text": [
            "| Epoch: 56 | Train Loss: 0.223 | Train Acc: 90.77% | Val. Loss: 0.483 | Val. Acc: 78.40% |\n"
          ],
          "name": "stdout"
        },
        {
          "output_type": "stream",
          "text": [
            "\n",
            "Total time elapsed: 00:00:00\n",
            "0% [██████████████████████████████] 100% | ETA: 00:00:00\n",
            "Total time elapsed: 00:00:01\n",
            "0% [██████████████████████████████] 100% | ETA: 00:00:00"
          ],
          "name": "stderr"
        },
        {
          "output_type": "stream",
          "text": [
            "| Epoch: 57 | Train Loss: 0.213 | Train Acc: 91.35% | Val. Loss: 0.490 | Val. Acc: 78.77% |\n"
          ],
          "name": "stdout"
        },
        {
          "output_type": "stream",
          "text": [
            "\n",
            "Total time elapsed: 00:00:00\n",
            "0% [██████████████████████████████] 100% | ETA: 00:00:00\n",
            "Total time elapsed: 00:00:01\n",
            "0% [██████████████████████████████] 100% | ETA: 00:00:00"
          ],
          "name": "stderr"
        },
        {
          "output_type": "stream",
          "text": [
            "| Epoch: 58 | Train Loss: 0.211 | Train Acc: 91.48% | Val. Loss: 0.499 | Val. Acc: 78.84% |\n"
          ],
          "name": "stdout"
        },
        {
          "output_type": "stream",
          "text": [
            "\n",
            "Total time elapsed: 00:00:00\n",
            "0% [██████████████████████████████] 100% | ETA: 00:00:00\n",
            "Total time elapsed: 00:00:01\n",
            "0% [██████████████████████████████] 100% | ETA: 00:00:00"
          ],
          "name": "stderr"
        },
        {
          "output_type": "stream",
          "text": [
            "| Epoch: 59 | Train Loss: 0.212 | Train Acc: 91.56% | Val. Loss: 0.525 | Val. Acc: 77.42% |\n"
          ],
          "name": "stdout"
        },
        {
          "output_type": "stream",
          "text": [
            "\n",
            "Total time elapsed: 00:00:00\n",
            "0% [██████████████████████████████] 100% | ETA: 00:00:00\n",
            "Total time elapsed: 00:00:01\n",
            "0% [██████████████████████████████] 100% | ETA: 00:00:00"
          ],
          "name": "stderr"
        },
        {
          "output_type": "stream",
          "text": [
            "| Epoch: 60 | Train Loss: 0.212 | Train Acc: 91.21% | Val. Loss: 0.532 | Val. Acc: 77.58% |\n"
          ],
          "name": "stdout"
        },
        {
          "output_type": "stream",
          "text": [
            "\n",
            "Total time elapsed: 00:00:00\n",
            "0% [██████████████████████████████] 100% | ETA: 00:00:00\n",
            "Total time elapsed: 00:00:01\n",
            "0% [██████████████████████████████] 100% | ETA: 00:00:00"
          ],
          "name": "stderr"
        },
        {
          "output_type": "stream",
          "text": [
            "| Epoch: 61 | Train Loss: 0.197 | Train Acc: 91.96% | Val. Loss: 0.484 | Val. Acc: 77.88% |\n"
          ],
          "name": "stdout"
        },
        {
          "output_type": "stream",
          "text": [
            "\n",
            "Total time elapsed: 00:00:00\n",
            "0% [██████████████████████████████] 100% | ETA: 00:00:00\n",
            "Total time elapsed: 00:00:01\n",
            "0% [██████████████████████████████] 100% | ETA: 00:00:00"
          ],
          "name": "stderr"
        },
        {
          "output_type": "stream",
          "text": [
            "| Epoch: 62 | Train Loss: 0.197 | Train Acc: 92.04% | Val. Loss: 0.563 | Val. Acc: 77.34% |\n"
          ],
          "name": "stdout"
        },
        {
          "output_type": "stream",
          "text": [
            "\n",
            "Total time elapsed: 00:00:00\n",
            "0% [██████████████████████████████] 100% | ETA: 00:00:00\n",
            "Total time elapsed: 00:00:01\n",
            "0% [██████████████████████████████] 100% | ETA: 00:00:00"
          ],
          "name": "stderr"
        },
        {
          "output_type": "stream",
          "text": [
            "| Epoch: 63 | Train Loss: 0.194 | Train Acc: 92.26% | Val. Loss: 0.534 | Val. Acc: 78.33% |\n"
          ],
          "name": "stdout"
        },
        {
          "output_type": "stream",
          "text": [
            "\n",
            "Total time elapsed: 00:00:00\n",
            "0% [██████████████████████████████] 100% | ETA: 00:00:00\n",
            "Total time elapsed: 00:00:01\n",
            "0% [██████████████████████████████] 100% | ETA: 00:00:00"
          ],
          "name": "stderr"
        },
        {
          "output_type": "stream",
          "text": [
            "| Epoch: 64 | Train Loss: 0.187 | Train Acc: 92.32% | Val. Loss: 0.518 | Val. Acc: 77.74% |\n"
          ],
          "name": "stdout"
        },
        {
          "output_type": "stream",
          "text": [
            "\n",
            "Total time elapsed: 00:00:00\n",
            "0% [██████████████████████████████] 100% | ETA: 00:00:00\n",
            "Total time elapsed: 00:00:01\n",
            "0% [██████████████████████████████] 100% | ETA: 00:00:00"
          ],
          "name": "stderr"
        },
        {
          "output_type": "stream",
          "text": [
            "| Epoch: 65 | Train Loss: 0.179 | Train Acc: 92.81% | Val. Loss: 0.557 | Val. Acc: 77.77% |\n"
          ],
          "name": "stdout"
        },
        {
          "output_type": "stream",
          "text": [
            "\n",
            "Total time elapsed: 00:00:00\n",
            "0% [██████████████████████████████] 100% | ETA: 00:00:00\n",
            "Total time elapsed: 00:00:01\n",
            "0% [██████████████████████████████] 100% | ETA: 00:00:00"
          ],
          "name": "stderr"
        },
        {
          "output_type": "stream",
          "text": [
            "| Epoch: 66 | Train Loss: 0.186 | Train Acc: 92.22% | Val. Loss: 0.545 | Val. Acc: 78.24% |\n"
          ],
          "name": "stdout"
        },
        {
          "output_type": "stream",
          "text": [
            "\n",
            "Total time elapsed: 00:00:00\n",
            "0% [██████████████████████████████] 100% | ETA: 00:00:00\n",
            "Total time elapsed: 00:00:01\n",
            "0% [██████████████████████████████] 100% | ETA: 00:00:00"
          ],
          "name": "stderr"
        },
        {
          "output_type": "stream",
          "text": [
            "| Epoch: 67 | Train Loss: 0.179 | Train Acc: 92.57% | Val. Loss: 0.548 | Val. Acc: 77.68% |\n"
          ],
          "name": "stdout"
        },
        {
          "output_type": "stream",
          "text": [
            "\n",
            "Total time elapsed: 00:00:00\n",
            "0% [██████████████████████████████] 100% | ETA: 00:00:00\n",
            "Total time elapsed: 00:00:01\n",
            "0% [██████████████████████████████] 100% | ETA: 00:00:00"
          ],
          "name": "stderr"
        },
        {
          "output_type": "stream",
          "text": [
            "| Epoch: 68 | Train Loss: 0.187 | Train Acc: 92.35% | Val. Loss: 0.528 | Val. Acc: 78.47% |\n"
          ],
          "name": "stdout"
        },
        {
          "output_type": "stream",
          "text": [
            "\n",
            "Total time elapsed: 00:00:00\n",
            "0% [██████████████████████████████] 100% | ETA: 00:00:00\n",
            "Total time elapsed: 00:00:01\n",
            "0% [██████████████████████████████] 100% | ETA: 00:00:00"
          ],
          "name": "stderr"
        },
        {
          "output_type": "stream",
          "text": [
            "| Epoch: 69 | Train Loss: 0.167 | Train Acc: 93.29% | Val. Loss: 0.582 | Val. Acc: 77.91% |\n"
          ],
          "name": "stdout"
        },
        {
          "output_type": "stream",
          "text": [
            "\n",
            "Total time elapsed: 00:00:00\n",
            "0% [██████████████████████████████] 100% | ETA: 00:00:00\n",
            "Total time elapsed: 00:00:01\n",
            "0% [██████████████████████████████] 100% | ETA: 00:00:00"
          ],
          "name": "stderr"
        },
        {
          "output_type": "stream",
          "text": [
            "| Epoch: 70 | Train Loss: 0.178 | Train Acc: 92.76% | Val. Loss: 0.529 | Val. Acc: 78.59% |\n"
          ],
          "name": "stdout"
        },
        {
          "output_type": "stream",
          "text": [
            "\n",
            "Total time elapsed: 00:00:00\n",
            "0% [██████████████████████████████] 100% | ETA: 00:00:00\n",
            "Total time elapsed: 00:00:01\n",
            "0% [██████████████████████████████] 100% | ETA: 00:00:00"
          ],
          "name": "stderr"
        },
        {
          "output_type": "stream",
          "text": [
            "| Epoch: 71 | Train Loss: 0.167 | Train Acc: 93.62% | Val. Loss: 0.516 | Val. Acc: 77.60% |\n"
          ],
          "name": "stdout"
        },
        {
          "output_type": "stream",
          "text": [
            "\n",
            "Total time elapsed: 00:00:00\n",
            "0% [██████████████████████████████] 100% | ETA: 00:00:00\n",
            "Total time elapsed: 00:00:01\n",
            "0% [██████████████████████████████] 100% | ETA: 00:00:00"
          ],
          "name": "stderr"
        },
        {
          "output_type": "stream",
          "text": [
            "| Epoch: 72 | Train Loss: 0.166 | Train Acc: 93.39% | Val. Loss: 0.531 | Val. Acc: 77.84% |\n"
          ],
          "name": "stdout"
        },
        {
          "output_type": "stream",
          "text": [
            "\n",
            "Total time elapsed: 00:00:00\n",
            "0% [██████████████████████████████] 100% | ETA: 00:00:00\n",
            "Total time elapsed: 00:00:01\n",
            "0% [██████████████████████████████] 100% | ETA: 00:00:00"
          ],
          "name": "stderr"
        },
        {
          "output_type": "stream",
          "text": [
            "| Epoch: 73 | Train Loss: 0.160 | Train Acc: 93.60% | Val. Loss: 0.529 | Val. Acc: 78.16% |\n"
          ],
          "name": "stdout"
        },
        {
          "output_type": "stream",
          "text": [
            "\n",
            "Total time elapsed: 00:00:00\n",
            "0% [██████████████████████████████] 100% | ETA: 00:00:00\n",
            "Total time elapsed: 00:00:01\n",
            "0% [██████████████████████████████] 100% | ETA: 00:00:00"
          ],
          "name": "stderr"
        },
        {
          "output_type": "stream",
          "text": [
            "| Epoch: 74 | Train Loss: 0.152 | Train Acc: 93.92% | Val. Loss: 0.587 | Val. Acc: 78.10% |\n"
          ],
          "name": "stdout"
        },
        {
          "output_type": "stream",
          "text": [
            "\n",
            "Total time elapsed: 00:00:00\n",
            "0% [██████████████████████████████] 100% | ETA: 00:00:00\n",
            "Total time elapsed: 00:00:01\n",
            "0% [██████████████████████████████] 100% | ETA: 00:00:00"
          ],
          "name": "stderr"
        },
        {
          "output_type": "stream",
          "text": [
            "| Epoch: 75 | Train Loss: 0.154 | Train Acc: 93.95% | Val. Loss: 0.586 | Val. Acc: 77.96% |\n"
          ],
          "name": "stdout"
        },
        {
          "output_type": "stream",
          "text": [
            "\n",
            "Total time elapsed: 00:00:00\n",
            "0% [██████████████████████████████] 100% | ETA: 00:00:00\n",
            "Total time elapsed: 00:00:01\n",
            "0% [██████████████████████████████] 100% | ETA: 00:00:00"
          ],
          "name": "stderr"
        },
        {
          "output_type": "stream",
          "text": [
            "| Epoch: 76 | Train Loss: 0.156 | Train Acc: 93.39% | Val. Loss: 0.573 | Val. Acc: 78.14% |\n"
          ],
          "name": "stdout"
        },
        {
          "output_type": "stream",
          "text": [
            "\n",
            "Total time elapsed: 00:00:00\n",
            "0% [██████████████████████████████] 100% | ETA: 00:00:00\n",
            "Total time elapsed: 00:00:01\n",
            "0% [██████████████████████████████] 100% | ETA: 00:00:00"
          ],
          "name": "stderr"
        },
        {
          "output_type": "stream",
          "text": [
            "| Epoch: 77 | Train Loss: 0.150 | Train Acc: 94.08% | Val. Loss: 0.564 | Val. Acc: 78.26% |\n"
          ],
          "name": "stdout"
        },
        {
          "output_type": "stream",
          "text": [
            "\n",
            "Total time elapsed: 00:00:00\n",
            "0% [██████████████████████████████] 100% | ETA: 00:00:00\n",
            "Total time elapsed: 00:00:01\n",
            "0% [██████████████████████████████] 100% | ETA: 00:00:00"
          ],
          "name": "stderr"
        },
        {
          "output_type": "stream",
          "text": [
            "| Epoch: 78 | Train Loss: 0.143 | Train Acc: 94.22% | Val. Loss: 0.565 | Val. Acc: 78.16% |\n"
          ],
          "name": "stdout"
        },
        {
          "output_type": "stream",
          "text": [
            "\n",
            "Total time elapsed: 00:00:00\n",
            "0% [██████████████████████████████] 100% | ETA: 00:00:00\n",
            "Total time elapsed: 00:00:01\n",
            "0% [██████████████████████████████] 100% | ETA: 00:00:00"
          ],
          "name": "stderr"
        },
        {
          "output_type": "stream",
          "text": [
            "| Epoch: 79 | Train Loss: 0.150 | Train Acc: 93.95% | Val. Loss: 0.597 | Val. Acc: 77.86% |\n"
          ],
          "name": "stdout"
        },
        {
          "output_type": "stream",
          "text": [
            "\n",
            "Total time elapsed: 00:00:00\n",
            "0% [██████████████████████████████] 100% | ETA: 00:00:00\n",
            "Total time elapsed: 00:00:01\n",
            "0% [██████████████████████████████] 100% | ETA: 00:00:00"
          ],
          "name": "stderr"
        },
        {
          "output_type": "stream",
          "text": [
            "| Epoch: 80 | Train Loss: 0.146 | Train Acc: 94.32% | Val. Loss: 0.638 | Val. Acc: 77.14% |\n"
          ],
          "name": "stdout"
        },
        {
          "output_type": "stream",
          "text": [
            "\n",
            "Total time elapsed: 00:00:00\n",
            "0% [██████████████████████████████] 100% | ETA: 00:00:00\n",
            "Total time elapsed: 00:00:01\n",
            "0% [██████████████████████████████] 100% | ETA: 00:00:00"
          ],
          "name": "stderr"
        },
        {
          "output_type": "stream",
          "text": [
            "| Epoch: 81 | Train Loss: 0.128 | Train Acc: 94.98% | Val. Loss: 0.587 | Val. Acc: 78.05% |\n"
          ],
          "name": "stdout"
        },
        {
          "output_type": "stream",
          "text": [
            "\n",
            "Total time elapsed: 00:00:00\n",
            "0% [██████████████████████████████] 100% | ETA: 00:00:00\n",
            "Total time elapsed: 00:00:01\n",
            "0% [██████████████████████████████] 100% | ETA: 00:00:00"
          ],
          "name": "stderr"
        },
        {
          "output_type": "stream",
          "text": [
            "| Epoch: 82 | Train Loss: 0.132 | Train Acc: 94.73% | Val. Loss: 0.586 | Val. Acc: 77.70% |\n"
          ],
          "name": "stdout"
        },
        {
          "output_type": "stream",
          "text": [
            "\n",
            "Total time elapsed: 00:00:00\n",
            "0% [██████████████████████████████] 100% | ETA: 00:00:00\n",
            "Total time elapsed: 00:00:01\n",
            "0% [██████████████████████████████] 100% | ETA: 00:00:00"
          ],
          "name": "stderr"
        },
        {
          "output_type": "stream",
          "text": [
            "| Epoch: 83 | Train Loss: 0.138 | Train Acc: 94.54% | Val. Loss: 0.616 | Val. Acc: 77.86% |\n"
          ],
          "name": "stdout"
        },
        {
          "output_type": "stream",
          "text": [
            "\n",
            "Total time elapsed: 00:00:00\n",
            "0% [██████████████████████████████] 100% | ETA: 00:00:00\n",
            "Total time elapsed: 00:00:01\n",
            "0% [██████████████████████████████] 100% | ETA: 00:00:00"
          ],
          "name": "stderr"
        },
        {
          "output_type": "stream",
          "text": [
            "| Epoch: 84 | Train Loss: 0.130 | Train Acc: 94.79% | Val. Loss: 0.602 | Val. Acc: 77.56% |\n"
          ],
          "name": "stdout"
        },
        {
          "output_type": "stream",
          "text": [
            "\n",
            "Total time elapsed: 00:00:00\n",
            "0% [██████████████████████████████] 100% | ETA: 00:00:00\n",
            "Total time elapsed: 00:00:01\n",
            "0% [██████████████████████████████] 100% | ETA: 00:00:00"
          ],
          "name": "stderr"
        },
        {
          "output_type": "stream",
          "text": [
            "| Epoch: 85 | Train Loss: 0.135 | Train Acc: 94.73% | Val. Loss: 0.632 | Val. Acc: 76.67% |\n"
          ],
          "name": "stdout"
        },
        {
          "output_type": "stream",
          "text": [
            "\n",
            "Total time elapsed: 00:00:00\n",
            "0% [██████████████████████████████] 100% | ETA: 00:00:00\n",
            "Total time elapsed: 00:00:01\n",
            "0% [██████████████████████████████] 100% | ETA: 00:00:00"
          ],
          "name": "stderr"
        },
        {
          "output_type": "stream",
          "text": [
            "| Epoch: 86 | Train Loss: 0.126 | Train Acc: 95.04% | Val. Loss: 0.637 | Val. Acc: 76.98% |\n"
          ],
          "name": "stdout"
        },
        {
          "output_type": "stream",
          "text": [
            "\n",
            "Total time elapsed: 00:00:00\n",
            "0% [██████████████████████████████] 100% | ETA: 00:00:00\n",
            "Total time elapsed: 00:00:01\n",
            "0% [██████████████████████████████] 100% | ETA: 00:00:00"
          ],
          "name": "stderr"
        },
        {
          "output_type": "stream",
          "text": [
            "| Epoch: 87 | Train Loss: 0.123 | Train Acc: 95.01% | Val. Loss: 0.634 | Val. Acc: 77.86% |\n"
          ],
          "name": "stdout"
        },
        {
          "output_type": "stream",
          "text": [
            "\n",
            "Total time elapsed: 00:00:00\n",
            "0% [██████████████████████████████] 100% | ETA: 00:00:00\n",
            "Total time elapsed: 00:00:01\n",
            "0% [██████████████████████████████] 100% | ETA: 00:00:00"
          ],
          "name": "stderr"
        },
        {
          "output_type": "stream",
          "text": [
            "| Epoch: 88 | Train Loss: 0.121 | Train Acc: 95.08% | Val. Loss: 0.639 | Val. Acc: 77.14% |\n"
          ],
          "name": "stdout"
        },
        {
          "output_type": "stream",
          "text": [
            "\n",
            "Total time elapsed: 00:00:00\n",
            "0% [██████████████████████████████] 100% | ETA: 00:00:00\n",
            "Total time elapsed: 00:00:01\n",
            "0% [██████████████████████████████] 100% | ETA: 00:00:00"
          ],
          "name": "stderr"
        },
        {
          "output_type": "stream",
          "text": [
            "| Epoch: 89 | Train Loss: 0.119 | Train Acc: 95.54% | Val. Loss: 0.606 | Val. Acc: 77.04% |\n"
          ],
          "name": "stdout"
        },
        {
          "output_type": "stream",
          "text": [
            "\n",
            "Total time elapsed: 00:00:00\n",
            "0% [██████████████████████████████] 100% | ETA: 00:00:00\n",
            "Total time elapsed: 00:00:01\n",
            "0% [██████████████████████████████] 100% | ETA: 00:00:00"
          ],
          "name": "stderr"
        },
        {
          "output_type": "stream",
          "text": [
            "| Epoch: 90 | Train Loss: 0.119 | Train Acc: 95.59% | Val. Loss: 0.692 | Val. Acc: 77.07% |\n"
          ],
          "name": "stdout"
        },
        {
          "output_type": "stream",
          "text": [
            "\n",
            "Total time elapsed: 00:00:00\n",
            "0% [██████████████████████████████] 100% | ETA: 00:00:00\n",
            "Total time elapsed: 00:00:01\n",
            "0% [██████████████████████████████] 100% | ETA: 00:00:00"
          ],
          "name": "stderr"
        },
        {
          "output_type": "stream",
          "text": [
            "| Epoch: 91 | Train Loss: 0.110 | Train Acc: 95.69% | Val. Loss: 0.645 | Val. Acc: 77.54% |\n"
          ],
          "name": "stdout"
        },
        {
          "output_type": "stream",
          "text": [
            "\n",
            "Total time elapsed: 00:00:00\n",
            "0% [██████████████████████████████] 100% | ETA: 00:00:00\n",
            "Total time elapsed: 00:00:01\n",
            "0% [██████████████████████████████] 100% | ETA: 00:00:00"
          ],
          "name": "stderr"
        },
        {
          "output_type": "stream",
          "text": [
            "| Epoch: 92 | Train Loss: 0.109 | Train Acc: 95.51% | Val. Loss: 0.648 | Val. Acc: 77.82% |\n"
          ],
          "name": "stdout"
        },
        {
          "output_type": "stream",
          "text": [
            "\n",
            "Total time elapsed: 00:00:00\n",
            "0% [██████████████████████████████] 100% | ETA: 00:00:00\n",
            "Total time elapsed: 00:00:01\n",
            "0% [██████████████████████████████] 100% | ETA: 00:00:00"
          ],
          "name": "stderr"
        },
        {
          "output_type": "stream",
          "text": [
            "| Epoch: 93 | Train Loss: 0.105 | Train Acc: 96.14% | Val. Loss: 0.635 | Val. Acc: 77.82% |\n"
          ],
          "name": "stdout"
        },
        {
          "output_type": "stream",
          "text": [
            "\n",
            "Total time elapsed: 00:00:00\n",
            "0% [██████████████████████████████] 100% | ETA: 00:00:00\n",
            "Total time elapsed: 00:00:01\n",
            "0% [██████████████████████████████] 100% | ETA: 00:00:00"
          ],
          "name": "stderr"
        },
        {
          "output_type": "stream",
          "text": [
            "| Epoch: 94 | Train Loss: 0.105 | Train Acc: 95.92% | Val. Loss: 0.630 | Val. Acc: 77.28% |\n"
          ],
          "name": "stdout"
        },
        {
          "output_type": "stream",
          "text": [
            "\n",
            "Total time elapsed: 00:00:00\n",
            "0% [██████████████████████████████] 100% | ETA: 00:00:00\n",
            "Total time elapsed: 00:00:01\n",
            "0% [██████████████████████████████] 100% | ETA: 00:00:00"
          ],
          "name": "stderr"
        },
        {
          "output_type": "stream",
          "text": [
            "| Epoch: 95 | Train Loss: 0.106 | Train Acc: 95.64% | Val. Loss: 0.636 | Val. Acc: 77.99% |\n"
          ],
          "name": "stdout"
        },
        {
          "output_type": "stream",
          "text": [
            "\n",
            "Total time elapsed: 00:00:00\n",
            "0% [██████████████████████████████] 100% | ETA: 00:00:00\n",
            "Total time elapsed: 00:00:01\n",
            "0% [██████████████████████████████] 100% | ETA: 00:00:00"
          ],
          "name": "stderr"
        },
        {
          "output_type": "stream",
          "text": [
            "| Epoch: 96 | Train Loss: 0.111 | Train Acc: 95.86% | Val. Loss: 0.660 | Val. Acc: 77.63% |\n"
          ],
          "name": "stdout"
        },
        {
          "output_type": "stream",
          "text": [
            "\n",
            "Total time elapsed: 00:00:00\n",
            "0% [██████████████████████████████] 100% | ETA: 00:00:00\n",
            "Total time elapsed: 00:00:01\n",
            "0% [██████████████████████████████] 100% | ETA: 00:00:00"
          ],
          "name": "stderr"
        },
        {
          "output_type": "stream",
          "text": [
            "| Epoch: 97 | Train Loss: 0.106 | Train Acc: 95.66% | Val. Loss: 0.681 | Val. Acc: 77.96% |\n"
          ],
          "name": "stdout"
        },
        {
          "output_type": "stream",
          "text": [
            "\n",
            "Total time elapsed: 00:00:00\n",
            "0% [██████████████████████████████] 100% | ETA: 00:00:00\n",
            "Total time elapsed: 00:00:01\n",
            "0% [██████████████████████████████] 100% | ETA: 00:00:00"
          ],
          "name": "stderr"
        },
        {
          "output_type": "stream",
          "text": [
            "| Epoch: 98 | Train Loss: 0.097 | Train Acc: 96.26% | Val. Loss: 0.688 | Val. Acc: 77.00% |\n"
          ],
          "name": "stdout"
        },
        {
          "output_type": "stream",
          "text": [
            "\n",
            "Total time elapsed: 00:00:00\n",
            "0% [██████████████████████████████] 100% | ETA: 00:00:00\n",
            "Total time elapsed: 00:00:01\n",
            "0% [██████████████████████████████] 100% | ETA: 00:00:00"
          ],
          "name": "stderr"
        },
        {
          "output_type": "stream",
          "text": [
            "| Epoch: 99 | Train Loss: 0.098 | Train Acc: 96.01% | Val. Loss: 0.742 | Val. Acc: 76.23% |\n"
          ],
          "name": "stdout"
        },
        {
          "output_type": "stream",
          "text": [
            "\n",
            "Total time elapsed: 00:00:00\n",
            "0% [██████████████████████████████] 100% | ETA: 00:00:00\n",
            "Total time elapsed: 00:00:01\n",
            "0% [██████████████████████████████] 100% | ETA: 00:00:00"
          ],
          "name": "stderr"
        },
        {
          "output_type": "stream",
          "text": [
            "| Epoch: 100 | Train Loss: 0.099 | Train Acc: 96.28% | Val. Loss: 0.634 | Val. Acc: 77.56% |\n"
          ],
          "name": "stdout"
        },
        {
          "output_type": "stream",
          "text": [
            "\n",
            "Total time elapsed: 00:00:00\n"
          ],
          "name": "stderr"
        }
      ]
    },
    {
      "cell_type": "markdown",
      "metadata": {
        "id": "6o_2L3_nv3vU"
      },
      "source": [
        "##Evaluation"
      ]
    },
    {
      "cell_type": "code",
      "metadata": {
        "id": "otgKyuvf4Ucf"
      },
      "source": [
        "def predict_sentiment(model,sentence):\n",
        "    tokenized = [tok for tok in sentence.split()]\n",
        "    indexed = [TEXT.vocab.stoi[t] for t in tokenized]\n",
        "    tensor = torch.LongTensor(indexed).to(device)\n",
        "    \n",
        "    tensor = tensor.unsqueeze(1)\n",
        "#     print(tensor.shape)\n",
        "    prediction = model(tensor)\n",
        "#     print(prediction)\n",
        "    preds, ind= torch.max(F.softmax(prediction.squeeze(0), dim=-1), 1)\n",
        "#     print(preds)\n",
        "    return preds, ind"
      ],
      "execution_count": 38,
      "outputs": []
    },
    {
      "cell_type": "code",
      "metadata": {
        "id": "kMblu8jj4UXQ"
      },
      "source": [
        "# calculating classification report\n",
        "test_data = pd.read_csv(\"/content/drive/My Drive/D4NLP/Ass 1/torchtext_data/test.csv\")"
      ],
      "execution_count": 45,
      "outputs": []
    },
    {
      "cell_type": "code",
      "metadata": {
        "id": "KCev96VzvBwC",
        "outputId": "7d556f48-82a4-422f-dca2-658c4ecc6b00",
        "colab": {
          "base_uri": "https://localhost:8080/",
          "height": 170
        }
      },
      "source": [
        "pre = [predict_sentiment(model_rnn,k)[1].item() for k in test_data.reviews]\n",
        "print(classification_report(test_data.senti, pre))"
      ],
      "execution_count": 46,
      "outputs": [
        {
          "output_type": "stream",
          "text": [
            "              precision    recall  f1-score   support\n",
            "\n",
            "           0       0.70      0.74      0.72      1067\n",
            "           1       0.72      0.69      0.70      1067\n",
            "\n",
            "    accuracy                           0.71      2134\n",
            "   macro avg       0.71      0.71      0.71      2134\n",
            "weighted avg       0.71      0.71      0.71      2134\n",
            "\n"
          ],
          "name": "stdout"
        }
      ]
    },
    {
      "cell_type": "code",
      "metadata": {
        "id": "goSj9Vy2x1aE",
        "outputId": "36ff4485-3d25-4303-ce6d-a4ed063f256b",
        "colab": {
          "base_uri": "https://localhost:8080/",
          "height": 170
        }
      },
      "source": [
        "pre = [predict_sentiment(model_lstm,k)[1].item() for k in test_data.reviews]\n",
        "print(classification_report(test_data.senti, pre))"
      ],
      "execution_count": 47,
      "outputs": [
        {
          "output_type": "stream",
          "text": [
            "              precision    recall  f1-score   support\n",
            "\n",
            "           0       0.77      0.79      0.78      1067\n",
            "           1       0.78      0.77      0.78      1067\n",
            "\n",
            "    accuracy                           0.78      2134\n",
            "   macro avg       0.78      0.78      0.78      2134\n",
            "weighted avg       0.78      0.78      0.78      2134\n",
            "\n"
          ],
          "name": "stdout"
        }
      ]
    },
    {
      "cell_type": "code",
      "metadata": {
        "id": "2EbYfLklyC7S",
        "outputId": "e800f196-ee8f-434e-e325-5b4b91d601de",
        "colab": {
          "base_uri": "https://localhost:8080/",
          "height": 170
        }
      },
      "source": [
        "pre = [predict_sentiment(model_gru,k)[1].item() for k in test_data.reviews]\n",
        "print(classification_report(test_data.senti, pre))"
      ],
      "execution_count": 48,
      "outputs": [
        {
          "output_type": "stream",
          "text": [
            "              precision    recall  f1-score   support\n",
            "\n",
            "           0       0.79      0.74      0.76      1067\n",
            "           1       0.76      0.80      0.78      1067\n",
            "\n",
            "    accuracy                           0.77      2134\n",
            "   macro avg       0.77      0.77      0.77      2134\n",
            "weighted avg       0.77      0.77      0.77      2134\n",
            "\n"
          ],
          "name": "stdout"
        }
      ]
    },
    {
      "cell_type": "code",
      "metadata": {
        "id": "xTJy9lehwpK2"
      },
      "source": [
        ""
      ],
      "execution_count": null,
      "outputs": []
    },
    {
      "cell_type": "code",
      "metadata": {
        "id": "1nOehFt6wuoP"
      },
      "source": [
        ""
      ],
      "execution_count": null,
      "outputs": []
    },
    {
      "cell_type": "markdown",
      "metadata": {
        "id": "8m40dHt6e0Pk"
      },
      "source": [
        "# Custom"
      ]
    },
    {
      "cell_type": "code",
      "metadata": {
        "id": "DfFcs9EYw7Jz",
        "outputId": "0871f1c9-7ba0-465e-9d3b-85ea7e1ee84b",
        "colab": {
          "base_uri": "https://localhost:8080/",
          "height": 383
        }
      },
      "source": [
        "!wget -O \"/content/drive/My Drive/D4NLP/Ass 1/glove.zip\" http://nlp.stanford.edu/data/glove.6B.zip"
      ],
      "execution_count": null,
      "outputs": [
        {
          "output_type": "stream",
          "text": [
            "--2020-10-19 22:05:01--  http://nlp.stanford.edu/data/glove.6B.zip\n",
            "Resolving nlp.stanford.edu (nlp.stanford.edu)... 171.64.67.140\n",
            "Connecting to nlp.stanford.edu (nlp.stanford.edu)|171.64.67.140|:80... connected.\n",
            "HTTP request sent, awaiting response... 302 Found\n",
            "Location: https://nlp.stanford.edu/data/glove.6B.zip [following]\n",
            "--2020-10-19 22:05:01--  https://nlp.stanford.edu/data/glove.6B.zip\n",
            "Connecting to nlp.stanford.edu (nlp.stanford.edu)|171.64.67.140|:443... connected.\n",
            "HTTP request sent, awaiting response... 301 Moved Permanently\n",
            "Location: http://downloads.cs.stanford.edu/nlp/data/glove.6B.zip [following]\n",
            "--2020-10-19 22:05:02--  http://downloads.cs.stanford.edu/nlp/data/glove.6B.zip\n",
            "Resolving downloads.cs.stanford.edu (downloads.cs.stanford.edu)... 171.64.64.22\n",
            "Connecting to downloads.cs.stanford.edu (downloads.cs.stanford.edu)|171.64.64.22|:80... connected.\n",
            "HTTP request sent, awaiting response... 200 OK\n",
            "Length: 862182613 (822M) [application/zip]\n",
            "Saving to: ‘/content/drive/My Drive/D4NLP/Ass 1/glove.zip’\n",
            "\n",
            "/content/drive/My D 100%[===================>] 822.24M  2.18MB/s    in 6m 29s  \n",
            "\n",
            "2020-10-19 22:11:31 (2.11 MB/s) - ‘/content/drive/My Drive/D4NLP/Ass 1/glove.zip’ saved [862182613/862182613]\n",
            "\n"
          ],
          "name": "stdout"
        }
      ]
    },
    {
      "cell_type": "code",
      "metadata": {
        "id": "Kyq3nzfK7CO5",
        "outputId": "f65a671f-806c-4504-e54b-ded68c572b15",
        "colab": {
          "base_uri": "https://localhost:8080/",
          "height": 141
        }
      },
      "source": [
        "!unzip \"/content/drive/My Drive/D4NLP/Ass 1/glove.zip\" -d \"/content/drive/My Drive/D4NLP/Ass 1\""
      ],
      "execution_count": null,
      "outputs": [
        {
          "output_type": "stream",
          "text": [
            "Archive:  /content/drive/My Drive/D4NLP/Ass 1/glove.zip\n",
            "  inflating: /content/drive/My Drive/D4NLP/Ass 1/glove.6B.50d.txt  \n",
            "  inflating: /content/drive/My Drive/D4NLP/Ass 1/glove.6B.100d.txt  \n",
            "  inflating: /content/drive/My Drive/D4NLP/Ass 1/glove.6B.200d.txt   (warning) cannot set modif./access times\n",
            "          No such file or directory\n",
            "  inflating: /content/drive/My Drive/D4NLP/Ass 1/glove.6B.300d.txt  \n"
          ],
          "name": "stdout"
        }
      ]
    },
    {
      "cell_type": "code",
      "metadata": {
        "id": "gGqVAL0hvsO0"
      },
      "source": [
        "def loadGloveModel(gloveFile):\n",
        "    print(\"Loading Glove Model\")\n",
        "    f = open(gloveFile,'r',encoding=\"utf8\")\n",
        "    model = {}\n",
        "    for line in f:\n",
        "        try:\n",
        "            splitLine = line.split()\n",
        "            word = splitLine[0]\n",
        "            embedding = np.array([float(val) for val in splitLine[1:]])\n",
        "            model[word] = embedding\n",
        "        except:\n",
        "            print(word)\n",
        "    print(\"Done.\",len(model),\" words loaded!\")\n",
        "    return model"
      ],
      "execution_count": null,
      "outputs": []
    },
    {
      "cell_type": "code",
      "metadata": {
        "id": "EX0Ff4OLvu0N",
        "outputId": "3ac94998-96e8-43b0-b583-e109b907a6fd",
        "colab": {
          "base_uri": "https://localhost:8080/",
          "height": 52
        }
      },
      "source": [
        "glove_embeddings = loadGloveModel(\"/content/drive/My Drive/D4NLP/Ass 1/glove.6B.300d.txt\")"
      ],
      "execution_count": null,
      "outputs": [
        {
          "output_type": "stream",
          "text": [
            "Loading Glove Model\n",
            "Done. 400000  words loaded!\n"
          ],
          "name": "stdout"
        }
      ]
    },
    {
      "cell_type": "code",
      "metadata": {
        "id": "zr6gvliMvxEp"
      },
      "source": [
        "def create_embedding(data,sequence_length):\n",
        "  embedding_matrix = np.zeros((len(data),sequence_length,300))\n",
        "  for d in range(len(data)):\n",
        "    embed = []\n",
        "    tokens = data[d].split()\n",
        "    embed_length = min(sequence_length,len(tokens))\n",
        "    for token in range(embed_length):\n",
        "      try:\n",
        "        embedding_matrix[d][token] = glove_embeddings[tokens[token]]\n",
        "      except:\n",
        "        print(\"Word not in glove\",tokens[token])\n",
        "  return torch.from_numpy(embedding_matrix).float()"
      ],
      "execution_count": null,
      "outputs": []
    },
    {
      "cell_type": "code",
      "metadata": {
        "id": "j-PWIGSr8Dlb"
      },
      "source": [
        "sequence_length = 35\n",
        "\n",
        "embedding_x_train = create_embedding(x_train,sequence_length)\n",
        "embedding_x_dev = create_embedding(x_dev,sequence_length)\n",
        "embedding_x_test = create_embedding(x_test,sequence_length)"
      ],
      "execution_count": null,
      "outputs": []
    },
    {
      "cell_type": "code",
      "metadata": {
        "id": "ewe9u77HAbIQ",
        "outputId": "bd45ee3a-209b-4267-f85d-7491e732e2ad",
        "colab": {
          "base_uri": "https://localhost:8080/",
          "height": 69
        }
      },
      "source": [
        "print(embedding_x_train.shape)\n",
        "print(embedding_x_dev.shape)\n",
        "print(embedding_x_test.shape)"
      ],
      "execution_count": null,
      "outputs": [
        {
          "output_type": "stream",
          "text": [
            "torch.Size([6396, 35, 300])\n",
            "torch.Size([2132, 35, 300])\n",
            "torch.Size([2134, 35, 300])\n"
          ],
          "name": "stdout"
        }
      ]
    },
    {
      "cell_type": "code",
      "metadata": {
        "id": "F7Cn5ddWWg4x"
      },
      "source": [
        "y_train = torch.from_numpy(y_train)\n",
        "y_dev = torch.from_numpy(y_dev)\n",
        "y_test = torch.from_numpy(y_test)"
      ],
      "execution_count": null,
      "outputs": []
    },
    {
      "cell_type": "code",
      "metadata": {
        "id": "WDuIolAyqaUb"
      },
      "source": [
        "import sklearn\n",
        "\n",
        "embedding_x_train, y_train = sklearn.utils.shuffle(embedding_x_train, y_train)\n",
        "embedding_x_dev, y_dev = sklearn.utils.shuffle(embedding_x_dev, y_dev)"
      ],
      "execution_count": null,
      "outputs": []
    },
    {
      "cell_type": "code",
      "metadata": {
        "id": "8s3s3u4yY63u"
      },
      "source": [
        "embedding_x_train, y_train, embedding_x_dev, y_dev = embedding_x_train.cuda(), y_train.cuda(), embedding_x_dev.cuda(), y_dev.cuda()"
      ],
      "execution_count": null,
      "outputs": []
    },
    {
      "cell_type": "code",
      "metadata": {
        "id": "YF1crWC7CXmi"
      },
      "source": [
        "class RNN(nn.Module):\n",
        "    def __init__(self, embedding_dim, hidden_dim, output_dim, dropout):\n",
        "        super(RNN,self).__init__()\n",
        "        self.hidden_dim = hidden_dim\n",
        "        # self.embedding = nn.Embedding(input_dim, embedding_dim)\n",
        "        self.rnn = nn.RNN(embedding_dim, hidden_dim, dropout=dropout, nonlinearity='tanh')\n",
        "        self.fc = nn.Linear(hidden_dim, output_dim)\n",
        "        # self.fc = nn.Sequential(nn.Linear(hidden_dim, output_dim),nn.Sigmoid())\n",
        "\n",
        "        self.dropout = nn.Dropout(dropout)\n",
        "    \n",
        "    def __init__hidden(self, batch_size):\n",
        "        hidden = torch.zeros(1,batch_size, self.hidden_dim).cuda()\n",
        "        return Variable(hidden)\n",
        "\n",
        "    def forward(self, x):\n",
        "\n",
        "        #x = [sent len, batch size]\n",
        "        \n",
        "        # embedded = self.dropout(self.embedding(x))\n",
        "        \n",
        "        #embedded = [sent len, batch size, emb dim]\n",
        "        # print(\"x\",x.shape)\n",
        "        hidden = self.__init__hidden(len(x[0]))\n",
        "        output, hidden = self.rnn(x,hidden)\n",
        "        # print(\"out:\",output.shape)\n",
        "        # print(\"hidden:\",hidden.shape)\n",
        "        \n",
        "        #output = [sent len, batch size, hid dim]\n",
        "        #hidden = [1, batch size, hid dim]\n",
        "        \n",
        "        # assert torch.equal(output[-1,:,:], hidden.squeeze(0))\n",
        "\n",
        "        hidden = self.dropout(hidden)\n",
        "        # print(\"hidden2:\",hidden.shape)\n",
        "        out = self.fc(hidden)\n",
        "        # print(\"out2:\",out.shape)\n",
        "        return out"
      ],
      "execution_count": null,
      "outputs": []
    },
    {
      "cell_type": "code",
      "metadata": {
        "id": "fTeviJ8oSC2_",
        "outputId": "7bb09b5c-c5bb-43b8-e08b-6fa304da07e0",
        "colab": {
          "base_uri": "https://localhost:8080/",
          "height": 72
        }
      },
      "source": [
        "# INPUT_DIM = len(TEXT.vocab)\n",
        "EMBEDDING_DIM = 300\n",
        "HIDDEN_DIM = 300\n",
        "OUTPUT_DIM = 2\n",
        "DROPOUT = 0.4\n",
        "\n",
        "model = RNN(EMBEDDING_DIM, HIDDEN_DIM, OUTPUT_DIM, DROPOUT).cuda()"
      ],
      "execution_count": null,
      "outputs": [
        {
          "output_type": "stream",
          "text": [
            "/usr/local/lib/python3.6/dist-packages/torch/nn/modules/rnn.py:60: UserWarning: dropout option adds dropout after all but last recurrent layer, so non-zero dropout expects num_layers greater than 1, but got dropout=0.4 and num_layers=1\n",
            "  \"num_layers={}\".format(dropout, num_layers))\n"
          ],
          "name": "stderr"
        }
      ]
    },
    {
      "cell_type": "code",
      "metadata": {
        "id": "NeSyL5akSeA4"
      },
      "source": [
        "optimizer = optim.RMSprop(model.parameters(), lr=0.00003,weight_decay=0.001)"
      ],
      "execution_count": null,
      "outputs": []
    },
    {
      "cell_type": "code",
      "metadata": {
        "id": "VYAPOkrpmhtT"
      },
      "source": [
        "class_weights = torch.tensor([1.0, 1.0]).cuda()"
      ],
      "execution_count": null,
      "outputs": []
    },
    {
      "cell_type": "code",
      "metadata": {
        "id": "ZzuoPZVUSjwI"
      },
      "source": [
        "criterion = nn.CrossEntropyLoss(weight=class_weights).cuda()"
      ],
      "execution_count": null,
      "outputs": []
    },
    {
      "cell_type": "code",
      "metadata": {
        "id": "W1HilP8_T5PG"
      },
      "source": [
        "def binary_accuracy(preds, y):\n",
        "    \"\"\"\n",
        "    Returns accuracy per batch, i.e. if you get 8/10 right, this returns 0.8, NOT 8\n",
        "    \"\"\"\n",
        "\n",
        "    preds, ind= torch.max(F.softmax(preds, dim=-1), 1)\n",
        "    correct = (ind == y).float()\n",
        "    acc = correct.sum()/float(len(correct))\n",
        "    return acc"
      ],
      "execution_count": null,
      "outputs": []
    },
    {
      "cell_type": "code",
      "metadata": {
        "id": "nxQw8MNrVByy"
      },
      "source": [
        "def evaluate(model, x, y, batch_size, criterion):\n",
        "    \n",
        "    epoch_loss = 0\n",
        "    epoch_acc = 0\n",
        "\n",
        "    model.eval()\n",
        "    \n",
        "    with torch.no_grad():\n",
        "        bar = pyprind.ProgBar(int(len(x)/batch_size), bar_char='█')\n",
        "        # for batch in iterator:\n",
        "        for batch_index in tqdm(range(int(len(x)/batch_size))):\n",
        "            batch, target = x[batch_index*batch_size : batch_index*batch_size + batch_size], y[batch_index*batch_size : batch_index*batch_size + batch_size]\n",
        "            \n",
        "            batch = torch.reshape(batch, (sequence_length,batch_size, 300))\n",
        "\n",
        "            predictions = model(batch)\n",
        "            \n",
        "            loss = criterion(predictions[0], target)\n",
        "            \n",
        "            acc = binary_accuracy(predictions[0], target)\n",
        "\n",
        "            epoch_loss += loss.item()\n",
        "            epoch_acc += acc.item()\n",
        "            bar.update()\n",
        "    return epoch_loss / (int(len(x)/batch_size)), epoch_acc / (int(len(x)/batch_size))"
      ],
      "execution_count": null,
      "outputs": []
    },
    {
      "cell_type": "code",
      "metadata": {
        "id": "-rdTh_E9SzOc"
      },
      "source": [
        "def train(model, x, y, batch_size, optimizer, criterion):\n",
        "    \n",
        "    epoch_loss = 0\n",
        "    epoch_acc = 0\n",
        "\n",
        "    model.train()\n",
        "\n",
        "    bar = pyprind.ProgBar(int(len(x)/batch_size), bar_char='█')\n",
        "    for batch_index in range(int(len(x)/batch_size)):\n",
        "        optimizer.zero_grad()\n",
        "        # print(np.asarray([x[batch_index : batch_index + batch_size]]).shape)\n",
        "        batch, target = x[batch_index*batch_size : batch_index*batch_size + batch_size], y[batch_index*batch_size : batch_index*batch_size + batch_size]\n",
        "            \n",
        "        batch = torch.reshape(batch, (sequence_length,batch_size, 300))\n",
        "\n",
        "        batch, target = Variable(batch), Variable(target)\n",
        "\n",
        "        predictions = model(batch)\n",
        "        # print(len(target))\n",
        "        # print(\"naya\")\n",
        "        # print(predictions[0].shape)\n",
        "        # print(target.shape)\n",
        "#         print(predictions.shape, batch.Label.shape, model(batch.Text).shape)\n",
        "        # print(predictions)\n",
        "        # print(target)\n",
        "        loss = criterion(predictions[0], target)\n",
        "        \n",
        "        # print(loss.shape)\n",
        "        acc = binary_accuracy(predictions[0], target)\n",
        "        # print(acc)\n",
        "        loss.backward()\n",
        "        \n",
        "        optimizer.step()\n",
        "        \n",
        "        epoch_loss += loss.item()\n",
        "        epoch_acc += acc.item()\n",
        "        bar.update()\n",
        "    return epoch_loss / (int(len(x)/batch_size)), epoch_acc / (int(len(x)/batch_size))"
      ],
      "execution_count": null,
      "outputs": []
    },
    {
      "cell_type": "code",
      "metadata": {
        "id": "NChzcm7pS06p"
      },
      "source": [
        "N_EPOCHS = 200\n",
        "BATCH_SIZE = 64\n",
        "\n",
        "for epoch in range(N_EPOCHS):\n",
        "    train_loss, train_acc = train(model, embedding_x_train, y_train, BATCH_SIZE, optimizer, criterion)\n",
        "    valid_loss, valid_acc = evaluate(model, embedding_x_dev, y_dev, BATCH_SIZE, criterion)\n",
        "    \n",
        "    print(f'| Epoch: {epoch+1:02} | Train Loss: {train_loss:.3f} | Train Acc: {train_acc*100:.2f}% | Val. Loss: {valid_loss:.3f} | Val. Acc: {valid_acc*100:.2f}% |')"
      ],
      "execution_count": null,
      "outputs": []
    },
    {
      "cell_type": "code",
      "metadata": {
        "id": "uCzPPRDRm_mg"
      },
      "source": [
        "test_loss, test_acc = evaluate(model, embedding_x_test.cuda(), y_test.cuda(), BATCH_SIZE, criterion)\n",
        "\n",
        "print(f'| Test Loss: {test_loss:.3f} | Test Acc: {test_acc*100:.2f}% |')"
      ],
      "execution_count": null,
      "outputs": []
    },
    {
      "cell_type": "code",
      "metadata": {
        "id": "09jH4OfDniBd",
        "outputId": "8cff070f-5bd4-48a0-8c6c-9a5685531550",
        "colab": {
          "base_uri": "https://localhost:8080/",
          "height": 89
        }
      },
      "source": [
        "x_test[:2]"
      ],
      "execution_count": null,
      "outputs": [
        {
          "output_type": "execute_result",
          "data": {
            "text/plain": [
              "array([\"it 's clear that mehta simply wanted to update her beloved genre for the thousands of indians who fancy themselves too sophisticated for the cheese - laced spectacles that pack  'em in on the subcontinent .\",\n",
              "       'compassionately explores the seemingly irreconcilable situation between conservative christian parents and their estranged gay and lesbian children .'],\n",
              "      dtype='<U266')"
            ]
          },
          "metadata": {
            "tags": []
          },
          "execution_count": 43
        }
      ]
    },
    {
      "cell_type": "code",
      "metadata": {
        "id": "HTaTz8RYoAlD"
      },
      "source": [
        "test_ut = [\"the movie was horrible .\",\n",
        "           \"awesome movie . greatest ever built .\"]"
      ],
      "execution_count": null,
      "outputs": []
    },
    {
      "cell_type": "code",
      "metadata": {
        "id": "IAjJnNcUoI1W"
      },
      "source": [
        "embed_ut = create_embedding(test_ut,sequence_length)"
      ],
      "execution_count": null,
      "outputs": []
    },
    {
      "cell_type": "code",
      "metadata": {
        "id": "hGy-HKoaoW1I"
      },
      "source": [
        "out = model(embed_ut)"
      ],
      "execution_count": null,
      "outputs": []
    }
  ]
}