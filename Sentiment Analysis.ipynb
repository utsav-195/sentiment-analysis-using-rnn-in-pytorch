{
  "nbformat": 4,
  "nbformat_minor": 0,
  "metadata": {
    "colab": {
      "name": "dnlp-1.ipynb",
      "provenance": [],
      "collapsed_sections": [
        "KSIqTJw38Ho6",
        "8m40dHt6e0Pk"
      ],
      "toc_visible": true,
      "mount_file_id": "1tRjOCgL6kdfCCYQ3vBmNutR3lsxdqAuk",
      "authorship_tag": "ABX9TyNA0KA51XcN3o7IIlLFveam",
      "include_colab_link": true
    },
    "kernelspec": {
      "name": "python3",
      "display_name": "Python 3"
    },
    "accelerator": "GPU"
  },
  "cells": [
    {
      "cell_type": "markdown",
      "metadata": {
        "id": "view-in-github",
        "colab_type": "text"
      },
      "source": [
        "<a href=\"https://colab.research.google.com/github/utsav-195/sentiment-analysis-using-rnn-in-pytorch/blob/main/Sentiment%20Analysis.ipynb\" target=\"_parent\"><img src=\"https://colab.research.google.com/assets/colab-badge.svg\" alt=\"Open In Colab\"/></a>"
      ]
    },
    {
      "cell_type": "code",
      "metadata": {
        "id": "8_ta3q88thJD",
        "outputId": "addac408-028f-4752-d6bf-d8ed95135680",
        "colab": {
          "base_uri": "https://localhost:8080/",
          "height": 104
        }
      },
      "source": [
        "!tar -xvf \"/content/drive/My Drive/D4NLP/Ass 1/rt-polaritydata.tar.gz\" -C \"/content/drive/My Drive/D4NLP/Ass 1/\""
      ],
      "execution_count": null,
      "outputs": [
        {
          "output_type": "stream",
          "text": [
            "tar: option requires an argument -- 'f'\n",
            "Try 'tar --help' or 'tar --usage' for more information.\n",
            "rt-polaritydata.README.1.0.txt\n",
            "rt-polaritydata/rt-polarity.neg\n",
            "rt-polaritydata/rt-polarity.pos\n"
          ],
          "name": "stdout"
        }
      ]
    },
    {
      "cell_type": "code",
      "metadata": {
        "id": "XVH8R3ucMoE2",
        "outputId": "ce4b1e03-e656-4cb7-ef70-91f8b6b177c2",
        "colab": {
          "base_uri": "https://localhost:8080/",
          "height": 35
        }
      },
      "source": [
        "!pip install pyprind"
      ],
      "execution_count": 1,
      "outputs": [
        {
          "output_type": "stream",
          "text": [
            "Requirement already satisfied: pyprind in /usr/local/lib/python3.6/dist-packages (2.11.2)\n"
          ],
          "name": "stdout"
        }
      ]
    },
    {
      "cell_type": "code",
      "metadata": {
        "id": "ixJYP4i7vCsA"
      },
      "source": [
        "import numpy as np\n",
        "import pandas as pd\n",
        "import torch\n",
        "from torchtext import data\n",
        "import torch.nn as nn\n",
        "import torch.optim as optim\n",
        "import torch.nn.functional as F\n",
        "import torchtext\n",
        "from torch.autograd import Variable\n",
        "from tqdm import tqdm\n",
        "import nltk\n",
        "\n",
        "import random\n",
        "from sklearn.metrics import classification_report\n",
        "\n",
        "import pyprind\n",
        "%matplotlib inline  "
      ],
      "execution_count": 2,
      "outputs": []
    },
    {
      "cell_type": "markdown",
      "metadata": {
        "id": "KSIqTJw38Ho6"
      },
      "source": [
        "#Pre-Processing"
      ]
    },
    {
      "cell_type": "code",
      "metadata": {
        "id": "QtZQJpB7uXrR"
      },
      "source": [
        "data_pos = []\n",
        "with open(\"/content/drive/My Drive/D4NLP/Ass 1/rt-polaritydata/rt-polarity.pos\",encoding='latin-1') as f:\n",
        "  for line in f:\n",
        "    line  = line[:-2]\n",
        "    line = line.replace(\"'t\",\"t\")\n",
        "    line = line.replace(\"'\",\" '\")\n",
        "    line = line.replace(\"/\",\" / \")\n",
        "    line = line.replace(\"-\",\" - \")\n",
        "    line = line.replace(\"[\",\" [ \")\n",
        "    line = line.replace(\"]\",\" ] \")\n",
        "    data_pos.append(line)"
      ],
      "execution_count": null,
      "outputs": []
    },
    {
      "cell_type": "code",
      "metadata": {
        "id": "vD78OQDdvf3w",
        "outputId": "acd47ebc-edb1-486b-dc35-3204adc28455",
        "colab": {
          "base_uri": "https://localhost:8080/",
          "height": 69
        }
      },
      "source": [
        "# creating train, dev, test split positive reviews\n",
        "data_pos_train = data_pos[:int(len(data_pos)*0.6)]\n",
        "data_pos_dev = data_pos[int(len(data_pos)*0.6):int(len(data_pos)*0.8)]\n",
        "data_pos_test = data_pos[int(len(data_pos)*0.8):]\n",
        "\n",
        "data_pos_train = np.asarray(data_pos_train)\n",
        "data_pos_dev = np.asarray(data_pos_dev)\n",
        "data_pos_test = np.asarray(data_pos_test)\n",
        "\n",
        "y_pos_train = np.asarray([1]*len(data_pos_train))\n",
        "y_pos_dev = np.asarray([1]*len(data_pos_dev))\n",
        "y_pos_test = np.asarray([1]*len(data_pos_test))\n",
        "\n",
        "print(data_pos_train.shape)\n",
        "print(data_pos_dev.shape)\n",
        "print(data_pos_test.shape)"
      ],
      "execution_count": null,
      "outputs": [
        {
          "output_type": "stream",
          "text": [
            "(3198,)\n",
            "(1066,)\n",
            "(1067,)\n"
          ],
          "name": "stdout"
        }
      ]
    },
    {
      "cell_type": "code",
      "metadata": {
        "id": "N74uYVSovhBx"
      },
      "source": [
        "# reading the negative reviews\n",
        "data_neg = []\n",
        "with open(\"/content/drive/My Drive/D4NLP/Ass 1/rt-polaritydata/rt-polarity.neg\",encoding='latin-1') as f:\n",
        "    for line in f:\n",
        "        line  = line[:-2]\n",
        "        line = line.replace(\"'t\",\"t\")\n",
        "        line = line.replace(\"'\",\" '\")\n",
        "        line = line.replace(\"/\",\" / \")\n",
        "        line = line.replace(\"-\",\" - \")\n",
        "        line = line.replace(\"[\",\" [ \")\n",
        "        line = line.replace(\"]\",\" ] \")\n",
        "        data_neg.append(line)"
      ],
      "execution_count": null,
      "outputs": []
    },
    {
      "cell_type": "code",
      "metadata": {
        "id": "vudVC7eqvnLN",
        "outputId": "5a011556-280b-4b6d-e8c6-8b3c893e200e",
        "colab": {
          "base_uri": "https://localhost:8080/",
          "height": 69
        }
      },
      "source": [
        "# creating train, dev, test split for negative reviews\n",
        "data_neg_train = data_neg[:int(len(data_neg)*0.6)]\n",
        "data_neg_dev = data_neg[int(len(data_neg)*0.6):int(len(data_neg)*0.8)]\n",
        "data_neg_test = data_neg[int(len(data_neg)*0.8):]\n",
        "\n",
        "data_neg_train = np.asarray(data_neg_train)\n",
        "data_neg_dev = np.asarray(data_neg_dev)\n",
        "data_neg_test = np.asarray(data_neg_test)\n",
        "\n",
        "y_neg_train = np.asarray([0]*len(data_neg_train))\n",
        "y_neg_dev = np.asarray([0]*len(data_neg_dev))\n",
        "y_neg_test = np.asarray([0]*len(data_neg_test))\n",
        "\n",
        "print(data_neg_train.shape)\n",
        "print(data_neg_dev.shape)\n",
        "print(data_neg_test.shape)"
      ],
      "execution_count": null,
      "outputs": [
        {
          "output_type": "stream",
          "text": [
            "(3198,)\n",
            "(1066,)\n",
            "(1067,)\n"
          ],
          "name": "stdout"
        }
      ]
    },
    {
      "cell_type": "code",
      "metadata": {
        "id": "7SrkLS-Jvplu",
        "outputId": "2964d552-651f-4342-a5d8-385f02a0d59f",
        "colab": {
          "base_uri": "https://localhost:8080/",
          "height": 52
        }
      },
      "source": [
        "x_train = np.concatenate((data_pos_train, data_neg_train), axis=0)\n",
        "x_dev = np.concatenate((data_pos_dev, data_neg_dev), axis=0)\n",
        "x_test = np.concatenate((data_pos_test, data_neg_test), axis=0)\n",
        "\n",
        "y_train = np.concatenate((y_pos_train, y_neg_train), axis=0)\n",
        "y_dev = np.concatenate((y_pos_dev, y_neg_dev), axis=0)\n",
        "y_test = np.concatenate((y_pos_test, y_neg_test), axis=0)\n",
        "\n",
        "print(x_train.shape)\n",
        "print(y_train.shape)\n"
      ],
      "execution_count": null,
      "outputs": [
        {
          "output_type": "stream",
          "text": [
            "(6396,)\n",
            "(6396,)\n"
          ],
          "name": "stdout"
        }
      ]
    },
    {
      "cell_type": "code",
      "metadata": {
        "id": "8m_xvKmkVeer"
      },
      "source": [
        "def seq_length(data,label,seq_len):\n",
        "  data_seq_len = []\n",
        "  for i in range(len(data)):\n",
        "    data_seq_len.append(\" \".join(data[i].split()[:seq_len]))\n",
        "  df = pd.DataFrame()\n",
        "  df['reviews'] = data_seq_len\n",
        "  df['senti'] = label\n",
        "\n",
        "  df = df.sample(frac = 1).reset_index(drop=True)\n",
        "\n",
        "  return df"
      ],
      "execution_count": null,
      "outputs": []
    },
    {
      "cell_type": "code",
      "metadata": {
        "id": "SmV9W2OHXAho"
      },
      "source": [
        "seq_len = 35\n",
        "df_train = seq_length(x_train,y_train,seq_len)\n",
        "df_dev = seq_length(x_dev,y_dev,seq_len)\n",
        "df_test = seq_length(x_test,y_test,seq_len)"
      ],
      "execution_count": null,
      "outputs": []
    },
    {
      "cell_type": "code",
      "metadata": {
        "id": "858H7dNDIbJj"
      },
      "source": [
        "!mkdir \"/content/drive/My Drive/D4NLP/Ass 1/torchtext_data/\""
      ],
      "execution_count": null,
      "outputs": []
    },
    {
      "cell_type": "code",
      "metadata": {
        "id": "i4zu6A_fIhza"
      },
      "source": [
        "df_train.to_csv(\"/content/drive/My Drive/D4NLP/Ass 1/torchtext_data/train.csv\", index=False)\n",
        "df_test.to_csv(\"/content/drive/My Drive/D4NLP/Ass 1/torchtext_data/test.csv\", index=False)\n",
        "df_dev.to_csv(\"/content/drive/My Drive/D4NLP/Ass 1/torchtext_data/dev.csv\", index=False)"
      ],
      "execution_count": null,
      "outputs": []
    },
    {
      "cell_type": "markdown",
      "metadata": {
        "id": "NCy8mueue6pj"
      },
      "source": [
        "# Referenced"
      ]
    },
    {
      "cell_type": "markdown",
      "metadata": {
        "id": "wvFcCwMbsjQa"
      },
      "source": [
        "https://www.kaggle.com/kuldeep7688/simple-rnn-using-glove-embeddings-in-pytorch\n",
        "\n",
        "https://github.com/bentrevett/pytorch-sentiment-analysis"
      ]
    },
    {
      "cell_type": "code",
      "metadata": {
        "id": "eD_3ejnEJB8v"
      },
      "source": [
        "# sample tokenizer which you can use\n",
        "def tokenizer(text):\n",
        "    return [tok for tok in text.split()]"
      ],
      "execution_count": 3,
      "outputs": []
    },
    {
      "cell_type": "code",
      "metadata": {
        "id": "eU2IimrqJDU7"
      },
      "source": [
        "# tokenizer = \"spacy\" uses spacy's tokenizer\n",
        "TEXT = data.Field(sequential=True, tokenize=tokenizer)\n",
        "LABEL = data.LabelField(dtype=torch.long, sequential=False)"
      ],
      "execution_count": 4,
      "outputs": []
    },
    {
      "cell_type": "code",
      "metadata": {
        "id": "NAOrbbOmtI6O"
      },
      "source": [
        "device = torch.device('cuda' if torch.cuda.is_available() else 'cpu')"
      ],
      "execution_count": 5,
      "outputs": []
    },
    {
      "cell_type": "code",
      "metadata": {
        "id": "mBaeCRTqJDXx"
      },
      "source": [
        "# loading train, test and validation data \n",
        "train_data, dev_data, test_data = data.TabularDataset.splits(\n",
        "    path=\"/content/drive/My Drive/D4NLP/Ass 1/torchtext_data/\", train=\"train.csv\", \n",
        "    validation=\"dev.csv\", test=\"test.csv\",format=\"csv\", skip_header=True, \n",
        "    fields=[('reviews', TEXT), ('senti', LABEL)]\n",
        ")"
      ],
      "execution_count": 6,
      "outputs": []
    },
    {
      "cell_type": "code",
      "metadata": {
        "id": "eezpoEr5JDSD",
        "outputId": "682fd905-7ef6-49ab-a950-82b051f11619",
        "colab": {
          "base_uri": "https://localhost:8080/",
          "height": 69
        }
      },
      "source": [
        "print(f'Number of training examples: {len(train_data)}')\n",
        "print(f'Number of valid examples: {len(dev_data)}')\n",
        "print(f'Number of testing examples: {len(test_data)}')"
      ],
      "execution_count": 7,
      "outputs": [
        {
          "output_type": "stream",
          "text": [
            "Number of training examples: 6396\n",
            "Number of valid examples: 2132\n",
            "Number of testing examples: 2134\n"
          ],
          "name": "stdout"
        }
      ]
    },
    {
      "cell_type": "code",
      "metadata": {
        "id": "k9b4x4pYJgUj"
      },
      "source": [
        "TEXT.build_vocab(train_data, vectors=torchtext.vocab.Vectors(\"/content/drive/My Drive/D4NLP/Ass 1/glove.6B.300d.txt\"), \n",
        "                 max_size=40000, min_freq=1)\n",
        "LABEL.build_vocab(train_data)"
      ],
      "execution_count": 8,
      "outputs": []
    },
    {
      "cell_type": "code",
      "metadata": {
        "id": "MMcEDLu2JytQ",
        "outputId": "70cb6949-e276-486c-9a67-389801d5bf89",
        "colab": {
          "base_uri": "https://localhost:8080/",
          "height": 52
        }
      },
      "source": [
        "print(f\"Unique tokens in TEXT vocabulary: {len(TEXT.vocab)}\")\n",
        "print(f\"Unique tokens in LABEL vocabulary: {len(LABEL.vocab)}\")"
      ],
      "execution_count": 9,
      "outputs": [
        {
          "output_type": "stream",
          "text": [
            "Unique tokens in TEXT vocabulary: 14410\n",
            "Unique tokens in LABEL vocabulary: 2\n"
          ],
          "name": "stdout"
        }
      ]
    },
    {
      "cell_type": "code",
      "metadata": {
        "id": "g2mGk7lpJyqR"
      },
      "source": [
        "BATCH_SIZE = 32\n",
        "\n",
        "device = torch.device('cuda' if torch.cuda.is_available() else 'cpu')\n",
        "\n",
        "# keep in mind the sort_key option \n",
        "train_iterator, dev_iterator, test_iterator = data.BucketIterator.splits(\n",
        "    (train_data, dev_data, test_data), sort_key=lambda x: len(x.reviews),\n",
        "    batch_size=BATCH_SIZE,\n",
        "    device=device)"
      ],
      "execution_count": 10,
      "outputs": []
    },
    {
      "cell_type": "code",
      "metadata": {
        "id": "2376H4OHYfOx",
        "outputId": "52a592d5-504b-47f6-9dae-f308fba528fd",
        "colab": {
          "base_uri": "https://localhost:8080/",
          "height": 86
        }
      },
      "source": [
        "for i in train_iterator:\n",
        "  print(i)\n",
        "  break"
      ],
      "execution_count": 11,
      "outputs": [
        {
          "output_type": "stream",
          "text": [
            "\n",
            "[torchtext.data.batch.Batch of size 32]\n",
            "\t[.reviews]:[torch.cuda.LongTensor of size 35x32 (GPU 0)]\n",
            "\t[.senti]:[torch.cuda.LongTensor of size 32 (GPU 0)]\n"
          ],
          "name": "stdout"
        }
      ]
    },
    {
      "cell_type": "markdown",
      "metadata": {
        "id": "NCq28YbQ3Iou"
      },
      "source": [
        "## RNN"
      ]
    },
    {
      "cell_type": "code",
      "metadata": {
        "id": "PZBlByCqKJQL"
      },
      "source": [
        "class RNN(nn.Module):\n",
        "    def __init__(self, input_dim, embedding_dim, hidden_dim, output_dim, dropout):\n",
        "        super().__init__()\n",
        "        self.hidden_dim = hidden_dim\n",
        "        self.embedding = nn.Embedding(input_dim, embedding_dim)\n",
        "        self.rnn = nn.RNN(embedding_dim, hidden_dim, dropout=dropout)\n",
        "        self.fc = nn.Linear(hidden_dim, output_dim)\n",
        "\n",
        "        self.dropout = nn.Dropout(dropout)\n",
        "    \n",
        "    def forward(self, x):\n",
        "\n",
        "        #x = [sent len, batch size]\n",
        "        \n",
        "        embedded = self.dropout(self.embedding(x))\n",
        "        \n",
        "        #embedded = [sent len, batch size, emb dim]\n",
        "        # print(x.shape)\n",
        "        # print(embedded.shape)\n",
        "        #pack sequence\n",
        "        # packed_embedded = nn.utils.rnn.pack_padded_sequence(embedded, text_lengths)\n",
        "\n",
        "        output, hidden = self.rnn(embedded)\n",
        "        \n",
        "        #output = [sent len, batch size, hid dim]\n",
        "        #hidden = [1, batch size, hid dim]\n",
        "        \n",
        "        assert torch.equal(output[-1,:,:], hidden.squeeze(0))\n",
        "\n",
        "        hidden = self.dropout(hidden)\n",
        "        \n",
        "        out = self.fc(hidden)\n",
        "        return out"
      ],
      "execution_count": 12,
      "outputs": []
    },
    {
      "cell_type": "code",
      "metadata": {
        "id": "Teif48R0T006",
        "outputId": "1a421d45-06b9-431a-b2f3-9b4b972f9c9d",
        "colab": {
          "base_uri": "https://localhost:8080/",
          "height": 72
        }
      },
      "source": [
        "INPUT_DIM = len(TEXT.vocab)\n",
        "EMBEDDING_DIM = 300\n",
        "HIDDEN_DIM = 300\n",
        "OUTPUT_DIM = 2\n",
        "DROPOUT = 0.5\n",
        "PAD_IDX = TEXT.vocab.stoi[TEXT.pad_token]\n",
        "\n",
        "model_rnn = RNN(INPUT_DIM, \n",
        "            EMBEDDING_DIM, \n",
        "            HIDDEN_DIM, \n",
        "            OUTPUT_DIM, \n",
        "            DROPOUT)"
      ],
      "execution_count": 13,
      "outputs": [
        {
          "output_type": "stream",
          "text": [
            "/usr/local/lib/python3.6/dist-packages/torch/nn/modules/rnn.py:60: UserWarning: dropout option adds dropout after all but last recurrent layer, so non-zero dropout expects num_layers greater than 1, but got dropout=0.5 and num_layers=1\n",
            "  \"num_layers={}\".format(dropout, num_layers))\n"
          ],
          "name": "stderr"
        }
      ]
    },
    {
      "cell_type": "code",
      "metadata": {
        "id": "NKlFFWTzKDna",
        "outputId": "1c724833-8b0b-4625-bc37-6f9a33c9ee73",
        "colab": {
          "base_uri": "https://localhost:8080/",
          "height": 35
        }
      },
      "source": [
        "pretrained_embeddings = TEXT.vocab.vectors\n",
        "\n",
        "print(pretrained_embeddings.shape)\n",
        "\n",
        "model_rnn.embedding.weight.data = pretrained_embeddings.cuda()\n",
        "\n",
        "class_weights = torch.tensor([1.0, 1.0]).cuda()\n",
        "\n",
        "optimizer = optim.Adam(model_rnn.parameters(), lr=0.00003)\n",
        "\n",
        "criterion = nn.CrossEntropyLoss(weight=class_weights)\n",
        "\n",
        "model_rnn = model_rnn.to(device)\n",
        "criterion = criterion.to(device)"
      ],
      "execution_count": 16,
      "outputs": [
        {
          "output_type": "stream",
          "text": [
            "torch.Size([14410, 300])\n"
          ],
          "name": "stdout"
        }
      ]
    },
    {
      "cell_type": "code",
      "metadata": {
        "id": "VqKYCvNyL-1n"
      },
      "source": [
        "def binary_accuracy(preds, y):\n",
        "    \"\"\"\n",
        "    Returns accuracy per batch, i.e. if you get 8/10 right, this returns 0.8, NOT 8\n",
        "    \"\"\"\n",
        "\n",
        "    preds, ind= torch.max(F.softmax(preds, dim=-1), 1)\n",
        "    correct = (ind == y).float()\n",
        "    acc = correct.sum()/float(len(correct))\n",
        "\n",
        "    return acc"
      ],
      "execution_count": 17,
      "outputs": []
    },
    {
      "cell_type": "code",
      "metadata": {
        "id": "ERpod4UZMKVn"
      },
      "source": [
        "def train(model, iterator, optimizer, criterion):\n",
        "    \n",
        "    epoch_loss = 0\n",
        "    epoch_acc = 0\n",
        "    \n",
        "    model.train()\n",
        "    bar = pyprind.ProgBar(len(iterator), bar_char='█')\n",
        "    for batch in iterator:\n",
        "        \n",
        "        optimizer.zero_grad()\n",
        "        # batch, batch_lengths = batch.reviews\n",
        "\n",
        "        predictions = model(batch.reviews).squeeze(0)\n",
        "#         print(predictions.shape, batch.Label.shape, model(batch.Text).shape)\n",
        "        # print(\"idar\")\n",
        "        # print(predictions.shape)\n",
        "        # print(batch.senti.reshape((len(batch.senti),1)).shape)\n",
        "\n",
        "        loss = criterion(predictions, batch.senti)\n",
        "\n",
        "        acc = binary_accuracy(predictions, batch.senti)\n",
        "        \n",
        "        loss.backward()\n",
        "        \n",
        "        optimizer.step()\n",
        "        \n",
        "        epoch_loss += loss.item()\n",
        "        epoch_acc += acc.item()\n",
        "        bar.update()\n",
        "    \n",
        "    return epoch_loss / len(iterator), epoch_acc / len(iterator)"
      ],
      "execution_count": 18,
      "outputs": []
    },
    {
      "cell_type": "code",
      "metadata": {
        "id": "WXk8h5ueMKSp"
      },
      "source": [
        "def evaluate(model, iterator, criterion):\n",
        "    \n",
        "    epoch_loss = 0\n",
        "    epoch_acc = 0\n",
        "    \n",
        "    model.eval()\n",
        "    \n",
        "    with torch.no_grad():\n",
        "        bar = pyprind.ProgBar(len(iterator), bar_char='█')\n",
        "        for batch in iterator:\n",
        "\n",
        "            predictions = model(batch.reviews).squeeze(0)\n",
        "            \n",
        "            loss = criterion(predictions, batch.senti)\n",
        "            \n",
        "            acc = binary_accuracy(predictions, batch.senti)\n",
        "\n",
        "            epoch_loss += loss.item()\n",
        "            epoch_acc += acc.item()\n",
        "            bar.update()\n",
        "    \n",
        "    return epoch_loss / len(iterator), epoch_acc / len(iterator)"
      ],
      "execution_count": 19,
      "outputs": []
    },
    {
      "cell_type": "code",
      "metadata": {
        "id": "4uvk5I0kMXeD",
        "outputId": "fe297325-15fb-4a09-ff2d-c872186356b1",
        "colab": {
          "base_uri": "https://localhost:8080/",
          "height": 1000
        }
      },
      "source": [
        "N_EPOCHS = 100\n",
        "train_rnn_loss = []\n",
        "train_rnn_acc = []\n",
        "dev_rnn_loss = []\n",
        "dev_rnn_acc = []\n",
        "\n",
        "\n",
        "for epoch in range(N_EPOCHS):\n",
        "    train_loss, train_acc = train(model_rnn, train_iterator, optimizer, criterion)\n",
        "    dev_loss, dev_acc = evaluate(model_rnn, dev_iterator, criterion)\n",
        "    \n",
        "    train_rnn_loss.append(train_loss)\n",
        "    train_rnn_acc.append(train_acc)\n",
        "\n",
        "    dev_rnn_loss.append(dev_loss)\n",
        "    dev_rnn_acc.append(dev_acc)\n",
        "\n",
        "\n",
        "    print(f'| Epoch: {epoch+1:02} | Train Loss: {train_loss:.3f} | Train Acc: {train_acc*100:.2f}% | Val. Loss: {dev_loss:.3f} | Val. Acc: {dev_acc*100:.2f}% |')"
      ],
      "execution_count": 20,
      "outputs": [
        {
          "output_type": "stream",
          "text": [
            "0% [██████████████████████████████] 100% | ETA: 00:00:00\n",
            "Total time elapsed: 00:00:01\n",
            "0% [██████████████████████████████] 100% | ETA: 00:00:00"
          ],
          "name": "stderr"
        },
        {
          "output_type": "stream",
          "text": [
            "| Epoch: 01 | Train Loss: 0.695 | Train Acc: 49.39% | Val. Loss: 0.697 | Val. Acc: 50.32% |\n"
          ],
          "name": "stdout"
        },
        {
          "output_type": "stream",
          "text": [
            "\n",
            "Total time elapsed: 00:00:00\n",
            "0% [██████████████████████████████] 100% | ETA: 00:00:00\n",
            "Total time elapsed: 00:00:01\n",
            "0% [██████████████████████████████] 100% | ETA: 00:00:00"
          ],
          "name": "stderr"
        },
        {
          "output_type": "stream",
          "text": [
            "| Epoch: 02 | Train Loss: 0.693 | Train Acc: 50.04% | Val. Loss: 0.695 | Val. Acc: 50.46% |\n"
          ],
          "name": "stdout"
        },
        {
          "output_type": "stream",
          "text": [
            "\n",
            "Total time elapsed: 00:00:00\n",
            "0% [██████████████████████████████] 100% | ETA: 00:00:00\n",
            "Total time elapsed: 00:00:01\n",
            "0% [██████████████████████████████] 100% | ETA: 00:00:00"
          ],
          "name": "stderr"
        },
        {
          "output_type": "stream",
          "text": [
            "| Epoch: 03 | Train Loss: 0.693 | Train Acc: 49.84% | Val. Loss: 0.693 | Val. Acc: 51.11% |\n"
          ],
          "name": "stdout"
        },
        {
          "output_type": "stream",
          "text": [
            "\n",
            "Total time elapsed: 00:00:00\n",
            "0% [██████████████████████████████] 100% | ETA: 00:00:00\n",
            "Total time elapsed: 00:00:01\n",
            "0% [██████████████████████████████] 100% | ETA: 00:00:00"
          ],
          "name": "stderr"
        },
        {
          "output_type": "stream",
          "text": [
            "| Epoch: 04 | Train Loss: 0.693 | Train Acc: 51.63% | Val. Loss: 0.692 | Val. Acc: 51.57% |\n"
          ],
          "name": "stdout"
        },
        {
          "output_type": "stream",
          "text": [
            "\n",
            "Total time elapsed: 00:00:00\n",
            "0% [██████████████████████████████] 100% | ETA: 00:00:00\n",
            "Total time elapsed: 00:00:01\n",
            "0% [██████████████████████████████] 100% | ETA: 00:00:00"
          ],
          "name": "stderr"
        },
        {
          "output_type": "stream",
          "text": [
            "| Epoch: 05 | Train Loss: 0.690 | Train Acc: 50.68% | Val. Loss: 0.691 | Val. Acc: 51.74% |\n"
          ],
          "name": "stdout"
        },
        {
          "output_type": "stream",
          "text": [
            "\n",
            "Total time elapsed: 00:00:00\n",
            "0% [██████████████████████████████] 100% | ETA: 00:00:00\n",
            "Total time elapsed: 00:00:01\n",
            "0% [██████████████████████████████] 100% | ETA: 00:00:00"
          ],
          "name": "stderr"
        },
        {
          "output_type": "stream",
          "text": [
            "| Epoch: 06 | Train Loss: 0.690 | Train Acc: 52.02% | Val. Loss: 0.688 | Val. Acc: 53.20% |\n"
          ],
          "name": "stdout"
        },
        {
          "output_type": "stream",
          "text": [
            "\n",
            "Total time elapsed: 00:00:00\n",
            "0% [██████████████████████████████] 100% | ETA: 00:00:00\n",
            "Total time elapsed: 00:00:01\n",
            "0% [██████████████████████████████] 100% | ETA: 00:00:00"
          ],
          "name": "stderr"
        },
        {
          "output_type": "stream",
          "text": [
            "| Epoch: 07 | Train Loss: 0.687 | Train Acc: 53.88% | Val. Loss: 0.676 | Val. Acc: 55.64% |\n"
          ],
          "name": "stdout"
        },
        {
          "output_type": "stream",
          "text": [
            "\n",
            "Total time elapsed: 00:00:00\n",
            "0% [██████████████████████████████] 100% | ETA: 00:00:00\n",
            "Total time elapsed: 00:00:01\n",
            "0% [██████████████████████████████] 100% | ETA: 00:00:00"
          ],
          "name": "stderr"
        },
        {
          "output_type": "stream",
          "text": [
            "| Epoch: 08 | Train Loss: 0.611 | Train Acc: 67.48% | Val. Loss: 0.578 | Val. Acc: 69.29% |\n"
          ],
          "name": "stdout"
        },
        {
          "output_type": "stream",
          "text": [
            "\n",
            "Total time elapsed: 00:00:00\n",
            "0% [██████████████████████████████] 100% | ETA: 00:00:00\n",
            "Total time elapsed: 00:00:01\n",
            "0% [██████████████████████████████] 100% | ETA: 00:00:00"
          ],
          "name": "stderr"
        },
        {
          "output_type": "stream",
          "text": [
            "| Epoch: 09 | Train Loss: 0.554 | Train Acc: 72.09% | Val. Loss: 0.567 | Val. Acc: 70.07% |\n"
          ],
          "name": "stdout"
        },
        {
          "output_type": "stream",
          "text": [
            "\n",
            "Total time elapsed: 00:00:00\n",
            "0% [██████████████████████████████] 100% | ETA: 00:00:00\n",
            "Total time elapsed: 00:00:01\n",
            "0% [██████████████████████████████] 100% | ETA: 00:00:00"
          ],
          "name": "stderr"
        },
        {
          "output_type": "stream",
          "text": [
            "| Epoch: 10 | Train Loss: 0.543 | Train Acc: 73.45% | Val. Loss: 0.545 | Val. Acc: 72.06% |\n"
          ],
          "name": "stdout"
        },
        {
          "output_type": "stream",
          "text": [
            "\n",
            "Total time elapsed: 00:00:00\n",
            "0% [██████████████████████████████] 100% | ETA: 00:00:00\n",
            "Total time elapsed: 00:00:01\n",
            "0% [██████████████████████████████] 100% | ETA: 00:00:00"
          ],
          "name": "stderr"
        },
        {
          "output_type": "stream",
          "text": [
            "| Epoch: 11 | Train Loss: 0.534 | Train Acc: 73.74% | Val. Loss: 0.533 | Val. Acc: 72.63% |\n"
          ],
          "name": "stdout"
        },
        {
          "output_type": "stream",
          "text": [
            "\n",
            "Total time elapsed: 00:00:00\n",
            "0% [██████████████████████████████] 100% | ETA: 00:00:00\n",
            "Total time elapsed: 00:00:01\n",
            "0% [██████████████████████████████] 100% | ETA: 00:00:00"
          ],
          "name": "stderr"
        },
        {
          "output_type": "stream",
          "text": [
            "| Epoch: 12 | Train Loss: 0.521 | Train Acc: 74.98% | Val. Loss: 0.532 | Val. Acc: 73.47% |\n"
          ],
          "name": "stdout"
        },
        {
          "output_type": "stream",
          "text": [
            "\n",
            "Total time elapsed: 00:00:00\n",
            "0% [██████████████████████████████] 100% | ETA: 00:00:00\n",
            "Total time elapsed: 00:00:01\n",
            "0% [██████████████████████████████] 100% | ETA: 00:00:00"
          ],
          "name": "stderr"
        },
        {
          "output_type": "stream",
          "text": [
            "| Epoch: 13 | Train Loss: 0.514 | Train Acc: 75.47% | Val. Loss: 0.532 | Val. Acc: 73.04% |\n"
          ],
          "name": "stdout"
        },
        {
          "output_type": "stream",
          "text": [
            "\n",
            "Total time elapsed: 00:00:00\n",
            "0% [██████████████████████████████] 100% | ETA: 00:00:00\n",
            "Total time elapsed: 00:00:01\n",
            "0% [██████████████████████████████] 100% | ETA: 00:00:00"
          ],
          "name": "stderr"
        },
        {
          "output_type": "stream",
          "text": [
            "| Epoch: 14 | Train Loss: 0.512 | Train Acc: 75.41% | Val. Loss: 0.541 | Val. Acc: 72.22% |\n"
          ],
          "name": "stdout"
        },
        {
          "output_type": "stream",
          "text": [
            "\n",
            "Total time elapsed: 00:00:00\n",
            "0% [██████████████████████████████] 100% | ETA: 00:00:00\n",
            "Total time elapsed: 00:00:01\n",
            "0% [██████████████████████████████] 100% | ETA: 00:00:00"
          ],
          "name": "stderr"
        },
        {
          "output_type": "stream",
          "text": [
            "| Epoch: 15 | Train Loss: 0.500 | Train Acc: 76.53% | Val. Loss: 0.521 | Val. Acc: 74.36% |\n"
          ],
          "name": "stdout"
        },
        {
          "output_type": "stream",
          "text": [
            "\n",
            "Total time elapsed: 00:00:00\n",
            "0% [██████████████████████████████] 100% | ETA: 00:00:00\n",
            "Total time elapsed: 00:00:01\n",
            "0% [██████████████████████████████] 100% | ETA: 00:00:00"
          ],
          "name": "stderr"
        },
        {
          "output_type": "stream",
          "text": [
            "| Epoch: 16 | Train Loss: 0.499 | Train Acc: 76.40% | Val. Loss: 0.518 | Val. Acc: 74.26% |\n"
          ],
          "name": "stdout"
        },
        {
          "output_type": "stream",
          "text": [
            "\n",
            "Total time elapsed: 00:00:00\n",
            "0% [██████████████████████████████] 100% | ETA: 00:00:00\n",
            "Total time elapsed: 00:00:01\n",
            "0% [██████████████████████████████] 100% | ETA: 00:00:00"
          ],
          "name": "stderr"
        },
        {
          "output_type": "stream",
          "text": [
            "| Epoch: 17 | Train Loss: 0.489 | Train Acc: 76.77% | Val. Loss: 0.525 | Val. Acc: 72.84% |\n"
          ],
          "name": "stdout"
        },
        {
          "output_type": "stream",
          "text": [
            "\n",
            "Total time elapsed: 00:00:00\n",
            "0% [██████████████████████████████] 100% | ETA: 00:00:00\n",
            "Total time elapsed: 00:00:01\n",
            "0% [██████████████████████████████] 100% | ETA: 00:00:00"
          ],
          "name": "stderr"
        },
        {
          "output_type": "stream",
          "text": [
            "| Epoch: 18 | Train Loss: 0.491 | Train Acc: 76.96% | Val. Loss: 0.518 | Val. Acc: 74.68% |\n"
          ],
          "name": "stdout"
        },
        {
          "output_type": "stream",
          "text": [
            "\n",
            "Total time elapsed: 00:00:00\n",
            "0% [██████████████████████████████] 100% | ETA: 00:00:00\n",
            "Total time elapsed: 00:00:01\n",
            "0% [██████████████████████████████] 100% | ETA: 00:00:00"
          ],
          "name": "stderr"
        },
        {
          "output_type": "stream",
          "text": [
            "| Epoch: 19 | Train Loss: 0.479 | Train Acc: 77.38% | Val. Loss: 0.525 | Val. Acc: 73.52% |\n"
          ],
          "name": "stdout"
        },
        {
          "output_type": "stream",
          "text": [
            "\n",
            "Total time elapsed: 00:00:00\n",
            "0% [██████████████████████████████] 100% | ETA: 00:00:00\n",
            "Total time elapsed: 00:00:01\n",
            "0% [██████████████████████████████] 100% | ETA: 00:00:00"
          ],
          "name": "stderr"
        },
        {
          "output_type": "stream",
          "text": [
            "| Epoch: 20 | Train Loss: 0.486 | Train Acc: 77.33% | Val. Loss: 0.520 | Val. Acc: 74.00% |\n"
          ],
          "name": "stdout"
        },
        {
          "output_type": "stream",
          "text": [
            "\n",
            "Total time elapsed: 00:00:00\n",
            "0% [██████████████████████████████] 100% | ETA: 00:00:00\n",
            "Total time elapsed: 00:00:01\n",
            "0% [██████████████████████████████] 100% | ETA: 00:00:00"
          ],
          "name": "stderr"
        },
        {
          "output_type": "stream",
          "text": [
            "| Epoch: 21 | Train Loss: 0.472 | Train Acc: 78.32% | Val. Loss: 0.526 | Val. Acc: 74.22% |\n"
          ],
          "name": "stdout"
        },
        {
          "output_type": "stream",
          "text": [
            "\n",
            "Total time elapsed: 00:00:00\n",
            "0% [██████████████████████████████] 100% | ETA: 00:00:00\n",
            "Total time elapsed: 00:00:01\n",
            "0% [██████████████████████████████] 100% | ETA: 00:00:00"
          ],
          "name": "stderr"
        },
        {
          "output_type": "stream",
          "text": [
            "| Epoch: 22 | Train Loss: 0.466 | Train Acc: 78.64% | Val. Loss: 0.528 | Val. Acc: 73.83% |\n"
          ],
          "name": "stdout"
        },
        {
          "output_type": "stream",
          "text": [
            "\n",
            "Total time elapsed: 00:00:00\n",
            "0% [██████████████████████████████] 100% | ETA: 00:00:00\n",
            "Total time elapsed: 00:00:01\n",
            "0% [██████████████████████████████] 100% | ETA: 00:00:00"
          ],
          "name": "stderr"
        },
        {
          "output_type": "stream",
          "text": [
            "| Epoch: 23 | Train Loss: 0.465 | Train Acc: 78.78% | Val. Loss: 0.511 | Val. Acc: 74.82% |\n"
          ],
          "name": "stdout"
        },
        {
          "output_type": "stream",
          "text": [
            "\n",
            "Total time elapsed: 00:00:00\n",
            "0% [██████████████████████████████] 100% | ETA: 00:00:00\n",
            "Total time elapsed: 00:00:01\n",
            "0% [██████████████████████████████] 100% | ETA: 00:00:00"
          ],
          "name": "stderr"
        },
        {
          "output_type": "stream",
          "text": [
            "| Epoch: 24 | Train Loss: 0.457 | Train Acc: 79.13% | Val. Loss: 0.508 | Val. Acc: 74.85% |\n"
          ],
          "name": "stdout"
        },
        {
          "output_type": "stream",
          "text": [
            "\n",
            "Total time elapsed: 00:00:00\n",
            "0% [██████████████████████████████] 100% | ETA: 00:00:00\n",
            "Total time elapsed: 00:00:01\n",
            "0% [██████████████████████████████] 100% | ETA: 00:00:00"
          ],
          "name": "stderr"
        },
        {
          "output_type": "stream",
          "text": [
            "| Epoch: 25 | Train Loss: 0.457 | Train Acc: 79.30% | Val. Loss: 0.505 | Val. Acc: 75.29% |\n"
          ],
          "name": "stdout"
        },
        {
          "output_type": "stream",
          "text": [
            "\n",
            "Total time elapsed: 00:00:00\n",
            "0% [██████████████████████████████] 100% | ETA: 00:00:00\n",
            "Total time elapsed: 00:00:01\n",
            "0% [██████████████████████████████] 100% | ETA: 00:00:00"
          ],
          "name": "stderr"
        },
        {
          "output_type": "stream",
          "text": [
            "| Epoch: 26 | Train Loss: 0.453 | Train Acc: 79.48% | Val. Loss: 0.509 | Val. Acc: 74.71% |\n"
          ],
          "name": "stdout"
        },
        {
          "output_type": "stream",
          "text": [
            "\n",
            "Total time elapsed: 00:00:00\n",
            "0% [██████████████████████████████] 100% | ETA: 00:00:00\n",
            "Total time elapsed: 00:00:01\n",
            "0% [██████████████████████████████] 100% | ETA: 00:00:00"
          ],
          "name": "stderr"
        },
        {
          "output_type": "stream",
          "text": [
            "| Epoch: 27 | Train Loss: 0.445 | Train Acc: 79.56% | Val. Loss: 0.512 | Val. Acc: 74.82% |\n"
          ],
          "name": "stdout"
        },
        {
          "output_type": "stream",
          "text": [
            "\n",
            "Total time elapsed: 00:00:00\n",
            "0% [██████████████████████████████] 100% | ETA: 00:00:00\n",
            "Total time elapsed: 00:00:01\n",
            "0% [██████████████████████████████] 100% | ETA: 00:00:00"
          ],
          "name": "stderr"
        },
        {
          "output_type": "stream",
          "text": [
            "| Epoch: 28 | Train Loss: 0.448 | Train Acc: 79.97% | Val. Loss: 0.508 | Val. Acc: 75.21% |\n"
          ],
          "name": "stdout"
        },
        {
          "output_type": "stream",
          "text": [
            "\n",
            "Total time elapsed: 00:00:00\n",
            "0% [██████████████████████████████] 100% | ETA: 00:00:00\n",
            "Total time elapsed: 00:00:01\n",
            "0% [██████████████████████████████] 100% | ETA: 00:00:00"
          ],
          "name": "stderr"
        },
        {
          "output_type": "stream",
          "text": [
            "| Epoch: 29 | Train Loss: 0.440 | Train Acc: 80.02% | Val. Loss: 0.508 | Val. Acc: 75.15% |\n"
          ],
          "name": "stdout"
        },
        {
          "output_type": "stream",
          "text": [
            "\n",
            "Total time elapsed: 00:00:00\n",
            "0% [██████████████████████████████] 100% | ETA: 00:00:00\n",
            "Total time elapsed: 00:00:01\n",
            "0% [██████████████████████████████] 100% | ETA: 00:00:00"
          ],
          "name": "stderr"
        },
        {
          "output_type": "stream",
          "text": [
            "| Epoch: 30 | Train Loss: 0.430 | Train Acc: 81.20% | Val. Loss: 0.509 | Val. Acc: 74.85% |\n"
          ],
          "name": "stdout"
        },
        {
          "output_type": "stream",
          "text": [
            "\n",
            "Total time elapsed: 00:00:00\n",
            "0% [██████████████████████████████] 100% | ETA: 00:00:00\n",
            "Total time elapsed: 00:00:01\n",
            "0% [██████████████████████████████] 100% | ETA: 00:00:00"
          ],
          "name": "stderr"
        },
        {
          "output_type": "stream",
          "text": [
            "| Epoch: 31 | Train Loss: 0.432 | Train Acc: 81.26% | Val. Loss: 0.517 | Val. Acc: 74.54% |\n"
          ],
          "name": "stdout"
        },
        {
          "output_type": "stream",
          "text": [
            "\n",
            "Total time elapsed: 00:00:00\n",
            "0% [██████████████████████████████] 100% | ETA: 00:00:00\n",
            "Total time elapsed: 00:00:01\n",
            "0% [██████████████████████████████] 100% | ETA: 00:00:00"
          ],
          "name": "stderr"
        },
        {
          "output_type": "stream",
          "text": [
            "| Epoch: 32 | Train Loss: 0.432 | Train Acc: 80.40% | Val. Loss: 0.504 | Val. Acc: 75.13% |\n"
          ],
          "name": "stdout"
        },
        {
          "output_type": "stream",
          "text": [
            "\n",
            "Total time elapsed: 00:00:00\n",
            "0% [██████████████████████████████] 100% | ETA: 00:00:00\n",
            "Total time elapsed: 00:00:01\n",
            "0% [██████████████████████████████] 100% | ETA: 00:00:00"
          ],
          "name": "stderr"
        },
        {
          "output_type": "stream",
          "text": [
            "| Epoch: 33 | Train Loss: 0.425 | Train Acc: 80.83% | Val. Loss: 0.520 | Val. Acc: 74.68% |\n"
          ],
          "name": "stdout"
        },
        {
          "output_type": "stream",
          "text": [
            "\n",
            "Total time elapsed: 00:00:00\n",
            "0% [██████████████████████████████] 100% | ETA: 00:00:00\n",
            "Total time elapsed: 00:00:01\n",
            "0% [██████████████████████████████] 100% | ETA: 00:00:00"
          ],
          "name": "stderr"
        },
        {
          "output_type": "stream",
          "text": [
            "| Epoch: 34 | Train Loss: 0.423 | Train Acc: 80.65% | Val. Loss: 0.508 | Val. Acc: 75.20% |\n"
          ],
          "name": "stdout"
        },
        {
          "output_type": "stream",
          "text": [
            "\n",
            "Total time elapsed: 00:00:00\n",
            "0% [██████████████████████████████] 100% | ETA: 00:00:00\n",
            "Total time elapsed: 00:00:01\n",
            "0% [██████████████████████████████] 100% | ETA: 00:00:00"
          ],
          "name": "stderr"
        },
        {
          "output_type": "stream",
          "text": [
            "| Epoch: 35 | Train Loss: 0.417 | Train Acc: 81.16% | Val. Loss: 0.513 | Val. Acc: 74.73% |\n"
          ],
          "name": "stdout"
        },
        {
          "output_type": "stream",
          "text": [
            "\n",
            "Total time elapsed: 00:00:00\n",
            "0% [██████████████████████████████] 100% | ETA: 00:00:00\n",
            "Total time elapsed: 00:00:01\n",
            "0% [██████████████████████████████] 100% | ETA: 00:00:00"
          ],
          "name": "stderr"
        },
        {
          "output_type": "stream",
          "text": [
            "| Epoch: 36 | Train Loss: 0.413 | Train Acc: 81.33% | Val. Loss: 0.502 | Val. Acc: 75.27% |\n"
          ],
          "name": "stdout"
        },
        {
          "output_type": "stream",
          "text": [
            "\n",
            "Total time elapsed: 00:00:00\n",
            "0% [██████████████████████████████] 100% | ETA: 00:00:00\n",
            "Total time elapsed: 00:00:01\n",
            "0% [██████████████████████████████] 100% | ETA: 00:00:00"
          ],
          "name": "stderr"
        },
        {
          "output_type": "stream",
          "text": [
            "| Epoch: 37 | Train Loss: 0.410 | Train Acc: 82.30% | Val. Loss: 0.505 | Val. Acc: 74.62% |\n"
          ],
          "name": "stdout"
        },
        {
          "output_type": "stream",
          "text": [
            "\n",
            "Total time elapsed: 00:00:00\n",
            "0% [██████████████████████████████] 100% | ETA: 00:00:00\n",
            "Total time elapsed: 00:00:01\n",
            "0% [██████████████████████████████] 100% | ETA: 00:00:00"
          ],
          "name": "stderr"
        },
        {
          "output_type": "stream",
          "text": [
            "| Epoch: 38 | Train Loss: 0.394 | Train Acc: 83.20% | Val. Loss: 0.504 | Val. Acc: 75.57% |\n"
          ],
          "name": "stdout"
        },
        {
          "output_type": "stream",
          "text": [
            "\n",
            "Total time elapsed: 00:00:00\n",
            "0% [██████████████████████████████] 100% | ETA: 00:00:00\n",
            "Total time elapsed: 00:00:01\n",
            "0% [██████████████████████████████] 100% | ETA: 00:00:00"
          ],
          "name": "stderr"
        },
        {
          "output_type": "stream",
          "text": [
            "| Epoch: 39 | Train Loss: 0.413 | Train Acc: 81.58% | Val. Loss: 0.508 | Val. Acc: 74.82% |\n"
          ],
          "name": "stdout"
        },
        {
          "output_type": "stream",
          "text": [
            "\n",
            "Total time elapsed: 00:00:00\n",
            "0% [██████████████████████████████] 100% | ETA: 00:00:00\n",
            "Total time elapsed: 00:00:01\n",
            "0% [██████████████████████████████] 100% | ETA: 00:00:00"
          ],
          "name": "stderr"
        },
        {
          "output_type": "stream",
          "text": [
            "| Epoch: 40 | Train Loss: 0.400 | Train Acc: 82.74% | Val. Loss: 0.507 | Val. Acc: 74.92% |\n"
          ],
          "name": "stdout"
        },
        {
          "output_type": "stream",
          "text": [
            "\n",
            "Total time elapsed: 00:00:00\n",
            "0% [██████████████████████████████] 100% | ETA: 00:00:00\n",
            "Total time elapsed: 00:00:01\n",
            "0% [██████████████████████████████] 100% | ETA: 00:00:00"
          ],
          "name": "stderr"
        },
        {
          "output_type": "stream",
          "text": [
            "| Epoch: 41 | Train Loss: 0.391 | Train Acc: 83.43% | Val. Loss: 0.510 | Val. Acc: 74.14% |\n"
          ],
          "name": "stdout"
        },
        {
          "output_type": "stream",
          "text": [
            "\n",
            "Total time elapsed: 00:00:00\n",
            "0% [██████████████████████████████] 100% | ETA: 00:00:00\n",
            "Total time elapsed: 00:00:01\n",
            "0% [██████████████████████████████] 100% | ETA: 00:00:00"
          ],
          "name": "stderr"
        },
        {
          "output_type": "stream",
          "text": [
            "| Epoch: 42 | Train Loss: 0.392 | Train Acc: 82.79% | Val. Loss: 0.510 | Val. Acc: 74.14% |\n"
          ],
          "name": "stdout"
        },
        {
          "output_type": "stream",
          "text": [
            "\n",
            "Total time elapsed: 00:00:00\n",
            "0% [██████████████████████████████] 100% | ETA: 00:00:00\n",
            "Total time elapsed: 00:00:01\n",
            "0% [██████████████████████████████] 100% | ETA: 00:00:00"
          ],
          "name": "stderr"
        },
        {
          "output_type": "stream",
          "text": [
            "| Epoch: 43 | Train Loss: 0.381 | Train Acc: 83.78% | Val. Loss: 0.511 | Val. Acc: 74.85% |\n"
          ],
          "name": "stdout"
        },
        {
          "output_type": "stream",
          "text": [
            "\n",
            "Total time elapsed: 00:00:00\n",
            "0% [██████████████████████████████] 100% | ETA: 00:00:00\n",
            "Total time elapsed: 00:00:01\n",
            "0% [██████████████████████████████] 100% | ETA: 00:00:00"
          ],
          "name": "stderr"
        },
        {
          "output_type": "stream",
          "text": [
            "| Epoch: 44 | Train Loss: 0.383 | Train Acc: 83.60% | Val. Loss: 0.519 | Val. Acc: 74.21% |\n"
          ],
          "name": "stdout"
        },
        {
          "output_type": "stream",
          "text": [
            "\n",
            "Total time elapsed: 00:00:00\n",
            "0% [██████████████████████████████] 100% | ETA: 00:00:00\n",
            "Total time elapsed: 00:00:01\n",
            "0% [██████████████████████████████] 100% | ETA: 00:00:00"
          ],
          "name": "stderr"
        },
        {
          "output_type": "stream",
          "text": [
            "| Epoch: 45 | Train Loss: 0.366 | Train Acc: 84.17% | Val. Loss: 0.512 | Val. Acc: 74.40% |\n"
          ],
          "name": "stdout"
        },
        {
          "output_type": "stream",
          "text": [
            "\n",
            "Total time elapsed: 00:00:00\n",
            "0% [██████████████████████████████] 100% | ETA: 00:00:00\n",
            "Total time elapsed: 00:00:01\n",
            "0% [██████████████████████████████] 100% | ETA: 00:00:00"
          ],
          "name": "stderr"
        },
        {
          "output_type": "stream",
          "text": [
            "| Epoch: 46 | Train Loss: 0.371 | Train Acc: 84.23% | Val. Loss: 0.522 | Val. Acc: 74.08% |\n"
          ],
          "name": "stdout"
        },
        {
          "output_type": "stream",
          "text": [
            "\n",
            "Total time elapsed: 00:00:00\n",
            "0% [██████████████████████████████] 100% | ETA: 00:00:00\n",
            "Total time elapsed: 00:00:01\n",
            "0% [██████████████████████████████] 100% | ETA: 00:00:00"
          ],
          "name": "stderr"
        },
        {
          "output_type": "stream",
          "text": [
            "| Epoch: 47 | Train Loss: 0.374 | Train Acc: 83.66% | Val. Loss: 0.529 | Val. Acc: 74.31% |\n"
          ],
          "name": "stdout"
        },
        {
          "output_type": "stream",
          "text": [
            "\n",
            "Total time elapsed: 00:00:00\n",
            "0% [██████████████████████████████] 100% | ETA: 00:00:00\n",
            "Total time elapsed: 00:00:01\n",
            "0% [██████████████████████████████] 100% | ETA: 00:00:00"
          ],
          "name": "stderr"
        },
        {
          "output_type": "stream",
          "text": [
            "| Epoch: 48 | Train Loss: 0.371 | Train Acc: 83.86% | Val. Loss: 0.525 | Val. Acc: 73.94% |\n"
          ],
          "name": "stdout"
        },
        {
          "output_type": "stream",
          "text": [
            "\n",
            "Total time elapsed: 00:00:00\n",
            "0% [██████████████████████████████] 100% | ETA: 00:00:00\n",
            "Total time elapsed: 00:00:01\n",
            "0% [██████████████████████████████] 100% | ETA: 00:00:00"
          ],
          "name": "stderr"
        },
        {
          "output_type": "stream",
          "text": [
            "| Epoch: 49 | Train Loss: 0.372 | Train Acc: 83.73% | Val. Loss: 0.527 | Val. Acc: 73.98% |\n"
          ],
          "name": "stdout"
        },
        {
          "output_type": "stream",
          "text": [
            "\n",
            "Total time elapsed: 00:00:00\n",
            "0% [██████████████████████████████] 100% | ETA: 00:00:00\n",
            "Total time elapsed: 00:00:01\n",
            "0% [██████████████████████████████] 100% | ETA: 00:00:00"
          ],
          "name": "stderr"
        },
        {
          "output_type": "stream",
          "text": [
            "| Epoch: 50 | Train Loss: 0.368 | Train Acc: 84.49% | Val. Loss: 0.537 | Val. Acc: 73.58% |\n"
          ],
          "name": "stdout"
        },
        {
          "output_type": "stream",
          "text": [
            "\n",
            "Total time elapsed: 00:00:00\n",
            "0% [██████████████████████████████] 100% | ETA: 00:00:00\n",
            "Total time elapsed: 00:00:01\n",
            "0% [██████████████████████████████] 100% | ETA: 00:00:00"
          ],
          "name": "stderr"
        },
        {
          "output_type": "stream",
          "text": [
            "| Epoch: 51 | Train Loss: 0.353 | Train Acc: 85.17% | Val. Loss: 0.526 | Val. Acc: 74.26% |\n"
          ],
          "name": "stdout"
        },
        {
          "output_type": "stream",
          "text": [
            "\n",
            "Total time elapsed: 00:00:00\n",
            "0% [██████████████████████████████] 100% | ETA: 00:00:00\n",
            "Total time elapsed: 00:00:01\n",
            "0% [██████████████████████████████] 100% | ETA: 00:00:00"
          ],
          "name": "stderr"
        },
        {
          "output_type": "stream",
          "text": [
            "| Epoch: 52 | Train Loss: 0.348 | Train Acc: 85.47% | Val. Loss: 0.525 | Val. Acc: 74.36% |\n"
          ],
          "name": "stdout"
        },
        {
          "output_type": "stream",
          "text": [
            "\n",
            "Total time elapsed: 00:00:00\n",
            "0% [██████████████████████████████] 100% | ETA: 00:00:00\n",
            "Total time elapsed: 00:00:01\n",
            "0% [██████████████████████████████] 100% | ETA: 00:00:00"
          ],
          "name": "stderr"
        },
        {
          "output_type": "stream",
          "text": [
            "| Epoch: 53 | Train Loss: 0.352 | Train Acc: 85.32% | Val. Loss: 0.531 | Val. Acc: 73.82% |\n"
          ],
          "name": "stdout"
        },
        {
          "output_type": "stream",
          "text": [
            "\n",
            "Total time elapsed: 00:00:00\n",
            "0% [██████████████████████████████] 100% | ETA: 00:00:00\n",
            "Total time elapsed: 00:00:01\n",
            "0% [██████████████████████████████] 100% | ETA: 00:00:00"
          ],
          "name": "stderr"
        },
        {
          "output_type": "stream",
          "text": [
            "| Epoch: 54 | Train Loss: 0.350 | Train Acc: 85.54% | Val. Loss: 0.536 | Val. Acc: 73.98% |\n"
          ],
          "name": "stdout"
        },
        {
          "output_type": "stream",
          "text": [
            "\n",
            "Total time elapsed: 00:00:00\n",
            "0% [██████████████████████████████] 100% | ETA: 00:00:00\n",
            "Total time elapsed: 00:00:01\n",
            "0% [██████████████████████████████] 100% | ETA: 00:00:00"
          ],
          "name": "stderr"
        },
        {
          "output_type": "stream",
          "text": [
            "| Epoch: 55 | Train Loss: 0.349 | Train Acc: 85.29% | Val. Loss: 0.537 | Val. Acc: 73.96% |\n"
          ],
          "name": "stdout"
        },
        {
          "output_type": "stream",
          "text": [
            "\n",
            "Total time elapsed: 00:00:00\n",
            "0% [██████████████████████████████] 100% | ETA: 00:00:00\n",
            "Total time elapsed: 00:00:01\n",
            "0% [██████████████████████████████] 100% | ETA: 00:00:00"
          ],
          "name": "stderr"
        },
        {
          "output_type": "stream",
          "text": [
            "| Epoch: 56 | Train Loss: 0.335 | Train Acc: 86.38% | Val. Loss: 0.548 | Val. Acc: 74.31% |\n"
          ],
          "name": "stdout"
        },
        {
          "output_type": "stream",
          "text": [
            "\n",
            "Total time elapsed: 00:00:00\n",
            "0% [██████████████████████████████] 100% | ETA: 00:00:00\n",
            "Total time elapsed: 00:00:01\n",
            "0% [██████████████████████████████] 100% | ETA: 00:00:00"
          ],
          "name": "stderr"
        },
        {
          "output_type": "stream",
          "text": [
            "| Epoch: 57 | Train Loss: 0.336 | Train Acc: 86.04% | Val. Loss: 0.551 | Val. Acc: 74.31% |\n"
          ],
          "name": "stdout"
        },
        {
          "output_type": "stream",
          "text": [
            "\n",
            "Total time elapsed: 00:00:00\n",
            "0% [██████████████████████████████] 100% | ETA: 00:00:00\n",
            "Total time elapsed: 00:00:01\n",
            "0% [██████████████████████████████] 100% | ETA: 00:00:00"
          ],
          "name": "stderr"
        },
        {
          "output_type": "stream",
          "text": [
            "| Epoch: 58 | Train Loss: 0.325 | Train Acc: 86.25% | Val. Loss: 0.546 | Val. Acc: 74.10% |\n"
          ],
          "name": "stdout"
        },
        {
          "output_type": "stream",
          "text": [
            "\n",
            "Total time elapsed: 00:00:00\n",
            "0% [██████████████████████████████] 100% | ETA: 00:00:00\n",
            "Total time elapsed: 00:00:01\n",
            "0% [██████████████████████████████] 100% | ETA: 00:00:00"
          ],
          "name": "stderr"
        },
        {
          "output_type": "stream",
          "text": [
            "| Epoch: 59 | Train Loss: 0.329 | Train Acc: 86.43% | Val. Loss: 0.545 | Val. Acc: 73.98% |\n"
          ],
          "name": "stdout"
        },
        {
          "output_type": "stream",
          "text": [
            "\n",
            "Total time elapsed: 00:00:00\n",
            "0% [██████████████████████████████] 100% | ETA: 00:00:00\n",
            "Total time elapsed: 00:00:01\n",
            "0% [██████████████████████████████] 100% | ETA: 00:00:00"
          ],
          "name": "stderr"
        },
        {
          "output_type": "stream",
          "text": [
            "| Epoch: 60 | Train Loss: 0.335 | Train Acc: 85.71% | Val. Loss: 0.544 | Val. Acc: 74.08% |\n"
          ],
          "name": "stdout"
        },
        {
          "output_type": "stream",
          "text": [
            "\n",
            "Total time elapsed: 00:00:00\n",
            "0% [██████████████████████████████] 100% | ETA: 00:00:00\n",
            "Total time elapsed: 00:00:01\n",
            "0% [██████████████████████████████] 100% | ETA: 00:00:00"
          ],
          "name": "stderr"
        },
        {
          "output_type": "stream",
          "text": [
            "| Epoch: 61 | Train Loss: 0.317 | Train Acc: 86.93% | Val. Loss: 0.561 | Val. Acc: 73.33% |\n"
          ],
          "name": "stdout"
        },
        {
          "output_type": "stream",
          "text": [
            "\n",
            "Total time elapsed: 00:00:00\n",
            "0% [██████████████████████████████] 100% | ETA: 00:00:00\n",
            "Total time elapsed: 00:00:01\n",
            "0% [██████████████████████████████] 100% | ETA: 00:00:00"
          ],
          "name": "stderr"
        },
        {
          "output_type": "stream",
          "text": [
            "| Epoch: 62 | Train Loss: 0.315 | Train Acc: 87.05% | Val. Loss: 0.547 | Val. Acc: 74.48% |\n"
          ],
          "name": "stdout"
        },
        {
          "output_type": "stream",
          "text": [
            "\n",
            "Total time elapsed: 00:00:00\n",
            "0% [██████████████████████████████] 100% | ETA: 00:00:00\n",
            "Total time elapsed: 00:00:01\n",
            "0% [██████████████████████████████] 100% | ETA: 00:00:00"
          ],
          "name": "stderr"
        },
        {
          "output_type": "stream",
          "text": [
            "| Epoch: 63 | Train Loss: 0.311 | Train Acc: 87.46% | Val. Loss: 0.555 | Val. Acc: 74.82% |\n"
          ],
          "name": "stdout"
        },
        {
          "output_type": "stream",
          "text": [
            "\n",
            "Total time elapsed: 00:00:00\n",
            "0% [██████████████████████████████] 100% | ETA: 00:00:00\n",
            "Total time elapsed: 00:00:01\n",
            "0% [██████████████████████████████] 100% | ETA: 00:00:00"
          ],
          "name": "stderr"
        },
        {
          "output_type": "stream",
          "text": [
            "| Epoch: 64 | Train Loss: 0.317 | Train Acc: 87.23% | Val. Loss: 0.561 | Val. Acc: 73.82% |\n"
          ],
          "name": "stdout"
        },
        {
          "output_type": "stream",
          "text": [
            "\n",
            "Total time elapsed: 00:00:00\n",
            "0% [██████████████████████████████] 100% | ETA: 00:00:00\n",
            "Total time elapsed: 00:00:01\n",
            "0% [██████████████████████████████] 100% | ETA: 00:00:00"
          ],
          "name": "stderr"
        },
        {
          "output_type": "stream",
          "text": [
            "| Epoch: 65 | Train Loss: 0.313 | Train Acc: 87.59% | Val. Loss: 0.557 | Val. Acc: 74.15% |\n"
          ],
          "name": "stdout"
        },
        {
          "output_type": "stream",
          "text": [
            "\n",
            "Total time elapsed: 00:00:00\n",
            "0% [██████████████████████████████] 100% | ETA: 00:00:00\n",
            "Total time elapsed: 00:00:01\n",
            "0% [██████████████████████████████] 100% | ETA: 00:00:00"
          ],
          "name": "stderr"
        },
        {
          "output_type": "stream",
          "text": [
            "| Epoch: 66 | Train Loss: 0.300 | Train Acc: 88.04% | Val. Loss: 0.565 | Val. Acc: 74.22% |\n"
          ],
          "name": "stdout"
        },
        {
          "output_type": "stream",
          "text": [
            "\n",
            "Total time elapsed: 00:00:00\n",
            "0% [██████████████████████████████] 100% | ETA: 00:00:00\n",
            "Total time elapsed: 00:00:01\n",
            "0% [██████████████████████████████] 100% | ETA: 00:00:00"
          ],
          "name": "stderr"
        },
        {
          "output_type": "stream",
          "text": [
            "| Epoch: 67 | Train Loss: 0.293 | Train Acc: 88.38% | Val. Loss: 0.566 | Val. Acc: 74.38% |\n"
          ],
          "name": "stdout"
        },
        {
          "output_type": "stream",
          "text": [
            "\n",
            "Total time elapsed: 00:00:00\n",
            "0% [██████████████████████████████] 100% | ETA: 00:00:00\n",
            "Total time elapsed: 00:00:01\n",
            "0% [██████████████████████████████] 100% | ETA: 00:00:00"
          ],
          "name": "stderr"
        },
        {
          "output_type": "stream",
          "text": [
            "| Epoch: 68 | Train Loss: 0.297 | Train Acc: 88.20% | Val. Loss: 0.567 | Val. Acc: 73.56% |\n"
          ],
          "name": "stdout"
        },
        {
          "output_type": "stream",
          "text": [
            "\n",
            "Total time elapsed: 00:00:00\n",
            "0% [██████████████████████████████] 100% | ETA: 00:00:00\n",
            "Total time elapsed: 00:00:01\n",
            "0% [██████████████████████████████] 100% | ETA: 00:00:00"
          ],
          "name": "stderr"
        },
        {
          "output_type": "stream",
          "text": [
            "| Epoch: 69 | Train Loss: 0.299 | Train Acc: 87.43% | Val. Loss: 0.572 | Val. Acc: 74.51% |\n"
          ],
          "name": "stdout"
        },
        {
          "output_type": "stream",
          "text": [
            "\n",
            "Total time elapsed: 00:00:00\n",
            "0% [██████████████████████████████] 100% | ETA: 00:00:00\n",
            "Total time elapsed: 00:00:01\n",
            "0% [██████████████████████████████] 100% | ETA: 00:00:00"
          ],
          "name": "stderr"
        },
        {
          "output_type": "stream",
          "text": [
            "| Epoch: 70 | Train Loss: 0.292 | Train Acc: 88.29% | Val. Loss: 0.586 | Val. Acc: 73.70% |\n"
          ],
          "name": "stdout"
        },
        {
          "output_type": "stream",
          "text": [
            "\n",
            "Total time elapsed: 00:00:00\n",
            "0% [██████████████████████████████] 100% | ETA: 00:00:00\n",
            "Total time elapsed: 00:00:01\n",
            "0% [██████████████████████████████] 100% | ETA: 00:00:00"
          ],
          "name": "stderr"
        },
        {
          "output_type": "stream",
          "text": [
            "| Epoch: 71 | Train Loss: 0.296 | Train Acc: 88.10% | Val. Loss: 0.579 | Val. Acc: 74.08% |\n"
          ],
          "name": "stdout"
        },
        {
          "output_type": "stream",
          "text": [
            "\n",
            "Total time elapsed: 00:00:00\n",
            "0% [██████████████████████████████] 100% | ETA: 00:00:00\n",
            "Total time elapsed: 00:00:01\n",
            "0% [██████████████████████████████] 100% | ETA: 00:00:00"
          ],
          "name": "stderr"
        },
        {
          "output_type": "stream",
          "text": [
            "| Epoch: 72 | Train Loss: 0.294 | Train Acc: 87.96% | Val. Loss: 0.572 | Val. Acc: 74.10% |\n"
          ],
          "name": "stdout"
        },
        {
          "output_type": "stream",
          "text": [
            "\n",
            "Total time elapsed: 00:00:00\n",
            "0% [██████████████████████████████] 100% | ETA: 00:00:00\n",
            "Total time elapsed: 00:00:01\n",
            "0% [██████████████████████████████] 100% | ETA: 00:00:00"
          ],
          "name": "stderr"
        },
        {
          "output_type": "stream",
          "text": [
            "| Epoch: 73 | Train Loss: 0.287 | Train Acc: 88.13% | Val. Loss: 0.606 | Val. Acc: 72.68% |\n"
          ],
          "name": "stdout"
        },
        {
          "output_type": "stream",
          "text": [
            "\n",
            "Total time elapsed: 00:00:00\n",
            "0% [██████████████████████████████] 100% | ETA: 00:00:00\n",
            "Total time elapsed: 00:00:01\n",
            "0% [██████████████████████████████] 100% | ETA: 00:00:00"
          ],
          "name": "stderr"
        },
        {
          "output_type": "stream",
          "text": [
            "| Epoch: 74 | Train Loss: 0.281 | Train Acc: 88.74% | Val. Loss: 0.585 | Val. Acc: 73.19% |\n"
          ],
          "name": "stdout"
        },
        {
          "output_type": "stream",
          "text": [
            "\n",
            "Total time elapsed: 00:00:00\n",
            "0% [██████████████████████████████] 100% | ETA: 00:00:00\n",
            "Total time elapsed: 00:00:01\n",
            "0% [██████████████████████████████] 100% | ETA: 00:00:00"
          ],
          "name": "stderr"
        },
        {
          "output_type": "stream",
          "text": [
            "| Epoch: 75 | Train Loss: 0.286 | Train Acc: 88.74% | Val. Loss: 0.589 | Val. Acc: 73.36% |\n"
          ],
          "name": "stdout"
        },
        {
          "output_type": "stream",
          "text": [
            "\n",
            "Total time elapsed: 00:00:00\n",
            "0% [██████████████████████████████] 100% | ETA: 00:00:00\n",
            "Total time elapsed: 00:00:01\n",
            "0% [██████████████████████████████] 100% | ETA: 00:00:00"
          ],
          "name": "stderr"
        },
        {
          "output_type": "stream",
          "text": [
            "| Epoch: 76 | Train Loss: 0.272 | Train Acc: 88.99% | Val. Loss: 0.598 | Val. Acc: 73.68% |\n"
          ],
          "name": "stdout"
        },
        {
          "output_type": "stream",
          "text": [
            "\n",
            "Total time elapsed: 00:00:00\n",
            "0% [██████████████████████████████] 100% | ETA: 00:00:00\n",
            "Total time elapsed: 00:00:01\n",
            "0% [██████████████████████████████] 100% | ETA: 00:00:00"
          ],
          "name": "stderr"
        },
        {
          "output_type": "stream",
          "text": [
            "| Epoch: 77 | Train Loss: 0.273 | Train Acc: 89.22% | Val. Loss: 0.589 | Val. Acc: 73.73% |\n"
          ],
          "name": "stdout"
        },
        {
          "output_type": "stream",
          "text": [
            "\n",
            "Total time elapsed: 00:00:00\n",
            "0% [██████████████████████████████] 100% | ETA: 00:00:00\n",
            "Total time elapsed: 00:00:01\n",
            "0% [██████████████████████████████] 100% | ETA: 00:00:00"
          ],
          "name": "stderr"
        },
        {
          "output_type": "stream",
          "text": [
            "| Epoch: 78 | Train Loss: 0.272 | Train Acc: 89.32% | Val. Loss: 0.605 | Val. Acc: 73.92% |\n"
          ],
          "name": "stdout"
        },
        {
          "output_type": "stream",
          "text": [
            "\n",
            "Total time elapsed: 00:00:00\n",
            "0% [██████████████████████████████] 100% | ETA: 00:00:00\n",
            "Total time elapsed: 00:00:01\n",
            "0% [██████████████████████████████] 100% | ETA: 00:00:00"
          ],
          "name": "stderr"
        },
        {
          "output_type": "stream",
          "text": [
            "| Epoch: 79 | Train Loss: 0.264 | Train Acc: 89.64% | Val. Loss: 0.602 | Val. Acc: 73.78% |\n"
          ],
          "name": "stdout"
        },
        {
          "output_type": "stream",
          "text": [
            "\n",
            "Total time elapsed: 00:00:00\n",
            "0% [██████████████████████████████] 100% | ETA: 00:00:00\n",
            "Total time elapsed: 00:00:01\n",
            "0% [██████████████████████████████] 100% | ETA: 00:00:00"
          ],
          "name": "stderr"
        },
        {
          "output_type": "stream",
          "text": [
            "| Epoch: 80 | Train Loss: 0.268 | Train Acc: 89.41% | Val. Loss: 0.599 | Val. Acc: 73.92% |\n"
          ],
          "name": "stdout"
        },
        {
          "output_type": "stream",
          "text": [
            "\n",
            "Total time elapsed: 00:00:00\n",
            "0% [██████████████████████████████] 100% | ETA: 00:00:00\n",
            "Total time elapsed: 00:00:01\n",
            "0% [██████████████████████████████] 100% | ETA: 00:00:00"
          ],
          "name": "stderr"
        },
        {
          "output_type": "stream",
          "text": [
            "| Epoch: 81 | Train Loss: 0.271 | Train Acc: 89.35% | Val. Loss: 0.609 | Val. Acc: 73.87% |\n"
          ],
          "name": "stdout"
        },
        {
          "output_type": "stream",
          "text": [
            "\n",
            "Total time elapsed: 00:00:00\n",
            "0% [██████████████████████████████] 100% | ETA: 00:00:00\n",
            "Total time elapsed: 00:00:01\n",
            "0% [██████████████████████████████] 100% | ETA: 00:00:00"
          ],
          "name": "stderr"
        },
        {
          "output_type": "stream",
          "text": [
            "| Epoch: 82 | Train Loss: 0.262 | Train Acc: 89.93% | Val. Loss: 0.620 | Val. Acc: 73.78% |\n"
          ],
          "name": "stdout"
        },
        {
          "output_type": "stream",
          "text": [
            "\n",
            "Total time elapsed: 00:00:00\n",
            "0% [██████████████████████████████] 100% | ETA: 00:00:00\n",
            "Total time elapsed: 00:00:01\n",
            "0% [██████████████████████████████] 100% | ETA: 00:00:00"
          ],
          "name": "stderr"
        },
        {
          "output_type": "stream",
          "text": [
            "| Epoch: 83 | Train Loss: 0.255 | Train Acc: 90.14% | Val. Loss: 0.634 | Val. Acc: 73.64% |\n"
          ],
          "name": "stdout"
        },
        {
          "output_type": "stream",
          "text": [
            "\n",
            "Total time elapsed: 00:00:00\n",
            "0% [██████████████████████████████] 100% | ETA: 00:00:00\n",
            "Total time elapsed: 00:00:01\n",
            "0% [██████████████████████████████] 100% | ETA: 00:00:00"
          ],
          "name": "stderr"
        },
        {
          "output_type": "stream",
          "text": [
            "| Epoch: 84 | Train Loss: 0.252 | Train Acc: 89.80% | Val. Loss: 0.630 | Val. Acc: 74.79% |\n"
          ],
          "name": "stdout"
        },
        {
          "output_type": "stream",
          "text": [
            "\n",
            "Total time elapsed: 00:00:00\n",
            "0% [██████████████████████████████] 100% | ETA: 00:00:00\n",
            "Total time elapsed: 00:00:01\n",
            "0% [██████████████████████████████] 100% | ETA: 00:00:00"
          ],
          "name": "stderr"
        },
        {
          "output_type": "stream",
          "text": [
            "| Epoch: 85 | Train Loss: 0.266 | Train Acc: 89.20% | Val. Loss: 0.622 | Val. Acc: 73.82% |\n"
          ],
          "name": "stdout"
        },
        {
          "output_type": "stream",
          "text": [
            "\n",
            "Total time elapsed: 00:00:00\n",
            "0% [██████████████████████████████] 100% | ETA: 00:00:00\n",
            "Total time elapsed: 00:00:01\n",
            "0% [██████████████████████████████] 100% | ETA: 00:00:00"
          ],
          "name": "stderr"
        },
        {
          "output_type": "stream",
          "text": [
            "| Epoch: 86 | Train Loss: 0.258 | Train Acc: 90.10% | Val. Loss: 0.615 | Val. Acc: 73.64% |\n"
          ],
          "name": "stdout"
        },
        {
          "output_type": "stream",
          "text": [
            "\n",
            "Total time elapsed: 00:00:00\n",
            "0% [██████████████████████████████] 100% | ETA: 00:00:00\n",
            "Total time elapsed: 00:00:01\n",
            "0% [██████████████████████████████] 100% | ETA: 00:00:00"
          ],
          "name": "stderr"
        },
        {
          "output_type": "stream",
          "text": [
            "| Epoch: 87 | Train Loss: 0.248 | Train Acc: 90.50% | Val. Loss: 0.626 | Val. Acc: 73.82% |\n"
          ],
          "name": "stdout"
        },
        {
          "output_type": "stream",
          "text": [
            "\n",
            "Total time elapsed: 00:00:00\n",
            "0% [██████████████████████████████] 100% | ETA: 00:00:00\n",
            "Total time elapsed: 00:00:01\n",
            "0% [██████████████████████████████] 100% | ETA: 00:00:00"
          ],
          "name": "stderr"
        },
        {
          "output_type": "stream",
          "text": [
            "| Epoch: 88 | Train Loss: 0.242 | Train Acc: 90.73% | Val. Loss: 0.625 | Val. Acc: 73.54% |\n"
          ],
          "name": "stdout"
        },
        {
          "output_type": "stream",
          "text": [
            "\n",
            "Total time elapsed: 00:00:00\n",
            "0% [██████████████████████████████] 100% | ETA: 00:00:00\n",
            "Total time elapsed: 00:00:01\n",
            "0% [██████████████████████████████] 100% | ETA: 00:00:00"
          ],
          "name": "stderr"
        },
        {
          "output_type": "stream",
          "text": [
            "| Epoch: 89 | Train Loss: 0.251 | Train Acc: 90.09% | Val. Loss: 0.622 | Val. Acc: 73.10% |\n"
          ],
          "name": "stdout"
        },
        {
          "output_type": "stream",
          "text": [
            "\n",
            "Total time elapsed: 00:00:00\n",
            "0% [██████████████████████████████] 100% | ETA: 00:00:00\n",
            "Total time elapsed: 00:00:01\n",
            "0% [██████████████████████████████] 100% | ETA: 00:00:00"
          ],
          "name": "stderr"
        },
        {
          "output_type": "stream",
          "text": [
            "| Epoch: 90 | Train Loss: 0.245 | Train Acc: 90.27% | Val. Loss: 0.641 | Val. Acc: 73.92% |\n"
          ],
          "name": "stdout"
        },
        {
          "output_type": "stream",
          "text": [
            "\n",
            "Total time elapsed: 00:00:00\n",
            "0% [██████████████████████████████] 100% | ETA: 00:00:00\n",
            "Total time elapsed: 00:00:01\n",
            "0% [██████████████████████████████] 100% | ETA: 00:00:00"
          ],
          "name": "stderr"
        },
        {
          "output_type": "stream",
          "text": [
            "| Epoch: 91 | Train Loss: 0.231 | Train Acc: 90.87% | Val. Loss: 0.633 | Val. Acc: 73.00% |\n"
          ],
          "name": "stdout"
        },
        {
          "output_type": "stream",
          "text": [
            "\n",
            "Total time elapsed: 00:00:00\n",
            "0% [██████████████████████████████] 100% | ETA: 00:00:00\n",
            "Total time elapsed: 00:00:01\n",
            "0% [██████████████████████████████] 100% | ETA: 00:00:00"
          ],
          "name": "stderr"
        },
        {
          "output_type": "stream",
          "text": [
            "| Epoch: 92 | Train Loss: 0.244 | Train Acc: 90.71% | Val. Loss: 0.628 | Val. Acc: 72.40% |\n"
          ],
          "name": "stdout"
        },
        {
          "output_type": "stream",
          "text": [
            "\n",
            "Total time elapsed: 00:00:00\n",
            "0% [██████████████████████████████] 100% | ETA: 00:00:00\n",
            "Total time elapsed: 00:00:01\n",
            "0% [██████████████████████████████] 100% | ETA: 00:00:00"
          ],
          "name": "stderr"
        },
        {
          "output_type": "stream",
          "text": [
            "| Epoch: 93 | Train Loss: 0.241 | Train Acc: 90.59% | Val. Loss: 0.633 | Val. Acc: 73.92% |\n"
          ],
          "name": "stdout"
        },
        {
          "output_type": "stream",
          "text": [
            "\n",
            "Total time elapsed: 00:00:00\n",
            "0% [██████████████████████████████] 100% | ETA: 00:00:00\n",
            "Total time elapsed: 00:00:01\n",
            "0% [██████████████████████████████] 100% | ETA: 00:00:00"
          ],
          "name": "stderr"
        },
        {
          "output_type": "stream",
          "text": [
            "| Epoch: 94 | Train Loss: 0.241 | Train Acc: 90.23% | Val. Loss: 0.645 | Val. Acc: 72.47% |\n"
          ],
          "name": "stdout"
        },
        {
          "output_type": "stream",
          "text": [
            "\n",
            "Total time elapsed: 00:00:00\n",
            "0% [██████████████████████████████] 100% | ETA: 00:00:00\n",
            "Total time elapsed: 00:00:01\n",
            "0% [██████████████████████████████] 100% | ETA: 00:00:00"
          ],
          "name": "stderr"
        },
        {
          "output_type": "stream",
          "text": [
            "| Epoch: 95 | Train Loss: 0.230 | Train Acc: 90.97% | Val. Loss: 0.657 | Val. Acc: 74.06% |\n"
          ],
          "name": "stdout"
        },
        {
          "output_type": "stream",
          "text": [
            "\n",
            "Total time elapsed: 00:00:00\n",
            "0% [██████████████████████████████] 100% | ETA: 00:00:00\n",
            "Total time elapsed: 00:00:01\n",
            "0% [██████████████████████████████] 100% | ETA: 00:00:00"
          ],
          "name": "stderr"
        },
        {
          "output_type": "stream",
          "text": [
            "| Epoch: 96 | Train Loss: 0.233 | Train Acc: 91.12% | Val. Loss: 0.646 | Val. Acc: 73.64% |\n"
          ],
          "name": "stdout"
        },
        {
          "output_type": "stream",
          "text": [
            "\n",
            "Total time elapsed: 00:00:00\n",
            "0% [██████████████████████████████] 100% | ETA: 00:00:00\n",
            "Total time elapsed: 00:00:01\n",
            "0% [██████████████████████████████] 100% | ETA: 00:00:00"
          ],
          "name": "stderr"
        },
        {
          "output_type": "stream",
          "text": [
            "| Epoch: 97 | Train Loss: 0.226 | Train Acc: 91.26% | Val. Loss: 0.647 | Val. Acc: 73.08% |\n"
          ],
          "name": "stdout"
        },
        {
          "output_type": "stream",
          "text": [
            "\n",
            "Total time elapsed: 00:00:00\n",
            "0% [██████████████████████████████] 100% | ETA: 00:00:00\n",
            "Total time elapsed: 00:00:01\n",
            "0% [██████████████████████████████] 100% | ETA: 00:00:00"
          ],
          "name": "stderr"
        },
        {
          "output_type": "stream",
          "text": [
            "| Epoch: 98 | Train Loss: 0.234 | Train Acc: 90.94% | Val. Loss: 0.662 | Val. Acc: 72.66% |\n"
          ],
          "name": "stdout"
        },
        {
          "output_type": "stream",
          "text": [
            "\n",
            "Total time elapsed: 00:00:00\n",
            "0% [██████████████████████████████] 100% | ETA: 00:00:00\n",
            "Total time elapsed: 00:00:01\n",
            "0% [██████████████████████████████] 100% | ETA: 00:00:00"
          ],
          "name": "stderr"
        },
        {
          "output_type": "stream",
          "text": [
            "| Epoch: 99 | Train Loss: 0.230 | Train Acc: 91.41% | Val. Loss: 0.661 | Val. Acc: 72.71% |\n"
          ],
          "name": "stdout"
        },
        {
          "output_type": "stream",
          "text": [
            "\n",
            "Total time elapsed: 00:00:00\n",
            "0% [██████████████████████████████] 100% | ETA: 00:00:00\n",
            "Total time elapsed: 00:00:01\n",
            "0% [██████████████████████████████] 100% | ETA: 00:00:00"
          ],
          "name": "stderr"
        },
        {
          "output_type": "stream",
          "text": [
            "| Epoch: 100 | Train Loss: 0.215 | Train Acc: 91.89% | Val. Loss: 0.663 | Val. Acc: 71.56% |\n"
          ],
          "name": "stdout"
        },
        {
          "output_type": "stream",
          "text": [
            "\n",
            "Total time elapsed: 00:00:00\n"
          ],
          "name": "stderr"
        }
      ]
    },
    {
      "cell_type": "markdown",
      "metadata": {
        "id": "Ay73h8jt3Syw"
      },
      "source": [
        "## LSTM"
      ]
    },
    {
      "cell_type": "code",
      "metadata": {
        "id": "FlhqJ1CTMXXZ"
      },
      "source": [
        "class LSTM(nn.Module):\n",
        "    def __init__(self, input_dim, embedding_dim, hidden_dim, output_dim, dropout):\n",
        "        super().__init__()\n",
        "        self.hidden_dim = hidden_dim\n",
        "        self.embedding = nn.Embedding(input_dim, embedding_dim)\n",
        "        self.rnn = nn.LSTM(embedding_dim, hidden_dim, dropout=dropout)\n",
        "        self.fc = nn.Linear(hidden_dim, output_dim)\n",
        "\n",
        "        self.dropout = nn.Dropout(dropout)\n",
        "    \n",
        "    def forward(self, x):\n",
        "\n",
        "        #x = [sent len, batch size]\n",
        "        \n",
        "        embedded = self.dropout(self.embedding(x))\n",
        "        # print(\"here1\")\n",
        "        #embedded = [sent len, batch size, emb dim]\n",
        "        # print(x.shape)\n",
        "        # print(embedded.shape)\n",
        "        output, (hidden,cell) = self.rnn(embedded)\n",
        "        # print(\"here2\")\n",
        "        #output = [sent len, batch size, hid dim]\n",
        "        #hidden = [1, batch size, hid dim]\n",
        "        \n",
        "        # assert torch.equal(output[-1,:,:], hidden.squeeze(0))\n",
        "        # print(hidden)\n",
        "        # print(hidden[0].shape)\n",
        "        hidden = self.dropout(hidden)\n",
        "        # print(\"here3\")\n",
        "        out = self.fc(hidden)\n",
        "        # print(\"here4\")\n",
        "        return out"
      ],
      "execution_count": 21,
      "outputs": []
    },
    {
      "cell_type": "code",
      "metadata": {
        "id": "E2jpj8m1L-zo",
        "outputId": "2f444dd6-2e34-4c5c-9b4d-6cae0654ab86",
        "colab": {
          "base_uri": "https://localhost:8080/",
          "height": 72
        }
      },
      "source": [
        "INPUT_DIM = len(TEXT.vocab)\n",
        "EMBEDDING_DIM = 300\n",
        "HIDDEN_DIM = 300\n",
        "OUTPUT_DIM = 2\n",
        "DROPOUT = 0.5\n",
        "\n",
        "model_lstm = LSTM(INPUT_DIM, EMBEDDING_DIM, HIDDEN_DIM, OUTPUT_DIM, DROPOUT)"
      ],
      "execution_count": 22,
      "outputs": [
        {
          "output_type": "stream",
          "text": [
            "/usr/local/lib/python3.6/dist-packages/torch/nn/modules/rnn.py:60: UserWarning: dropout option adds dropout after all but last recurrent layer, so non-zero dropout expects num_layers greater than 1, but got dropout=0.5 and num_layers=1\n",
            "  \"num_layers={}\".format(dropout, num_layers))\n"
          ],
          "name": "stderr"
        }
      ]
    },
    {
      "cell_type": "code",
      "metadata": {
        "id": "Au4d0K6_3o6A",
        "outputId": "7e9297c1-4e38-4ef8-8918-0fa57b23b0e7",
        "colab": {
          "base_uri": "https://localhost:8080/",
          "height": 35
        }
      },
      "source": [
        "pretrained_embeddings = TEXT.vocab.vectors\n",
        "\n",
        "print(pretrained_embeddings.shape)\n",
        "\n",
        "model_lstm.embedding.weight.data = pretrained_embeddings\n",
        "\n",
        "class_weights = torch.tensor([1.0, 1.0])\n",
        "\n",
        "optimizer = optim.Adam(model_lstm.parameters(), lr=0.00003)\n",
        "\n",
        "criterion = nn.CrossEntropyLoss(weight=class_weights)\n",
        "\n",
        "model_lstm = model_lstm.to(device)\n",
        "criterion = criterion.to(device)"
      ],
      "execution_count": 23,
      "outputs": [
        {
          "output_type": "stream",
          "text": [
            "torch.Size([14410, 300])\n"
          ],
          "name": "stdout"
        }
      ]
    },
    {
      "cell_type": "code",
      "metadata": {
        "id": "FTTZ1uUWJB5s",
        "outputId": "9558219a-9c90-4cf2-bffa-a419e599b461",
        "colab": {
          "base_uri": "https://localhost:8080/",
          "height": 1000
        }
      },
      "source": [
        "N_EPOCHS = 100\n",
        "train_lstm_loss = []\n",
        "train_lstm_acc = []\n",
        "dev_lstm_loss = []\n",
        "dev_lstm_acc = []\n",
        "\n",
        "for epoch in range(N_EPOCHS):\n",
        "    train_loss, train_acc = train(model_lstm, train_iterator, optimizer, criterion)\n",
        "    dev_loss, dev_acc = evaluate(model_lstm, dev_iterator, criterion)\n",
        "    \n",
        "    train_lstm_loss.append(train_loss)\n",
        "    train_lstm_acc.append(train_acc)\n",
        "\n",
        "    dev_lstm_loss.append(dev_loss)\n",
        "    dev_lstm_acc.append(dev_acc)\n",
        "\n",
        "    print(f'| Epoch: {epoch+1:02} | Train Loss: {train_loss:.3f} | Train Acc: {train_acc*100:.2f}% | Val. Loss: {dev_loss:.3f} | Val. Acc: {dev_acc*100:.2f}% |')"
      ],
      "execution_count": 24,
      "outputs": [
        {
          "output_type": "stream",
          "text": [
            "0% [██████████████████████████████] 100% | ETA: 00:00:00\n",
            "Total time elapsed: 00:00:01\n",
            "0% [██████████████████████████████] 100% | ETA: 00:00:00"
          ],
          "name": "stderr"
        },
        {
          "output_type": "stream",
          "text": [
            "| Epoch: 01 | Train Loss: 0.694 | Train Acc: 49.69% | Val. Loss: 0.693 | Val. Acc: 51.10% |\n"
          ],
          "name": "stdout"
        },
        {
          "output_type": "stream",
          "text": [
            "\n",
            "Total time elapsed: 00:00:00\n",
            "0% [██████████████████████████████] 100% | ETA: 00:00:00\n",
            "Total time elapsed: 00:00:01\n",
            "0% [██████████████████████████████] 100% | ETA: 00:00:00"
          ],
          "name": "stderr"
        },
        {
          "output_type": "stream",
          "text": [
            "| Epoch: 02 | Train Loss: 0.693 | Train Acc: 50.17% | Val. Loss: 0.692 | Val. Acc: 54.81% |\n"
          ],
          "name": "stdout"
        },
        {
          "output_type": "stream",
          "text": [
            "\n",
            "Total time elapsed: 00:00:00\n",
            "0% [██████████████████████████████] 100% | ETA: 00:00:00\n",
            "Total time elapsed: 00:00:01\n",
            "0% [██████████████████████████████] 100% | ETA: 00:00:00"
          ],
          "name": "stderr"
        },
        {
          "output_type": "stream",
          "text": [
            "| Epoch: 03 | Train Loss: 0.693 | Train Acc: 50.27% | Val. Loss: 0.691 | Val. Acc: 56.88% |\n"
          ],
          "name": "stdout"
        },
        {
          "output_type": "stream",
          "text": [
            "\n",
            "Total time elapsed: 00:00:00\n",
            "0% [██████████████████████████████] 100% | ETA: 00:00:00\n",
            "Total time elapsed: 00:00:01\n",
            "0% [██████████████████████████████] 100% | ETA: 00:00:00"
          ],
          "name": "stderr"
        },
        {
          "output_type": "stream",
          "text": [
            "| Epoch: 04 | Train Loss: 0.692 | Train Acc: 50.74% | Val. Loss: 0.690 | Val. Acc: 57.80% |\n"
          ],
          "name": "stdout"
        },
        {
          "output_type": "stream",
          "text": [
            "\n",
            "Total time elapsed: 00:00:00\n",
            "0% [██████████████████████████████] 100% | ETA: 00:00:00\n",
            "Total time elapsed: 00:00:01\n",
            "0% [██████████████████████████████] 100% | ETA: 00:00:00"
          ],
          "name": "stderr"
        },
        {
          "output_type": "stream",
          "text": [
            "| Epoch: 05 | Train Loss: 0.692 | Train Acc: 50.88% | Val. Loss: 0.688 | Val. Acc: 57.16% |\n"
          ],
          "name": "stdout"
        },
        {
          "output_type": "stream",
          "text": [
            "\n",
            "Total time elapsed: 00:00:00\n",
            "0% [██████████████████████████████] 100% | ETA: 00:00:00\n",
            "Total time elapsed: 00:00:01\n",
            "0% [██████████████████████████████] 100% | ETA: 00:00:00"
          ],
          "name": "stderr"
        },
        {
          "output_type": "stream",
          "text": [
            "| Epoch: 06 | Train Loss: 0.691 | Train Acc: 52.15% | Val. Loss: 0.686 | Val. Acc: 60.41% |\n"
          ],
          "name": "stdout"
        },
        {
          "output_type": "stream",
          "text": [
            "\n",
            "Total time elapsed: 00:00:00\n",
            "0% [██████████████████████████████] 100% | ETA: 00:00:00\n",
            "Total time elapsed: 00:00:01\n",
            "0% [██████████████████████████████] 100% | ETA: 00:00:00"
          ],
          "name": "stderr"
        },
        {
          "output_type": "stream",
          "text": [
            "| Epoch: 07 | Train Loss: 0.691 | Train Acc: 51.90% | Val. Loss: 0.683 | Val. Acc: 60.97% |\n"
          ],
          "name": "stdout"
        },
        {
          "output_type": "stream",
          "text": [
            "\n",
            "Total time elapsed: 00:00:00\n",
            "0% [██████████████████████████████] 100% | ETA: 00:00:00\n",
            "Total time elapsed: 00:00:01\n",
            "0% [██████████████████████████████] 100% | ETA: 00:00:00"
          ],
          "name": "stderr"
        },
        {
          "output_type": "stream",
          "text": [
            "| Epoch: 08 | Train Loss: 0.689 | Train Acc: 53.75% | Val. Loss: 0.675 | Val. Acc: 61.34% |\n"
          ],
          "name": "stdout"
        },
        {
          "output_type": "stream",
          "text": [
            "\n",
            "Total time elapsed: 00:00:00\n",
            "0% [██████████████████████████████] 100% | ETA: 00:00:00\n",
            "Total time elapsed: 00:00:01\n",
            "0% [██████████████████████████████] 100% | ETA: 00:00:00"
          ],
          "name": "stderr"
        },
        {
          "output_type": "stream",
          "text": [
            "| Epoch: 09 | Train Loss: 0.648 | Train Acc: 62.53% | Val. Loss: 0.611 | Val. Acc: 67.89% |\n"
          ],
          "name": "stdout"
        },
        {
          "output_type": "stream",
          "text": [
            "\n",
            "Total time elapsed: 00:00:00\n",
            "0% [██████████████████████████████] 100% | ETA: 00:00:00\n",
            "Total time elapsed: 00:00:01\n",
            "0% [██████████████████████████████] 100% | ETA: 00:00:00"
          ],
          "name": "stderr"
        },
        {
          "output_type": "stream",
          "text": [
            "| Epoch: 10 | Train Loss: 0.554 | Train Acc: 71.77% | Val. Loss: 0.564 | Val. Acc: 72.51% |\n"
          ],
          "name": "stdout"
        },
        {
          "output_type": "stream",
          "text": [
            "\n",
            "Total time elapsed: 00:00:00\n",
            "0% [██████████████████████████████] 100% | ETA: 00:00:00\n",
            "Total time elapsed: 00:00:01\n",
            "0% [██████████████████████████████] 100% | ETA: 00:00:00"
          ],
          "name": "stderr"
        },
        {
          "output_type": "stream",
          "text": [
            "| Epoch: 11 | Train Loss: 0.527 | Train Acc: 73.52% | Val. Loss: 0.562 | Val. Acc: 70.71% |\n"
          ],
          "name": "stdout"
        },
        {
          "output_type": "stream",
          "text": [
            "\n",
            "Total time elapsed: 00:00:00\n",
            "0% [██████████████████████████████] 100% | ETA: 00:00:00\n",
            "Total time elapsed: 00:00:01\n",
            "0% [██████████████████████████████] 100% | ETA: 00:00:00"
          ],
          "name": "stderr"
        },
        {
          "output_type": "stream",
          "text": [
            "| Epoch: 12 | Train Loss: 0.504 | Train Acc: 74.92% | Val. Loss: 0.542 | Val. Acc: 72.51% |\n"
          ],
          "name": "stdout"
        },
        {
          "output_type": "stream",
          "text": [
            "\n",
            "Total time elapsed: 00:00:00\n",
            "0% [██████████████████████████████] 100% | ETA: 00:00:00\n",
            "Total time elapsed: 00:00:01\n",
            "0% [██████████████████████████████] 100% | ETA: 00:00:00"
          ],
          "name": "stderr"
        },
        {
          "output_type": "stream",
          "text": [
            "| Epoch: 13 | Train Loss: 0.505 | Train Acc: 75.49% | Val. Loss: 0.532 | Val. Acc: 73.26% |\n"
          ],
          "name": "stdout"
        },
        {
          "output_type": "stream",
          "text": [
            "\n",
            "Total time elapsed: 00:00:00\n",
            "0% [██████████████████████████████] 100% | ETA: 00:00:00\n",
            "Total time elapsed: 00:00:01\n",
            "0% [██████████████████████████████] 100% | ETA: 00:00:00"
          ],
          "name": "stderr"
        },
        {
          "output_type": "stream",
          "text": [
            "| Epoch: 14 | Train Loss: 0.487 | Train Acc: 76.38% | Val. Loss: 0.525 | Val. Acc: 74.05% |\n"
          ],
          "name": "stdout"
        },
        {
          "output_type": "stream",
          "text": [
            "\n",
            "Total time elapsed: 00:00:00\n",
            "0% [██████████████████████████████] 100% | ETA: 00:00:00\n",
            "Total time elapsed: 00:00:01\n",
            "0% [██████████████████████████████] 100% | ETA: 00:00:00"
          ],
          "name": "stderr"
        },
        {
          "output_type": "stream",
          "text": [
            "| Epoch: 15 | Train Loss: 0.478 | Train Acc: 76.88% | Val. Loss: 0.521 | Val. Acc: 74.10% |\n"
          ],
          "name": "stdout"
        },
        {
          "output_type": "stream",
          "text": [
            "\n",
            "Total time elapsed: 00:00:00\n",
            "0% [██████████████████████████████] 100% | ETA: 00:00:00\n",
            "Total time elapsed: 00:00:01\n",
            "0% [██████████████████████████████] 100% | ETA: 00:00:00"
          ],
          "name": "stderr"
        },
        {
          "output_type": "stream",
          "text": [
            "| Epoch: 16 | Train Loss: 0.474 | Train Acc: 77.14% | Val. Loss: 0.532 | Val. Acc: 73.82% |\n"
          ],
          "name": "stdout"
        },
        {
          "output_type": "stream",
          "text": [
            "\n",
            "Total time elapsed: 00:00:00\n",
            "0% [██████████████████████████████] 100% | ETA: 00:00:00\n",
            "Total time elapsed: 00:00:01\n",
            "0% [██████████████████████████████] 100% | ETA: 00:00:00"
          ],
          "name": "stderr"
        },
        {
          "output_type": "stream",
          "text": [
            "| Epoch: 17 | Train Loss: 0.468 | Train Acc: 77.56% | Val. Loss: 0.515 | Val. Acc: 75.38% |\n"
          ],
          "name": "stdout"
        },
        {
          "output_type": "stream",
          "text": [
            "\n",
            "Total time elapsed: 00:00:00\n",
            "0% [██████████████████████████████] 100% | ETA: 00:00:00\n",
            "Total time elapsed: 00:00:01\n",
            "0% [██████████████████████████████] 100% | ETA: 00:00:00"
          ],
          "name": "stderr"
        },
        {
          "output_type": "stream",
          "text": [
            "| Epoch: 18 | Train Loss: 0.464 | Train Acc: 78.29% | Val. Loss: 0.516 | Val. Acc: 75.01% |\n"
          ],
          "name": "stdout"
        },
        {
          "output_type": "stream",
          "text": [
            "\n",
            "Total time elapsed: 00:00:00\n",
            "0% [██████████████████████████████] 100% | ETA: 00:00:00\n",
            "Total time elapsed: 00:00:01\n",
            "0% [██████████████████████████████] 100% | ETA: 00:00:00"
          ],
          "name": "stderr"
        },
        {
          "output_type": "stream",
          "text": [
            "| Epoch: 19 | Train Loss: 0.458 | Train Acc: 78.33% | Val. Loss: 0.516 | Val. Acc: 74.36% |\n"
          ],
          "name": "stdout"
        },
        {
          "output_type": "stream",
          "text": [
            "\n",
            "Total time elapsed: 00:00:00\n",
            "0% [██████████████████████████████] 100% | ETA: 00:00:00\n",
            "Total time elapsed: 00:00:01\n",
            "0% [██████████████████████████████] 100% | ETA: 00:00:00"
          ],
          "name": "stderr"
        },
        {
          "output_type": "stream",
          "text": [
            "| Epoch: 20 | Train Loss: 0.444 | Train Acc: 78.79% | Val. Loss: 0.505 | Val. Acc: 75.66% |\n"
          ],
          "name": "stdout"
        },
        {
          "output_type": "stream",
          "text": [
            "\n",
            "Total time elapsed: 00:00:00\n",
            "0% [██████████████████████████████] 100% | ETA: 00:00:00\n",
            "Total time elapsed: 00:00:01\n",
            "0% [██████████████████████████████] 100% | ETA: 00:00:00"
          ],
          "name": "stderr"
        },
        {
          "output_type": "stream",
          "text": [
            "| Epoch: 21 | Train Loss: 0.439 | Train Acc: 79.25% | Val. Loss: 0.501 | Val. Acc: 75.57% |\n"
          ],
          "name": "stdout"
        },
        {
          "output_type": "stream",
          "text": [
            "\n",
            "Total time elapsed: 00:00:00\n",
            "0% [██████████████████████████████] 100% | ETA: 00:00:00\n",
            "Total time elapsed: 00:00:01\n",
            "0% [██████████████████████████████] 100% | ETA: 00:00:00"
          ],
          "name": "stderr"
        },
        {
          "output_type": "stream",
          "text": [
            "| Epoch: 22 | Train Loss: 0.443 | Train Acc: 79.47% | Val. Loss: 0.502 | Val. Acc: 75.73% |\n"
          ],
          "name": "stdout"
        },
        {
          "output_type": "stream",
          "text": [
            "\n",
            "Total time elapsed: 00:00:00\n",
            "0% [██████████████████████████████] 100% | ETA: 00:00:00\n",
            "Total time elapsed: 00:00:01\n",
            "0% [██████████████████████████████] 100% | ETA: 00:00:00"
          ],
          "name": "stderr"
        },
        {
          "output_type": "stream",
          "text": [
            "| Epoch: 23 | Train Loss: 0.423 | Train Acc: 80.58% | Val. Loss: 0.497 | Val. Acc: 75.97% |\n"
          ],
          "name": "stdout"
        },
        {
          "output_type": "stream",
          "text": [
            "\n",
            "Total time elapsed: 00:00:00\n",
            "0% [██████████████████████████████] 100% | ETA: 00:00:00\n",
            "Total time elapsed: 00:00:01\n",
            "0% [██████████████████████████████] 100% | ETA: 00:00:00"
          ],
          "name": "stderr"
        },
        {
          "output_type": "stream",
          "text": [
            "| Epoch: 24 | Train Loss: 0.428 | Train Acc: 80.29% | Val. Loss: 0.508 | Val. Acc: 75.62% |\n"
          ],
          "name": "stdout"
        },
        {
          "output_type": "stream",
          "text": [
            "\n",
            "Total time elapsed: 00:00:00\n",
            "0% [██████████████████████████████] 100% | ETA: 00:00:00\n",
            "Total time elapsed: 00:00:01\n",
            "0% [██████████████████████████████] 100% | ETA: 00:00:00"
          ],
          "name": "stderr"
        },
        {
          "output_type": "stream",
          "text": [
            "| Epoch: 25 | Train Loss: 0.426 | Train Acc: 80.58% | Val. Loss: 0.493 | Val. Acc: 75.90% |\n"
          ],
          "name": "stdout"
        },
        {
          "output_type": "stream",
          "text": [
            "\n",
            "Total time elapsed: 00:00:00\n",
            "0% [██████████████████████████████] 100% | ETA: 00:00:00\n",
            "Total time elapsed: 00:00:01\n",
            "0% [██████████████████████████████] 100% | ETA: 00:00:00"
          ],
          "name": "stderr"
        },
        {
          "output_type": "stream",
          "text": [
            "| Epoch: 26 | Train Loss: 0.409 | Train Acc: 80.50% | Val. Loss: 0.492 | Val. Acc: 75.96% |\n"
          ],
          "name": "stdout"
        },
        {
          "output_type": "stream",
          "text": [
            "\n",
            "Total time elapsed: 00:00:00\n",
            "0% [██████████████████████████████] 100% | ETA: 00:00:00\n",
            "Total time elapsed: 00:00:01\n",
            "0% [██████████████████████████████] 100% | ETA: 00:00:00"
          ],
          "name": "stderr"
        },
        {
          "output_type": "stream",
          "text": [
            "| Epoch: 27 | Train Loss: 0.412 | Train Acc: 80.96% | Val. Loss: 0.490 | Val. Acc: 76.34% |\n"
          ],
          "name": "stdout"
        },
        {
          "output_type": "stream",
          "text": [
            "\n",
            "Total time elapsed: 00:00:00\n",
            "0% [██████████████████████████████] 100% | ETA: 00:00:00\n",
            "Total time elapsed: 00:00:01\n",
            "0% [██████████████████████████████] 100% | ETA: 00:00:00"
          ],
          "name": "stderr"
        },
        {
          "output_type": "stream",
          "text": [
            "| Epoch: 28 | Train Loss: 0.404 | Train Acc: 81.54% | Val. Loss: 0.485 | Val. Acc: 76.39% |\n"
          ],
          "name": "stdout"
        },
        {
          "output_type": "stream",
          "text": [
            "\n",
            "Total time elapsed: 00:00:00\n",
            "0% [██████████████████████████████] 100% | ETA: 00:00:00\n",
            "Total time elapsed: 00:00:01\n",
            "0% [██████████████████████████████] 100% | ETA: 00:00:00"
          ],
          "name": "stderr"
        },
        {
          "output_type": "stream",
          "text": [
            "| Epoch: 29 | Train Loss: 0.397 | Train Acc: 81.97% | Val. Loss: 0.491 | Val. Acc: 76.76% |\n"
          ],
          "name": "stdout"
        },
        {
          "output_type": "stream",
          "text": [
            "\n",
            "Total time elapsed: 00:00:00\n",
            "0% [██████████████████████████████] 100% | ETA: 00:00:00\n",
            "Total time elapsed: 00:00:01\n",
            "0% [██████████████████████████████] 100% | ETA: 00:00:00"
          ],
          "name": "stderr"
        },
        {
          "output_type": "stream",
          "text": [
            "| Epoch: 30 | Train Loss: 0.396 | Train Acc: 81.69% | Val. Loss: 0.488 | Val. Acc: 76.46% |\n"
          ],
          "name": "stdout"
        },
        {
          "output_type": "stream",
          "text": [
            "\n",
            "Total time elapsed: 00:00:00\n",
            "0% [██████████████████████████████] 100% | ETA: 00:00:00\n",
            "Total time elapsed: 00:00:01\n",
            "0% [██████████████████████████████] 100% | ETA: 00:00:00"
          ],
          "name": "stderr"
        },
        {
          "output_type": "stream",
          "text": [
            "| Epoch: 31 | Train Loss: 0.392 | Train Acc: 82.23% | Val. Loss: 0.487 | Val. Acc: 76.83% |\n"
          ],
          "name": "stdout"
        },
        {
          "output_type": "stream",
          "text": [
            "\n",
            "Total time elapsed: 00:00:00\n",
            "0% [██████████████████████████████] 100% | ETA: 00:00:00\n",
            "Total time elapsed: 00:00:01\n",
            "0% [██████████████████████████████] 100% | ETA: 00:00:00"
          ],
          "name": "stderr"
        },
        {
          "output_type": "stream",
          "text": [
            "| Epoch: 32 | Train Loss: 0.387 | Train Acc: 83.04% | Val. Loss: 0.485 | Val. Acc: 76.92% |\n"
          ],
          "name": "stdout"
        },
        {
          "output_type": "stream",
          "text": [
            "\n",
            "Total time elapsed: 00:00:00\n",
            "0% [██████████████████████████████] 100% | ETA: 00:00:00\n",
            "Total time elapsed: 00:00:01\n",
            "0% [██████████████████████████████] 100% | ETA: 00:00:00"
          ],
          "name": "stderr"
        },
        {
          "output_type": "stream",
          "text": [
            "| Epoch: 33 | Train Loss: 0.390 | Train Acc: 82.81% | Val. Loss: 0.481 | Val. Acc: 76.78% |\n"
          ],
          "name": "stdout"
        },
        {
          "output_type": "stream",
          "text": [
            "\n",
            "Total time elapsed: 00:00:00\n",
            "0% [██████████████████████████████] 100% | ETA: 00:00:00\n",
            "Total time elapsed: 00:00:01\n",
            "0% [██████████████████████████████] 100% | ETA: 00:00:00"
          ],
          "name": "stderr"
        },
        {
          "output_type": "stream",
          "text": [
            "| Epoch: 34 | Train Loss: 0.372 | Train Acc: 83.10% | Val. Loss: 0.493 | Val. Acc: 76.90% |\n"
          ],
          "name": "stdout"
        },
        {
          "output_type": "stream",
          "text": [
            "\n",
            "Total time elapsed: 00:00:00\n",
            "0% [██████████████████████████████] 100% | ETA: 00:00:00\n",
            "Total time elapsed: 00:00:01\n",
            "0% [██████████████████████████████] 100% | ETA: 00:00:00"
          ],
          "name": "stderr"
        },
        {
          "output_type": "stream",
          "text": [
            "| Epoch: 35 | Train Loss: 0.371 | Train Acc: 82.60% | Val. Loss: 0.497 | Val. Acc: 76.44% |\n"
          ],
          "name": "stdout"
        },
        {
          "output_type": "stream",
          "text": [
            "\n",
            "Total time elapsed: 00:00:00\n",
            "0% [██████████████████████████████] 100% | ETA: 00:00:00\n",
            "Total time elapsed: 00:00:01\n",
            "0% [██████████████████████████████] 100% | ETA: 00:00:00"
          ],
          "name": "stderr"
        },
        {
          "output_type": "stream",
          "text": [
            "| Epoch: 36 | Train Loss: 0.363 | Train Acc: 83.57% | Val. Loss: 0.473 | Val. Acc: 76.70% |\n"
          ],
          "name": "stdout"
        },
        {
          "output_type": "stream",
          "text": [
            "\n",
            "Total time elapsed: 00:00:00\n",
            "0% [██████████████████████████████] 100% | ETA: 00:00:00\n",
            "Total time elapsed: 00:00:01\n",
            "0% [██████████████████████████████] 100% | ETA: 00:00:00"
          ],
          "name": "stderr"
        },
        {
          "output_type": "stream",
          "text": [
            "| Epoch: 37 | Train Loss: 0.367 | Train Acc: 83.58% | Val. Loss: 0.482 | Val. Acc: 77.46% |\n"
          ],
          "name": "stdout"
        },
        {
          "output_type": "stream",
          "text": [
            "\n",
            "Total time elapsed: 00:00:00\n",
            "0% [██████████████████████████████] 100% | ETA: 00:00:00\n",
            "Total time elapsed: 00:00:01\n",
            "0% [██████████████████████████████] 100% | ETA: 00:00:00"
          ],
          "name": "stderr"
        },
        {
          "output_type": "stream",
          "text": [
            "| Epoch: 38 | Train Loss: 0.358 | Train Acc: 84.29% | Val. Loss: 0.473 | Val. Acc: 77.15% |\n"
          ],
          "name": "stdout"
        },
        {
          "output_type": "stream",
          "text": [
            "\n",
            "Total time elapsed: 00:00:00\n",
            "0% [██████████████████████████████] 100% | ETA: 00:00:00\n",
            "Total time elapsed: 00:00:01\n",
            "0% [██████████████████████████████] 100% | ETA: 00:00:00"
          ],
          "name": "stderr"
        },
        {
          "output_type": "stream",
          "text": [
            "| Epoch: 39 | Train Loss: 0.351 | Train Acc: 84.30% | Val. Loss: 0.483 | Val. Acc: 77.18% |\n"
          ],
          "name": "stdout"
        },
        {
          "output_type": "stream",
          "text": [
            "\n",
            "Total time elapsed: 00:00:00\n",
            "0% [██████████████████████████████] 100% | ETA: 00:00:00\n",
            "Total time elapsed: 00:00:01\n",
            "0% [██████████████████████████████] 100% | ETA: 00:00:00"
          ],
          "name": "stderr"
        },
        {
          "output_type": "stream",
          "text": [
            "| Epoch: 40 | Train Loss: 0.344 | Train Acc: 84.77% | Val. Loss: 0.481 | Val. Acc: 77.18% |\n"
          ],
          "name": "stdout"
        },
        {
          "output_type": "stream",
          "text": [
            "\n",
            "Total time elapsed: 00:00:00\n",
            "0% [██████████████████████████████] 100% | ETA: 00:00:00\n",
            "Total time elapsed: 00:00:01\n",
            "0% [██████████████████████████████] 100% | ETA: 00:00:00"
          ],
          "name": "stderr"
        },
        {
          "output_type": "stream",
          "text": [
            "| Epoch: 41 | Train Loss: 0.339 | Train Acc: 84.81% | Val. Loss: 0.479 | Val. Acc: 77.37% |\n"
          ],
          "name": "stdout"
        },
        {
          "output_type": "stream",
          "text": [
            "\n",
            "Total time elapsed: 00:00:00\n",
            "0% [██████████████████████████████] 100% | ETA: 00:00:00\n",
            "Total time elapsed: 00:00:01\n",
            "0% [██████████████████████████████] 100% | ETA: 00:00:00"
          ],
          "name": "stderr"
        },
        {
          "output_type": "stream",
          "text": [
            "| Epoch: 42 | Train Loss: 0.353 | Train Acc: 84.42% | Val. Loss: 0.486 | Val. Acc: 77.65% |\n"
          ],
          "name": "stdout"
        },
        {
          "output_type": "stream",
          "text": [
            "\n",
            "Total time elapsed: 00:00:00\n",
            "0% [██████████████████████████████] 100% | ETA: 00:00:00\n",
            "Total time elapsed: 00:00:01\n",
            "0% [██████████████████████████████] 100% | ETA: 00:00:00"
          ],
          "name": "stderr"
        },
        {
          "output_type": "stream",
          "text": [
            "| Epoch: 43 | Train Loss: 0.341 | Train Acc: 84.73% | Val. Loss: 0.488 | Val. Acc: 77.09% |\n"
          ],
          "name": "stdout"
        },
        {
          "output_type": "stream",
          "text": [
            "\n",
            "Total time elapsed: 00:00:00\n",
            "0% [██████████████████████████████] 100% | ETA: 00:00:00\n",
            "Total time elapsed: 00:00:01\n",
            "0% [██████████████████████████████] 100% | ETA: 00:00:00"
          ],
          "name": "stderr"
        },
        {
          "output_type": "stream",
          "text": [
            "| Epoch: 44 | Train Loss: 0.331 | Train Acc: 85.53% | Val. Loss: 0.477 | Val. Acc: 77.93% |\n"
          ],
          "name": "stdout"
        },
        {
          "output_type": "stream",
          "text": [
            "\n",
            "Total time elapsed: 00:00:00\n",
            "0% [██████████████████████████████] 100% | ETA: 00:00:00\n",
            "Total time elapsed: 00:00:01\n",
            "0% [██████████████████████████████] 100% | ETA: 00:00:00"
          ],
          "name": "stderr"
        },
        {
          "output_type": "stream",
          "text": [
            "| Epoch: 45 | Train Loss: 0.324 | Train Acc: 85.74% | Val. Loss: 0.495 | Val. Acc: 77.04% |\n"
          ],
          "name": "stdout"
        },
        {
          "output_type": "stream",
          "text": [
            "\n",
            "Total time elapsed: 00:00:00\n",
            "0% [██████████████████████████████] 100% | ETA: 00:00:00\n",
            "Total time elapsed: 00:00:01\n",
            "0% [██████████████████████████████] 100% | ETA: 00:00:00"
          ],
          "name": "stderr"
        },
        {
          "output_type": "stream",
          "text": [
            "| Epoch: 46 | Train Loss: 0.321 | Train Acc: 85.80% | Val. Loss: 0.484 | Val. Acc: 77.79% |\n"
          ],
          "name": "stdout"
        },
        {
          "output_type": "stream",
          "text": [
            "\n",
            "Total time elapsed: 00:00:00\n",
            "0% [██████████████████████████████] 100% | ETA: 00:00:00\n",
            "Total time elapsed: 00:00:01\n",
            "0% [██████████████████████████████] 100% | ETA: 00:00:00"
          ],
          "name": "stderr"
        },
        {
          "output_type": "stream",
          "text": [
            "| Epoch: 47 | Train Loss: 0.325 | Train Acc: 85.79% | Val. Loss: 0.495 | Val. Acc: 77.51% |\n"
          ],
          "name": "stdout"
        },
        {
          "output_type": "stream",
          "text": [
            "\n",
            "Total time elapsed: 00:00:00\n",
            "0% [██████████████████████████████] 100% | ETA: 00:00:00\n",
            "Total time elapsed: 00:00:01\n",
            "0% [██████████████████████████████] 100% | ETA: 00:00:00"
          ],
          "name": "stderr"
        },
        {
          "output_type": "stream",
          "text": [
            "| Epoch: 48 | Train Loss: 0.316 | Train Acc: 86.49% | Val. Loss: 0.479 | Val. Acc: 77.65% |\n"
          ],
          "name": "stdout"
        },
        {
          "output_type": "stream",
          "text": [
            "\n",
            "Total time elapsed: 00:00:00\n",
            "0% [██████████████████████████████] 100% | ETA: 00:00:00\n",
            "Total time elapsed: 00:00:01\n",
            "0% [██████████████████████████████] 100% | ETA: 00:00:00"
          ],
          "name": "stderr"
        },
        {
          "output_type": "stream",
          "text": [
            "| Epoch: 49 | Train Loss: 0.306 | Train Acc: 86.77% | Val. Loss: 0.470 | Val. Acc: 77.82% |\n"
          ],
          "name": "stdout"
        },
        {
          "output_type": "stream",
          "text": [
            "\n",
            "Total time elapsed: 00:00:00\n",
            "0% [██████████████████████████████] 100% | ETA: 00:00:00\n",
            "Total time elapsed: 00:00:01\n",
            "0% [██████████████████████████████] 100% | ETA: 00:00:00"
          ],
          "name": "stderr"
        },
        {
          "output_type": "stream",
          "text": [
            "| Epoch: 50 | Train Loss: 0.309 | Train Acc: 86.58% | Val. Loss: 0.486 | Val. Acc: 77.56% |\n"
          ],
          "name": "stdout"
        },
        {
          "output_type": "stream",
          "text": [
            "\n",
            "Total time elapsed: 00:00:00\n",
            "0% [██████████████████████████████] 100% | ETA: 00:00:00\n",
            "Total time elapsed: 00:00:01\n",
            "0% [██████████████████████████████] 100% | ETA: 00:00:00"
          ],
          "name": "stderr"
        },
        {
          "output_type": "stream",
          "text": [
            "| Epoch: 51 | Train Loss: 0.306 | Train Acc: 86.88% | Val. Loss: 0.486 | Val. Acc: 77.63% |\n"
          ],
          "name": "stdout"
        },
        {
          "output_type": "stream",
          "text": [
            "\n",
            "Total time elapsed: 00:00:00\n",
            "0% [██████████████████████████████] 100% | ETA: 00:00:00\n",
            "Total time elapsed: 00:00:01\n",
            "0% [██████████████████████████████] 100% | ETA: 00:00:00"
          ],
          "name": "stderr"
        },
        {
          "output_type": "stream",
          "text": [
            "| Epoch: 52 | Train Loss: 0.295 | Train Acc: 87.75% | Val. Loss: 0.507 | Val. Acc: 77.00% |\n"
          ],
          "name": "stdout"
        },
        {
          "output_type": "stream",
          "text": [
            "\n",
            "Total time elapsed: 00:00:00\n",
            "0% [██████████████████████████████] 100% | ETA: 00:00:00\n",
            "Total time elapsed: 00:00:01\n",
            "0% [██████████████████████████████] 100% | ETA: 00:00:00"
          ],
          "name": "stderr"
        },
        {
          "output_type": "stream",
          "text": [
            "| Epoch: 53 | Train Loss: 0.296 | Train Acc: 87.21% | Val. Loss: 0.481 | Val. Acc: 77.65% |\n"
          ],
          "name": "stdout"
        },
        {
          "output_type": "stream",
          "text": [
            "\n",
            "Total time elapsed: 00:00:00\n",
            "0% [██████████████████████████████] 100% | ETA: 00:00:00\n",
            "Total time elapsed: 00:00:01\n",
            "0% [██████████████████████████████] 100% | ETA: 00:00:00"
          ],
          "name": "stderr"
        },
        {
          "output_type": "stream",
          "text": [
            "| Epoch: 54 | Train Loss: 0.282 | Train Acc: 88.01% | Val. Loss: 0.500 | Val. Acc: 77.37% |\n"
          ],
          "name": "stdout"
        },
        {
          "output_type": "stream",
          "text": [
            "\n",
            "Total time elapsed: 00:00:00\n",
            "0% [██████████████████████████████] 100% | ETA: 00:00:00\n",
            "Total time elapsed: 00:00:01\n",
            "0% [██████████████████████████████] 100% | ETA: 00:00:00"
          ],
          "name": "stderr"
        },
        {
          "output_type": "stream",
          "text": [
            "| Epoch: 55 | Train Loss: 0.297 | Train Acc: 87.39% | Val. Loss: 0.489 | Val. Acc: 77.40% |\n"
          ],
          "name": "stdout"
        },
        {
          "output_type": "stream",
          "text": [
            "\n",
            "Total time elapsed: 00:00:00\n",
            "0% [██████████████████████████████] 100% | ETA: 00:00:00\n",
            "Total time elapsed: 00:00:01\n",
            "0% [██████████████████████████████] 100% | ETA: 00:00:00"
          ],
          "name": "stderr"
        },
        {
          "output_type": "stream",
          "text": [
            "| Epoch: 56 | Train Loss: 0.285 | Train Acc: 87.94% | Val. Loss: 0.484 | Val. Acc: 77.56% |\n"
          ],
          "name": "stdout"
        },
        {
          "output_type": "stream",
          "text": [
            "\n",
            "Total time elapsed: 00:00:00\n",
            "0% [██████████████████████████████] 100% | ETA: 00:00:00\n",
            "Total time elapsed: 00:00:01\n",
            "0% [██████████████████████████████] 100% | ETA: 00:00:00"
          ],
          "name": "stderr"
        },
        {
          "output_type": "stream",
          "text": [
            "| Epoch: 57 | Train Loss: 0.278 | Train Acc: 87.95% | Val. Loss: 0.489 | Val. Acc: 77.84% |\n"
          ],
          "name": "stdout"
        },
        {
          "output_type": "stream",
          "text": [
            "\n",
            "Total time elapsed: 00:00:00\n",
            "0% [██████████████████████████████] 100% | ETA: 00:00:00\n",
            "Total time elapsed: 00:00:01\n",
            "0% [██████████████████████████████] 100% | ETA: 00:00:00"
          ],
          "name": "stderr"
        },
        {
          "output_type": "stream",
          "text": [
            "| Epoch: 58 | Train Loss: 0.271 | Train Acc: 88.49% | Val. Loss: 0.484 | Val. Acc: 77.98% |\n"
          ],
          "name": "stdout"
        },
        {
          "output_type": "stream",
          "text": [
            "\n",
            "Total time elapsed: 00:00:00\n",
            "0% [██████████████████████████████] 100% | ETA: 00:00:00\n",
            "Total time elapsed: 00:00:01\n",
            "0% [██████████████████████████████] 100% | ETA: 00:00:00"
          ],
          "name": "stderr"
        },
        {
          "output_type": "stream",
          "text": [
            "| Epoch: 59 | Train Loss: 0.271 | Train Acc: 88.56% | Val. Loss: 0.485 | Val. Acc: 77.93% |\n"
          ],
          "name": "stdout"
        },
        {
          "output_type": "stream",
          "text": [
            "\n",
            "Total time elapsed: 00:00:00\n",
            "0% [██████████████████████████████] 100% | ETA: 00:00:00\n",
            "Total time elapsed: 00:00:01\n",
            "0% [██████████████████████████████] 100% | ETA: 00:00:00"
          ],
          "name": "stderr"
        },
        {
          "output_type": "stream",
          "text": [
            "| Epoch: 60 | Train Loss: 0.265 | Train Acc: 88.88% | Val. Loss: 0.499 | Val. Acc: 77.49% |\n"
          ],
          "name": "stdout"
        },
        {
          "output_type": "stream",
          "text": [
            "\n",
            "Total time elapsed: 00:00:00\n",
            "0% [██████████████████████████████] 100% | ETA: 00:00:00\n",
            "Total time elapsed: 00:00:01\n",
            "0% [██████████████████████████████] 100% | ETA: 00:00:00"
          ],
          "name": "stderr"
        },
        {
          "output_type": "stream",
          "text": [
            "| Epoch: 61 | Train Loss: 0.263 | Train Acc: 89.00% | Val. Loss: 0.493 | Val. Acc: 78.05% |\n"
          ],
          "name": "stdout"
        },
        {
          "output_type": "stream",
          "text": [
            "\n",
            "Total time elapsed: 00:00:00\n",
            "0% [██████████████████████████████] 100% | ETA: 00:00:00\n",
            "Total time elapsed: 00:00:01\n",
            "0% [██████████████████████████████] 100% | ETA: 00:00:00"
          ],
          "name": "stderr"
        },
        {
          "output_type": "stream",
          "text": [
            "| Epoch: 62 | Train Loss: 0.265 | Train Acc: 88.95% | Val. Loss: 0.510 | Val. Acc: 76.62% |\n"
          ],
          "name": "stdout"
        },
        {
          "output_type": "stream",
          "text": [
            "\n",
            "Total time elapsed: 00:00:00\n",
            "0% [██████████████████████████████] 100% | ETA: 00:00:00\n",
            "Total time elapsed: 00:00:01\n",
            "0% [██████████████████████████████] 100% | ETA: 00:00:00"
          ],
          "name": "stderr"
        },
        {
          "output_type": "stream",
          "text": [
            "| Epoch: 63 | Train Loss: 0.260 | Train Acc: 88.99% | Val. Loss: 0.491 | Val. Acc: 77.49% |\n"
          ],
          "name": "stdout"
        },
        {
          "output_type": "stream",
          "text": [
            "\n",
            "Total time elapsed: 00:00:00\n",
            "0% [██████████████████████████████] 100% | ETA: 00:00:00\n",
            "Total time elapsed: 00:00:01\n",
            "0% [██████████████████████████████] 100% | ETA: 00:00:00"
          ],
          "name": "stderr"
        },
        {
          "output_type": "stream",
          "text": [
            "| Epoch: 64 | Train Loss: 0.247 | Train Acc: 89.90% | Val. Loss: 0.517 | Val. Acc: 78.10% |\n"
          ],
          "name": "stdout"
        },
        {
          "output_type": "stream",
          "text": [
            "\n",
            "Total time elapsed: 00:00:00\n",
            "0% [██████████████████████████████] 100% | ETA: 00:00:00\n",
            "Total time elapsed: 00:00:01\n",
            "0% [██████████████████████████████] 100% | ETA: 00:00:00"
          ],
          "name": "stderr"
        },
        {
          "output_type": "stream",
          "text": [
            "| Epoch: 65 | Train Loss: 0.245 | Train Acc: 89.46% | Val. Loss: 0.498 | Val. Acc: 78.26% |\n"
          ],
          "name": "stdout"
        },
        {
          "output_type": "stream",
          "text": [
            "\n",
            "Total time elapsed: 00:00:00\n",
            "0% [██████████████████████████████] 100% | ETA: 00:00:00\n",
            "Total time elapsed: 00:00:01\n",
            "0% [██████████████████████████████] 100% | ETA: 00:00:00"
          ],
          "name": "stderr"
        },
        {
          "output_type": "stream",
          "text": [
            "| Epoch: 66 | Train Loss: 0.255 | Train Acc: 88.78% | Val. Loss: 0.521 | Val. Acc: 78.07% |\n"
          ],
          "name": "stdout"
        },
        {
          "output_type": "stream",
          "text": [
            "\n",
            "Total time elapsed: 00:00:00\n",
            "0% [██████████████████████████████] 100% | ETA: 00:00:00\n",
            "Total time elapsed: 00:00:01\n",
            "0% [██████████████████████████████] 100% | ETA: 00:00:00"
          ],
          "name": "stderr"
        },
        {
          "output_type": "stream",
          "text": [
            "| Epoch: 67 | Train Loss: 0.250 | Train Acc: 89.40% | Val. Loss: 0.509 | Val. Acc: 77.40% |\n"
          ],
          "name": "stdout"
        },
        {
          "output_type": "stream",
          "text": [
            "\n",
            "Total time elapsed: 00:00:00\n",
            "0% [██████████████████████████████] 100% | ETA: 00:00:00\n",
            "Total time elapsed: 00:00:01\n",
            "0% [██████████████████████████████] 100% | ETA: 00:00:00"
          ],
          "name": "stderr"
        },
        {
          "output_type": "stream",
          "text": [
            "| Epoch: 68 | Train Loss: 0.245 | Train Acc: 89.67% | Val. Loss: 0.509 | Val. Acc: 78.47% |\n"
          ],
          "name": "stdout"
        },
        {
          "output_type": "stream",
          "text": [
            "\n",
            "Total time elapsed: 00:00:00\n",
            "0% [██████████████████████████████] 100% | ETA: 00:00:00\n",
            "Total time elapsed: 00:00:01\n",
            "0% [██████████████████████████████] 100% | ETA: 00:00:00"
          ],
          "name": "stderr"
        },
        {
          "output_type": "stream",
          "text": [
            "| Epoch: 69 | Train Loss: 0.233 | Train Acc: 90.33% | Val. Loss: 0.519 | Val. Acc: 77.37% |\n"
          ],
          "name": "stdout"
        },
        {
          "output_type": "stream",
          "text": [
            "\n",
            "Total time elapsed: 00:00:00\n",
            "0% [██████████████████████████████] 100% | ETA: 00:00:00\n",
            "Total time elapsed: 00:00:01\n",
            "0% [██████████████████████████████] 100% | ETA: 00:00:00"
          ],
          "name": "stderr"
        },
        {
          "output_type": "stream",
          "text": [
            "| Epoch: 70 | Train Loss: 0.237 | Train Acc: 90.07% | Val. Loss: 0.506 | Val. Acc: 77.86% |\n"
          ],
          "name": "stdout"
        },
        {
          "output_type": "stream",
          "text": [
            "\n",
            "Total time elapsed: 00:00:00\n",
            "0% [██████████████████████████████] 100% | ETA: 00:00:00\n",
            "Total time elapsed: 00:00:01\n",
            "0% [██████████████████████████████] 100% | ETA: 00:00:00"
          ],
          "name": "stderr"
        },
        {
          "output_type": "stream",
          "text": [
            "| Epoch: 71 | Train Loss: 0.230 | Train Acc: 90.35% | Val. Loss: 0.538 | Val. Acc: 76.88% |\n"
          ],
          "name": "stdout"
        },
        {
          "output_type": "stream",
          "text": [
            "\n",
            "Total time elapsed: 00:00:00\n",
            "0% [██████████████████████████████] 100% | ETA: 00:00:00\n",
            "Total time elapsed: 00:00:01\n",
            "0% [██████████████████████████████] 100% | ETA: 00:00:00"
          ],
          "name": "stderr"
        },
        {
          "output_type": "stream",
          "text": [
            "| Epoch: 72 | Train Loss: 0.231 | Train Acc: 90.24% | Val. Loss: 0.553 | Val. Acc: 77.26% |\n"
          ],
          "name": "stdout"
        },
        {
          "output_type": "stream",
          "text": [
            "\n",
            "Total time elapsed: 00:00:00\n",
            "0% [██████████████████████████████] 100% | ETA: 00:00:00\n",
            "Total time elapsed: 00:00:01\n",
            "0% [██████████████████████████████] 100% | ETA: 00:00:00"
          ],
          "name": "stderr"
        },
        {
          "output_type": "stream",
          "text": [
            "| Epoch: 73 | Train Loss: 0.226 | Train Acc: 90.65% | Val. Loss: 0.508 | Val. Acc: 78.30% |\n"
          ],
          "name": "stdout"
        },
        {
          "output_type": "stream",
          "text": [
            "\n",
            "Total time elapsed: 00:00:00\n",
            "0% [██████████████████████████████] 100% | ETA: 00:00:00\n",
            "Total time elapsed: 00:00:01\n",
            "0% [██████████████████████████████] 100% | ETA: 00:00:00"
          ],
          "name": "stderr"
        },
        {
          "output_type": "stream",
          "text": [
            "| Epoch: 74 | Train Loss: 0.219 | Train Acc: 90.83% | Val. Loss: 0.590 | Val. Acc: 76.44% |\n"
          ],
          "name": "stdout"
        },
        {
          "output_type": "stream",
          "text": [
            "\n",
            "Total time elapsed: 00:00:00\n",
            "0% [██████████████████████████████] 100% | ETA: 00:00:00\n",
            "Total time elapsed: 00:00:01\n",
            "0% [██████████████████████████████] 100% | ETA: 00:00:00"
          ],
          "name": "stderr"
        },
        {
          "output_type": "stream",
          "text": [
            "| Epoch: 75 | Train Loss: 0.220 | Train Acc: 90.68% | Val. Loss: 0.514 | Val. Acc: 78.28% |\n"
          ],
          "name": "stdout"
        },
        {
          "output_type": "stream",
          "text": [
            "\n",
            "Total time elapsed: 00:00:00\n",
            "0% [██████████████████████████████] 100% | ETA: 00:00:00\n",
            "Total time elapsed: 00:00:01\n",
            "0% [██████████████████████████████] 100% | ETA: 00:00:00"
          ],
          "name": "stderr"
        },
        {
          "output_type": "stream",
          "text": [
            "| Epoch: 76 | Train Loss: 0.207 | Train Acc: 91.67% | Val. Loss: 0.528 | Val. Acc: 77.58% |\n"
          ],
          "name": "stdout"
        },
        {
          "output_type": "stream",
          "text": [
            "\n",
            "Total time elapsed: 00:00:00\n",
            "0% [██████████████████████████████] 100% | ETA: 00:00:00\n",
            "Total time elapsed: 00:00:01\n",
            "0% [██████████████████████████████] 100% | ETA: 00:00:00"
          ],
          "name": "stderr"
        },
        {
          "output_type": "stream",
          "text": [
            "| Epoch: 77 | Train Loss: 0.203 | Train Acc: 91.62% | Val. Loss: 0.536 | Val. Acc: 76.88% |\n"
          ],
          "name": "stdout"
        },
        {
          "output_type": "stream",
          "text": [
            "\n",
            "Total time elapsed: 00:00:00\n",
            "0% [██████████████████████████████] 100% | ETA: 00:00:00\n",
            "Total time elapsed: 00:00:01\n",
            "0% [██████████████████████████████] 100% | ETA: 00:00:00"
          ],
          "name": "stderr"
        },
        {
          "output_type": "stream",
          "text": [
            "| Epoch: 78 | Train Loss: 0.217 | Train Acc: 91.34% | Val. Loss: 0.509 | Val. Acc: 77.96% |\n"
          ],
          "name": "stdout"
        },
        {
          "output_type": "stream",
          "text": [
            "\n",
            "Total time elapsed: 00:00:00\n",
            "0% [██████████████████████████████] 100% | ETA: 00:00:00\n",
            "Total time elapsed: 00:00:01\n",
            "0% [██████████████████████████████] 100% | ETA: 00:00:00"
          ],
          "name": "stderr"
        },
        {
          "output_type": "stream",
          "text": [
            "| Epoch: 79 | Train Loss: 0.204 | Train Acc: 91.48% | Val. Loss: 0.574 | Val. Acc: 77.72% |\n"
          ],
          "name": "stdout"
        },
        {
          "output_type": "stream",
          "text": [
            "\n",
            "Total time elapsed: 00:00:00\n",
            "0% [██████████████████████████████] 100% | ETA: 00:00:00\n",
            "Total time elapsed: 00:00:01\n",
            "0% [██████████████████████████████] 100% | ETA: 00:00:00"
          ],
          "name": "stderr"
        },
        {
          "output_type": "stream",
          "text": [
            "| Epoch: 80 | Train Loss: 0.197 | Train Acc: 91.85% | Val. Loss: 0.540 | Val. Acc: 77.91% |\n"
          ],
          "name": "stdout"
        },
        {
          "output_type": "stream",
          "text": [
            "\n",
            "Total time elapsed: 00:00:00\n",
            "0% [██████████████████████████████] 100% | ETA: 00:00:00\n",
            "Total time elapsed: 00:00:01\n",
            "0% [██████████████████████████████] 100% | ETA: 00:00:00"
          ],
          "name": "stderr"
        },
        {
          "output_type": "stream",
          "text": [
            "| Epoch: 81 | Train Loss: 0.199 | Train Acc: 92.25% | Val. Loss: 0.533 | Val. Acc: 78.10% |\n"
          ],
          "name": "stdout"
        },
        {
          "output_type": "stream",
          "text": [
            "\n",
            "Total time elapsed: 00:00:00\n",
            "0% [██████████████████████████████] 100% | ETA: 00:00:00\n",
            "Total time elapsed: 00:00:01\n",
            "0% [██████████████████████████████] 100% | ETA: 00:00:00"
          ],
          "name": "stderr"
        },
        {
          "output_type": "stream",
          "text": [
            "| Epoch: 82 | Train Loss: 0.202 | Train Acc: 91.87% | Val. Loss: 0.494 | Val. Acc: 78.30% |\n"
          ],
          "name": "stdout"
        },
        {
          "output_type": "stream",
          "text": [
            "\n",
            "Total time elapsed: 00:00:00\n",
            "0% [██████████████████████████████] 100% | ETA: 00:00:00\n",
            "Total time elapsed: 00:00:01\n",
            "0% [██████████████████████████████] 100% | ETA: 00:00:00"
          ],
          "name": "stderr"
        },
        {
          "output_type": "stream",
          "text": [
            "| Epoch: 83 | Train Loss: 0.190 | Train Acc: 92.56% | Val. Loss: 0.522 | Val. Acc: 78.86% |\n"
          ],
          "name": "stdout"
        },
        {
          "output_type": "stream",
          "text": [
            "\n",
            "Total time elapsed: 00:00:00\n",
            "0% [██████████████████████████████] 100% | ETA: 00:00:00\n",
            "Total time elapsed: 00:00:01\n",
            "0% [██████████████████████████████] 100% | ETA: 00:00:00"
          ],
          "name": "stderr"
        },
        {
          "output_type": "stream",
          "text": [
            "| Epoch: 84 | Train Loss: 0.195 | Train Acc: 92.16% | Val. Loss: 0.512 | Val. Acc: 78.54% |\n"
          ],
          "name": "stdout"
        },
        {
          "output_type": "stream",
          "text": [
            "\n",
            "Total time elapsed: 00:00:00\n",
            "0% [██████████████████████████████] 100% | ETA: 00:00:00\n",
            "Total time elapsed: 00:00:01\n",
            "0% [██████████████████████████████] 100% | ETA: 00:00:00"
          ],
          "name": "stderr"
        },
        {
          "output_type": "stream",
          "text": [
            "| Epoch: 85 | Train Loss: 0.182 | Train Acc: 92.84% | Val. Loss: 0.547 | Val. Acc: 78.49% |\n"
          ],
          "name": "stdout"
        },
        {
          "output_type": "stream",
          "text": [
            "\n",
            "Total time elapsed: 00:00:00\n",
            "0% [██████████████████████████████] 100% | ETA: 00:00:00\n",
            "Total time elapsed: 00:00:01\n",
            "0% [██████████████████████████████] 100% | ETA: 00:00:00"
          ],
          "name": "stderr"
        },
        {
          "output_type": "stream",
          "text": [
            "| Epoch: 86 | Train Loss: 0.186 | Train Acc: 92.48% | Val. Loss: 0.543 | Val. Acc: 78.42% |\n"
          ],
          "name": "stdout"
        },
        {
          "output_type": "stream",
          "text": [
            "\n",
            "Total time elapsed: 00:00:00\n",
            "0% [██████████████████████████████] 100% | ETA: 00:00:00\n",
            "Total time elapsed: 00:00:01\n",
            "0% [██████████████████████████████] 100% | ETA: 00:00:00"
          ],
          "name": "stderr"
        },
        {
          "output_type": "stream",
          "text": [
            "| Epoch: 87 | Train Loss: 0.181 | Train Acc: 92.54% | Val. Loss: 0.539 | Val. Acc: 77.91% |\n"
          ],
          "name": "stdout"
        },
        {
          "output_type": "stream",
          "text": [
            "\n",
            "Total time elapsed: 00:00:00\n",
            "0% [██████████████████████████████] 100% | ETA: 00:00:00\n",
            "Total time elapsed: 00:00:01\n",
            "0% [██████████████████████████████] 100% | ETA: 00:00:00"
          ],
          "name": "stderr"
        },
        {
          "output_type": "stream",
          "text": [
            "| Epoch: 88 | Train Loss: 0.178 | Train Acc: 92.76% | Val. Loss: 0.563 | Val. Acc: 77.26% |\n"
          ],
          "name": "stdout"
        },
        {
          "output_type": "stream",
          "text": [
            "\n",
            "Total time elapsed: 00:00:00\n",
            "0% [██████████████████████████████] 100% | ETA: 00:00:00\n",
            "Total time elapsed: 00:00:01\n",
            "0% [██████████████████████████████] 100% | ETA: 00:00:00"
          ],
          "name": "stderr"
        },
        {
          "output_type": "stream",
          "text": [
            "| Epoch: 89 | Train Loss: 0.173 | Train Acc: 93.03% | Val. Loss: 0.522 | Val. Acc: 77.96% |\n"
          ],
          "name": "stdout"
        },
        {
          "output_type": "stream",
          "text": [
            "\n",
            "Total time elapsed: 00:00:00\n",
            "0% [██████████████████████████████] 100% | ETA: 00:00:00\n",
            "Total time elapsed: 00:00:01\n",
            "0% [██████████████████████████████] 100% | ETA: 00:00:00"
          ],
          "name": "stderr"
        },
        {
          "output_type": "stream",
          "text": [
            "| Epoch: 90 | Train Loss: 0.175 | Train Acc: 92.84% | Val. Loss: 0.561 | Val. Acc: 77.91% |\n"
          ],
          "name": "stdout"
        },
        {
          "output_type": "stream",
          "text": [
            "\n",
            "Total time elapsed: 00:00:00\n",
            "0% [██████████████████████████████] 100% | ETA: 00:00:00\n",
            "Total time elapsed: 00:00:01\n",
            "0% [██████████████████████████████] 100% | ETA: 00:00:00"
          ],
          "name": "stderr"
        },
        {
          "output_type": "stream",
          "text": [
            "| Epoch: 91 | Train Loss: 0.169 | Train Acc: 92.98% | Val. Loss: 0.565 | Val. Acc: 77.77% |\n"
          ],
          "name": "stdout"
        },
        {
          "output_type": "stream",
          "text": [
            "\n",
            "Total time elapsed: 00:00:00\n",
            "0% [██████████████████████████████] 100% | ETA: 00:00:00\n",
            "Total time elapsed: 00:00:01\n",
            "0% [██████████████████████████████] 100% | ETA: 00:00:00"
          ],
          "name": "stderr"
        },
        {
          "output_type": "stream",
          "text": [
            "| Epoch: 92 | Train Loss: 0.168 | Train Acc: 93.34% | Val. Loss: 0.561 | Val. Acc: 78.77% |\n"
          ],
          "name": "stdout"
        },
        {
          "output_type": "stream",
          "text": [
            "\n",
            "Total time elapsed: 00:00:00\n",
            "0% [██████████████████████████████] 100% | ETA: 00:00:00\n",
            "Total time elapsed: 00:00:01\n",
            "0% [██████████████████████████████] 100% | ETA: 00:00:00"
          ],
          "name": "stderr"
        },
        {
          "output_type": "stream",
          "text": [
            "| Epoch: 93 | Train Loss: 0.161 | Train Acc: 93.72% | Val. Loss: 0.583 | Val. Acc: 76.84% |\n"
          ],
          "name": "stdout"
        },
        {
          "output_type": "stream",
          "text": [
            "\n",
            "Total time elapsed: 00:00:00\n",
            "0% [██████████████████████████████] 100% | ETA: 00:00:00\n",
            "Total time elapsed: 00:00:01\n",
            "0% [██████████████████████████████] 100% | ETA: 00:00:00"
          ],
          "name": "stderr"
        },
        {
          "output_type": "stream",
          "text": [
            "| Epoch: 94 | Train Loss: 0.159 | Train Acc: 93.64% | Val. Loss: 0.570 | Val. Acc: 78.10% |\n"
          ],
          "name": "stdout"
        },
        {
          "output_type": "stream",
          "text": [
            "\n",
            "Total time elapsed: 00:00:00\n",
            "0% [██████████████████████████████] 100% | ETA: 00:00:00\n",
            "Total time elapsed: 00:00:01\n",
            "0% [██████████████████████████████] 100% | ETA: 00:00:00"
          ],
          "name": "stderr"
        },
        {
          "output_type": "stream",
          "text": [
            "| Epoch: 95 | Train Loss: 0.160 | Train Acc: 93.80% | Val. Loss: 0.599 | Val. Acc: 77.63% |\n"
          ],
          "name": "stdout"
        },
        {
          "output_type": "stream",
          "text": [
            "\n",
            "Total time elapsed: 00:00:00\n",
            "0% [██████████████████████████████] 100% | ETA: 00:00:00\n",
            "Total time elapsed: 00:00:01\n",
            "0% [██████████████████████████████] 100% | ETA: 00:00:00"
          ],
          "name": "stderr"
        },
        {
          "output_type": "stream",
          "text": [
            "| Epoch: 96 | Train Loss: 0.154 | Train Acc: 93.82% | Val. Loss: 0.604 | Val. Acc: 78.28% |\n"
          ],
          "name": "stdout"
        },
        {
          "output_type": "stream",
          "text": [
            "\n",
            "Total time elapsed: 00:00:00\n",
            "0% [██████████████████████████████] 100% | ETA: 00:00:00\n",
            "Total time elapsed: 00:00:01\n",
            "0% [██████████████████████████████] 100% | ETA: 00:00:00"
          ],
          "name": "stderr"
        },
        {
          "output_type": "stream",
          "text": [
            "| Epoch: 97 | Train Loss: 0.159 | Train Acc: 93.71% | Val. Loss: 0.563 | Val. Acc: 77.86% |\n"
          ],
          "name": "stdout"
        },
        {
          "output_type": "stream",
          "text": [
            "\n",
            "Total time elapsed: 00:00:00\n",
            "0% [██████████████████████████████] 100% | ETA: 00:00:00\n",
            "Total time elapsed: 00:00:01\n",
            "0% [██████████████████████████████] 100% | ETA: 00:00:00"
          ],
          "name": "stderr"
        },
        {
          "output_type": "stream",
          "text": [
            "| Epoch: 98 | Train Loss: 0.153 | Train Acc: 94.09% | Val. Loss: 0.550 | Val. Acc: 78.33% |\n"
          ],
          "name": "stdout"
        },
        {
          "output_type": "stream",
          "text": [
            "\n",
            "Total time elapsed: 00:00:00\n",
            "0% [██████████████████████████████] 100% | ETA: 00:00:00\n",
            "Total time elapsed: 00:00:01\n",
            "0% [██████████████████████████████] 100% | ETA: 00:00:00"
          ],
          "name": "stderr"
        },
        {
          "output_type": "stream",
          "text": [
            "| Epoch: 99 | Train Loss: 0.144 | Train Acc: 94.23% | Val. Loss: 0.595 | Val. Acc: 78.70% |\n"
          ],
          "name": "stdout"
        },
        {
          "output_type": "stream",
          "text": [
            "\n",
            "Total time elapsed: 00:00:00\n",
            "0% [██████████████████████████████] 100% | ETA: 00:00:00\n",
            "Total time elapsed: 00:00:01\n",
            "0% [██████████████████████████████] 100% | ETA: 00:00:00"
          ],
          "name": "stderr"
        },
        {
          "output_type": "stream",
          "text": [
            "| Epoch: 100 | Train Loss: 0.152 | Train Acc: 94.00% | Val. Loss: 0.589 | Val. Acc: 78.42% |\n"
          ],
          "name": "stdout"
        },
        {
          "output_type": "stream",
          "text": [
            "\n",
            "Total time elapsed: 00:00:00\n"
          ],
          "name": "stderr"
        }
      ]
    },
    {
      "cell_type": "markdown",
      "metadata": {
        "id": "5aWVBo_35aKX"
      },
      "source": [
        "##GRU"
      ]
    },
    {
      "cell_type": "code",
      "metadata": {
        "id": "GkfZkFV65Zpw"
      },
      "source": [
        "class GRU(nn.Module):\n",
        "    def __init__(self, input_dim, embedding_dim, hidden_dim, output_dim, dropout):\n",
        "        super().__init__()\n",
        "        self.embedding = nn.Embedding(input_dim, embedding_dim)\n",
        "        self.rnn = nn.GRU(embedding_dim, hidden_dim, dropout=dropout)\n",
        "        self.fc = nn.Linear(hidden_dim, output_dim)\n",
        "\n",
        "        self.dropout = nn.Dropout(dropout)\n",
        "    \n",
        "    def forward(self, x):\n",
        "\n",
        "        #x = [sent len, batch size]\n",
        "        \n",
        "        embedded = self.dropout(self.embedding(x))\n",
        "        # print(\"here1\")\n",
        "        #embedded = [sent len, batch size, emb dim]\n",
        "        # print(x.shape)\n",
        "        # print(embedded.shape)\n",
        "        output, hidden = self.rnn(embedded)\n",
        "        # print(\"here2\")\n",
        "        #output = [sent len, batch size, hid dim]\n",
        "        #hidden = [1, batch size, hid dim]\n",
        "        \n",
        "        assert torch.equal(output[-1,:,:], hidden.squeeze(0))\n",
        "        # print(hidden)\n",
        "        # print(hidden[0].shape)\n",
        "        hidden = self.dropout(hidden)\n",
        "        # print(\"here3\")\n",
        "        out = self.fc(hidden)\n",
        "        # print(\"here4\")\n",
        "        return out"
      ],
      "execution_count": 25,
      "outputs": []
    },
    {
      "cell_type": "code",
      "metadata": {
        "id": "z8yiou0_5ZtT",
        "outputId": "52748baf-fac8-4b72-b716-53b99d30fdbd",
        "colab": {
          "base_uri": "https://localhost:8080/",
          "height": 72
        }
      },
      "source": [
        "INPUT_DIM = len(TEXT.vocab)\n",
        "EMBEDDING_DIM = 300\n",
        "HIDDEN_DIM = 300\n",
        "OUTPUT_DIM = 2\n",
        "DROPOUT = 0.4\n",
        "\n",
        "model_gru = GRU(INPUT_DIM, EMBEDDING_DIM, HIDDEN_DIM, OUTPUT_DIM, DROPOUT)"
      ],
      "execution_count": 26,
      "outputs": [
        {
          "output_type": "stream",
          "text": [
            "/usr/local/lib/python3.6/dist-packages/torch/nn/modules/rnn.py:60: UserWarning: dropout option adds dropout after all but last recurrent layer, so non-zero dropout expects num_layers greater than 1, but got dropout=0.4 and num_layers=1\n",
            "  \"num_layers={}\".format(dropout, num_layers))\n"
          ],
          "name": "stderr"
        }
      ]
    },
    {
      "cell_type": "code",
      "metadata": {
        "id": "BHtkSk285Zmx",
        "outputId": "b46bac79-527b-41de-8058-6ce39d1a157c",
        "colab": {
          "base_uri": "https://localhost:8080/",
          "height": 35
        }
      },
      "source": [
        "pretrained_embeddings = TEXT.vocab.vectors\n",
        "\n",
        "print(pretrained_embeddings.shape)\n",
        "\n",
        "model_gru.embedding.weight.data = pretrained_embeddings\n",
        "\n",
        "class_weights = torch.tensor([1.0, 1.0])\n",
        "\n",
        "optimizer = optim.Adam(model_gru.parameters(), lr=0.00003)\n",
        "\n",
        "criterion = nn.CrossEntropyLoss(weight=class_weights)\n",
        "\n",
        "model_gru = model_gru.to(device)\n",
        "criterion = criterion.to(device)"
      ],
      "execution_count": 27,
      "outputs": [
        {
          "output_type": "stream",
          "text": [
            "torch.Size([14410, 300])\n"
          ],
          "name": "stdout"
        }
      ]
    },
    {
      "cell_type": "code",
      "metadata": {
        "id": "WWk_Hzr_4UZ3",
        "outputId": "7264cc49-b034-411c-9cc0-d4d24fb00dcf",
        "colab": {
          "base_uri": "https://localhost:8080/",
          "height": 1000
        }
      },
      "source": [
        "N_EPOCHS = 100\n",
        "train_gru_loss = []\n",
        "train_gru_acc = []\n",
        "dev_gru_loss = []\n",
        "dev_gru_acc = []\n",
        "\n",
        "for epoch in range(N_EPOCHS):\n",
        "    train_loss, train_acc = train(model_gru, train_iterator, optimizer, criterion)\n",
        "    dev_loss, dev_acc = evaluate(model_gru, dev_iterator, criterion)\n",
        "    \n",
        "    train_gru_loss.append(train_loss)\n",
        "    train_gru_acc.append(train_acc)\n",
        "\n",
        "    dev_gru_loss.append(dev_loss)\n",
        "    dev_gru_acc.append(dev_acc)\n",
        "\n",
        "    print(f'| Epoch: {epoch+1:02} | Train Loss: {train_loss:.3f} | Train Acc: {train_acc*100:.2f}% | Val. Loss: {dev_loss:.3f} | Val. Acc: {dev_acc*100:.2f}% |')"
      ],
      "execution_count": 28,
      "outputs": [
        {
          "output_type": "stream",
          "text": [
            "0% [██████████████████████████████] 100% | ETA: 00:00:00\n",
            "Total time elapsed: 00:00:01\n",
            "0% [██████████████████████████████] 100% | ETA: 00:00:00"
          ],
          "name": "stderr"
        },
        {
          "output_type": "stream",
          "text": [
            "| Epoch: 01 | Train Loss: 0.694 | Train Acc: 49.18% | Val. Loss: 0.692 | Val. Acc: 51.61% |\n"
          ],
          "name": "stdout"
        },
        {
          "output_type": "stream",
          "text": [
            "\n",
            "Total time elapsed: 00:00:00\n",
            "0% [██████████████████████████████] 100% | ETA: 00:00:00\n",
            "Total time elapsed: 00:00:01\n",
            "0% [██████████████████████████████] 100% | ETA: 00:00:00"
          ],
          "name": "stderr"
        },
        {
          "output_type": "stream",
          "text": [
            "| Epoch: 02 | Train Loss: 0.693 | Train Acc: 51.13% | Val. Loss: 0.690 | Val. Acc: 54.81% |\n"
          ],
          "name": "stdout"
        },
        {
          "output_type": "stream",
          "text": [
            "\n",
            "Total time elapsed: 00:00:00\n",
            "0% [██████████████████████████████] 100% | ETA: 00:00:00\n",
            "Total time elapsed: 00:00:01\n",
            "0% [██████████████████████████████] 100% | ETA: 00:00:00"
          ],
          "name": "stderr"
        },
        {
          "output_type": "stream",
          "text": [
            "| Epoch: 03 | Train Loss: 0.692 | Train Acc: 50.95% | Val. Loss: 0.688 | Val. Acc: 55.12% |\n"
          ],
          "name": "stdout"
        },
        {
          "output_type": "stream",
          "text": [
            "\n",
            "Total time elapsed: 00:00:00\n",
            "0% [██████████████████████████████] 100% | ETA: 00:00:00\n",
            "Total time elapsed: 00:00:01\n",
            "0% [██████████████████████████████] 100% | ETA: 00:00:00"
          ],
          "name": "stderr"
        },
        {
          "output_type": "stream",
          "text": [
            "| Epoch: 04 | Train Loss: 0.692 | Train Acc: 51.35% | Val. Loss: 0.686 | Val. Acc: 57.61% |\n"
          ],
          "name": "stdout"
        },
        {
          "output_type": "stream",
          "text": [
            "\n",
            "Total time elapsed: 00:00:00\n",
            "0% [██████████████████████████████] 100% | ETA: 00:00:00\n",
            "Total time elapsed: 00:00:01\n",
            "0% [██████████████████████████████] 100% | ETA: 00:00:00"
          ],
          "name": "stderr"
        },
        {
          "output_type": "stream",
          "text": [
            "| Epoch: 05 | Train Loss: 0.690 | Train Acc: 51.39% | Val. Loss: 0.683 | Val. Acc: 58.44% |\n"
          ],
          "name": "stdout"
        },
        {
          "output_type": "stream",
          "text": [
            "\n",
            "Total time elapsed: 00:00:00\n",
            "0% [██████████████████████████████] 100% | ETA: 00:00:00\n",
            "Total time elapsed: 00:00:01\n",
            "0% [██████████████████████████████] 100% | ETA: 00:00:00"
          ],
          "name": "stderr"
        },
        {
          "output_type": "stream",
          "text": [
            "| Epoch: 06 | Train Loss: 0.690 | Train Acc: 52.76% | Val. Loss: 0.679 | Val. Acc: 60.26% |\n"
          ],
          "name": "stdout"
        },
        {
          "output_type": "stream",
          "text": [
            "\n",
            "Total time elapsed: 00:00:00\n",
            "0% [██████████████████████████████] 100% | ETA: 00:00:00\n",
            "Total time elapsed: 00:00:01\n",
            "0% [██████████████████████████████] 100% | ETA: 00:00:00"
          ],
          "name": "stderr"
        },
        {
          "output_type": "stream",
          "text": [
            "| Epoch: 07 | Train Loss: 0.688 | Train Acc: 52.96% | Val. Loss: 0.672 | Val. Acc: 61.57% |\n"
          ],
          "name": "stdout"
        },
        {
          "output_type": "stream",
          "text": [
            "\n",
            "Total time elapsed: 00:00:00\n",
            "0% [██████████████████████████████] 100% | ETA: 00:00:00\n",
            "Total time elapsed: 00:00:01\n",
            "0% [██████████████████████████████] 100% | ETA: 00:00:00"
          ],
          "name": "stderr"
        },
        {
          "output_type": "stream",
          "text": [
            "| Epoch: 08 | Train Loss: 0.680 | Train Acc: 56.61% | Val. Loss: 0.613 | Val. Acc: 66.95% |\n"
          ],
          "name": "stdout"
        },
        {
          "output_type": "stream",
          "text": [
            "\n",
            "Total time elapsed: 00:00:00\n",
            "0% [██████████████████████████████] 100% | ETA: 00:00:00\n",
            "Total time elapsed: 00:00:01\n",
            "0% [██████████████████████████████] 100% | ETA: 00:00:00"
          ],
          "name": "stderr"
        },
        {
          "output_type": "stream",
          "text": [
            "| Epoch: 09 | Train Loss: 0.567 | Train Acc: 71.58% | Val. Loss: 0.557 | Val. Acc: 71.42% |\n"
          ],
          "name": "stdout"
        },
        {
          "output_type": "stream",
          "text": [
            "\n",
            "Total time elapsed: 00:00:00\n",
            "0% [██████████████████████████████] 100% | ETA: 00:00:00\n",
            "Total time elapsed: 00:00:01\n",
            "0% [██████████████████████████████] 100% | ETA: 00:00:00"
          ],
          "name": "stderr"
        },
        {
          "output_type": "stream",
          "text": [
            "| Epoch: 10 | Train Loss: 0.514 | Train Acc: 74.35% | Val. Loss: 0.533 | Val. Acc: 72.93% |\n"
          ],
          "name": "stdout"
        },
        {
          "output_type": "stream",
          "text": [
            "\n",
            "Total time elapsed: 00:00:00\n",
            "0% [██████████████████████████████] 100% | ETA: 00:00:00\n",
            "Total time elapsed: 00:00:01\n",
            "0% [██████████████████████████████] 100% | ETA: 00:00:00"
          ],
          "name": "stderr"
        },
        {
          "output_type": "stream",
          "text": [
            "| Epoch: 11 | Train Loss: 0.495 | Train Acc: 75.73% | Val. Loss: 0.525 | Val. Acc: 73.96% |\n"
          ],
          "name": "stdout"
        },
        {
          "output_type": "stream",
          "text": [
            "\n",
            "Total time elapsed: 00:00:00\n",
            "0% [██████████████████████████████] 100% | ETA: 00:00:00\n",
            "Total time elapsed: 00:00:01\n",
            "0% [██████████████████████████████] 100% | ETA: 00:00:00"
          ],
          "name": "stderr"
        },
        {
          "output_type": "stream",
          "text": [
            "| Epoch: 12 | Train Loss: 0.480 | Train Acc: 77.17% | Val. Loss: 0.516 | Val. Acc: 74.38% |\n"
          ],
          "name": "stdout"
        },
        {
          "output_type": "stream",
          "text": [
            "\n",
            "Total time elapsed: 00:00:00\n",
            "0% [██████████████████████████████] 100% | ETA: 00:00:00\n",
            "Total time elapsed: 00:00:01\n",
            "0% [██████████████████████████████] 100% | ETA: 00:00:00"
          ],
          "name": "stderr"
        },
        {
          "output_type": "stream",
          "text": [
            "| Epoch: 13 | Train Loss: 0.468 | Train Acc: 77.80% | Val. Loss: 0.509 | Val. Acc: 75.07% |\n"
          ],
          "name": "stdout"
        },
        {
          "output_type": "stream",
          "text": [
            "\n",
            "Total time elapsed: 00:00:00\n",
            "0% [██████████████████████████████] 100% | ETA: 00:00:00\n",
            "Total time elapsed: 00:00:01\n",
            "0% [██████████████████████████████] 100% | ETA: 00:00:00"
          ],
          "name": "stderr"
        },
        {
          "output_type": "stream",
          "text": [
            "| Epoch: 14 | Train Loss: 0.458 | Train Acc: 78.11% | Val. Loss: 0.508 | Val. Acc: 75.21% |\n"
          ],
          "name": "stdout"
        },
        {
          "output_type": "stream",
          "text": [
            "\n",
            "Total time elapsed: 00:00:00\n",
            "0% [██████████████████████████████] 100% | ETA: 00:00:00\n",
            "Total time elapsed: 00:00:01\n",
            "0% [██████████████████████████████] 100% | ETA: 00:00:00"
          ],
          "name": "stderr"
        },
        {
          "output_type": "stream",
          "text": [
            "| Epoch: 15 | Train Loss: 0.448 | Train Acc: 79.12% | Val. Loss: 0.508 | Val. Acc: 74.61% |\n"
          ],
          "name": "stdout"
        },
        {
          "output_type": "stream",
          "text": [
            "\n",
            "Total time elapsed: 00:00:00\n",
            "0% [██████████████████████████████] 100% | ETA: 00:00:00\n",
            "Total time elapsed: 00:00:01\n",
            "0% [██████████████████████████████] 100% | ETA: 00:00:00"
          ],
          "name": "stderr"
        },
        {
          "output_type": "stream",
          "text": [
            "| Epoch: 16 | Train Loss: 0.440 | Train Acc: 79.50% | Val. Loss: 0.506 | Val. Acc: 74.89% |\n"
          ],
          "name": "stdout"
        },
        {
          "output_type": "stream",
          "text": [
            "\n",
            "Total time elapsed: 00:00:00\n",
            "0% [██████████████████████████████] 100% | ETA: 00:00:00\n",
            "Total time elapsed: 00:00:01\n",
            "0% [██████████████████████████████] 100% | ETA: 00:00:00"
          ],
          "name": "stderr"
        },
        {
          "output_type": "stream",
          "text": [
            "| Epoch: 17 | Train Loss: 0.424 | Train Acc: 80.19% | Val. Loss: 0.499 | Val. Acc: 76.22% |\n"
          ],
          "name": "stdout"
        },
        {
          "output_type": "stream",
          "text": [
            "\n",
            "Total time elapsed: 00:00:00\n",
            "0% [██████████████████████████████] 100% | ETA: 00:00:00\n",
            "Total time elapsed: 00:00:01\n",
            "0% [██████████████████████████████] 100% | ETA: 00:00:00"
          ],
          "name": "stderr"
        },
        {
          "output_type": "stream",
          "text": [
            "| Epoch: 18 | Train Loss: 0.431 | Train Acc: 80.13% | Val. Loss: 0.495 | Val. Acc: 76.22% |\n"
          ],
          "name": "stdout"
        },
        {
          "output_type": "stream",
          "text": [
            "\n",
            "Total time elapsed: 00:00:00\n",
            "0% [██████████████████████████████] 100% | ETA: 00:00:00\n",
            "Total time elapsed: 00:00:01\n",
            "0% [██████████████████████████████] 100% | ETA: 00:00:00"
          ],
          "name": "stderr"
        },
        {
          "output_type": "stream",
          "text": [
            "| Epoch: 19 | Train Loss: 0.417 | Train Acc: 80.71% | Val. Loss: 0.492 | Val. Acc: 76.04% |\n"
          ],
          "name": "stdout"
        },
        {
          "output_type": "stream",
          "text": [
            "\n",
            "Total time elapsed: 00:00:00\n",
            "0% [██████████████████████████████] 100% | ETA: 00:00:00\n",
            "Total time elapsed: 00:00:01\n",
            "0% [██████████████████████████████] 100% | ETA: 00:00:00"
          ],
          "name": "stderr"
        },
        {
          "output_type": "stream",
          "text": [
            "| Epoch: 20 | Train Loss: 0.406 | Train Acc: 80.95% | Val. Loss: 0.487 | Val. Acc: 76.32% |\n"
          ],
          "name": "stdout"
        },
        {
          "output_type": "stream",
          "text": [
            "\n",
            "Total time elapsed: 00:00:00\n",
            "0% [██████████████████████████████] 100% | ETA: 00:00:00\n",
            "Total time elapsed: 00:00:01\n",
            "0% [██████████████████████████████] 100% | ETA: 00:00:00"
          ],
          "name": "stderr"
        },
        {
          "output_type": "stream",
          "text": [
            "| Epoch: 21 | Train Loss: 0.403 | Train Acc: 81.95% | Val. Loss: 0.492 | Val. Acc: 76.36% |\n"
          ],
          "name": "stdout"
        },
        {
          "output_type": "stream",
          "text": [
            "\n",
            "Total time elapsed: 00:00:00\n",
            "0% [██████████████████████████████] 100% | ETA: 00:00:00\n",
            "Total time elapsed: 00:00:01\n",
            "0% [██████████████████████████████] 100% | ETA: 00:00:00"
          ],
          "name": "stderr"
        },
        {
          "output_type": "stream",
          "text": [
            "| Epoch: 22 | Train Loss: 0.403 | Train Acc: 81.64% | Val. Loss: 0.494 | Val. Acc: 76.05% |\n"
          ],
          "name": "stdout"
        },
        {
          "output_type": "stream",
          "text": [
            "\n",
            "Total time elapsed: 00:00:00\n",
            "0% [██████████████████████████████] 100% | ETA: 00:00:00\n",
            "Total time elapsed: 00:00:01\n",
            "0% [██████████████████████████████] 100% | ETA: 00:00:00"
          ],
          "name": "stderr"
        },
        {
          "output_type": "stream",
          "text": [
            "| Epoch: 23 | Train Loss: 0.399 | Train Acc: 81.44% | Val. Loss: 0.491 | Val. Acc: 76.78% |\n"
          ],
          "name": "stdout"
        },
        {
          "output_type": "stream",
          "text": [
            "\n",
            "Total time elapsed: 00:00:00\n",
            "0% [██████████████████████████████] 100% | ETA: 00:00:00\n",
            "Total time elapsed: 00:00:01\n",
            "0% [██████████████████████████████] 100% | ETA: 00:00:00"
          ],
          "name": "stderr"
        },
        {
          "output_type": "stream",
          "text": [
            "| Epoch: 24 | Train Loss: 0.382 | Train Acc: 82.41% | Val. Loss: 0.480 | Val. Acc: 77.14% |\n"
          ],
          "name": "stdout"
        },
        {
          "output_type": "stream",
          "text": [
            "\n",
            "Total time elapsed: 00:00:00\n",
            "0% [██████████████████████████████] 100% | ETA: 00:00:00\n",
            "Total time elapsed: 00:00:01\n",
            "0% [██████████████████████████████] 100% | ETA: 00:00:00"
          ],
          "name": "stderr"
        },
        {
          "output_type": "stream",
          "text": [
            "| Epoch: 25 | Train Loss: 0.381 | Train Acc: 83.07% | Val. Loss: 0.495 | Val. Acc: 76.74% |\n"
          ],
          "name": "stdout"
        },
        {
          "output_type": "stream",
          "text": [
            "\n",
            "Total time elapsed: 00:00:00\n",
            "0% [██████████████████████████████] 100% | ETA: 00:00:00\n",
            "Total time elapsed: 00:00:01\n",
            "0% [██████████████████████████████] 100% | ETA: 00:00:00"
          ],
          "name": "stderr"
        },
        {
          "output_type": "stream",
          "text": [
            "| Epoch: 26 | Train Loss: 0.369 | Train Acc: 83.85% | Val. Loss: 0.486 | Val. Acc: 77.01% |\n"
          ],
          "name": "stdout"
        },
        {
          "output_type": "stream",
          "text": [
            "\n",
            "Total time elapsed: 00:00:00\n",
            "0% [██████████████████████████████] 100% | ETA: 00:00:00\n",
            "Total time elapsed: 00:00:01\n",
            "0% [██████████████████████████████] 100% | ETA: 00:00:00"
          ],
          "name": "stderr"
        },
        {
          "output_type": "stream",
          "text": [
            "| Epoch: 27 | Train Loss: 0.363 | Train Acc: 84.05% | Val. Loss: 0.474 | Val. Acc: 76.88% |\n"
          ],
          "name": "stdout"
        },
        {
          "output_type": "stream",
          "text": [
            "\n",
            "Total time elapsed: 00:00:00\n",
            "0% [██████████████████████████████] 100% | ETA: 00:00:00\n",
            "Total time elapsed: 00:00:01\n",
            "0% [██████████████████████████████] 100% | ETA: 00:00:00"
          ],
          "name": "stderr"
        },
        {
          "output_type": "stream",
          "text": [
            "| Epoch: 28 | Train Loss: 0.366 | Train Acc: 83.66% | Val. Loss: 0.476 | Val. Acc: 77.46% |\n"
          ],
          "name": "stdout"
        },
        {
          "output_type": "stream",
          "text": [
            "\n",
            "Total time elapsed: 00:00:00\n",
            "0% [██████████████████████████████] 100% | ETA: 00:00:00\n",
            "Total time elapsed: 00:00:01\n",
            "0% [██████████████████████████████] 100% | ETA: 00:00:00"
          ],
          "name": "stderr"
        },
        {
          "output_type": "stream",
          "text": [
            "| Epoch: 29 | Train Loss: 0.357 | Train Acc: 84.01% | Val. Loss: 0.472 | Val. Acc: 77.07% |\n"
          ],
          "name": "stdout"
        },
        {
          "output_type": "stream",
          "text": [
            "\n",
            "Total time elapsed: 00:00:00\n",
            "0% [██████████████████████████████] 100% | ETA: 00:00:00\n",
            "Total time elapsed: 00:00:01\n",
            "0% [██████████████████████████████] 100% | ETA: 00:00:00"
          ],
          "name": "stderr"
        },
        {
          "output_type": "stream",
          "text": [
            "| Epoch: 30 | Train Loss: 0.353 | Train Acc: 84.29% | Val. Loss: 0.487 | Val. Acc: 77.25% |\n"
          ],
          "name": "stdout"
        },
        {
          "output_type": "stream",
          "text": [
            "\n",
            "Total time elapsed: 00:00:00\n",
            "0% [██████████████████████████████] 100% | ETA: 00:00:00\n",
            "Total time elapsed: 00:00:01\n",
            "0% [██████████████████████████████] 100% | ETA: 00:00:00"
          ],
          "name": "stderr"
        },
        {
          "output_type": "stream",
          "text": [
            "| Epoch: 31 | Train Loss: 0.353 | Train Acc: 84.75% | Val. Loss: 0.466 | Val. Acc: 77.48% |\n"
          ],
          "name": "stdout"
        },
        {
          "output_type": "stream",
          "text": [
            "\n",
            "Total time elapsed: 00:00:00\n",
            "0% [██████████████████████████████] 100% | ETA: 00:00:00\n",
            "Total time elapsed: 00:00:01\n",
            "0% [██████████████████████████████] 100% | ETA: 00:00:00"
          ],
          "name": "stderr"
        },
        {
          "output_type": "stream",
          "text": [
            "| Epoch: 32 | Train Loss: 0.343 | Train Acc: 84.67% | Val. Loss: 0.467 | Val. Acc: 77.81% |\n"
          ],
          "name": "stdout"
        },
        {
          "output_type": "stream",
          "text": [
            "\n",
            "Total time elapsed: 00:00:00\n",
            "0% [██████████████████████████████] 100% | ETA: 00:00:00\n",
            "Total time elapsed: 00:00:01\n",
            "0% [██████████████████████████████] 100% | ETA: 00:00:00"
          ],
          "name": "stderr"
        },
        {
          "output_type": "stream",
          "text": [
            "| Epoch: 33 | Train Loss: 0.334 | Train Acc: 85.32% | Val. Loss: 0.467 | Val. Acc: 77.81% |\n"
          ],
          "name": "stdout"
        },
        {
          "output_type": "stream",
          "text": [
            "\n",
            "Total time elapsed: 00:00:00\n",
            "0% [██████████████████████████████] 100% | ETA: 00:00:00\n",
            "Total time elapsed: 00:00:01\n",
            "0% [██████████████████████████████] 100% | ETA: 00:00:00"
          ],
          "name": "stderr"
        },
        {
          "output_type": "stream",
          "text": [
            "| Epoch: 34 | Train Loss: 0.328 | Train Acc: 85.82% | Val. Loss: 0.469 | Val. Acc: 77.43% |\n"
          ],
          "name": "stdout"
        },
        {
          "output_type": "stream",
          "text": [
            "\n",
            "Total time elapsed: 00:00:00\n",
            "0% [██████████████████████████████] 100% | ETA: 00:00:00\n",
            "Total time elapsed: 00:00:01\n",
            "0% [██████████████████████████████] 100% | ETA: 00:00:00"
          ],
          "name": "stderr"
        },
        {
          "output_type": "stream",
          "text": [
            "| Epoch: 35 | Train Loss: 0.319 | Train Acc: 86.37% | Val. Loss: 0.466 | Val. Acc: 77.67% |\n"
          ],
          "name": "stdout"
        },
        {
          "output_type": "stream",
          "text": [
            "\n",
            "Total time elapsed: 00:00:00\n",
            "0% [██████████████████████████████] 100% | ETA: 00:00:00\n",
            "Total time elapsed: 00:00:01\n",
            "0% [██████████████████████████████] 100% | ETA: 00:00:00"
          ],
          "name": "stderr"
        },
        {
          "output_type": "stream",
          "text": [
            "| Epoch: 36 | Train Loss: 0.321 | Train Acc: 85.90% | Val. Loss: 0.467 | Val. Acc: 77.65% |\n"
          ],
          "name": "stdout"
        },
        {
          "output_type": "stream",
          "text": [
            "\n",
            "Total time elapsed: 00:00:00\n",
            "0% [██████████████████████████████] 100% | ETA: 00:00:00\n",
            "Total time elapsed: 00:00:01\n",
            "0% [██████████████████████████████] 100% | ETA: 00:00:00"
          ],
          "name": "stderr"
        },
        {
          "output_type": "stream",
          "text": [
            "| Epoch: 37 | Train Loss: 0.308 | Train Acc: 86.97% | Val. Loss: 0.467 | Val. Acc: 78.02% |\n"
          ],
          "name": "stdout"
        },
        {
          "output_type": "stream",
          "text": [
            "\n",
            "Total time elapsed: 00:00:00\n",
            "0% [██████████████████████████████] 100% | ETA: 00:00:00\n",
            "Total time elapsed: 00:00:01\n",
            "0% [██████████████████████████████] 100% | ETA: 00:00:00"
          ],
          "name": "stderr"
        },
        {
          "output_type": "stream",
          "text": [
            "| Epoch: 38 | Train Loss: 0.299 | Train Acc: 87.00% | Val. Loss: 0.466 | Val. Acc: 77.98% |\n"
          ],
          "name": "stdout"
        },
        {
          "output_type": "stream",
          "text": [
            "\n",
            "Total time elapsed: 00:00:00\n",
            "0% [██████████████████████████████] 100% | ETA: 00:00:00\n",
            "Total time elapsed: 00:00:01\n",
            "0% [██████████████████████████████] 100% | ETA: 00:00:00"
          ],
          "name": "stderr"
        },
        {
          "output_type": "stream",
          "text": [
            "| Epoch: 39 | Train Loss: 0.305 | Train Acc: 86.67% | Val. Loss: 0.463 | Val. Acc: 78.16% |\n"
          ],
          "name": "stdout"
        },
        {
          "output_type": "stream",
          "text": [
            "\n",
            "Total time elapsed: 00:00:00\n",
            "0% [██████████████████████████████] 100% | ETA: 00:00:00\n",
            "Total time elapsed: 00:00:01\n",
            "0% [██████████████████████████████] 100% | ETA: 00:00:00"
          ],
          "name": "stderr"
        },
        {
          "output_type": "stream",
          "text": [
            "| Epoch: 40 | Train Loss: 0.297 | Train Acc: 87.31% | Val. Loss: 0.470 | Val. Acc: 78.07% |\n"
          ],
          "name": "stdout"
        },
        {
          "output_type": "stream",
          "text": [
            "\n",
            "Total time elapsed: 00:00:00\n",
            "0% [██████████████████████████████] 100% | ETA: 00:00:00\n",
            "Total time elapsed: 00:00:01\n",
            "0% [██████████████████████████████] 100% | ETA: 00:00:00"
          ],
          "name": "stderr"
        },
        {
          "output_type": "stream",
          "text": [
            "| Epoch: 41 | Train Loss: 0.297 | Train Acc: 86.95% | Val. Loss: 0.478 | Val. Acc: 77.98% |\n"
          ],
          "name": "stdout"
        },
        {
          "output_type": "stream",
          "text": [
            "\n",
            "Total time elapsed: 00:00:00\n",
            "0% [██████████████████████████████] 100% | ETA: 00:00:00\n",
            "Total time elapsed: 00:00:01\n",
            "0% [██████████████████████████████] 100% | ETA: 00:00:00"
          ],
          "name": "stderr"
        },
        {
          "output_type": "stream",
          "text": [
            "| Epoch: 42 | Train Loss: 0.278 | Train Acc: 88.33% | Val. Loss: 0.488 | Val. Acc: 77.81% |\n"
          ],
          "name": "stdout"
        },
        {
          "output_type": "stream",
          "text": [
            "\n",
            "Total time elapsed: 00:00:00\n",
            "0% [██████████████████████████████] 100% | ETA: 00:00:00\n",
            "Total time elapsed: 00:00:01\n",
            "0% [██████████████████████████████] 100% | ETA: 00:00:00"
          ],
          "name": "stderr"
        },
        {
          "output_type": "stream",
          "text": [
            "| Epoch: 43 | Train Loss: 0.274 | Train Acc: 88.42% | Val. Loss: 0.494 | Val. Acc: 77.57% |\n"
          ],
          "name": "stdout"
        },
        {
          "output_type": "stream",
          "text": [
            "\n",
            "Total time elapsed: 00:00:00\n",
            "0% [██████████████████████████████] 100% | ETA: 00:00:00\n",
            "Total time elapsed: 00:00:01\n",
            "0% [██████████████████████████████] 100% | ETA: 00:00:00"
          ],
          "name": "stderr"
        },
        {
          "output_type": "stream",
          "text": [
            "| Epoch: 44 | Train Loss: 0.266 | Train Acc: 88.90% | Val. Loss: 0.475 | Val. Acc: 78.38% |\n"
          ],
          "name": "stdout"
        },
        {
          "output_type": "stream",
          "text": [
            "\n",
            "Total time elapsed: 00:00:00\n",
            "0% [██████████████████████████████] 100% | ETA: 00:00:00\n",
            "Total time elapsed: 00:00:01\n",
            "0% [██████████████████████████████] 100% | ETA: 00:00:00"
          ],
          "name": "stderr"
        },
        {
          "output_type": "stream",
          "text": [
            "| Epoch: 45 | Train Loss: 0.262 | Train Acc: 89.01% | Val. Loss: 0.459 | Val. Acc: 78.94% |\n"
          ],
          "name": "stdout"
        },
        {
          "output_type": "stream",
          "text": [
            "\n",
            "Total time elapsed: 00:00:00\n",
            "0% [██████████████████████████████] 100% | ETA: 00:00:00\n",
            "Total time elapsed: 00:00:01\n",
            "0% [██████████████████████████████] 100% | ETA: 00:00:00"
          ],
          "name": "stderr"
        },
        {
          "output_type": "stream",
          "text": [
            "| Epoch: 46 | Train Loss: 0.265 | Train Acc: 88.92% | Val. Loss: 0.471 | Val. Acc: 78.68% |\n"
          ],
          "name": "stdout"
        },
        {
          "output_type": "stream",
          "text": [
            "\n",
            "Total time elapsed: 00:00:00\n",
            "0% [██████████████████████████████] 100% | ETA: 00:00:00\n",
            "Total time elapsed: 00:00:01\n",
            "0% [██████████████████████████████] 100% | ETA: 00:00:00"
          ],
          "name": "stderr"
        },
        {
          "output_type": "stream",
          "text": [
            "| Epoch: 47 | Train Loss: 0.265 | Train Acc: 88.70% | Val. Loss: 0.471 | Val. Acc: 78.52% |\n"
          ],
          "name": "stdout"
        },
        {
          "output_type": "stream",
          "text": [
            "\n",
            "Total time elapsed: 00:00:00\n",
            "0% [██████████████████████████████] 100% | ETA: 00:00:00\n",
            "Total time elapsed: 00:00:01\n",
            "0% [██████████████████████████████] 100% | ETA: 00:00:00"
          ],
          "name": "stderr"
        },
        {
          "output_type": "stream",
          "text": [
            "| Epoch: 48 | Train Loss: 0.253 | Train Acc: 89.46% | Val. Loss: 0.489 | Val. Acc: 78.21% |\n"
          ],
          "name": "stdout"
        },
        {
          "output_type": "stream",
          "text": [
            "\n",
            "Total time elapsed: 00:00:00\n",
            "0% [██████████████████████████████] 100% | ETA: 00:00:00\n",
            "Total time elapsed: 00:00:01\n",
            "0% [██████████████████████████████] 100% | ETA: 00:00:00"
          ],
          "name": "stderr"
        },
        {
          "output_type": "stream",
          "text": [
            "| Epoch: 49 | Train Loss: 0.250 | Train Acc: 89.64% | Val. Loss: 0.479 | Val. Acc: 78.26% |\n"
          ],
          "name": "stdout"
        },
        {
          "output_type": "stream",
          "text": [
            "\n",
            "Total time elapsed: 00:00:00\n",
            "0% [██████████████████████████████] 100% | ETA: 00:00:00\n",
            "Total time elapsed: 00:00:01\n",
            "0% [██████████████████████████████] 100% | ETA: 00:00:00"
          ],
          "name": "stderr"
        },
        {
          "output_type": "stream",
          "text": [
            "| Epoch: 50 | Train Loss: 0.258 | Train Acc: 89.58% | Val. Loss: 0.481 | Val. Acc: 78.58% |\n"
          ],
          "name": "stdout"
        },
        {
          "output_type": "stream",
          "text": [
            "\n",
            "Total time elapsed: 00:00:00\n",
            "0% [██████████████████████████████] 100% | ETA: 00:00:00\n",
            "Total time elapsed: 00:00:01\n",
            "0% [██████████████████████████████] 100% | ETA: 00:00:00"
          ],
          "name": "stderr"
        },
        {
          "output_type": "stream",
          "text": [
            "| Epoch: 51 | Train Loss: 0.240 | Train Acc: 90.04% | Val. Loss: 0.483 | Val. Acc: 77.93% |\n"
          ],
          "name": "stdout"
        },
        {
          "output_type": "stream",
          "text": [
            "\n",
            "Total time elapsed: 00:00:00\n",
            "0% [██████████████████████████████] 100% | ETA: 00:00:00\n",
            "Total time elapsed: 00:00:01\n",
            "0% [██████████████████████████████] 100% | ETA: 00:00:00"
          ],
          "name": "stderr"
        },
        {
          "output_type": "stream",
          "text": [
            "| Epoch: 52 | Train Loss: 0.247 | Train Acc: 89.81% | Val. Loss: 0.481 | Val. Acc: 78.82% |\n"
          ],
          "name": "stdout"
        },
        {
          "output_type": "stream",
          "text": [
            "\n",
            "Total time elapsed: 00:00:00\n",
            "0% [██████████████████████████████] 100% | ETA: 00:00:00\n",
            "Total time elapsed: 00:00:01\n",
            "0% [██████████████████████████████] 100% | ETA: 00:00:00"
          ],
          "name": "stderr"
        },
        {
          "output_type": "stream",
          "text": [
            "| Epoch: 53 | Train Loss: 0.231 | Train Acc: 90.35% | Val. Loss: 0.494 | Val. Acc: 78.07% |\n"
          ],
          "name": "stdout"
        },
        {
          "output_type": "stream",
          "text": [
            "\n",
            "Total time elapsed: 00:00:00\n",
            "0% [██████████████████████████████] 100% | ETA: 00:00:00\n",
            "Total time elapsed: 00:00:01\n",
            "0% [██████████████████████████████] 100% | ETA: 00:00:00"
          ],
          "name": "stderr"
        },
        {
          "output_type": "stream",
          "text": [
            "| Epoch: 54 | Train Loss: 0.231 | Train Acc: 90.54% | Val. Loss: 0.504 | Val. Acc: 78.28% |\n"
          ],
          "name": "stdout"
        },
        {
          "output_type": "stream",
          "text": [
            "\n",
            "Total time elapsed: 00:00:00\n",
            "0% [██████████████████████████████] 100% | ETA: 00:00:00\n",
            "Total time elapsed: 00:00:01\n",
            "0% [██████████████████████████████] 100% | ETA: 00:00:00"
          ],
          "name": "stderr"
        },
        {
          "output_type": "stream",
          "text": [
            "| Epoch: 55 | Train Loss: 0.221 | Train Acc: 91.04% | Val. Loss: 0.495 | Val. Acc: 78.30% |\n"
          ],
          "name": "stdout"
        },
        {
          "output_type": "stream",
          "text": [
            "\n",
            "Total time elapsed: 00:00:00\n",
            "0% [██████████████████████████████] 100% | ETA: 00:00:00\n",
            "Total time elapsed: 00:00:01\n",
            "0% [██████████████████████████████] 100% | ETA: 00:00:00"
          ],
          "name": "stderr"
        },
        {
          "output_type": "stream",
          "text": [
            "| Epoch: 56 | Train Loss: 0.223 | Train Acc: 90.77% | Val. Loss: 0.483 | Val. Acc: 78.40% |\n"
          ],
          "name": "stdout"
        },
        {
          "output_type": "stream",
          "text": [
            "\n",
            "Total time elapsed: 00:00:00\n",
            "0% [██████████████████████████████] 100% | ETA: 00:00:00\n",
            "Total time elapsed: 00:00:01\n",
            "0% [██████████████████████████████] 100% | ETA: 00:00:00"
          ],
          "name": "stderr"
        },
        {
          "output_type": "stream",
          "text": [
            "| Epoch: 57 | Train Loss: 0.213 | Train Acc: 91.35% | Val. Loss: 0.490 | Val. Acc: 78.77% |\n"
          ],
          "name": "stdout"
        },
        {
          "output_type": "stream",
          "text": [
            "\n",
            "Total time elapsed: 00:00:00\n",
            "0% [██████████████████████████████] 100% | ETA: 00:00:00\n",
            "Total time elapsed: 00:00:01\n",
            "0% [██████████████████████████████] 100% | ETA: 00:00:00"
          ],
          "name": "stderr"
        },
        {
          "output_type": "stream",
          "text": [
            "| Epoch: 58 | Train Loss: 0.211 | Train Acc: 91.48% | Val. Loss: 0.499 | Val. Acc: 78.84% |\n"
          ],
          "name": "stdout"
        },
        {
          "output_type": "stream",
          "text": [
            "\n",
            "Total time elapsed: 00:00:00\n",
            "0% [██████████████████████████████] 100% | ETA: 00:00:00\n",
            "Total time elapsed: 00:00:01\n",
            "0% [██████████████████████████████] 100% | ETA: 00:00:00"
          ],
          "name": "stderr"
        },
        {
          "output_type": "stream",
          "text": [
            "| Epoch: 59 | Train Loss: 0.212 | Train Acc: 91.56% | Val. Loss: 0.525 | Val. Acc: 77.42% |\n"
          ],
          "name": "stdout"
        },
        {
          "output_type": "stream",
          "text": [
            "\n",
            "Total time elapsed: 00:00:00\n",
            "0% [██████████████████████████████] 100% | ETA: 00:00:00\n",
            "Total time elapsed: 00:00:01\n",
            "0% [██████████████████████████████] 100% | ETA: 00:00:00"
          ],
          "name": "stderr"
        },
        {
          "output_type": "stream",
          "text": [
            "| Epoch: 60 | Train Loss: 0.212 | Train Acc: 91.21% | Val. Loss: 0.532 | Val. Acc: 77.58% |\n"
          ],
          "name": "stdout"
        },
        {
          "output_type": "stream",
          "text": [
            "\n",
            "Total time elapsed: 00:00:00\n",
            "0% [██████████████████████████████] 100% | ETA: 00:00:00\n",
            "Total time elapsed: 00:00:01\n",
            "0% [██████████████████████████████] 100% | ETA: 00:00:00"
          ],
          "name": "stderr"
        },
        {
          "output_type": "stream",
          "text": [
            "| Epoch: 61 | Train Loss: 0.197 | Train Acc: 91.96% | Val. Loss: 0.484 | Val. Acc: 77.88% |\n"
          ],
          "name": "stdout"
        },
        {
          "output_type": "stream",
          "text": [
            "\n",
            "Total time elapsed: 00:00:00\n",
            "0% [██████████████████████████████] 100% | ETA: 00:00:00\n",
            "Total time elapsed: 00:00:01\n",
            "0% [██████████████████████████████] 100% | ETA: 00:00:00"
          ],
          "name": "stderr"
        },
        {
          "output_type": "stream",
          "text": [
            "| Epoch: 62 | Train Loss: 0.197 | Train Acc: 92.04% | Val. Loss: 0.563 | Val. Acc: 77.34% |\n"
          ],
          "name": "stdout"
        },
        {
          "output_type": "stream",
          "text": [
            "\n",
            "Total time elapsed: 00:00:00\n",
            "0% [██████████████████████████████] 100% | ETA: 00:00:00\n",
            "Total time elapsed: 00:00:01\n",
            "0% [██████████████████████████████] 100% | ETA: 00:00:00"
          ],
          "name": "stderr"
        },
        {
          "output_type": "stream",
          "text": [
            "| Epoch: 63 | Train Loss: 0.194 | Train Acc: 92.26% | Val. Loss: 0.534 | Val. Acc: 78.33% |\n"
          ],
          "name": "stdout"
        },
        {
          "output_type": "stream",
          "text": [
            "\n",
            "Total time elapsed: 00:00:00\n",
            "0% [██████████████████████████████] 100% | ETA: 00:00:00\n",
            "Total time elapsed: 00:00:01\n",
            "0% [██████████████████████████████] 100% | ETA: 00:00:00"
          ],
          "name": "stderr"
        },
        {
          "output_type": "stream",
          "text": [
            "| Epoch: 64 | Train Loss: 0.187 | Train Acc: 92.32% | Val. Loss: 0.518 | Val. Acc: 77.74% |\n"
          ],
          "name": "stdout"
        },
        {
          "output_type": "stream",
          "text": [
            "\n",
            "Total time elapsed: 00:00:00\n",
            "0% [██████████████████████████████] 100% | ETA: 00:00:00\n",
            "Total time elapsed: 00:00:01\n",
            "0% [██████████████████████████████] 100% | ETA: 00:00:00"
          ],
          "name": "stderr"
        },
        {
          "output_type": "stream",
          "text": [
            "| Epoch: 65 | Train Loss: 0.179 | Train Acc: 92.81% | Val. Loss: 0.557 | Val. Acc: 77.77% |\n"
          ],
          "name": "stdout"
        },
        {
          "output_type": "stream",
          "text": [
            "\n",
            "Total time elapsed: 00:00:00\n",
            "0% [██████████████████████████████] 100% | ETA: 00:00:00\n",
            "Total time elapsed: 00:00:01\n",
            "0% [██████████████████████████████] 100% | ETA: 00:00:00"
          ],
          "name": "stderr"
        },
        {
          "output_type": "stream",
          "text": [
            "| Epoch: 66 | Train Loss: 0.186 | Train Acc: 92.22% | Val. Loss: 0.545 | Val. Acc: 78.24% |\n"
          ],
          "name": "stdout"
        },
        {
          "output_type": "stream",
          "text": [
            "\n",
            "Total time elapsed: 00:00:00\n",
            "0% [██████████████████████████████] 100% | ETA: 00:00:00\n",
            "Total time elapsed: 00:00:01\n",
            "0% [██████████████████████████████] 100% | ETA: 00:00:00"
          ],
          "name": "stderr"
        },
        {
          "output_type": "stream",
          "text": [
            "| Epoch: 67 | Train Loss: 0.179 | Train Acc: 92.57% | Val. Loss: 0.548 | Val. Acc: 77.68% |\n"
          ],
          "name": "stdout"
        },
        {
          "output_type": "stream",
          "text": [
            "\n",
            "Total time elapsed: 00:00:00\n",
            "0% [██████████████████████████████] 100% | ETA: 00:00:00\n",
            "Total time elapsed: 00:00:01\n",
            "0% [██████████████████████████████] 100% | ETA: 00:00:00"
          ],
          "name": "stderr"
        },
        {
          "output_type": "stream",
          "text": [
            "| Epoch: 68 | Train Loss: 0.187 | Train Acc: 92.35% | Val. Loss: 0.528 | Val. Acc: 78.47% |\n"
          ],
          "name": "stdout"
        },
        {
          "output_type": "stream",
          "text": [
            "\n",
            "Total time elapsed: 00:00:00\n",
            "0% [██████████████████████████████] 100% | ETA: 00:00:00\n",
            "Total time elapsed: 00:00:01\n",
            "0% [██████████████████████████████] 100% | ETA: 00:00:00"
          ],
          "name": "stderr"
        },
        {
          "output_type": "stream",
          "text": [
            "| Epoch: 69 | Train Loss: 0.167 | Train Acc: 93.29% | Val. Loss: 0.582 | Val. Acc: 77.91% |\n"
          ],
          "name": "stdout"
        },
        {
          "output_type": "stream",
          "text": [
            "\n",
            "Total time elapsed: 00:00:00\n",
            "0% [██████████████████████████████] 100% | ETA: 00:00:00\n",
            "Total time elapsed: 00:00:01\n",
            "0% [██████████████████████████████] 100% | ETA: 00:00:00"
          ],
          "name": "stderr"
        },
        {
          "output_type": "stream",
          "text": [
            "| Epoch: 70 | Train Loss: 0.178 | Train Acc: 92.76% | Val. Loss: 0.529 | Val. Acc: 78.59% |\n"
          ],
          "name": "stdout"
        },
        {
          "output_type": "stream",
          "text": [
            "\n",
            "Total time elapsed: 00:00:00\n",
            "0% [██████████████████████████████] 100% | ETA: 00:00:00\n",
            "Total time elapsed: 00:00:01\n",
            "0% [██████████████████████████████] 100% | ETA: 00:00:00"
          ],
          "name": "stderr"
        },
        {
          "output_type": "stream",
          "text": [
            "| Epoch: 71 | Train Loss: 0.167 | Train Acc: 93.62% | Val. Loss: 0.516 | Val. Acc: 77.60% |\n"
          ],
          "name": "stdout"
        },
        {
          "output_type": "stream",
          "text": [
            "\n",
            "Total time elapsed: 00:00:00\n",
            "0% [██████████████████████████████] 100% | ETA: 00:00:00\n",
            "Total time elapsed: 00:00:01\n",
            "0% [██████████████████████████████] 100% | ETA: 00:00:00"
          ],
          "name": "stderr"
        },
        {
          "output_type": "stream",
          "text": [
            "| Epoch: 72 | Train Loss: 0.166 | Train Acc: 93.39% | Val. Loss: 0.531 | Val. Acc: 77.84% |\n"
          ],
          "name": "stdout"
        },
        {
          "output_type": "stream",
          "text": [
            "\n",
            "Total time elapsed: 00:00:00\n",
            "0% [██████████████████████████████] 100% | ETA: 00:00:00\n",
            "Total time elapsed: 00:00:01\n",
            "0% [██████████████████████████████] 100% | ETA: 00:00:00"
          ],
          "name": "stderr"
        },
        {
          "output_type": "stream",
          "text": [
            "| Epoch: 73 | Train Loss: 0.160 | Train Acc: 93.60% | Val. Loss: 0.529 | Val. Acc: 78.16% |\n"
          ],
          "name": "stdout"
        },
        {
          "output_type": "stream",
          "text": [
            "\n",
            "Total time elapsed: 00:00:00\n",
            "0% [██████████████████████████████] 100% | ETA: 00:00:00\n",
            "Total time elapsed: 00:00:01\n",
            "0% [██████████████████████████████] 100% | ETA: 00:00:00"
          ],
          "name": "stderr"
        },
        {
          "output_type": "stream",
          "text": [
            "| Epoch: 74 | Train Loss: 0.152 | Train Acc: 93.92% | Val. Loss: 0.587 | Val. Acc: 78.10% |\n"
          ],
          "name": "stdout"
        },
        {
          "output_type": "stream",
          "text": [
            "\n",
            "Total time elapsed: 00:00:00\n",
            "0% [██████████████████████████████] 100% | ETA: 00:00:00\n",
            "Total time elapsed: 00:00:01\n",
            "0% [██████████████████████████████] 100% | ETA: 00:00:00"
          ],
          "name": "stderr"
        },
        {
          "output_type": "stream",
          "text": [
            "| Epoch: 75 | Train Loss: 0.154 | Train Acc: 93.95% | Val. Loss: 0.586 | Val. Acc: 77.96% |\n"
          ],
          "name": "stdout"
        },
        {
          "output_type": "stream",
          "text": [
            "\n",
            "Total time elapsed: 00:00:00\n",
            "0% [██████████████████████████████] 100% | ETA: 00:00:00\n",
            "Total time elapsed: 00:00:01\n",
            "0% [██████████████████████████████] 100% | ETA: 00:00:00"
          ],
          "name": "stderr"
        },
        {
          "output_type": "stream",
          "text": [
            "| Epoch: 76 | Train Loss: 0.156 | Train Acc: 93.39% | Val. Loss: 0.573 | Val. Acc: 78.14% |\n"
          ],
          "name": "stdout"
        },
        {
          "output_type": "stream",
          "text": [
            "\n",
            "Total time elapsed: 00:00:00\n",
            "0% [██████████████████████████████] 100% | ETA: 00:00:00\n",
            "Total time elapsed: 00:00:01\n",
            "0% [██████████████████████████████] 100% | ETA: 00:00:00"
          ],
          "name": "stderr"
        },
        {
          "output_type": "stream",
          "text": [
            "| Epoch: 77 | Train Loss: 0.150 | Train Acc: 94.08% | Val. Loss: 0.564 | Val. Acc: 78.26% |\n"
          ],
          "name": "stdout"
        },
        {
          "output_type": "stream",
          "text": [
            "\n",
            "Total time elapsed: 00:00:00\n",
            "0% [██████████████████████████████] 100% | ETA: 00:00:00\n",
            "Total time elapsed: 00:00:01\n",
            "0% [██████████████████████████████] 100% | ETA: 00:00:00"
          ],
          "name": "stderr"
        },
        {
          "output_type": "stream",
          "text": [
            "| Epoch: 78 | Train Loss: 0.143 | Train Acc: 94.22% | Val. Loss: 0.565 | Val. Acc: 78.16% |\n"
          ],
          "name": "stdout"
        },
        {
          "output_type": "stream",
          "text": [
            "\n",
            "Total time elapsed: 00:00:00\n",
            "0% [██████████████████████████████] 100% | ETA: 00:00:00\n",
            "Total time elapsed: 00:00:01\n",
            "0% [██████████████████████████████] 100% | ETA: 00:00:00"
          ],
          "name": "stderr"
        },
        {
          "output_type": "stream",
          "text": [
            "| Epoch: 79 | Train Loss: 0.150 | Train Acc: 93.95% | Val. Loss: 0.597 | Val. Acc: 77.86% |\n"
          ],
          "name": "stdout"
        },
        {
          "output_type": "stream",
          "text": [
            "\n",
            "Total time elapsed: 00:00:00\n",
            "0% [██████████████████████████████] 100% | ETA: 00:00:00\n",
            "Total time elapsed: 00:00:01\n",
            "0% [██████████████████████████████] 100% | ETA: 00:00:00"
          ],
          "name": "stderr"
        },
        {
          "output_type": "stream",
          "text": [
            "| Epoch: 80 | Train Loss: 0.146 | Train Acc: 94.32% | Val. Loss: 0.638 | Val. Acc: 77.14% |\n"
          ],
          "name": "stdout"
        },
        {
          "output_type": "stream",
          "text": [
            "\n",
            "Total time elapsed: 00:00:00\n",
            "0% [██████████████████████████████] 100% | ETA: 00:00:00\n",
            "Total time elapsed: 00:00:01\n",
            "0% [██████████████████████████████] 100% | ETA: 00:00:00"
          ],
          "name": "stderr"
        },
        {
          "output_type": "stream",
          "text": [
            "| Epoch: 81 | Train Loss: 0.128 | Train Acc: 94.98% | Val. Loss: 0.587 | Val. Acc: 78.05% |\n"
          ],
          "name": "stdout"
        },
        {
          "output_type": "stream",
          "text": [
            "\n",
            "Total time elapsed: 00:00:00\n",
            "0% [██████████████████████████████] 100% | ETA: 00:00:00\n",
            "Total time elapsed: 00:00:01\n",
            "0% [██████████████████████████████] 100% | ETA: 00:00:00"
          ],
          "name": "stderr"
        },
        {
          "output_type": "stream",
          "text": [
            "| Epoch: 82 | Train Loss: 0.132 | Train Acc: 94.73% | Val. Loss: 0.586 | Val. Acc: 77.70% |\n"
          ],
          "name": "stdout"
        },
        {
          "output_type": "stream",
          "text": [
            "\n",
            "Total time elapsed: 00:00:00\n",
            "0% [██████████████████████████████] 100% | ETA: 00:00:00\n",
            "Total time elapsed: 00:00:01\n",
            "0% [██████████████████████████████] 100% | ETA: 00:00:00"
          ],
          "name": "stderr"
        },
        {
          "output_type": "stream",
          "text": [
            "| Epoch: 83 | Train Loss: 0.138 | Train Acc: 94.54% | Val. Loss: 0.616 | Val. Acc: 77.86% |\n"
          ],
          "name": "stdout"
        },
        {
          "output_type": "stream",
          "text": [
            "\n",
            "Total time elapsed: 00:00:00\n",
            "0% [██████████████████████████████] 100% | ETA: 00:00:00\n",
            "Total time elapsed: 00:00:01\n",
            "0% [██████████████████████████████] 100% | ETA: 00:00:00"
          ],
          "name": "stderr"
        },
        {
          "output_type": "stream",
          "text": [
            "| Epoch: 84 | Train Loss: 0.130 | Train Acc: 94.79% | Val. Loss: 0.602 | Val. Acc: 77.56% |\n"
          ],
          "name": "stdout"
        },
        {
          "output_type": "stream",
          "text": [
            "\n",
            "Total time elapsed: 00:00:00\n",
            "0% [██████████████████████████████] 100% | ETA: 00:00:00\n",
            "Total time elapsed: 00:00:01\n",
            "0% [██████████████████████████████] 100% | ETA: 00:00:00"
          ],
          "name": "stderr"
        },
        {
          "output_type": "stream",
          "text": [
            "| Epoch: 85 | Train Loss: 0.135 | Train Acc: 94.73% | Val. Loss: 0.632 | Val. Acc: 76.67% |\n"
          ],
          "name": "stdout"
        },
        {
          "output_type": "stream",
          "text": [
            "\n",
            "Total time elapsed: 00:00:00\n",
            "0% [██████████████████████████████] 100% | ETA: 00:00:00\n",
            "Total time elapsed: 00:00:01\n",
            "0% [██████████████████████████████] 100% | ETA: 00:00:00"
          ],
          "name": "stderr"
        },
        {
          "output_type": "stream",
          "text": [
            "| Epoch: 86 | Train Loss: 0.126 | Train Acc: 95.04% | Val. Loss: 0.637 | Val. Acc: 76.98% |\n"
          ],
          "name": "stdout"
        },
        {
          "output_type": "stream",
          "text": [
            "\n",
            "Total time elapsed: 00:00:00\n",
            "0% [██████████████████████████████] 100% | ETA: 00:00:00\n",
            "Total time elapsed: 00:00:01\n",
            "0% [██████████████████████████████] 100% | ETA: 00:00:00"
          ],
          "name": "stderr"
        },
        {
          "output_type": "stream",
          "text": [
            "| Epoch: 87 | Train Loss: 0.123 | Train Acc: 95.01% | Val. Loss: 0.634 | Val. Acc: 77.86% |\n"
          ],
          "name": "stdout"
        },
        {
          "output_type": "stream",
          "text": [
            "\n",
            "Total time elapsed: 00:00:00\n",
            "0% [██████████████████████████████] 100% | ETA: 00:00:00\n",
            "Total time elapsed: 00:00:01\n",
            "0% [██████████████████████████████] 100% | ETA: 00:00:00"
          ],
          "name": "stderr"
        },
        {
          "output_type": "stream",
          "text": [
            "| Epoch: 88 | Train Loss: 0.121 | Train Acc: 95.08% | Val. Loss: 0.639 | Val. Acc: 77.14% |\n"
          ],
          "name": "stdout"
        },
        {
          "output_type": "stream",
          "text": [
            "\n",
            "Total time elapsed: 00:00:00\n",
            "0% [██████████████████████████████] 100% | ETA: 00:00:00\n",
            "Total time elapsed: 00:00:01\n",
            "0% [██████████████████████████████] 100% | ETA: 00:00:00"
          ],
          "name": "stderr"
        },
        {
          "output_type": "stream",
          "text": [
            "| Epoch: 89 | Train Loss: 0.119 | Train Acc: 95.54% | Val. Loss: 0.606 | Val. Acc: 77.04% |\n"
          ],
          "name": "stdout"
        },
        {
          "output_type": "stream",
          "text": [
            "\n",
            "Total time elapsed: 00:00:00\n",
            "0% [██████████████████████████████] 100% | ETA: 00:00:00\n",
            "Total time elapsed: 00:00:01\n",
            "0% [██████████████████████████████] 100% | ETA: 00:00:00"
          ],
          "name": "stderr"
        },
        {
          "output_type": "stream",
          "text": [
            "| Epoch: 90 | Train Loss: 0.119 | Train Acc: 95.59% | Val. Loss: 0.692 | Val. Acc: 77.07% |\n"
          ],
          "name": "stdout"
        },
        {
          "output_type": "stream",
          "text": [
            "\n",
            "Total time elapsed: 00:00:00\n",
            "0% [██████████████████████████████] 100% | ETA: 00:00:00\n",
            "Total time elapsed: 00:00:01\n",
            "0% [██████████████████████████████] 100% | ETA: 00:00:00"
          ],
          "name": "stderr"
        },
        {
          "output_type": "stream",
          "text": [
            "| Epoch: 91 | Train Loss: 0.110 | Train Acc: 95.69% | Val. Loss: 0.645 | Val. Acc: 77.54% |\n"
          ],
          "name": "stdout"
        },
        {
          "output_type": "stream",
          "text": [
            "\n",
            "Total time elapsed: 00:00:00\n",
            "0% [██████████████████████████████] 100% | ETA: 00:00:00\n",
            "Total time elapsed: 00:00:01\n",
            "0% [██████████████████████████████] 100% | ETA: 00:00:00"
          ],
          "name": "stderr"
        },
        {
          "output_type": "stream",
          "text": [
            "| Epoch: 92 | Train Loss: 0.109 | Train Acc: 95.51% | Val. Loss: 0.648 | Val. Acc: 77.82% |\n"
          ],
          "name": "stdout"
        },
        {
          "output_type": "stream",
          "text": [
            "\n",
            "Total time elapsed: 00:00:00\n",
            "0% [██████████████████████████████] 100% | ETA: 00:00:00\n",
            "Total time elapsed: 00:00:01\n",
            "0% [██████████████████████████████] 100% | ETA: 00:00:00"
          ],
          "name": "stderr"
        },
        {
          "output_type": "stream",
          "text": [
            "| Epoch: 93 | Train Loss: 0.105 | Train Acc: 96.14% | Val. Loss: 0.635 | Val. Acc: 77.82% |\n"
          ],
          "name": "stdout"
        },
        {
          "output_type": "stream",
          "text": [
            "\n",
            "Total time elapsed: 00:00:00\n",
            "0% [██████████████████████████████] 100% | ETA: 00:00:00\n",
            "Total time elapsed: 00:00:01\n",
            "0% [██████████████████████████████] 100% | ETA: 00:00:00"
          ],
          "name": "stderr"
        },
        {
          "output_type": "stream",
          "text": [
            "| Epoch: 94 | Train Loss: 0.105 | Train Acc: 95.92% | Val. Loss: 0.630 | Val. Acc: 77.28% |\n"
          ],
          "name": "stdout"
        },
        {
          "output_type": "stream",
          "text": [
            "\n",
            "Total time elapsed: 00:00:00\n",
            "0% [██████████████████████████████] 100% | ETA: 00:00:00\n",
            "Total time elapsed: 00:00:01\n",
            "0% [██████████████████████████████] 100% | ETA: 00:00:00"
          ],
          "name": "stderr"
        },
        {
          "output_type": "stream",
          "text": [
            "| Epoch: 95 | Train Loss: 0.106 | Train Acc: 95.64% | Val. Loss: 0.636 | Val. Acc: 77.99% |\n"
          ],
          "name": "stdout"
        },
        {
          "output_type": "stream",
          "text": [
            "\n",
            "Total time elapsed: 00:00:00\n",
            "0% [██████████████████████████████] 100% | ETA: 00:00:00\n",
            "Total time elapsed: 00:00:01\n",
            "0% [██████████████████████████████] 100% | ETA: 00:00:00"
          ],
          "name": "stderr"
        },
        {
          "output_type": "stream",
          "text": [
            "| Epoch: 96 | Train Loss: 0.111 | Train Acc: 95.86% | Val. Loss: 0.660 | Val. Acc: 77.63% |\n"
          ],
          "name": "stdout"
        },
        {
          "output_type": "stream",
          "text": [
            "\n",
            "Total time elapsed: 00:00:00\n",
            "0% [██████████████████████████████] 100% | ETA: 00:00:00\n",
            "Total time elapsed: 00:00:01\n",
            "0% [██████████████████████████████] 100% | ETA: 00:00:00"
          ],
          "name": "stderr"
        },
        {
          "output_type": "stream",
          "text": [
            "| Epoch: 97 | Train Loss: 0.106 | Train Acc: 95.66% | Val. Loss: 0.681 | Val. Acc: 77.96% |\n"
          ],
          "name": "stdout"
        },
        {
          "output_type": "stream",
          "text": [
            "\n",
            "Total time elapsed: 00:00:00\n",
            "0% [██████████████████████████████] 100% | ETA: 00:00:00\n",
            "Total time elapsed: 00:00:01\n",
            "0% [██████████████████████████████] 100% | ETA: 00:00:00"
          ],
          "name": "stderr"
        },
        {
          "output_type": "stream",
          "text": [
            "| Epoch: 98 | Train Loss: 0.097 | Train Acc: 96.26% | Val. Loss: 0.688 | Val. Acc: 77.00% |\n"
          ],
          "name": "stdout"
        },
        {
          "output_type": "stream",
          "text": [
            "\n",
            "Total time elapsed: 00:00:00\n",
            "0% [██████████████████████████████] 100% | ETA: 00:00:00\n",
            "Total time elapsed: 00:00:01\n",
            "0% [██████████████████████████████] 100% | ETA: 00:00:00"
          ],
          "name": "stderr"
        },
        {
          "output_type": "stream",
          "text": [
            "| Epoch: 99 | Train Loss: 0.098 | Train Acc: 96.01% | Val. Loss: 0.742 | Val. Acc: 76.23% |\n"
          ],
          "name": "stdout"
        },
        {
          "output_type": "stream",
          "text": [
            "\n",
            "Total time elapsed: 00:00:00\n",
            "0% [██████████████████████████████] 100% | ETA: 00:00:00\n",
            "Total time elapsed: 00:00:01\n",
            "0% [██████████████████████████████] 100% | ETA: 00:00:00"
          ],
          "name": "stderr"
        },
        {
          "output_type": "stream",
          "text": [
            "| Epoch: 100 | Train Loss: 0.099 | Train Acc: 96.28% | Val. Loss: 0.634 | Val. Acc: 77.56% |\n"
          ],
          "name": "stdout"
        },
        {
          "output_type": "stream",
          "text": [
            "\n",
            "Total time elapsed: 00:00:00\n"
          ],
          "name": "stderr"
        }
      ]
    },
    {
      "cell_type": "markdown",
      "metadata": {
        "id": "6o_2L3_nv3vU"
      },
      "source": [
        "##Evaluation"
      ]
    },
    {
      "cell_type": "code",
      "metadata": {
        "id": "otgKyuvf4Ucf"
      },
      "source": [
        "def predict_sentiment(model,sentence):\n",
        "    tokenized = [tok for tok in sentence.split()]\n",
        "    indexed = [TEXT.vocab.stoi[t] for t in tokenized]\n",
        "    tensor = torch.LongTensor(indexed).to(device)\n",
        "    \n",
        "    tensor = tensor.unsqueeze(1)\n",
        "#     print(tensor.shape)\n",
        "    prediction = model(tensor)\n",
        "#     print(prediction)\n",
        "    preds, ind= torch.max(F.softmax(prediction.squeeze(0), dim=-1), 1)\n",
        "#     print(preds)\n",
        "    return preds, ind"
      ],
      "execution_count": 38,
      "outputs": []
    },
    {
      "cell_type": "code",
      "metadata": {
        "id": "kMblu8jj4UXQ"
      },
      "source": [
        "# calculating classification report\n",
        "test_data = pd.read_csv(\"/content/drive/My Drive/D4NLP/Ass 1/torchtext_data/test.csv\")"
      ],
      "execution_count": 45,
      "outputs": []
    },
    {
      "cell_type": "code",
      "metadata": {
        "id": "KCev96VzvBwC",
        "outputId": "7d556f48-82a4-422f-dca2-658c4ecc6b00",
        "colab": {
          "base_uri": "https://localhost:8080/",
          "height": 170
        }
      },
      "source": [
        "pre = [predict_sentiment(model_rnn,k)[1].item() for k in test_data.reviews]\n",
        "print(classification_report(test_data.senti, pre))"
      ],
      "execution_count": 46,
      "outputs": [
        {
          "output_type": "stream",
          "text": [
            "              precision    recall  f1-score   support\n",
            "\n",
            "           0       0.70      0.74      0.72      1067\n",
            "           1       0.72      0.69      0.70      1067\n",
            "\n",
            "    accuracy                           0.71      2134\n",
            "   macro avg       0.71      0.71      0.71      2134\n",
            "weighted avg       0.71      0.71      0.71      2134\n",
            "\n"
          ],
          "name": "stdout"
        }
      ]
    },
    {
      "cell_type": "code",
      "metadata": {
        "id": "goSj9Vy2x1aE",
        "outputId": "36ff4485-3d25-4303-ce6d-a4ed063f256b",
        "colab": {
          "base_uri": "https://localhost:8080/",
          "height": 170
        }
      },
      "source": [
        "pre = [predict_sentiment(model_lstm,k)[1].item() for k in test_data.reviews]\n",
        "print(classification_report(test_data.senti, pre))"
      ],
      "execution_count": 47,
      "outputs": [
        {
          "output_type": "stream",
          "text": [
            "              precision    recall  f1-score   support\n",
            "\n",
            "           0       0.77      0.79      0.78      1067\n",
            "           1       0.78      0.77      0.78      1067\n",
            "\n",
            "    accuracy                           0.78      2134\n",
            "   macro avg       0.78      0.78      0.78      2134\n",
            "weighted avg       0.78      0.78      0.78      2134\n",
            "\n"
          ],
          "name": "stdout"
        }
      ]
    },
    {
      "cell_type": "code",
      "metadata": {
        "id": "2EbYfLklyC7S",
        "outputId": "e800f196-ee8f-434e-e325-5b4b91d601de",
        "colab": {
          "base_uri": "https://localhost:8080/",
          "height": 170
        }
      },
      "source": [
        "pre = [predict_sentiment(model_gru,k)[1].item() for k in test_data.reviews]\n",
        "print(classification_report(test_data.senti, pre))"
      ],
      "execution_count": 48,
      "outputs": [
        {
          "output_type": "stream",
          "text": [
            "              precision    recall  f1-score   support\n",
            "\n",
            "           0       0.79      0.74      0.76      1067\n",
            "           1       0.76      0.80      0.78      1067\n",
            "\n",
            "    accuracy                           0.77      2134\n",
            "   macro avg       0.77      0.77      0.77      2134\n",
            "weighted avg       0.77      0.77      0.77      2134\n",
            "\n"
          ],
          "name": "stdout"
        }
      ]
    },
    {
      "cell_type": "code",
      "metadata": {
        "id": "xTJy9lehwpK2"
      },
      "source": [
        ""
      ],
      "execution_count": null,
      "outputs": []
    },
    {
      "cell_type": "code",
      "metadata": {
        "id": "1nOehFt6wuoP"
      },
      "source": [
        ""
      ],
      "execution_count": null,
      "outputs": []
    },
    {
      "cell_type": "markdown",
      "metadata": {
        "id": "8m40dHt6e0Pk"
      },
      "source": [
        "# Custom"
      ]
    },
    {
      "cell_type": "code",
      "metadata": {
        "id": "DfFcs9EYw7Jz",
        "outputId": "0871f1c9-7ba0-465e-9d3b-85ea7e1ee84b",
        "colab": {
          "base_uri": "https://localhost:8080/",
          "height": 383
        }
      },
      "source": [
        "!wget -O \"/content/drive/My Drive/D4NLP/Ass 1/glove.zip\" http://nlp.stanford.edu/data/glove.6B.zip"
      ],
      "execution_count": null,
      "outputs": [
        {
          "output_type": "stream",
          "text": [
            "--2020-10-19 22:05:01--  http://nlp.stanford.edu/data/glove.6B.zip\n",
            "Resolving nlp.stanford.edu (nlp.stanford.edu)... 171.64.67.140\n",
            "Connecting to nlp.stanford.edu (nlp.stanford.edu)|171.64.67.140|:80... connected.\n",
            "HTTP request sent, awaiting response... 302 Found\n",
            "Location: https://nlp.stanford.edu/data/glove.6B.zip [following]\n",
            "--2020-10-19 22:05:01--  https://nlp.stanford.edu/data/glove.6B.zip\n",
            "Connecting to nlp.stanford.edu (nlp.stanford.edu)|171.64.67.140|:443... connected.\n",
            "HTTP request sent, awaiting response... 301 Moved Permanently\n",
            "Location: http://downloads.cs.stanford.edu/nlp/data/glove.6B.zip [following]\n",
            "--2020-10-19 22:05:02--  http://downloads.cs.stanford.edu/nlp/data/glove.6B.zip\n",
            "Resolving downloads.cs.stanford.edu (downloads.cs.stanford.edu)... 171.64.64.22\n",
            "Connecting to downloads.cs.stanford.edu (downloads.cs.stanford.edu)|171.64.64.22|:80... connected.\n",
            "HTTP request sent, awaiting response... 200 OK\n",
            "Length: 862182613 (822M) [application/zip]\n",
            "Saving to: ‘/content/drive/My Drive/D4NLP/Ass 1/glove.zip’\n",
            "\n",
            "/content/drive/My D 100%[===================>] 822.24M  2.18MB/s    in 6m 29s  \n",
            "\n",
            "2020-10-19 22:11:31 (2.11 MB/s) - ‘/content/drive/My Drive/D4NLP/Ass 1/glove.zip’ saved [862182613/862182613]\n",
            "\n"
          ],
          "name": "stdout"
        }
      ]
    },
    {
      "cell_type": "code",
      "metadata": {
        "id": "Kyq3nzfK7CO5",
        "outputId": "f65a671f-806c-4504-e54b-ded68c572b15",
        "colab": {
          "base_uri": "https://localhost:8080/",
          "height": 141
        }
      },
      "source": [
        "!unzip \"/content/drive/My Drive/D4NLP/Ass 1/glove.zip\" -d \"/content/drive/My Drive/D4NLP/Ass 1\""
      ],
      "execution_count": null,
      "outputs": [
        {
          "output_type": "stream",
          "text": [
            "Archive:  /content/drive/My Drive/D4NLP/Ass 1/glove.zip\n",
            "  inflating: /content/drive/My Drive/D4NLP/Ass 1/glove.6B.50d.txt  \n",
            "  inflating: /content/drive/My Drive/D4NLP/Ass 1/glove.6B.100d.txt  \n",
            "  inflating: /content/drive/My Drive/D4NLP/Ass 1/glove.6B.200d.txt   (warning) cannot set modif./access times\n",
            "          No such file or directory\n",
            "  inflating: /content/drive/My Drive/D4NLP/Ass 1/glove.6B.300d.txt  \n"
          ],
          "name": "stdout"
        }
      ]
    },
    {
      "cell_type": "code",
      "metadata": {
        "id": "gGqVAL0hvsO0"
      },
      "source": [
        "def loadGloveModel(gloveFile):\n",
        "    print(\"Loading Glove Model\")\n",
        "    f = open(gloveFile,'r',encoding=\"utf8\")\n",
        "    model = {}\n",
        "    for line in f:\n",
        "        try:\n",
        "            splitLine = line.split()\n",
        "            word = splitLine[0]\n",
        "            embedding = np.array([float(val) for val in splitLine[1:]])\n",
        "            model[word] = embedding\n",
        "        except:\n",
        "            print(word)\n",
        "    print(\"Done.\",len(model),\" words loaded!\")\n",
        "    return model"
      ],
      "execution_count": null,
      "outputs": []
    },
    {
      "cell_type": "code",
      "metadata": {
        "id": "EX0Ff4OLvu0N",
        "outputId": "3ac94998-96e8-43b0-b583-e109b907a6fd",
        "colab": {
          "base_uri": "https://localhost:8080/",
          "height": 52
        }
      },
      "source": [
        "glove_embeddings = loadGloveModel(\"/content/drive/My Drive/D4NLP/Ass 1/glove.6B.300d.txt\")"
      ],
      "execution_count": null,
      "outputs": [
        {
          "output_type": "stream",
          "text": [
            "Loading Glove Model\n",
            "Done. 400000  words loaded!\n"
          ],
          "name": "stdout"
        }
      ]
    },
    {
      "cell_type": "code",
      "metadata": {
        "id": "zr6gvliMvxEp"
      },
      "source": [
        "def create_embedding(data,sequence_length):\n",
        "  embedding_matrix = np.zeros((len(data),sequence_length,300))\n",
        "  for d in range(len(data)):\n",
        "    embed = []\n",
        "    tokens = data[d].split()\n",
        "    embed_length = min(sequence_length,len(tokens))\n",
        "    for token in range(embed_length):\n",
        "      try:\n",
        "        embedding_matrix[d][token] = glove_embeddings[tokens[token]]\n",
        "      except:\n",
        "        print(\"Word not in glove\",tokens[token])\n",
        "  return torch.from_numpy(embedding_matrix).float()"
      ],
      "execution_count": null,
      "outputs": []
    },
    {
      "cell_type": "code",
      "metadata": {
        "id": "j-PWIGSr8Dlb",
        "outputId": "40f9abc8-03e8-4b22-a313-951d11561546",
        "colab": {
          "base_uri": "https://localhost:8080/",
          "height": 1000
        }
      },
      "source": [
        "sequence_length = 35\n",
        "\n",
        "embedding_x_train = create_embedding(x_train,sequence_length)\n",
        "embedding_x_dev = create_embedding(x_dev,sequence_length)\n",
        "embedding_x_test = create_embedding(x_test,sequence_length)"
      ],
      "execution_count": null,
      "outputs": [
        {
          "output_type": "stream",
          "text": [
            "Word not in glove biopi\n",
            "Word not in glove wisegirls\n",
            "Word not in glove 'who\n",
            "Word not in glove enrapturing\n",
            "Word not in glove 'compleja\n",
            "Word not in glove intelectualmente\n",
            "Word not in glove retadora\n",
            "Word not in glove orquídeas\n",
            "Word not in glove originalidad\n",
            "Word not in glove \n",
            "Word not in glove \n",
            "Word not in glove 'performance\n",
            "Word not in glove movi\n",
            "Word not in glove sarcas\n",
            "Word not in glove suspenser\n",
            "Word not in glove obviation\n",
            "Word not in glove gorefests\n",
            "Word not in glove waydowntown\n",
            "Word not in glove \n",
            "Word not in glove makmalbaf\n",
            "Word not in glove 'urban\n",
            "Word not in glove exhilarate\n",
            "Word not in glove nuttgens\n",
            "Word not in glove 'a\n",
            "Word not in glove \n",
            "Word not in glove petin\n",
            "Word not in glove provocatuers\n",
            "Word not in glove jirí\n",
            "Word not in glove hubac\n",
            "Word not in glove shapelessly\n",
            "Word not in glove theocrac\n",
            "Word not in glove \n",
            "Word not in glove agai\n",
            "Word not in glove 'bartleby\n",
            "Word not in glove werent\n",
            "Word not in glove addessi\n",
            "Word not in glove seldahl\n",
            "Word not in glove wollter\n",
            "Word not in glove 'brazil\n",
            "Word not in glove mullinski\n",
            "Word not in glove 'face\n",
            "Word not in glove 'avventura\n",
            "Word not in glove neednt\n",
            "Word not in glove 'barbershop\n",
            "Word not in glove narcotizing\n",
            "Word not in glove romanc\n",
            "Word not in glove precollegiate\n",
            "Word not in glove sparklingly\n",
            "Word not in glove \n",
            "Word not in glove superlarge\n",
            "Word not in glove what\n",
            "Word not in glove convenien\n",
            "Word not in glove destinees\n",
            "Word not in glove stillbor\n",
            "Word not in glove margolo\n",
            "Word not in glove dominatrixes\n",
            "Word not in glove scuzbag\n",
            "Word not in glove idoosyncratic\n",
            "Word not in glove 'i\n",
            "Word not in glove flatula\n",
            "Word not in glove denlopp\n",
            "Word not in glove updatings\n",
            "Word not in glove watstein\n",
            "Word not in glove sappier\n",
            "Word not in glove condensada\n",
            "Word not in glove divertida\n",
            "Word not in glove visualmente\n",
            "Word not in glove entretenida\n",
            "Word not in glove sorprenderá\n",
            "Word not in glove exporing\n",
            "Word not in glove realit\n",
            "Word not in glove 'charly\n",
            "Word not in glove 'co\n",
            "Word not in glove 'lovely\n",
            "Word not in glove capturou\n",
            "Word not in glove sarcástica\n",
            "Word not in glove divertida\n",
            "Word not in glove demencial\n",
            "Word not in glove predecesora\n",
            "Word not in glove complejos\n",
            "Word not in glove cadness\n",
            "Word not in glove shagster\n",
            "Word not in glove 'hosts\n",
            "Word not in glove 'guests\n",
            "Word not in glove 'jackie\n",
            "Word not in glove 'oeuvre\n",
            "Word not in glove \n",
            "Word not in glove powaqqatsi\n",
            "Word not in glove policiales\n",
            "Word not in glove últimos\n",
            "Word not in glove kickass\n",
            "Word not in glove emptines\n",
            "Word not in glove travil\n",
            "Word not in glove splittingly\n",
            "Word not in glove aborbing\n",
            "Word not in glove monkeyfun\n",
            "Word not in glove famil\n",
            "Word not in glove 'red\n",
            "Word not in glove 'have\n",
            "Word not in glove bierbichler\n",
            "Word not in glove crummles\n",
            "Word not in glove bustingly\n",
            "Word not in glove stultifyingly\n",
            "Word not in glove movi\n",
            "Word not in glove deutchland\n",
            "Word not in glove shouldnt\n",
            "Word not in glove datedness\n",
            "Word not in glove inhospitability\n",
            "Word not in glove næs\n",
            "Word not in glove \n",
            "Word not in glove 'blundering\n",
            "Word not in glove hastier\n",
            "Word not in glove estava\n",
            "Word not in glove existência\n",
            "Word not in glove papai\n",
            "Word not in glove fato\n",
            "Word not in glove inquestionável\n",
            "Word not in glove talancón\n",
            "Word not in glove 'small\n",
            "Word not in glove 'safe\n",
            "Word not in glove 'love\n",
            "Word not in glove seldahl\n",
            "Word not in glove \n",
            "Word not in glove oesnt\n",
            "Word not in glove 'difficult\n",
            "Word not in glove 'analyze\n",
            "Word not in glove montias\n",
            "Word not in glove hotdogging\n",
            "Word not in glove stumblings\n",
            "Word not in glove birot\n",
            "Word not in glove apesar\n",
            "Word not in glove consegue\n",
            "Word not in glove entreter\n",
            "Word not in glove 'picture\n",
            "Word not in glove 'spectacular\n",
            "Word not in glove recoing\n",
            "Word not in glove bizzarre\n",
            "Word not in glove wollter\n",
            "Word not in glove seldahl\n",
            "Word not in glove 'suits\n",
            "Word not in glove alientation\n",
            "Word not in glove doctrin\n",
            "Word not in glove sogginess\n",
            "Word not in glove birot\n",
            "Word not in glove mollà\n",
            "Word not in glove involvingly\n",
            "Word not in glove wifty\n",
            "Word not in glove desperat\n",
            "Word not in glove 'easily\n",
            "Word not in glove 'vain\n",
            "Word not in glove gerbosi\n",
            "Word not in glove 'reality\n",
            "Word not in glove 'frailty\n",
            "Word not in glove stuffiest\n",
            "Word not in glove timewaster\n",
            "Word not in glove strafings\n",
            "Word not in glove debuter\n",
            "Word not in glove histo\n",
            "Word not in glove contando\n",
            "Word not in glove premissa\n",
            "Word not in glove mergulha\n",
            "Word not in glove culminando\n",
            "Word not in glove desfecho\n",
            "Word not in glove certamente\n",
            "Word not in glove memória\n",
            "Word not in glove 'de\n",
            "Word not in glove soaringly\n",
            "Word not in glove 'solaris\n",
            "Word not in glove rendere\n",
            "Word not in glove prevai\n",
            "Word not in glove 'no\n",
            "Word not in glove entretiene\n",
            "Word not in glove masterpiec\n",
            "Word not in glove outgag\n",
            "Word not in glove 'angels\n",
            "Word not in glove pulpiness\n",
            "Word not in glove pictur\n",
            "Word not in glove haphazardness\n",
            "Word not in glove kibbitzes\n",
            "Word not in glove auteil\n",
            "Word not in glove cineasts\n",
            "Word not in glove intacto\n",
            "Word not in glove 'children\n",
            "Word not in glove 'my\n",
            "Word not in glove unconned\n",
            "Word not in glove overmanipulative\n",
            "Word not in glove s1m0ne\n",
            "Word not in glove 'life\n",
            "Word not in glove storytelle\n",
            "Word not in glove werent\n",
            "Word not in glove $1\n",
            "Word not in glove conditio\n",
            "Word not in glove assassi\n",
            "Word not in glove crappola\n",
            "Word not in glove 'refreshing\n",
            "Word not in glove 'drumline\n",
            "Word not in glove koshashvili\n",
            "Word not in glove importanc\n",
            "Word not in glove 'real\n",
            "Word not in glove jaglomized\n",
            "Word not in glove fizzability\n",
            "Word not in glove sytle\n",
            "Word not in glove decasia\n",
            "Word not in glove stoppingly\n",
            "Word not in glove 'laughing\n",
            "Word not in glove 'laughing\n",
            "Word not in glove waydowntown\n",
            "Word not in glove 'stock\n",
            "Word not in glove choquart\n",
            "Word not in glove \n",
            "Word not in glove \n",
            "Word not in glove espectáculo\n",
            "Word not in glove digno\n",
            "Word not in glove contemplarse\n",
            "Word not in glove soberbio\n",
            "Word not in glove montaje\n",
            "Word not in glove colosal\n",
            "Word not in glove universos\n",
            "Word not in glove complementares\n",
            "Word not in glove igualmente\n",
            "Word not in glove fascinantes\n",
            "Word not in glove 'assassin\n",
            "Word not in glove captivatingly\n",
            "Word not in glove 'it\n",
            "Word not in glove fillm\n",
            "Word not in glove 'bad\n",
            "Word not in glove unforgivingly\n",
            "Word not in glove pb&\n",
            "Word not in glove \n",
            "Word not in glove unreligious\n",
            "Word not in glove syste\n",
            "Word not in glove anteing\n",
            "Word not in glove middl\n",
            "Word not in glove marcken\n",
            "Word not in glove mouglalis\n",
            "Word not in glove everlyn\n",
            "Word not in glove animé\n",
            "Word not in glove 'home\n",
            "Word not in glove kosashvili\n",
            "Word not in glove idemoto\n",
            "Word not in glove 'belgium\n",
            "Word not in glove ozpetek\n",
            "Word not in glove 'ron\n",
            "Word not in glove komediant\n",
            "Word not in glove aeso\n",
            "Word not in glove cinemantic\n",
            "Word not in glove efteriades\n",
            "Word not in glove insightfu\n",
            "Word not in glove cinem\n",
            "Word not in glove narcotized\n",
            "Word not in glove ozpetek\n",
            "Word not in glove graças\n",
            "Word not in glove às\n",
            "Word not in glove interações\n",
            "Word not in glove personagens\n",
            "Word not in glove divertida\n",
            "Word not in glove perseguição\n",
            "Word not in glove também\n",
            "Word not in glove estudo\n",
            "Word not in glove personagens\n",
            "Word not in glove 'blood\n",
            "Word not in glove contructed\n",
            "Word not in glove \n",
            "Word not in glove volletta\n",
            "Word not in glove 'cultural\n",
            "Word not in glove whimsicality\n",
            "Word not in glove idemoto\n",
            "Word not in glove uncinematic\n",
            "Word not in glove corniest\n",
            "Word not in glove \n",
            "Word not in glove 'a\n",
            "Word not in glove unslick\n",
            "Word not in glove 'like\n",
            "Word not in glove uplifter\n",
            "Word not in glove forgotte\n",
            "Word not in glove blighter\n",
            "Word not in glove werent\n",
            "Word not in glove 'chops\n",
            "Word not in glove shouldnt\n",
            "Word not in glove ozpetek\n",
            "Word not in glove naturedness\n",
            "Word not in glove hjelje\n",
            "Word not in glove gaï\n",
            "Word not in glove \n",
            "Word not in glove 'silence\n",
            "Word not in glove 'hannibal\n",
            "Word not in glove masterpeice\n",
            "Word not in glove \n",
            "Word not in glove \n",
            "Word not in glove kosashvili\n",
            "Word not in glove entertainmen\n",
            "Word not in glove 'divertida\n",
            "Word not in glove enternecedora\n",
            "Word not in glove profundamente\n",
            "Word not in glove sincera\n",
            "Word not in glove románticas\n",
            "Word not in glove delicia\n",
            "Word not in glove napoleo\n",
            "Word not in glove 'film\n",
            "Word not in glove bjorkness\n",
            "Word not in glove 'laugh\n",
            "Word not in glove 'analyze\n",
            "Word not in glove breathtakin\n",
            "Word not in glove runteldat\n",
            "Word not in glove cletis\n",
            "Word not in glove \n",
            "Word not in glove musclefest\n",
            "Word not in glove líquido\n",
            "Word not in glove incoloro\n",
            "Word not in glove líquido\n",
            "Word not in glove elemento\n",
            "Word not in glove achronological\n",
            "Word not in glove conclusio\n",
            "Word not in glove \n",
            "Word not in glove copmovieland\n",
            "Word not in glove 'alabama\n",
            "Word not in glove auteil\n",
            "Word not in glove sheerly\n",
            "Word not in glove #9\n",
            "Word not in glove oídos\n",
            "Word not in glove movilizador\n",
            "Word not in glove enfrentados\n",
            "Word not in glove deseos\n",
            "Word not in glove miedos\n",
            "Word not in glove prejuicios\n",
            "Word not in glove engaña\n",
            "Word not in glove enfrentará\n",
            "Word not in glove 'interesante\n",
            "Word not in glove disfrutable\n",
            "Word not in glove prescinde\n",
            "Word not in glove elemento\n",
            "Word not in glove patriotero\n",
            "Word not in glove manipulador\n",
            "Word not in glove 'blue\n",
            "Word not in glove 'korean\n",
            "Word not in glove rintarô\n",
            "Word not in glove kahlories\n",
            "Word not in glove 'si\n",
            "Word not in glove logra\n",
            "Word not in glove desarrollarse\n",
            "Word not in glove pretenciosas\n",
            "Word not in glove resultan\n",
            "Word not in glove 'barbershop\n",
            "Word not in glove \n",
            "Word not in glove truncheoning\n",
            "Word not in glove \n",
            "Word not in glove 'what\n",
            "Word not in glove claustrophic\n",
            "Word not in glove 'shindler\n",
            "Word not in glove hitchcockianism\n",
            "Word not in glove chabrolian\n",
            "Word not in glove gooeyness\n",
            "Word not in glove crowdpleaser\n",
            "Word not in glove espite\n",
            "Word not in glove pincel\n",
            "Word not in glove retrata\n",
            "Word not in glove fato\n",
            "Word not in glove constatação\n",
            "Word not in glove realidade\n",
            "Word not in glove 'dumb\n",
            "Word not in glove waydowntown\n",
            "Word not in glove 'possession\n",
            "Word not in glove 'baran\n",
            "Word not in glove beseechingly\n",
            "Word not in glove $20\n",
            "Word not in glove seldahl\n",
            "Word not in glove fanbo\n",
            "Word not in glove stupi\n",
            "Word not in glove goombah\n",
            "Word not in glove dudsville\n",
            "Word not in glove \n",
            "Word not in glove 'jackass\n",
            "Word not in glove equlibrium\n",
            "Word not in glove 'hey\n",
            "Word not in glove 'love\n",
            "Word not in glove 'blade\n",
            "Word not in glove surfacey\n",
            "Word not in glove exhibi\n",
            "Word not in glove prefeminist\n",
            "Word not in glove 'etre\n",
            "Word not in glove shrieky\n",
            "Word not in glove 'we\n",
            "Word not in glove watstein\n",
            "Word not in glove 'ejemplo\n",
            "Word not in glove premisa\n",
            "Word not in glove francamente\n",
            "Word not in glove aburrido\n",
            "Word not in glove 'issues\n",
            "Word not in glove weddin\n",
            "Word not in glove stortelling\n",
            "Word not in glove autocritique\n",
            "Word not in glove 'naturalistic\n",
            "Word not in glove disposible\n",
            "Word not in glove artnering\n",
            "Word not in glove 'you\n",
            "Word not in glove reeses\n",
            "Word not in glove 'it\n",
            "Word not in glove 'chan\n",
            "Word not in glove slappingly\n",
            "Word not in glove \n",
            "Word not in glove eroti\n",
            "Word not in glove $9\n",
            "Word not in glove vidgame\n",
            "Word not in glove nebrida\n",
            "Word not in glove mcklusky\n",
            "Word not in glove minac\n",
            "Word not in glove pretention\n",
            "Word not in glove unamusing\n",
            "Word not in glove blutarsky\n",
            "Word not in glove heartwarmingly\n",
            "Word not in glove 'perfection\n",
            "Word not in glove gasm\n",
            "Word not in glove unimpressively\n",
            "Word not in glove 'yes\n",
            "Word not in glove responsável\n",
            "Word not in glove direto\n",
            "Word not in glove 'artístico\n",
            "Word not in glove roteirista\n",
            "Word not in glove consegue\n",
            "Word not in glove sequer\n",
            "Word not in glove aproveitar\n",
            "Word not in glove pouquíssimos\n",
            "Word not in glove escapa\n",
            "Word not in glove mediocridade\n",
            "Word not in glove unembarrassing\n",
            "Word not in glove bibbidy\n",
            "Word not in glove bobbidi\n",
            "Word not in glove 'swept\n",
            "Word not in glove $40\n",
            "Word not in glove animé\n",
            "Word not in glove fluxing\n",
            "Word not in glove 'hungry\n",
            "Word not in glove burningly\n",
            "Word not in glove cletis\n",
            "Word not in glove obviou\n",
            "Word not in glove bottomlessly\n",
            "Word not in glove nohe\n",
            "Word not in glove 'intro\n",
            "Word not in glove halfwit\n",
            "Word not in glove aceitou\n",
            "Word not in glove continuação\n",
            "Word not in glove saído\n",
            "Word not in glove esquerdo\n",
            "Word not in glove aqueles\n",
            "Word not in glove decidiram\n",
            "Word not in glove assistir\n",
            "Word not in glove também\n",
            "Word not in glove toolbags\n",
            "Word not in glove 'ick\n",
            "Word not in glove 'classic\n",
            "Word not in glove 'comedian\n",
            "Word not in glove 'drama\n",
            "Word not in glove 'red\n",
            "Word not in glove glizty\n",
            "Word not in glove pistoled\n",
            "Word not in glove movi\n",
            "Word not in glove indieflick\n",
            "Word not in glove hammily\n",
            "Word not in glove cletis\n",
            "Word not in glove dullingly\n",
            "Word not in glove nonchallenging\n",
            "Word not in glove affirmational\n",
            "Word not in glove subjec\n",
            "Word not in glove smashups\n",
            "Word not in glove phonce\n",
            "Word not in glove birot\n",
            "Word not in glove \n",
            "Word not in glove stuporously\n",
            "Word not in glove repellantly\n",
            "Word not in glove runteldat\n",
            "Word not in glove dyslexi\n",
            "Word not in glove 'quit\n",
            "Word not in glove unentertaining\n",
            "Word not in glove decirles\n",
            "Word not in glove grato\n",
            "Word not in glove desnudo\n",
            "Word not in glove $99\n",
            "Word not in glove kalesniko\n",
            "Word not in glove squaddie\n",
            "Word not in glove waydowntown\n",
            "Word not in glove sandlerian\n",
            "Word not in glove hirosue\n",
            "Word not in glove catechis\n",
            "Word not in glove 'christian\n",
            "Word not in glove actorish\n",
            "Word not in glove penotti\n",
            "Word not in glove leatherbound\n",
            "Word not in glove zzzzzzzzz\n",
            "Word not in glove 'literary\n",
            "Word not in glove hadnt\n",
            "Word not in glove puttingly\n",
            "Word not in glove 'under\n",
            "Word not in glove 'urban\n",
            "Word not in glove forgettabl\n",
            "Word not in glove schneidermeister\n",
            "Word not in glove 'scooby\n",
            "Word not in glove kidlets\n",
            "Word not in glove sychowski\n",
            "Word not in glove fustily\n",
            "Word not in glove 'i\n",
            "Word not in glove 'cq\n",
            "Word not in glove feardotcom\n",
            "Word not in glove 'german\n",
            "Word not in glove romething\n",
            "Word not in glove ricture\n",
            "Word not in glove 'god\n",
            "Word not in glove 'uhhh\n",
            "Word not in glove prechewed\n",
            "Word not in glove \n",
            "Word not in glove sitcomishly\n",
            "Word not in glove 'a\n",
            "Word not in glove 'deadly\n",
            "Word not in glove 'men\n",
            "Word not in glove \n",
            "Word not in glove mixtur\n",
            "Word not in glove horribl\n",
            "Word not in glove 'do\n",
            "Word not in glove 'synthetic\n",
            "Word not in glove thesps\n",
            "Word not in glove 'wow\n",
            "Word not in glove performanc\n",
            "Word not in glove sillified\n",
            "Word not in glove italicizes\n",
            "Word not in glove 'amateur\n",
            "Word not in glove skeeved\n",
            "Word not in glove skippable\n",
            "Word not in glove greaseballs\n",
            "Word not in glove 'action\n",
            "Word not in glove forgettably\n",
            "Word not in glove overstylized\n",
            "Word not in glove puréed\n",
            "Word not in glove wankery\n",
            "Word not in glove 'lovely\n",
            "Word not in glove 'it\n",
            "Word not in glove shouldnt\n",
            "Word not in glove 'who\n",
            "Word not in glove 'all\n",
            "Word not in glove substitutable\n",
            "Word not in glove 'do\n",
            "Word not in glove 'fallon\n",
            "Word not in glove 'who\n",
            "Word not in glove 'why\n",
            "Word not in glove 'empowerment\n",
            "Word not in glove leplouff\n",
            "Word not in glove maelström\n",
            "Word not in glove 'a\n",
            "Word not in glove ventually\n",
            "Word not in glove gutterball\n",
            "Word not in glove thekids\n",
            "Word not in glove overplotted\n",
            "Word not in glove thons\n",
            "Word not in glove misogyn\n",
            "Word not in glove 'independent\n",
            "Word not in glove 'swimfan\n",
            "Word not in glove collosum\n",
            "Word not in glove drek\n",
            "Word not in glove unclassifiably\n",
            "Word not in glove untugged\n",
            "Word not in glove unplundered\n",
            "Word not in glove zillionth\n",
            "Word not in glove dateflick\n",
            "Word not in glove uncharismatically\n",
            "Word not in glove #3\n",
            "Word not in glove allodi\n",
            "Word not in glove nolden\n",
            "Word not in glove higuchinsky\n",
            "Word not in glove hamfisted\n",
            "Word not in glove 'worse\n",
            "Word not in glove amoses\n",
            "Word not in glove can&#8217\n",
            "Word not in glove kilmer&#8217\n",
            "Word not in glove 'frankly\n",
            "Word not in glove prewarned\n",
            "Word not in glove unencouraging\n",
            "Word not in glove groun\n",
            "Word not in glove 'fallon\n",
            "Word not in glove $40\n",
            "Word not in glove nutjob\n",
            "Word not in glove 'ace\n",
            "Word not in glove 'credit\n",
            "Word not in glove overemphatic\n",
            "Word not in glove \n",
            "Word not in glove lástima\n",
            "Word not in glove estafeta\n",
            "Word not in glove puportedly\n",
            "Word not in glove werent\n",
            "Word not in glove corruscating\n",
            "Word not in glove \n",
            "Word not in glove 100%\n",
            "Word not in glove enoug\n",
            "Word not in glove inconsequentiality\n",
            "Word not in glove repulsively\n",
            "Word not in glove 'get\n",
            "Word not in glove offe\n",
            "Word not in glove 'chick\n",
            "Word not in glove 'neill\n",
            "Word not in glove deadeningly\n",
            "Word not in glove laboriousness\n",
            "Word not in glove effor\n",
            "Word not in glove stultifyingly\n",
            "Word not in glove dumbfoundingly\n",
            "Word not in glove ooky\n",
            "Word not in glove spookies\n",
            "Word not in glove 'comedy\n",
            "Word not in glove clutchy\n",
            "Word not in glove lifeles\n",
            "Word not in glove approac\n",
            "Word not in glove 'artistically\n",
            "Word not in glove t&a\n",
            "Word not in glove unrecommendable\n",
            "Word not in glove shayamalan\n",
            "Word not in glove 'clock\n",
            "Word not in glove greasiest\n",
            "Word not in glove $7\n",
            "Word not in glove solondzian\n",
            "Word not in glove ozpetek\n",
            "Word not in glove birot\n",
            "Word not in glove nohe\n",
            "Word not in glove realshe\n",
            "Word not in glove ihops\n",
            "Word not in glove $9\n",
            "Word not in glove \n",
            "Word not in glove villians\n",
            "Word not in glove 'carente\n",
            "Word not in glove imaginación\n",
            "Word not in glove actuada\n",
            "Word not in glove ápice\n",
            "Word not in glove pérdida\n",
            "Word not in glove advic\n",
            "Word not in glove \n",
            "Word not in glove disbelie\n",
            "Word not in glove 'enigma\n",
            "Word not in glove delibrately\n",
            "Word not in glove 'i\n",
            "Word not in glove 'unfaithful\n",
            "Word not in glove shouldnt\n",
            "Word not in glove togethe\n",
            "Word not in glove divertingly\n",
            "Word not in glove headbangingly\n",
            "Word not in glove fuhgeddaboutit\n",
            "Word not in glove 'slash\n",
            "Word not in glove 'you\n",
            "Word not in glove russos\n",
            "Word not in glove 'e\n",
            "Word not in glove 'b\n",
            "Word not in glove wewannour\n",
            "Word not in glove salaciously\n",
            "Word not in glove $100\n",
            "Word not in glove dogwalker\n",
            "Word not in glove kazmierski\n",
            "Word not in glove unsuspenseful\n",
            "Word not in glove 'best\n",
            "Word not in glove humbuggery\n",
            "Word not in glove qatsi\n",
            "Word not in glove 'great\n",
            "Word not in glove lapdance\n",
            "Word not in glove interspliced\n",
            "Word not in glove russos\n",
            "Word not in glove \n",
            "Word not in glove shouldnt\n",
            "Word not in glove siuation\n",
            "Word not in glove \n",
            "Word not in glove \n",
            "Word not in glove episódio\n",
            "Word not in glove única\n",
            "Word not in glove diferença\n",
            "Word not in glove gosto\n",
            "Word not in glove exibi\n",
            "Word not in glove meaningness\n",
            "Word not in glove 'dragonfly\n",
            "Word not in glove miscasts\n",
            "Word not in glove hadnt\n",
            "Word not in glove 'bold\n",
            "Word not in glove likableness\n",
            "Word not in glove spiritednes\n",
            "Word not in glove 'inspirational\n",
            "Word not in glove 'uplifting\n",
            "Word not in glove deepl\n",
            "Word not in glove elegiacally\n",
            "Word not in glove ryanovich\n",
            "Word not in glove 'fish\n",
            "Word not in glove brûlée\n",
            "Word not in glove dridi\n",
            "Word not in glove \n",
            "Word not in glove \n",
            "Word not in glove substanc\n",
            "Word not in glove manqué\n",
            "Word not in glove nerfs\n",
            "Word not in glove dès\n",
            "Word not in glove 'some\n",
            "Word not in glove ineptitudes\n",
            "Word not in glove sailboaters\n",
            "Word not in glove 'classic\n",
            "Word not in glove pictur\n",
            "Word not in glove apallingly\n",
            "Word not in glove reunio\n",
            "Word not in glove excrescence\n",
            "Word not in glove 'what\n",
            "Word not in glove costumey\n",
            "Word not in glove espetáculo\n",
            "Word not in glove possui\n",
            "Word not in glove esteticamente\n",
            "Word not in glove emocionalmente\n",
            "Word not in glove 'i\n",
            "Word not in glove 'life\n",
            "Word not in glove nrelentingly\n",
            "Word not in glove slowtime\n",
            "Word not in glove 'how\n",
            "Word not in glove 'woods\n",
            "Word not in glove montias\n",
            "Word not in glove montied\n",
            "Word not in glove strainingly\n",
            "Word not in glove gantzes\n",
            "Word not in glove breakthroug\n",
            "Word not in glove uberviolence\n",
            "Word not in glove clericks\n",
            "Word not in glove roisterous\n",
            "Word not in glove 'abandon\n",
            "Word not in glove birot\n",
            "Word not in glove gymkata\n",
            "Word not in glove \n",
            "Word not in glove incompetência\n",
            "Word not in glove roteirista\n",
            "Word not in glove superada\n",
            "Word not in glove péssima\n",
            "Word not in glove direção\n",
            "Word not in glove slummy\n",
            "Word not in glove movi\n",
            "Word not in glove kalvert\n",
            "Word not in glove muddl\n",
            "Word not in glove guessable\n",
            "Word not in glove 'i\n",
            "Word not in glove 'sacre\n",
            "Word not in glove 'magnifique\n",
            "Word not in glove cletis\n",
            "Word not in glove inducingly\n",
            "Word not in glove cipherlike\n",
            "Word not in glove $9\n",
            "Word not in glove landbound\n",
            "Word not in glove 'surprises\n",
            "Word not in glove 'sophisticated\n",
            "Word not in glove 'challenging\n",
            "Word not in glove theate\n",
            "Word not in glove cativante\n",
            "Word not in glove representando\n",
            "Word not in glove direção\n",
            "Word not in glove contrária\n",
            "Word not in glove evolução\n",
            "Word not in glove musicais\n",
            "Word not in glove waydowntown\n",
            "Word not in glove 'bowling\n",
            "Word not in glove accomodates\n",
            "Word not in glove cannier\n",
            "Word not in glove 'estupendamente\n",
            "Word not in glove actuada\n",
            "Word not in glove sumamente\n",
            "Word not in glove emotiva\n",
            "Word not in glove profundamente\n",
            "Word not in glove fílmica\n",
            "Word not in glove hellstenius\n",
            "Word not in glove 'nicholas\n",
            "Word not in glove Último\n",
            "Word not in glove suspeito\n",
            "Word not in glove ganha\n",
            "Word not in glove também\n",
            "Word not in glove funcionar\n",
            "Word not in glove esfera\n",
            "Word not in glove achronological\n",
            "Word not in glove feardotcom\n",
            "Word not in glove 'moore\n",
            "Word not in glove janklowicz\n",
            "Word not in glove revigorates\n",
            "Word not in glove qutting\n",
            "Word not in glove luvvies\n",
            "Word not in glove intellec\n",
            "Word not in glove bergmanesque\n",
            "Word not in glove snazziness\n",
            "Word not in glove nohe\n",
            "Word not in glove 'anyone\n",
            "Word not in glove verete\n",
            "Word not in glove journe\n",
            "Word not in glove diciness\n",
            "Word not in glove colonics\n",
            "Word not in glove publi\n",
            "Word not in glove b+\n",
            "Word not in glove janklowicz\n",
            "Word not in glove shmear\n",
            "Word not in glove bornin\n",
            "Word not in glove plaintiveness\n",
            "Word not in glove 'orphans\n",
            "Word not in glove unemotive\n",
            "Word not in glove steinis\n",
            "Word not in glove 'very\n",
            "Word not in glove merg\n",
            "Word not in glove cletis\n",
            "Word not in glove 'are\n",
            "Word not in glove swordfights\n",
            "Word not in glove 'santa\n",
            "Word not in glove dooper\n",
            "Word not in glove adorability\n",
            "Word not in glove materalism\n",
            "Word not in glove unhibited\n",
            "Word not in glove seldahl\n",
            "Word not in glove wollter\n",
            "Word not in glove japanimator\n",
            "Word not in glove achival\n",
            "Word not in glove flakeball\n",
            "Word not in glove 'qatsi\n",
            "Word not in glove atreve\n",
            "Word not in glove atacar\n",
            "Word not in glove atacarse\n",
            "Word not in glove duració\n",
            "Word not in glove 'praise\n",
            "Word not in glove precisa\n",
            "Word not in glove grandiosa\n",
            "Word not in glove conmovedora\n",
            "Word not in glove têm\n",
            "Word not in glove início\n",
            "Word not in glove saímos\n",
            "Word not in glove começamos\n",
            "Word not in glove acabamos\n",
            "Word not in glove É\n",
            "Word not in glove então\n",
            "Word not in glove sinais\n",
            "Word not in glove desaponta\n",
            "Word not in glove hadnt\n",
            "Word not in glove unfakable\n",
            "Word not in glove dreadfulness\n",
            "Word not in glove 'enigma\n",
            "Word not in glove 'we\n",
            "Word not in glove agai\n",
            "Word not in glove 'right\n",
            "Word not in glove 'easier\n",
            "Word not in glove shouldnt\n",
            "Word not in glove 'solid\n",
            "Word not in glove sheerly\n",
            "Word not in glove 'stoked\n",
            "Word not in glove powerfu\n",
            "Word not in glove 'my\n",
            "Word not in glove marveilleux\n",
            "Word not in glove 'date\n",
            "Word not in glove 'a\n",
            "Word not in glove heremakono\n",
            "Word not in glove soundtrac\n",
            "Word not in glove hotsies\n",
            "Word not in glove 'manhunter\n",
            "Word not in glove preocupar\n",
            "Word not in glove criar\n",
            "Word not in glove melodramáticos\n",
            "Word not in glove pianista\n",
            "Word not in glove emocionante\n",
            "Word not in glove 'what\n",
            "Word not in glove obligada\n",
            "Word not in glove impotentes\n",
            "Word not in glove daneses\n",
            "Word not in glove camareras\n",
            "Word not in glove italianas\n",
            "Word not in glove desee\n",
            "Word not in glove expresar\n",
            "Word not in glove \n",
            "Word not in glove shouldnt\n",
            "Word not in glove kosashvili\n",
            "Word not in glove surehanded\n",
            "Word not in glove 'aunque\n",
            "Word not in glove recurre\n",
            "Word not in glove actuación\n",
            "Word not in glove perdona\n",
            "Word not in glove guión\n",
            "Word not in glove mibii\n",
            "Word not in glove shimmeringly\n",
            "Word not in glove frissons\n",
            "Word not in glove 'it\n",
            "Word not in glove performe\n",
            "Word not in glove \n",
            "Word not in glove convencional\n",
            "Word not in glove narrativa\n",
            "Word not in glove quizá\n",
            "Word not in glove arriesgado\n",
            "Word not in glove cuaró\n",
            "Word not in glove É\n",
            "Word not in glove próprio\n",
            "Word not in glove abandone\n",
            "Word not in glove paródia\n",
            "Word not in glove utilizar\n",
            "Word not in glove mesmos\n",
            "Word not in glove clichês\n",
            "Word not in glove havia\n",
            "Word not in glove satirizado\n",
            "Word not in glove nonethnic\n",
            "Word not in glove 'memento\n",
            "Word not in glove 'requiem\n",
            "Word not in glove direct\n",
            "Word not in glove dysfunctionally\n",
            "Word not in glove vulakoro\n",
            "Word not in glove ourside\n",
            "Word not in glove birot\n",
            "Word not in glove hobnail\n",
            "Word not in glove psychodramatics\n",
            "Word not in glove sermonize\n",
            "Word not in glove ozpetek\n",
            "Word not in glove intentando\n",
            "Word not in glove rápidamente\n",
            "Word not in glove transforma\n",
            "Word not in glove absolutamente\n",
            "Word not in glove predecibl\n",
            "Word not in glove 'garth\n",
            "Word not in glove 'wayne\n",
            "Word not in glove 'videodrome\n",
            "Word not in glove possibl\n",
            "Word not in glove meanspirited\n",
            "Word not in glove 'surprises\n",
            "Word not in glove 'butterfingered\n",
            "Word not in glove unbearabl\n",
            "Word not in glove coriat\n",
            "Word not in glove 'grandeur\n",
            "Word not in glove splatterfests\n",
            "Word not in glove experienc\n",
            "Word not in glove ótimo\n",
            "Word not in glove esforço\n",
            "Word not in glove diretor\n",
            "Word not in glove frustrado\n",
            "Word not in glove roteiro\n",
            "Word not in glove colocar\n",
            "Word not in glove andamento\n",
            "Word not in glove perde\n",
            "Word not in glove instante\n",
            "Word not in glove reconceptualize\n",
            "Word not in glove cirulnick\n",
            "Word not in glove artsploitation\n",
            "Word not in glove 'just\n",
            "Word not in glove stagecrafts\n",
            "Word not in glove 'jason\n",
            "Word not in glove unsalvageability\n",
            "Word not in glove 'a\n",
            "Word not in glove transfigures\n",
            "Word not in glove 'epic\n",
            "Word not in glove $50\n",
            "Word not in glove 'what\n",
            "Word not in glove 'how\n",
            "Word not in glove \n",
            "Word not in glove 'scream\n",
            "Word not in glove witlessness\n",
            "Word not in glove 'fatal\n",
            "Word not in glove 'what\n",
            "Word not in glove pollyana\n",
            "Word not in glove patheti\n",
            "Word not in glove 'ah\n",
            "Word not in glove shapable\n",
            "Word not in glove felinni\n",
            "Word not in glove 'zany\n",
            "Word not in glove 'funny\n",
            "Word not in glove 'alternate\n",
            "Word not in glove imponderably\n",
            "Word not in glove `matrix\n",
            "Word not in glove repor\n",
            "Word not in glove pokepie\n",
            "Word not in glove 'if\n",
            "Word not in glove bruckheimeresque\n",
            "Word not in glove 'rare\n",
            "Word not in glove stultifyingly\n",
            "Word not in glove derivativeness\n",
            "Word not in glove versión\n",
            "Word not in glove preciosista\n",
            "Word not in glove ningún\n",
            "Word not in glove 'snow\n",
            "Word not in glove djeinaba\n",
            "Word not in glove \n",
            "Word not in glove neednt\n",
            "Word not in glove silbersteins\n",
            "Word not in glove juiceless\n",
            "Word not in glove stilte\n",
            "Word not in glove 'been\n",
            "Word not in glove reeboir\n",
            "Word not in glove 'let\n",
            "Word not in glove 'issues\n",
            "Word not in glove perfervid\n",
            "Word not in glove 'guy\n",
            "Word not in glove bondish\n",
            "Word not in glove underdramatized\n",
            "Word not in glove 'it\n",
            "Word not in glove 'we\n",
            "Word not in glove 'what\n",
            "Word not in glove joylessly\n",
            "Word not in glove emptily\n",
            "Word not in glove actory\n",
            "Word not in glove 'lick\n",
            "Word not in glove feardotcom\n",
            "Word not in glove kidlets\n",
            "Word not in glove 'a\n",
            "Word not in glove gabbiest\n",
            "Word not in glove \n",
            "Word not in glove 'in\n",
            "Word not in glove 'james\n",
            "Word not in glove 'dumb\n",
            "Word not in glove shouldnt\n",
            "Word not in glove werent\n",
            "Word not in glove 'seeking\n",
            "Word not in glove bazadona\n",
            "Word not in glove `hey\n",
            "Word not in glove tardier\n",
            "Word not in glove frissons\n",
            "Word not in glove superficiale\n",
            "Word not in glove 'girls\n",
            "Word not in glove 'dog\n",
            "Word not in glove calibr\n",
            "Word not in glove flck\n",
            "Word not in glove chopsocky\n",
            "Word not in glove cletis\n",
            "Word not in glove fuddled\n",
            "Word not in glove adventues\n",
            "Word not in glove 'fatal\n",
            "Word not in glove 'are\n",
            "Word not in glove 'fallon\n",
            "Word not in glove 'juvenile\n",
            "Word not in glove movieif\n",
            "Word not in glove necessidade\n",
            "Word not in glove término\n",
            "Word not in glove projeção\n",
            "Word not in glove preocupe\n",
            "Word not in glove ninguém\n",
            "Word not in glove lhe\n",
            "Word not in glove enviará\n",
            "Word not in glove simbolizando\n",
            "Word not in glove covardia\n",
            "Word not in glove delive\n",
            "Word not in glove defeatingly\n",
            "Word not in glove shoplifts\n",
            "Word not in glove 'best\n",
            "Word not in glove unlaughable\n",
            "Word not in glove 5ths\n",
            "Word not in glove shakesperean\n",
            "Word not in glove amusedly\n",
            "Word not in glove 'linklater\n",
            "Word not in glove snoots\n",
            "Word not in glove 'masterpiece\n",
            "Word not in glove shlockmeister\n",
            "Word not in glove 'cherish\n",
            "Word not in glove <b>the\n",
            "Word not in glove magi<\n",
            "Word not in glove b>\n",
            "Word not in glove courageousness\n",
            "Word not in glove melodram\n",
            "Word not in glove superheroics\n",
            "Word not in glove engross\n",
            "Word not in glove decasia\n",
            "Word not in glove \n",
            "Word not in glove spectru\n",
            "Word not in glove oprahfication\n",
            "Word not in glove películas\n",
            "Word not in glove reconfortado\n",
            "Word not in glove agradecido\n",
            "Word not in glove genuinamente\n",
            "Word not in glove sorprendido\n",
            "Word not in glove imaxy\n",
            "Word not in glove 'almodóvar\n",
            "Word not in glove logra\n",
            "Word not in glove entrañable\n",
            "Word not in glove compasión\n",
            "Word not in glove comprensión\n",
            "Word not in glove inolvidable\n",
            "Word not in glove bohos\n",
            "Word not in glove \n",
            "Word not in glove inspirado\n",
            "Word not in glove 'epic\n",
            "Word not in glove 'divine\n",
            "Word not in glove asiaphiles\n",
            "Word not in glove 'alice\n",
            "Word not in glove underconfident\n",
            "Word not in glove 'old\n",
            "Word not in glove viewin\n",
            "Word not in glove recoing\n",
            "Word not in glove werent\n",
            "Word not in glove pasach\n",
            "Word not in glove 'ke\n",
            "Word not in glove fundadas\n",
            "Word not in glove comprueba\n",
            "Word not in glove 'dramedy\n",
            "Word not in glove intacto\n",
            "Word not in glove mateys\n",
            "Word not in glove scripters\n",
            "Word not in glove doshas\n",
            "Word not in glove 'cool\n",
            "Word not in glove 'black\n",
            "Word not in glove dorkier\n",
            "Word not in glove 'white\n",
            "Word not in glove 'slackers\n",
            "Word not in glove semimusical\n",
            "Word not in glove lealtad\n",
            "Word not in glove traición\n",
            "Word not in glove seguramente\n",
            "Word not in glove convertirá\n",
            "Word not in glove werent\n",
            "Word not in glove kosashvili\n",
            "Word not in glove 'gentle\n",
            "Word not in glove niblet\n",
            "Word not in glove cletis\n",
            "Word not in glove <em>ash\n",
            "Word not in glove wednesday<\n",
            "Word not in glove em>\n",
            "Word not in glove zishe\n",
            "Word not in glove janklowicz\n",
            "Word not in glove warm\n",
            "Word not in glove completist\n",
            "Word not in glove underachieves\n",
            "Word not in glove 'rendered\n",
            "Word not in glove lengt\n",
            "Word not in glove 'spy\n",
            "Word not in glove formuliac\n",
            "Word not in glove 'pocas\n",
            "Word not in glove compenetrado\n",
            "Word not in glove actuaciones\n",
            "Word not in glove verdaderamente\n",
            "Word not in glove memorables\n",
            "Word not in glove vereté\n",
            "Word not in glove untidily\n",
            "Word not in glove <i\n",
            "Word not in glove manipulativeness\n",
            "Word not in glove dognini\n",
            "Word not in glove 'signs\n",
            "Word not in glove neednt\n",
            "Word not in glove 'in\n",
            "Word not in glove ohlinger\n",
            "Word not in glove videologue\n",
            "Word not in glove wollter\n",
            "Word not in glove seldahl\n",
            "Word not in glove unfussily\n",
            "Word not in glove performe\n",
            "Word not in glove occasio\n",
            "Word not in glove chardonne\n",
            "Word not in glove 'get\n",
            "Word not in glove genr\n",
            "Word not in glove breakingly\n",
            "Word not in glove \n",
            "Word not in glove \n",
            "Word not in glove entertainin\n",
            "Word not in glove nonjudgmentally\n",
            "Word not in glove 'if\n",
            "Word not in glove wonderous\n",
            "Word not in glove uncinematic\n",
            "Word not in glove animaton\n",
            "Word not in glove egocentricities\n",
            "Word not in glove jived\n",
            "Word not in glove planos\n",
            "Word not in glove fijos\n",
            "Word not in glove pausado\n",
            "Word not in glove observación\n",
            "Word not in glove estridencias\n",
            "Word not in glove revelaciones\n",
            "Word not in glove 'life\n",
            "Word not in glove 'schmaltzy\n",
            "Word not in glove servicable\n",
            "Word not in glove sanctimoniousness\n",
            "Word not in glove 'it\n",
            "Word not in glove codswallop\n",
            "Word not in glove shouldnt\n",
            "Word not in glove 'ethnic\n",
            "Word not in glove acerta\n",
            "Word not in glove alvo\n",
            "Word not in glove perdão\n",
            "Word not in glove trocadilho\n",
            "Word not in glove brilhantismo\n",
            "Word not in glove argumentação\n",
            "Word not in glove diretor\n",
            "Word not in glove holofcenter\n",
            "Word not in glove origina\n",
            "Word not in glove debrauwer\n",
            "Word not in glove waydowntown\n",
            "Word not in glove breheny\n",
            "Word not in glove romoli\n",
            "Word not in glove ozpetek\n",
            "Word not in glove 'masterpiece\n",
            "Word not in glove laugther\n",
            "Word not in glove dridi\n",
            "Word not in glove birot\n",
            "Word not in glove hadnt\n",
            "Word not in glove encumbers\n",
            "Word not in glove an\n",
            "Word not in glove 'wouldnt\n",
            "Word not in glove werent\n",
            "Word not in glove cutes\n",
            "Word not in glove gunfest\n",
            "Word not in glove 'hip\n",
            "Word not in glove 'innovative\n",
            "Word not in glove 'realistic\n",
            "Word not in glove copyof\n",
            "Word not in glove teendom\n",
            "Word not in glove 'angels\n",
            "Word not in glove deadeningly\n",
            "Word not in glove feardotcom\n",
            "Word not in glove unshapely\n",
            "Word not in glove flibbertigibbet\n",
            "Word not in glove underventilated\n",
            "Word not in glove \n",
            "Word not in glove angs\n",
            "Word not in glove shouldnt\n",
            "Word not in glove 'comedy\n",
            "Word not in glove murde\n",
            "Word not in glove actorliness\n",
            "Word not in glove 'comedy\n",
            "Word not in glove 'punch\n",
            "Word not in glove encomia\n",
            "Word not in glove 'blade\n",
            "Word not in glove detentio\n",
            "Word not in glove nebrida\n",
            "Word not in glove $8\n",
            "Word not in glove baaaaaaaaad\n",
            "Word not in glove scoob\n",
            "Word not in glove telanovela\n",
            "Word not in glove wollter\n",
            "Word not in glove seldhal\n",
            "Word not in glove #9\n",
            "Word not in glove executio\n",
            "Word not in glove sureif\n",
            "Word not in glove #9\n",
            "Word not in glove 'comedy\n",
            "Word not in glove \n",
            "Word not in glove \n",
            "Word not in glove retitle\n",
            "Word not in glove ambition&#133\n",
            "Word not in glove 'hypertime\n",
            "Word not in glove 'science\n",
            "Word not in glove tryingly\n",
            "Word not in glove 'pocas\n",
            "Word not in glove corresponde\n",
            "Word not in glove sensación\n",
            "Word not in glove inconformidad\n",
            "Word not in glove hardass\n",
            "Word not in glove unhidden\n",
            "Word not in glove cletis\n",
            "Word not in glove showgirls<\n",
            "Word not in glove uninventive\n",
            "Word not in glove slummer\n",
            "Word not in glove underrehearsed\n",
            "Word not in glove 'in\n",
            "Word not in glove 'goodfellas\n",
            "Word not in glove drek\n",
            "Word not in glove em\n",
            "Word not in glove perspicaciou\n",
            "Word not in glove pantomimesque\n",
            "Word not in glove sterotypes\n",
            "Word not in glove nymphette\n",
            "Word not in glove nuld\n",
            "Word not in glove schticky\n",
            "Word not in glove 'back\n",
            "Word not in glove 'post\n",
            "Word not in glove birot\n",
            "Word not in glove achero\n",
            "Word not in glove 'naqoyqatsi\n",
            "Word not in glove 'message\n",
            "Word not in glove undeterminable\n",
            "Word not in glove thumpingly\n",
            "Word not in glove thumpingly\n",
            "Word not in glove 'nature\n",
            "Word not in glove mccrudde\n",
            "Word not in glove werent\n",
            "Word not in glove 'opening\n",
            "Word not in glove cletis\n",
            "Word not in glove 'special\n",
            "Word not in glove misbegotte\n",
            "Word not in glove 'es\n",
            "Word not in glove esté\n",
            "Word not in glove realizando\n",
            "Word not in glove algún\n",
            "Word not in glove laughte\n",
            "Word not in glove \n",
            "Word not in glove mushes\n",
            "Word not in glove 'plex\n",
            "Word not in glove dungpile\n",
            "Word not in glove 'i\n",
            "Word not in glove diverte\n",
            "Word not in glove convence\n",
            "Word not in glove É\n",
            "Word not in glove passatempo\n",
            "Word not in glove descompromissado\n",
            "Word not in glove \n",
            "Word not in glove 'chris\n",
            "Word not in glove 'anthony\n",
            "Word not in glove 'eh\n",
            "Word not in glove forgettably\n",
            "Word not in glove feardotcom\n",
            "Word not in glove dipsticks\n",
            "Word not in glove `martin\n",
            "Word not in glove feardotcom\n",
            "Word not in glove 'sub\n",
            "Word not in glove talkiness\n",
            "Word not in glove spittingly\n",
            "Word not in glove 'fully\n",
            "Word not in glove derisions\n",
            "Word not in glove condundrum\n",
            "Word not in glove dialogu\n",
            "Word not in glove 'should\n",
            "Word not in glove 'plain\n",
            "Word not in glove monsterous\n",
            "Word not in glove crapulence\n",
            "Word not in glove naïf\n",
            "Word not in glove wisegirls\n",
            "Word not in glove personalit\n",
            "Word not in glove suspenser\n",
            "Word not in glove eckstraordinarily\n",
            "Word not in glove 'dragonfly\n",
            "Word not in glove softheaded\n",
            "Word not in glove actioners\n",
            "Word not in glove 'inside\n",
            "Word not in glove cheatfully\n",
            "Word not in glove truckzilla\n",
            "Word not in glove incompeten\n",
            "Word not in glove stevenon\n"
          ],
          "name": "stdout"
        }
      ]
    },
    {
      "cell_type": "code",
      "metadata": {
        "id": "ewe9u77HAbIQ",
        "outputId": "bd45ee3a-209b-4267-f85d-7491e732e2ad",
        "colab": {
          "base_uri": "https://localhost:8080/",
          "height": 69
        }
      },
      "source": [
        "print(embedding_x_train.shape)\n",
        "print(embedding_x_dev.shape)\n",
        "print(embedding_x_test.shape)"
      ],
      "execution_count": null,
      "outputs": [
        {
          "output_type": "stream",
          "text": [
            "torch.Size([6396, 35, 300])\n",
            "torch.Size([2132, 35, 300])\n",
            "torch.Size([2134, 35, 300])\n"
          ],
          "name": "stdout"
        }
      ]
    },
    {
      "cell_type": "code",
      "metadata": {
        "id": "F7Cn5ddWWg4x"
      },
      "source": [
        "y_train = torch.from_numpy(y_train)\n",
        "y_dev = torch.from_numpy(y_dev)\n",
        "y_test = torch.from_numpy(y_test)"
      ],
      "execution_count": null,
      "outputs": []
    },
    {
      "cell_type": "code",
      "metadata": {
        "id": "WDuIolAyqaUb"
      },
      "source": [
        "import sklearn\n",
        "\n",
        "embedding_x_train, y_train = sklearn.utils.shuffle(embedding_x_train, y_train)\n",
        "embedding_x_dev, y_dev = sklearn.utils.shuffle(embedding_x_dev, y_dev)"
      ],
      "execution_count": null,
      "outputs": []
    },
    {
      "cell_type": "code",
      "metadata": {
        "id": "8s3s3u4yY63u"
      },
      "source": [
        "embedding_x_train, y_train, embedding_x_dev, y_dev = embedding_x_train.cuda(), y_train.cuda(), embedding_x_dev.cuda(), y_dev.cuda()"
      ],
      "execution_count": null,
      "outputs": []
    },
    {
      "cell_type": "code",
      "metadata": {
        "id": "YF1crWC7CXmi"
      },
      "source": [
        "class RNN(nn.Module):\n",
        "    def __init__(self, embedding_dim, hidden_dim, output_dim, dropout):\n",
        "        super(RNN,self).__init__()\n",
        "        self.hidden_dim = hidden_dim\n",
        "        # self.embedding = nn.Embedding(input_dim, embedding_dim)\n",
        "        self.rnn = nn.RNN(embedding_dim, hidden_dim, dropout=dropout, nonlinearity='tanh')\n",
        "        self.fc = nn.Linear(hidden_dim, output_dim)\n",
        "        # self.fc = nn.Sequential(nn.Linear(hidden_dim, output_dim),nn.Sigmoid())\n",
        "\n",
        "        self.dropout = nn.Dropout(dropout)\n",
        "    \n",
        "    def __init__hidden(self, batch_size):\n",
        "        hidden = torch.zeros(1,batch_size, self.hidden_dim).cuda()\n",
        "        return Variable(hidden)\n",
        "\n",
        "    def forward(self, x):\n",
        "\n",
        "        #x = [sent len, batch size]\n",
        "        \n",
        "        # embedded = self.dropout(self.embedding(x))\n",
        "        \n",
        "        #embedded = [sent len, batch size, emb dim]\n",
        "        # print(\"x\",x.shape)\n",
        "        hidden = self.__init__hidden(len(x[0]))\n",
        "        output, hidden = self.rnn(x,hidden)\n",
        "        # print(\"out:\",output.shape)\n",
        "        # print(\"hidden:\",hidden.shape)\n",
        "        \n",
        "        #output = [sent len, batch size, hid dim]\n",
        "        #hidden = [1, batch size, hid dim]\n",
        "        \n",
        "        # assert torch.equal(output[-1,:,:], hidden.squeeze(0))\n",
        "\n",
        "        hidden = self.dropout(hidden)\n",
        "        # print(\"hidden2:\",hidden.shape)\n",
        "        out = self.fc(hidden)\n",
        "        # print(\"out2:\",out.shape)\n",
        "        return out"
      ],
      "execution_count": null,
      "outputs": []
    },
    {
      "cell_type": "code",
      "metadata": {
        "id": "fTeviJ8oSC2_",
        "outputId": "7bb09b5c-c5bb-43b8-e08b-6fa304da07e0",
        "colab": {
          "base_uri": "https://localhost:8080/",
          "height": 72
        }
      },
      "source": [
        "# INPUT_DIM = len(TEXT.vocab)\n",
        "EMBEDDING_DIM = 300\n",
        "HIDDEN_DIM = 300\n",
        "OUTPUT_DIM = 2\n",
        "DROPOUT = 0.4\n",
        "\n",
        "model = RNN(EMBEDDING_DIM, HIDDEN_DIM, OUTPUT_DIM, DROPOUT).cuda()"
      ],
      "execution_count": null,
      "outputs": [
        {
          "output_type": "stream",
          "text": [
            "/usr/local/lib/python3.6/dist-packages/torch/nn/modules/rnn.py:60: UserWarning: dropout option adds dropout after all but last recurrent layer, so non-zero dropout expects num_layers greater than 1, but got dropout=0.4 and num_layers=1\n",
            "  \"num_layers={}\".format(dropout, num_layers))\n"
          ],
          "name": "stderr"
        }
      ]
    },
    {
      "cell_type": "code",
      "metadata": {
        "id": "NeSyL5akSeA4"
      },
      "source": [
        "optimizer = optim.RMSprop(model.parameters(), lr=0.00003,weight_decay=0.001)"
      ],
      "execution_count": null,
      "outputs": []
    },
    {
      "cell_type": "code",
      "metadata": {
        "id": "VYAPOkrpmhtT"
      },
      "source": [
        "class_weights = torch.tensor([1.0, 1.0]).cuda()"
      ],
      "execution_count": null,
      "outputs": []
    },
    {
      "cell_type": "code",
      "metadata": {
        "id": "ZzuoPZVUSjwI"
      },
      "source": [
        "criterion = nn.CrossEntropyLoss(weight=class_weights).cuda()"
      ],
      "execution_count": null,
      "outputs": []
    },
    {
      "cell_type": "code",
      "metadata": {
        "id": "W1HilP8_T5PG"
      },
      "source": [
        "def binary_accuracy(preds, y):\n",
        "    \"\"\"\n",
        "    Returns accuracy per batch, i.e. if you get 8/10 right, this returns 0.8, NOT 8\n",
        "    \"\"\"\n",
        "\n",
        "    preds, ind= torch.max(F.softmax(preds, dim=-1), 1)\n",
        "    correct = (ind == y).float()\n",
        "    acc = correct.sum()/float(len(correct))\n",
        "    return acc"
      ],
      "execution_count": null,
      "outputs": []
    },
    {
      "cell_type": "code",
      "metadata": {
        "id": "nxQw8MNrVByy"
      },
      "source": [
        "def evaluate(model, x, y, batch_size, criterion):\n",
        "    \n",
        "    epoch_loss = 0\n",
        "    epoch_acc = 0\n",
        "\n",
        "    model.eval()\n",
        "    \n",
        "    with torch.no_grad():\n",
        "        bar = pyprind.ProgBar(int(len(x)/batch_size), bar_char='█')\n",
        "        # for batch in iterator:\n",
        "        for batch_index in tqdm(range(int(len(x)/batch_size))):\n",
        "            batch, target = x[batch_index*batch_size : batch_index*batch_size + batch_size], y[batch_index*batch_size : batch_index*batch_size + batch_size]\n",
        "            \n",
        "            batch = torch.reshape(batch, (sequence_length,batch_size, 300))\n",
        "\n",
        "            predictions = model(batch)\n",
        "            \n",
        "            loss = criterion(predictions[0], target)\n",
        "            \n",
        "            acc = binary_accuracy(predictions[0], target)\n",
        "\n",
        "            epoch_loss += loss.item()\n",
        "            epoch_acc += acc.item()\n",
        "            bar.update()\n",
        "    return epoch_loss / (int(len(x)/batch_size)), epoch_acc / (int(len(x)/batch_size))"
      ],
      "execution_count": null,
      "outputs": []
    },
    {
      "cell_type": "code",
      "metadata": {
        "id": "-rdTh_E9SzOc"
      },
      "source": [
        "def train(model, x, y, batch_size, optimizer, criterion):\n",
        "    \n",
        "    epoch_loss = 0\n",
        "    epoch_acc = 0\n",
        "\n",
        "    model.train()\n",
        "\n",
        "    bar = pyprind.ProgBar(int(len(x)/batch_size), bar_char='█')\n",
        "    for batch_index in range(int(len(x)/batch_size)):\n",
        "        optimizer.zero_grad()\n",
        "        # print(np.asarray([x[batch_index : batch_index + batch_size]]).shape)\n",
        "        batch, target = x[batch_index*batch_size : batch_index*batch_size + batch_size], y[batch_index*batch_size : batch_index*batch_size + batch_size]\n",
        "            \n",
        "        batch = torch.reshape(batch, (sequence_length,batch_size, 300))\n",
        "\n",
        "        batch, target = Variable(batch), Variable(target)\n",
        "\n",
        "        predictions = model(batch)\n",
        "        # print(len(target))\n",
        "        # print(\"naya\")\n",
        "        # print(predictions[0].shape)\n",
        "        # print(target.shape)\n",
        "#         print(predictions.shape, batch.Label.shape, model(batch.Text).shape)\n",
        "        # print(predictions)\n",
        "        # print(target)\n",
        "        loss = criterion(predictions[0], target)\n",
        "        \n",
        "        # print(loss.shape)\n",
        "        acc = binary_accuracy(predictions[0], target)\n",
        "        # print(acc)\n",
        "        loss.backward()\n",
        "        \n",
        "        optimizer.step()\n",
        "        \n",
        "        epoch_loss += loss.item()\n",
        "        epoch_acc += acc.item()\n",
        "        bar.update()\n",
        "    return epoch_loss / (int(len(x)/batch_size)), epoch_acc / (int(len(x)/batch_size))"
      ],
      "execution_count": null,
      "outputs": []
    },
    {
      "cell_type": "code",
      "metadata": {
        "id": "NChzcm7pS06p",
        "outputId": "3b0c3439-be9a-40a6-a030-866d669fdc6d",
        "colab": {
          "base_uri": "https://localhost:8080/",
          "height": 1000
        }
      },
      "source": [
        "N_EPOCHS = 200\n",
        "BATCH_SIZE = 64\n",
        "\n",
        "for epoch in range(N_EPOCHS):\n",
        "    train_loss, train_acc = train(model, embedding_x_train, y_train, BATCH_SIZE, optimizer, criterion)\n",
        "    valid_loss, valid_acc = evaluate(model, embedding_x_dev, y_dev, BATCH_SIZE, criterion)\n",
        "    \n",
        "    print(f'| Epoch: {epoch+1:02} | Train Loss: {train_loss:.3f} | Train Acc: {train_acc*100:.2f}% | Val. Loss: {valid_loss:.3f} | Val. Acc: {valid_acc*100:.2f}% |')"
      ],
      "execution_count": null,
      "outputs": [
        {
          "output_type": "stream",
          "text": [
            "0% [██████████████████████████████] 100% | ETA: 00:00:00\n",
            "Total time elapsed: 00:00:00\n",
            "0% [██████████████████████████████] 100% | ETA: 00:00:00\n",
            "Total time elapsed: 00:00:00\n",
            "100%|██████████| 33/33 [00:00<00:00, 301.73it/s]"
          ],
          "name": "stderr"
        },
        {
          "output_type": "stream",
          "text": [
            "| Epoch: 01 | Train Loss: 0.696 | Train Acc: 50.41% | Val. Loss: 0.695 | Val. Acc: 49.38% |\n"
          ],
          "name": "stdout"
        },
        {
          "output_type": "stream",
          "text": [
            "\n",
            "0% [██████████████████████████████] 100% | ETA: 00:00:00\n",
            "Total time elapsed: 00:00:00\n",
            "0% [██████████████████████████████] 100% | ETA: 00:00:00\n",
            "Total time elapsed: 00:00:00\n",
            "100%|██████████| 33/33 [00:00<00:00, 231.79it/s]"
          ],
          "name": "stderr"
        },
        {
          "output_type": "stream",
          "text": [
            "| Epoch: 02 | Train Loss: 0.693 | Train Acc: 52.08% | Val. Loss: 0.696 | Val. Acc: 49.72% |\n"
          ],
          "name": "stdout"
        },
        {
          "output_type": "stream",
          "text": [
            "\n",
            "0% [██████████████████████████████] 100% | ETA: 00:00:00\n",
            "Total time elapsed: 00:00:00\n",
            "0% [██████████████████████████████] 100% | ETA: 00:00:00\n",
            "Total time elapsed: 00:00:00\n",
            "100%|██████████| 33/33 [00:00<00:00, 264.99it/s]"
          ],
          "name": "stderr"
        },
        {
          "output_type": "stream",
          "text": [
            "| Epoch: 03 | Train Loss: 0.690 | Train Acc: 52.37% | Val. Loss: 0.696 | Val. Acc: 49.57% |\n"
          ],
          "name": "stdout"
        },
        {
          "output_type": "stream",
          "text": [
            "\n",
            "0% [██████████████████████████████] 100% | ETA: 00:00:00\n",
            "Total time elapsed: 00:00:00\n",
            "0% [██████████████████████████████] 100% | ETA: 00:00:00\n",
            "Total time elapsed: 00:00:00\n",
            "100%|██████████| 33/33 [00:00<00:00, 277.69it/s]"
          ],
          "name": "stderr"
        },
        {
          "output_type": "stream",
          "text": [
            "| Epoch: 04 | Train Loss: 0.689 | Train Acc: 53.76% | Val. Loss: 0.697 | Val. Acc: 49.10% |\n"
          ],
          "name": "stdout"
        },
        {
          "output_type": "stream",
          "text": [
            "\n",
            "0% [██████████████████████████████] 100% | ETA: 00:00:00\n",
            "Total time elapsed: 00:00:00\n",
            "0% [██████████████████████████████] 100% | ETA: 00:00:00\n",
            "Total time elapsed: 00:00:00\n",
            "100%|██████████| 33/33 [00:00<00:00, 270.64it/s]"
          ],
          "name": "stderr"
        },
        {
          "output_type": "stream",
          "text": [
            "| Epoch: 05 | Train Loss: 0.685 | Train Acc: 55.21% | Val. Loss: 0.697 | Val. Acc: 48.96% |\n"
          ],
          "name": "stdout"
        },
        {
          "output_type": "stream",
          "text": [
            "\n",
            "0% [██████████████████████████████] 100% | ETA: 00:00:00\n",
            "Total time elapsed: 00:00:00\n",
            "0% [██████████████████████████████] 100% | ETA: 00:00:00\n",
            "Total time elapsed: 00:00:00\n",
            "100%|██████████| 33/33 [00:00<00:00, 276.88it/s]"
          ],
          "name": "stderr"
        },
        {
          "output_type": "stream",
          "text": [
            "| Epoch: 06 | Train Loss: 0.684 | Train Acc: 55.30% | Val. Loss: 0.698 | Val. Acc: 49.15% |\n"
          ],
          "name": "stdout"
        },
        {
          "output_type": "stream",
          "text": [
            "\n",
            "0% [██████████████████████████████] 100% | ETA: 00:00:00\n",
            "Total time elapsed: 00:00:00\n",
            "0% [██████████████████████████████] 100% | ETA: 00:00:00\n",
            "Total time elapsed: 00:00:00\n",
            "100%|██████████| 33/33 [00:00<00:00, 290.49it/s]"
          ],
          "name": "stderr"
        },
        {
          "output_type": "stream",
          "text": [
            "| Epoch: 07 | Train Loss: 0.681 | Train Acc: 56.50% | Val. Loss: 0.698 | Val. Acc: 49.20% |\n"
          ],
          "name": "stdout"
        },
        {
          "output_type": "stream",
          "text": [
            "\n",
            "0% [██████████████████████████████] 100% | ETA: 00:00:00\n",
            "Total time elapsed: 00:00:00\n",
            "0% [██████████████████████████████] 100% | ETA: 00:00:00\n",
            "Total time elapsed: 00:00:00\n",
            "100%|██████████| 33/33 [00:00<00:00, 284.42it/s]"
          ],
          "name": "stderr"
        },
        {
          "output_type": "stream",
          "text": [
            "| Epoch: 08 | Train Loss: 0.681 | Train Acc: 56.49% | Val. Loss: 0.699 | Val. Acc: 50.00% |\n"
          ],
          "name": "stdout"
        },
        {
          "output_type": "stream",
          "text": [
            "\n",
            "0% [██████████████████████████████] 100% | ETA: 00:00:00\n",
            "Total time elapsed: 00:00:00\n",
            "0% [██████████████████████████████] 100% | ETA: 00:00:00\n",
            "Total time elapsed: 00:00:00\n",
            "100%|██████████| 33/33 [00:00<00:00, 281.35it/s]"
          ],
          "name": "stderr"
        },
        {
          "output_type": "stream",
          "text": [
            "| Epoch: 09 | Train Loss: 0.679 | Train Acc: 57.35% | Val. Loss: 0.700 | Val. Acc: 50.00% |\n"
          ],
          "name": "stdout"
        },
        {
          "output_type": "stream",
          "text": [
            "\n",
            "0% [██████████████████████████████] 100% | ETA: 00:00:00\n",
            "Total time elapsed: 00:00:00\n",
            "0% [██████████████████████████████] 100% | ETA: 00:00:00\n",
            "Total time elapsed: 00:00:00\n",
            "100%|██████████| 33/33 [00:00<00:00, 293.61it/s]"
          ],
          "name": "stderr"
        },
        {
          "output_type": "stream",
          "text": [
            "| Epoch: 10 | Train Loss: 0.675 | Train Acc: 57.81% | Val. Loss: 0.701 | Val. Acc: 50.24% |\n"
          ],
          "name": "stdout"
        },
        {
          "output_type": "stream",
          "text": [
            "\n",
            "0% [██████████████████████████████] 100% | ETA: 00:00:00\n",
            "Total time elapsed: 00:00:00\n",
            "0% [██████████████████████████████] 100% | ETA: 00:00:00\n",
            "Total time elapsed: 00:00:00\n",
            "100%|██████████| 33/33 [00:00<00:00, 276.25it/s]"
          ],
          "name": "stderr"
        },
        {
          "output_type": "stream",
          "text": [
            "| Epoch: 11 | Train Loss: 0.675 | Train Acc: 58.43% | Val. Loss: 0.703 | Val. Acc: 50.14% |\n"
          ],
          "name": "stdout"
        },
        {
          "output_type": "stream",
          "text": [
            "\n",
            "0% [██████████████████████████████] 100% | ETA: 00:00:00\n",
            "Total time elapsed: 00:00:00\n",
            "0% [██████████████████████████████] 100% | ETA: 00:00:00\n",
            "Total time elapsed: 00:00:00\n",
            "100%|██████████| 33/33 [00:00<00:00, 278.32it/s]"
          ],
          "name": "stderr"
        },
        {
          "output_type": "stream",
          "text": [
            "| Epoch: 12 | Train Loss: 0.671 | Train Acc: 59.19% | Val. Loss: 0.704 | Val. Acc: 49.91% |\n"
          ],
          "name": "stdout"
        },
        {
          "output_type": "stream",
          "text": [
            "\n",
            "0% [██████████████████████████████] 100% | ETA: 00:00:00\n",
            "Total time elapsed: 00:00:00\n",
            "0% [██████████████████████████████] 100% | ETA: 00:00:00\n",
            "Total time elapsed: 00:00:00\n",
            "100%|██████████| 33/33 [00:00<00:00, 253.15it/s]"
          ],
          "name": "stderr"
        },
        {
          "output_type": "stream",
          "text": [
            "| Epoch: 13 | Train Loss: 0.668 | Train Acc: 59.31% | Val. Loss: 0.706 | Val. Acc: 50.00% |\n"
          ],
          "name": "stdout"
        },
        {
          "output_type": "stream",
          "text": [
            "\n",
            "0% [██████████████████████████████] 100% | ETA: 00:00:00\n",
            "Total time elapsed: 00:00:00\n",
            "0% [██████████████████████████████] 100% | ETA: 00:00:00\n",
            "Total time elapsed: 00:00:00\n",
            "100%|██████████| 33/33 [00:00<00:00, 285.06it/s]"
          ],
          "name": "stderr"
        },
        {
          "output_type": "stream",
          "text": [
            "| Epoch: 14 | Train Loss: 0.665 | Train Acc: 59.36% | Val. Loss: 0.708 | Val. Acc: 49.48% |\n"
          ],
          "name": "stdout"
        },
        {
          "output_type": "stream",
          "text": [
            "\n",
            "0% [██████████████████████████████] 100% | ETA: 00:00:00\n",
            "Total time elapsed: 00:00:00\n",
            "0% [██████████████████████████████] 100% | ETA: 00:00:00\n",
            "Total time elapsed: 00:00:00\n",
            "100%|██████████| 33/33 [00:00<00:00, 289.76it/s]\n"
          ],
          "name": "stderr"
        },
        {
          "output_type": "stream",
          "text": [
            "| Epoch: 15 | Train Loss: 0.663 | Train Acc: 60.46% | Val. Loss: 0.710 | Val. Acc: 49.62% |\n"
          ],
          "name": "stdout"
        },
        {
          "output_type": "stream",
          "text": [
            "0% [██████████████████████████████] 100% | ETA: 00:00:00\n",
            "Total time elapsed: 00:00:00\n",
            "0% [██████████████████████████████] 100% | ETA: 00:00:00\n",
            "Total time elapsed: 00:00:00\n",
            "100%|██████████| 33/33 [00:00<00:00, 262.49it/s]"
          ],
          "name": "stderr"
        },
        {
          "output_type": "stream",
          "text": [
            "| Epoch: 16 | Train Loss: 0.660 | Train Acc: 60.51% | Val. Loss: 0.712 | Val. Acc: 49.57% |\n"
          ],
          "name": "stdout"
        },
        {
          "output_type": "stream",
          "text": [
            "\n",
            "0% [██████████████████████████████] 100% | ETA: 00:00:00\n",
            "Total time elapsed: 00:00:00\n",
            "0% [██████████████████████████████] 100% | ETA: 00:00:00\n",
            "Total time elapsed: 00:00:00\n",
            "100%|██████████| 33/33 [00:00<00:00, 287.87it/s]"
          ],
          "name": "stderr"
        },
        {
          "output_type": "stream",
          "text": [
            "| Epoch: 17 | Train Loss: 0.658 | Train Acc: 61.33% | Val. Loss: 0.715 | Val. Acc: 49.53% |\n"
          ],
          "name": "stdout"
        },
        {
          "output_type": "stream",
          "text": [
            "\n",
            "0% [██████████████████████████████] 100% | ETA: 00:00:00\n",
            "Total time elapsed: 00:00:00\n",
            "0% [██████████████████████████████] 100% | ETA: 00:00:00\n",
            "Total time elapsed: 00:00:00\n",
            "100%|██████████| 33/33 [00:00<00:00, 291.69it/s]"
          ],
          "name": "stderr"
        },
        {
          "output_type": "stream",
          "text": [
            "| Epoch: 18 | Train Loss: 0.653 | Train Acc: 61.62% | Val. Loss: 0.718 | Val. Acc: 49.72% |\n"
          ],
          "name": "stdout"
        },
        {
          "output_type": "stream",
          "text": [
            "\n",
            "0% [██████████████████████████████] 100% | ETA: 00:00:00\n",
            "Total time elapsed: 00:00:00\n",
            "0% [██████████████████████████████] 100% | ETA: 00:00:00\n",
            "Total time elapsed: 00:00:00\n",
            "100%|██████████| 33/33 [00:00<00:00, 277.74it/s]"
          ],
          "name": "stderr"
        },
        {
          "output_type": "stream",
          "text": [
            "| Epoch: 19 | Train Loss: 0.651 | Train Acc: 61.63% | Val. Loss: 0.721 | Val. Acc: 49.48% |\n"
          ],
          "name": "stdout"
        },
        {
          "output_type": "stream",
          "text": [
            "\n",
            "0% [██████████████████████████████] 100% | ETA: 00:00:00\n",
            "Total time elapsed: 00:00:00\n",
            "0% [██████████████████████████████] 100% | ETA: 00:00:00\n",
            "Total time elapsed: 00:00:00\n",
            "100%|██████████| 33/33 [00:00<00:00, 280.80it/s]"
          ],
          "name": "stderr"
        },
        {
          "output_type": "stream",
          "text": [
            "| Epoch: 20 | Train Loss: 0.647 | Train Acc: 62.58% | Val. Loss: 0.726 | Val. Acc: 48.96% |\n"
          ],
          "name": "stdout"
        },
        {
          "output_type": "stream",
          "text": [
            "\n",
            "0% [██████████████████████████████] 100% | ETA: 00:00:00\n",
            "Total time elapsed: 00:00:00\n",
            "0% [██████████████████████████████] 100% | ETA: 00:00:00\n",
            "Total time elapsed: 00:00:00\n",
            "100%|██████████| 33/33 [00:00<00:00, 283.97it/s]"
          ],
          "name": "stderr"
        },
        {
          "output_type": "stream",
          "text": [
            "| Epoch: 21 | Train Loss: 0.643 | Train Acc: 62.83% | Val. Loss: 0.730 | Val. Acc: 48.72% |\n"
          ],
          "name": "stdout"
        },
        {
          "output_type": "stream",
          "text": [
            "\n",
            "0% [██████████████████████████████] 100% | ETA: 00:00:00\n",
            "Total time elapsed: 00:00:00\n",
            "0% [██████████████████████████████] 100% | ETA: 00:00:00\n",
            "Total time elapsed: 00:00:00\n",
            "100%|██████████| 33/33 [00:00<00:00, 272.43it/s]"
          ],
          "name": "stderr"
        },
        {
          "output_type": "stream",
          "text": [
            "| Epoch: 22 | Train Loss: 0.638 | Train Acc: 63.67% | Val. Loss: 0.734 | Val. Acc: 48.72% |\n"
          ],
          "name": "stdout"
        },
        {
          "output_type": "stream",
          "text": [
            "\n",
            "0% [██████████████████████████████] 100% | ETA: 00:00:00\n",
            "Total time elapsed: 00:00:00\n",
            "0% [██████████████████████████████] 100% | ETA: 00:00:00\n",
            "Total time elapsed: 00:00:00\n",
            "100%|██████████| 33/33 [00:00<00:00, 287.29it/s]"
          ],
          "name": "stderr"
        },
        {
          "output_type": "stream",
          "text": [
            "| Epoch: 23 | Train Loss: 0.635 | Train Acc: 63.43% | Val. Loss: 0.739 | Val. Acc: 48.58% |\n"
          ],
          "name": "stdout"
        },
        {
          "output_type": "stream",
          "text": [
            "\n",
            "0% [██████████████████████████████] 100% | ETA: 00:00:00\n",
            "Total time elapsed: 00:00:00\n",
            "0% [██████████████████████████████] 100% | ETA: 00:00:00\n",
            "Total time elapsed: 00:00:00\n",
            "100%|██████████| 33/33 [00:00<00:00, 291.08it/s]"
          ],
          "name": "stderr"
        },
        {
          "output_type": "stream",
          "text": [
            "| Epoch: 24 | Train Loss: 0.631 | Train Acc: 64.47% | Val. Loss: 0.744 | Val. Acc: 48.58% |\n"
          ],
          "name": "stdout"
        },
        {
          "output_type": "stream",
          "text": [
            "\n",
            "0% [██████████████████████████████] 100% | ETA: 00:00:00\n",
            "Total time elapsed: 00:00:00\n",
            "0% [██████████████████████████████] 100% | ETA: 00:00:00\n",
            "Total time elapsed: 00:00:00\n",
            "100%|██████████| 33/33 [00:00<00:00, 279.85it/s]"
          ],
          "name": "stderr"
        },
        {
          "output_type": "stream",
          "text": [
            "| Epoch: 25 | Train Loss: 0.628 | Train Acc: 64.66% | Val. Loss: 0.748 | Val. Acc: 48.63% |\n"
          ],
          "name": "stdout"
        },
        {
          "output_type": "stream",
          "text": [
            "\n",
            "0% [██████████████████████████████] 100% | ETA: 00:00:00\n",
            "Total time elapsed: 00:00:00\n",
            "0% [██████████████████████████████] 100% | ETA: 00:00:00\n",
            "Total time elapsed: 00:00:00\n",
            "100%|██████████| 33/33 [00:00<00:00, 266.34it/s]\n"
          ],
          "name": "stderr"
        },
        {
          "output_type": "stream",
          "text": [
            "| Epoch: 26 | Train Loss: 0.624 | Train Acc: 64.50% | Val. Loss: 0.753 | Val. Acc: 48.82% |\n"
          ],
          "name": "stdout"
        },
        {
          "output_type": "stream",
          "text": [
            "0% [██████████████████████████████] 100% | ETA: 00:00:00\n",
            "Total time elapsed: 00:00:00\n",
            "0% [██████████████████████████████] 100% | ETA: 00:00:00\n",
            "Total time elapsed: 00:00:00\n",
            "100%|██████████| 33/33 [00:00<00:00, 283.37it/s]"
          ],
          "name": "stderr"
        },
        {
          "output_type": "stream",
          "text": [
            "| Epoch: 27 | Train Loss: 0.619 | Train Acc: 65.23% | Val. Loss: 0.758 | Val. Acc: 48.72% |\n"
          ],
          "name": "stdout"
        },
        {
          "output_type": "stream",
          "text": [
            "\n",
            "0% [██████████████████████████████] 100% | ETA: 00:00:00\n",
            "Total time elapsed: 00:00:00\n",
            "0% [██████████████████████████████] 100% | ETA: 00:00:00\n",
            "Total time elapsed: 00:00:00\n",
            "100%|██████████| 33/33 [00:00<00:00, 290.42it/s]"
          ],
          "name": "stderr"
        },
        {
          "output_type": "stream",
          "text": [
            "| Epoch: 28 | Train Loss: 0.615 | Train Acc: 66.21% | Val. Loss: 0.763 | Val. Acc: 48.86% |\n"
          ],
          "name": "stdout"
        },
        {
          "output_type": "stream",
          "text": [
            "\n",
            "0% [██████████████████████████████] 100% | ETA: 00:00:00\n",
            "Total time elapsed: 00:00:00\n",
            "0% [██████████████████████████████] 100% | ETA: 00:00:00\n",
            "Total time elapsed: 00:00:00\n",
            "100%|██████████| 33/33 [00:00<00:00, 278.60it/s]"
          ],
          "name": "stderr"
        },
        {
          "output_type": "stream",
          "text": [
            "| Epoch: 29 | Train Loss: 0.612 | Train Acc: 66.45% | Val. Loss: 0.768 | Val. Acc: 48.77% |\n"
          ],
          "name": "stdout"
        },
        {
          "output_type": "stream",
          "text": [
            "\n",
            "0% [██████████████████████████████] 100% | ETA: 00:00:00\n",
            "Total time elapsed: 00:00:00\n",
            "0% [██████████████████████████████] 100% | ETA: 00:00:00\n",
            "Total time elapsed: 00:00:00\n",
            "100%|██████████| 33/33 [00:00<00:00, 286.20it/s]"
          ],
          "name": "stderr"
        },
        {
          "output_type": "stream",
          "text": [
            "| Epoch: 30 | Train Loss: 0.610 | Train Acc: 66.54% | Val. Loss: 0.772 | Val. Acc: 48.77% |\n"
          ],
          "name": "stdout"
        },
        {
          "output_type": "stream",
          "text": [
            "\n",
            "0% [██████████████████████████████] 100% | ETA: 00:00:00\n",
            "Total time elapsed: 00:00:00\n",
            "0% [██████████████████████████████] 100% | ETA: 00:00:00\n",
            "Total time elapsed: 00:00:00\n",
            "100%|██████████| 33/33 [00:00<00:00, 283.77it/s]"
          ],
          "name": "stderr"
        },
        {
          "output_type": "stream",
          "text": [
            "| Epoch: 31 | Train Loss: 0.606 | Train Acc: 67.36% | Val. Loss: 0.778 | Val. Acc: 49.10% |\n"
          ],
          "name": "stdout"
        },
        {
          "output_type": "stream",
          "text": [
            "\n",
            "0% [██████████████████████████████] 100% | ETA: 00:00:00\n",
            "Total time elapsed: 00:00:00\n",
            "0% [██████████████████████████████] 100% | ETA: 00:00:00\n",
            "Total time elapsed: 00:00:00\n",
            "100%|██████████| 33/33 [00:00<00:00, 272.20it/s]"
          ],
          "name": "stderr"
        },
        {
          "output_type": "stream",
          "text": [
            "| Epoch: 32 | Train Loss: 0.603 | Train Acc: 67.50% | Val. Loss: 0.782 | Val. Acc: 49.05% |\n"
          ],
          "name": "stdout"
        },
        {
          "output_type": "stream",
          "text": [
            "\n",
            "0% [██████████████████████████████] 100% | ETA: 00:00:00\n",
            "Total time elapsed: 00:00:00\n",
            "0% [██████████████████████████████] 100% | ETA: 00:00:00\n",
            "Total time elapsed: 00:00:00\n",
            "100%|██████████| 33/33 [00:00<00:00, 294.95it/s]"
          ],
          "name": "stderr"
        },
        {
          "output_type": "stream",
          "text": [
            "| Epoch: 33 | Train Loss: 0.599 | Train Acc: 67.88% | Val. Loss: 0.788 | Val. Acc: 48.96% |\n"
          ],
          "name": "stdout"
        },
        {
          "output_type": "stream",
          "text": [
            "\n",
            "0% [██████████████████████████████] 100% | ETA: 00:00:00\n",
            "Total time elapsed: 00:00:00\n",
            "0% [██████████████████████████████] 100% | ETA: 00:00:00\n",
            "Total time elapsed: 00:00:00\n",
            "100%|██████████| 33/33 [00:00<00:00, 269.13it/s]"
          ],
          "name": "stderr"
        },
        {
          "output_type": "stream",
          "text": [
            "| Epoch: 34 | Train Loss: 0.596 | Train Acc: 67.87% | Val. Loss: 0.793 | Val. Acc: 49.05% |\n"
          ],
          "name": "stdout"
        },
        {
          "output_type": "stream",
          "text": [
            "\n",
            "0% [██████████████████████████████] 100% | ETA: 00:00:00\n",
            "Total time elapsed: 00:00:00\n",
            "0% [██████████████████████████████] 100% | ETA: 00:00:00\n",
            "Total time elapsed: 00:00:00\n",
            "100%|██████████| 33/33 [00:00<00:00, 289.00it/s]"
          ],
          "name": "stderr"
        },
        {
          "output_type": "stream",
          "text": [
            "| Epoch: 35 | Train Loss: 0.593 | Train Acc: 68.29% | Val. Loss: 0.799 | Val. Acc: 48.86% |\n"
          ],
          "name": "stdout"
        },
        {
          "output_type": "stream",
          "text": [
            "\n",
            "0% [██████████████████████████████] 100% | ETA: 00:00:00\n",
            "Total time elapsed: 00:00:00\n",
            "0% [██████████████████████████████] 100% | ETA: 00:00:00\n",
            "Total time elapsed: 00:00:00\n",
            "100%|██████████| 33/33 [00:00<00:00, 307.77it/s]"
          ],
          "name": "stderr"
        },
        {
          "output_type": "stream",
          "text": [
            "| Epoch: 36 | Train Loss: 0.589 | Train Acc: 68.58% | Val. Loss: 0.804 | Val. Acc: 49.15% |\n"
          ],
          "name": "stdout"
        },
        {
          "output_type": "stream",
          "text": [
            "\n",
            "0% [██████████████████████████████] 100% | ETA: 00:00:00\n",
            "Total time elapsed: 00:00:00\n",
            "0% [██████████████████████████████] 100% | ETA: 00:00:00\n",
            "Total time elapsed: 00:00:00\n",
            "100%|██████████| 33/33 [00:00<00:00, 274.74it/s]"
          ],
          "name": "stderr"
        },
        {
          "output_type": "stream",
          "text": [
            "| Epoch: 37 | Train Loss: 0.586 | Train Acc: 68.45% | Val. Loss: 0.810 | Val. Acc: 49.29% |\n"
          ],
          "name": "stdout"
        },
        {
          "output_type": "stream",
          "text": [
            "\n",
            "0% [██████████████████████████████] 100% | ETA: 00:00:00\n",
            "Total time elapsed: 00:00:00\n",
            "0% [██████████████████████████████] 100% | ETA: 00:00:00\n",
            "Total time elapsed: 00:00:00\n",
            "100%|██████████| 33/33 [00:00<00:00, 285.62it/s]"
          ],
          "name": "stderr"
        },
        {
          "output_type": "stream",
          "text": [
            "| Epoch: 38 | Train Loss: 0.583 | Train Acc: 68.89% | Val. Loss: 0.815 | Val. Acc: 49.38% |\n"
          ],
          "name": "stdout"
        },
        {
          "output_type": "stream",
          "text": [
            "\n",
            "0% [██████████████████████████████] 100% | ETA: 00:00:00\n",
            "Total time elapsed: 00:00:00\n",
            "0% [██████████████████████████████] 100% | ETA: 00:00:00\n",
            "Total time elapsed: 00:00:00\n",
            "100%|██████████| 33/33 [00:00<00:00, 279.58it/s]"
          ],
          "name": "stderr"
        },
        {
          "output_type": "stream",
          "text": [
            "| Epoch: 39 | Train Loss: 0.579 | Train Acc: 69.46% | Val. Loss: 0.821 | Val. Acc: 49.57% |\n"
          ],
          "name": "stdout"
        },
        {
          "output_type": "stream",
          "text": [
            "\n",
            "0% [██████████████████████████████] 100% | ETA: 00:00:00\n",
            "Total time elapsed: 00:00:00\n",
            "0% [██████████████████████████████] 100% | ETA: 00:00:00\n",
            "Total time elapsed: 00:00:00\n",
            "100%|██████████| 33/33 [00:00<00:00, 271.30it/s]"
          ],
          "name": "stderr"
        },
        {
          "output_type": "stream",
          "text": [
            "| Epoch: 40 | Train Loss: 0.575 | Train Acc: 69.59% | Val. Loss: 0.827 | Val. Acc: 49.67% |\n"
          ],
          "name": "stdout"
        },
        {
          "output_type": "stream",
          "text": [
            "\n",
            "0% [██████████████████████████████] 100% | ETA: 00:00:00\n",
            "Total time elapsed: 00:00:00\n",
            "0% [██████████████████████████████] 100% | ETA: 00:00:00\n",
            "Total time elapsed: 00:00:00\n",
            "100%|██████████| 33/33 [00:00<00:00, 295.03it/s]"
          ],
          "name": "stderr"
        },
        {
          "output_type": "stream",
          "text": [
            "| Epoch: 41 | Train Loss: 0.574 | Train Acc: 69.67% | Val. Loss: 0.833 | Val. Acc: 49.38% |\n"
          ],
          "name": "stdout"
        },
        {
          "output_type": "stream",
          "text": [
            "\n",
            "0% [██████████████████████████████] 100% | ETA: 00:00:00\n",
            "Total time elapsed: 00:00:00\n",
            "0% [██████████████████████████████] 100% | ETA: 00:00:00\n",
            "Total time elapsed: 00:00:00\n",
            "100%|██████████| 33/33 [00:00<00:00, 285.78it/s]"
          ],
          "name": "stderr"
        },
        {
          "output_type": "stream",
          "text": [
            "| Epoch: 42 | Train Loss: 0.570 | Train Acc: 69.87% | Val. Loss: 0.838 | Val. Acc: 49.72% |\n"
          ],
          "name": "stdout"
        },
        {
          "output_type": "stream",
          "text": [
            "\n",
            "0% [██████████████████████████████] 100% | ETA: 00:00:00\n",
            "Total time elapsed: 00:00:00\n",
            "0% [██████████████████████████████] 100% | ETA: 00:00:00\n",
            "Total time elapsed: 00:00:00\n",
            "100%|██████████| 33/33 [00:00<00:00, 319.37it/s]"
          ],
          "name": "stderr"
        },
        {
          "output_type": "stream",
          "text": [
            "| Epoch: 43 | Train Loss: 0.567 | Train Acc: 70.36% | Val. Loss: 0.845 | Val. Acc: 49.29% |\n"
          ],
          "name": "stdout"
        },
        {
          "output_type": "stream",
          "text": [
            "\n",
            "0% [██████████████████████████████] 100% | ETA: 00:00:00\n",
            "Total time elapsed: 00:00:00\n",
            "0% [██████████████████████████████] 100% | ETA: 00:00:00\n",
            "Total time elapsed: 00:00:00\n",
            "100%|██████████| 33/33 [00:00<00:00, 282.29it/s]"
          ],
          "name": "stderr"
        },
        {
          "output_type": "stream",
          "text": [
            "| Epoch: 44 | Train Loss: 0.562 | Train Acc: 70.60% | Val. Loss: 0.851 | Val. Acc: 49.43% |\n"
          ],
          "name": "stdout"
        },
        {
          "output_type": "stream",
          "text": [
            "\n",
            "0% [██████████████████████████████] 100% | ETA: 00:00:00\n",
            "Total time elapsed: 00:00:00\n",
            "0% [██████████████████████████████] 100% | ETA: 00:00:00\n",
            "Total time elapsed: 00:00:00\n",
            "100%|██████████| 33/33 [00:00<00:00, 270.91it/s]"
          ],
          "name": "stderr"
        },
        {
          "output_type": "stream",
          "text": [
            "| Epoch: 45 | Train Loss: 0.561 | Train Acc: 70.74% | Val. Loss: 0.856 | Val. Acc: 49.05% |\n"
          ],
          "name": "stdout"
        },
        {
          "output_type": "stream",
          "text": [
            "\n",
            "0% [██████████████████████████████] 100% | ETA: 00:00:00\n",
            "Total time elapsed: 00:00:00\n",
            "0% [██████████████████████████████] 100% | ETA: 00:00:00\n",
            "Total time elapsed: 00:00:00\n",
            "100%|██████████| 33/33 [00:00<00:00, 304.19it/s]"
          ],
          "name": "stderr"
        },
        {
          "output_type": "stream",
          "text": [
            "| Epoch: 46 | Train Loss: 0.557 | Train Acc: 70.91% | Val. Loss: 0.862 | Val. Acc: 49.48% |\n"
          ],
          "name": "stdout"
        },
        {
          "output_type": "stream",
          "text": [
            "\n",
            "0% [██████████████████████████████] 100% | ETA: 00:00:00\n",
            "Total time elapsed: 00:00:00\n",
            "0% [██████████████████████████████] 100% | ETA: 00:00:00\n",
            "Total time elapsed: 00:00:00\n",
            "100%|██████████| 33/33 [00:00<00:00, 282.73it/s]"
          ],
          "name": "stderr"
        },
        {
          "output_type": "stream",
          "text": [
            "| Epoch: 47 | Train Loss: 0.554 | Train Acc: 70.99% | Val. Loss: 0.868 | Val. Acc: 49.43% |\n"
          ],
          "name": "stdout"
        },
        {
          "output_type": "stream",
          "text": [
            "\n",
            "0% [██████████████████████████████] 100% | ETA: 00:00:00\n",
            "Total time elapsed: 00:00:00\n",
            "0% [██████████████████████████████] 100% | ETA: 00:00:00\n",
            "Total time elapsed: 00:00:00\n",
            "100%|██████████| 33/33 [00:00<00:00, 273.56it/s]"
          ],
          "name": "stderr"
        },
        {
          "output_type": "stream",
          "text": [
            "| Epoch: 48 | Train Loss: 0.551 | Train Acc: 71.32% | Val. Loss: 0.874 | Val. Acc: 49.34% |\n"
          ],
          "name": "stdout"
        },
        {
          "output_type": "stream",
          "text": [
            "\n",
            "0% [██████████████████████████████] 100% | ETA: 00:00:00\n",
            "Total time elapsed: 00:00:00\n",
            "0% [██████████████████████████████] 100% | ETA: 00:00:00\n",
            "Total time elapsed: 00:00:00\n",
            "100%|██████████| 33/33 [00:00<00:00, 286.31it/s]"
          ],
          "name": "stderr"
        },
        {
          "output_type": "stream",
          "text": [
            "| Epoch: 49 | Train Loss: 0.548 | Train Acc: 72.36% | Val. Loss: 0.879 | Val. Acc: 49.43% |\n"
          ],
          "name": "stdout"
        },
        {
          "output_type": "stream",
          "text": [
            "\n",
            "0% [██████████████████████████████] 100% | ETA: 00:00:00\n",
            "Total time elapsed: 00:00:00\n",
            "0% [██████████████████████████████] 100% | ETA: 00:00:00\n",
            "Total time elapsed: 00:00:00\n",
            "100%|██████████| 33/33 [00:00<00:00, 282.73it/s]"
          ],
          "name": "stderr"
        },
        {
          "output_type": "stream",
          "text": [
            "| Epoch: 50 | Train Loss: 0.543 | Train Acc: 72.32% | Val. Loss: 0.885 | Val. Acc: 49.34% |\n"
          ],
          "name": "stdout"
        },
        {
          "output_type": "stream",
          "text": [
            "\n",
            "0% [██████████████████████████████] 100% | ETA: 00:00:00\n",
            "Total time elapsed: 00:00:00\n",
            "0% [██████████████████████████████] 100% | ETA: 00:00:00\n",
            "Total time elapsed: 00:00:00\n",
            "100%|██████████| 33/33 [00:00<00:00, 309.54it/s]"
          ],
          "name": "stderr"
        },
        {
          "output_type": "stream",
          "text": [
            "| Epoch: 51 | Train Loss: 0.541 | Train Acc: 72.02% | Val. Loss: 0.892 | Val. Acc: 49.29% |\n"
          ],
          "name": "stdout"
        },
        {
          "output_type": "stream",
          "text": [
            "\n",
            "0% [██████████████████████████████] 100% | ETA: 00:00:00\n",
            "Total time elapsed: 00:00:00\n",
            "0% [██████████████████████████████] 100% | ETA: 00:00:00\n",
            "Total time elapsed: 00:00:00\n",
            "100%|██████████| 33/33 [00:00<00:00, 279.77it/s]"
          ],
          "name": "stderr"
        },
        {
          "output_type": "stream",
          "text": [
            "| Epoch: 52 | Train Loss: 0.537 | Train Acc: 72.55% | Val. Loss: 0.899 | Val. Acc: 49.48% |\n"
          ],
          "name": "stdout"
        },
        {
          "output_type": "stream",
          "text": [
            "\n",
            "0% [██████████████████████████████] 100% | ETA: 00:00:00\n",
            "Total time elapsed: 00:00:00\n",
            "0% [██████████████████████████████] 100% | ETA: 00:00:00\n",
            "Total time elapsed: 00:00:00\n",
            "100%|██████████| 33/33 [00:00<00:00, 301.58it/s]"
          ],
          "name": "stderr"
        },
        {
          "output_type": "stream",
          "text": [
            "| Epoch: 53 | Train Loss: 0.536 | Train Acc: 73.00% | Val. Loss: 0.904 | Val. Acc: 49.15% |\n"
          ],
          "name": "stdout"
        },
        {
          "output_type": "stream",
          "text": [
            "\n",
            "0% [██████████████████████████████] 100% | ETA: 00:00:00\n",
            "Total time elapsed: 00:00:00\n",
            "0% [██████████████████████████████] 100% | ETA: 00:00:00\n",
            "Total time elapsed: 00:00:00\n",
            "100%|██████████| 33/33 [00:00<00:00, 272.30it/s]"
          ],
          "name": "stderr"
        },
        {
          "output_type": "stream",
          "text": [
            "| Epoch: 54 | Train Loss: 0.531 | Train Acc: 73.04% | Val. Loss: 0.911 | Val. Acc: 49.20% |\n"
          ],
          "name": "stdout"
        },
        {
          "output_type": "stream",
          "text": [
            "\n",
            "0% [██████████████████████████████] 100% | ETA: 00:00:00\n",
            "Total time elapsed: 00:00:00\n",
            "0% [██████████████████████████████] 100% | ETA: 00:00:00\n",
            "Total time elapsed: 00:00:00\n",
            "100%|██████████| 33/33 [00:00<00:00, 298.03it/s]"
          ],
          "name": "stderr"
        },
        {
          "output_type": "stream",
          "text": [
            "| Epoch: 55 | Train Loss: 0.529 | Train Acc: 73.18% | Val. Loss: 0.918 | Val. Acc: 49.20% |\n"
          ],
          "name": "stdout"
        },
        {
          "output_type": "stream",
          "text": [
            "\n",
            "0% [██████████████████████████████] 100% | ETA: 00:00:00\n",
            "Total time elapsed: 00:00:00\n",
            "0% [██████████████████████████████] 100% | ETA: 00:00:00\n",
            "Total time elapsed: 00:00:00\n",
            "100%|██████████| 33/33 [00:00<00:00, 305.95it/s]"
          ],
          "name": "stderr"
        },
        {
          "output_type": "stream",
          "text": [
            "| Epoch: 56 | Train Loss: 0.525 | Train Acc: 73.61% | Val. Loss: 0.924 | Val. Acc: 48.82% |\n"
          ],
          "name": "stdout"
        },
        {
          "output_type": "stream",
          "text": [
            "\n",
            "0% [██████████████████████████████] 100% | ETA: 00:00:00\n",
            "Total time elapsed: 00:00:00\n",
            "0% [██████████████████████████████] 100% | ETA: 00:00:00\n",
            "Total time elapsed: 00:00:00\n",
            "100%|██████████| 33/33 [00:00<00:00, 295.05it/s]"
          ],
          "name": "stderr"
        },
        {
          "output_type": "stream",
          "text": [
            "| Epoch: 57 | Train Loss: 0.522 | Train Acc: 73.74% | Val. Loss: 0.931 | Val. Acc: 49.10% |\n"
          ],
          "name": "stdout"
        },
        {
          "output_type": "stream",
          "text": [
            "\n",
            "0% [██████████████████████████████] 100% | ETA: 00:00:00\n",
            "Total time elapsed: 00:00:00\n",
            "0% [██████████████████████████████] 100% | ETA: 00:00:00\n",
            "Total time elapsed: 00:00:00\n",
            "100%|██████████| 33/33 [00:00<00:00, 282.24it/s]"
          ],
          "name": "stderr"
        },
        {
          "output_type": "stream",
          "text": [
            "| Epoch: 58 | Train Loss: 0.520 | Train Acc: 73.99% | Val. Loss: 0.937 | Val. Acc: 49.05% |\n"
          ],
          "name": "stdout"
        },
        {
          "output_type": "stream",
          "text": [
            "\n",
            "0% [██████████████████████████████] 100% | ETA: 00:00:00\n",
            "Total time elapsed: 00:00:00\n",
            "0% [██████████████████████████████] 100% | ETA: 00:00:00\n",
            "Total time elapsed: 00:00:00\n",
            "100%|██████████| 33/33 [00:00<00:00, 301.12it/s]"
          ],
          "name": "stderr"
        },
        {
          "output_type": "stream",
          "text": [
            "| Epoch: 59 | Train Loss: 0.517 | Train Acc: 74.70% | Val. Loss: 0.945 | Val. Acc: 49.24% |\n"
          ],
          "name": "stdout"
        },
        {
          "output_type": "stream",
          "text": [
            "\n",
            "0% [██████████████████████████████] 100% | ETA: 00:00:00\n",
            "Total time elapsed: 00:00:00\n",
            "0% [██████████████████████████████] 100% | ETA: 00:00:00\n",
            "Total time elapsed: 00:00:00\n",
            "100%|██████████| 33/33 [00:00<00:00, 271.51it/s]"
          ],
          "name": "stderr"
        },
        {
          "output_type": "stream",
          "text": [
            "| Epoch: 60 | Train Loss: 0.514 | Train Acc: 74.23% | Val. Loss: 0.951 | Val. Acc: 49.34% |\n"
          ],
          "name": "stdout"
        },
        {
          "output_type": "stream",
          "text": [
            "\n",
            "0% [██████████████████████████████] 100% | ETA: 00:00:00\n",
            "Total time elapsed: 00:00:00\n",
            "0% [██████████████████████████████] 100% | ETA: 00:00:00\n",
            "Total time elapsed: 00:00:00\n",
            "100%|██████████| 33/33 [00:00<00:00, 286.89it/s]"
          ],
          "name": "stderr"
        },
        {
          "output_type": "stream",
          "text": [
            "| Epoch: 61 | Train Loss: 0.512 | Train Acc: 74.35% | Val. Loss: 0.958 | Val. Acc: 49.24% |\n"
          ],
          "name": "stdout"
        },
        {
          "output_type": "stream",
          "text": [
            "\n",
            "0% [██████████████████████████████] 100% | ETA: 00:00:00\n",
            "Total time elapsed: 00:00:00\n",
            "0% [██████████████████████████████] 100% | ETA: 00:00:00\n",
            "Total time elapsed: 00:00:00\n",
            "100%|██████████| 33/33 [00:00<00:00, 287.79it/s]"
          ],
          "name": "stderr"
        },
        {
          "output_type": "stream",
          "text": [
            "| Epoch: 62 | Train Loss: 0.508 | Train Acc: 75.00% | Val. Loss: 0.965 | Val. Acc: 49.38% |\n"
          ],
          "name": "stdout"
        },
        {
          "output_type": "stream",
          "text": [
            "\n",
            "0% [██████████████████████████████] 100% | ETA: 00:00:00\n",
            "Total time elapsed: 00:00:00\n",
            "0% [██████████████████████████████] 100% | ETA: 00:00:00\n",
            "Total time elapsed: 00:00:00\n",
            "100%|██████████| 33/33 [00:00<00:00, 285.82it/s]"
          ],
          "name": "stderr"
        },
        {
          "output_type": "stream",
          "text": [
            "| Epoch: 63 | Train Loss: 0.505 | Train Acc: 74.54% | Val. Loss: 0.972 | Val. Acc: 49.81% |\n"
          ],
          "name": "stdout"
        },
        {
          "output_type": "stream",
          "text": [
            "\n",
            "0% [██████████████████████████████] 100% | ETA: 00:00:00\n",
            "Total time elapsed: 00:00:00\n",
            "0% [██████████████████████████████] 100% | ETA: 00:00:00\n",
            "Total time elapsed: 00:00:00\n",
            "100%|██████████| 33/33 [00:00<00:00, 274.69it/s]"
          ],
          "name": "stderr"
        },
        {
          "output_type": "stream",
          "text": [
            "| Epoch: 64 | Train Loss: 0.502 | Train Acc: 75.33% | Val. Loss: 0.978 | Val. Acc: 49.57% |\n"
          ],
          "name": "stdout"
        },
        {
          "output_type": "stream",
          "text": [
            "\n",
            "0% [██████████████████████████████] 100% | ETA: 00:00:00\n",
            "Total time elapsed: 00:00:00\n",
            "0% [██████████████████████████████] 100% | ETA: 00:00:00\n",
            "Total time elapsed: 00:00:00\n",
            "100%|██████████| 33/33 [00:00<00:00, 286.53it/s]"
          ],
          "name": "stderr"
        },
        {
          "output_type": "stream",
          "text": [
            "| Epoch: 65 | Train Loss: 0.500 | Train Acc: 75.30% | Val. Loss: 0.986 | Val. Acc: 49.86% |\n"
          ],
          "name": "stdout"
        },
        {
          "output_type": "stream",
          "text": [
            "\n",
            "0% [██████████████████████████████] 100% | ETA: 00:00:00\n",
            "Total time elapsed: 00:00:00\n",
            "0% [██████████████████████████████] 100% | ETA: 00:00:00\n",
            "Total time elapsed: 00:00:00\n",
            "100%|██████████| 33/33 [00:00<00:00, 291.12it/s]"
          ],
          "name": "stderr"
        },
        {
          "output_type": "stream",
          "text": [
            "| Epoch: 66 | Train Loss: 0.496 | Train Acc: 75.92% | Val. Loss: 0.993 | Val. Acc: 49.76% |\n"
          ],
          "name": "stdout"
        },
        {
          "output_type": "stream",
          "text": [
            "\n",
            "0% [██████████████████████████████] 100% | ETA: 00:00:00\n",
            "Total time elapsed: 00:00:00\n",
            "0% [██████████████████████████████] 100% | ETA: 00:00:00\n",
            "Total time elapsed: 00:00:00\n",
            "100%|██████████| 33/33 [00:00<00:00, 288.02it/s]"
          ],
          "name": "stderr"
        },
        {
          "output_type": "stream",
          "text": [
            "| Epoch: 67 | Train Loss: 0.492 | Train Acc: 75.71% | Val. Loss: 1.001 | Val. Acc: 49.53% |\n"
          ],
          "name": "stdout"
        },
        {
          "output_type": "stream",
          "text": [
            "\n",
            "0% [██████████████████████████████] 100% | ETA: 00:00:00\n",
            "Total time elapsed: 00:00:00\n",
            "0% [██████████████████████████████] 100% | ETA: 00:00:00\n",
            "Total time elapsed: 00:00:00\n",
            "100%|██████████| 33/33 [00:00<00:00, 334.12it/s]"
          ],
          "name": "stderr"
        },
        {
          "output_type": "stream",
          "text": [
            "| Epoch: 68 | Train Loss: 0.488 | Train Acc: 76.14% | Val. Loss: 1.009 | Val. Acc: 49.67% |\n"
          ],
          "name": "stdout"
        },
        {
          "output_type": "stream",
          "text": [
            "\n",
            "0% [██████████████████████████████] 100% | ETA: 00:00:00\n",
            "Total time elapsed: 00:00:00\n",
            "0% [██████████████████████████████] 100% | ETA: 00:00:00\n",
            "Total time elapsed: 00:00:00\n",
            "100%|██████████| 33/33 [00:00<00:00, 284.37it/s]"
          ],
          "name": "stderr"
        },
        {
          "output_type": "stream",
          "text": [
            "| Epoch: 69 | Train Loss: 0.487 | Train Acc: 76.07% | Val. Loss: 1.016 | Val. Acc: 49.62% |\n"
          ],
          "name": "stdout"
        },
        {
          "output_type": "stream",
          "text": [
            "\n",
            "0% [██████████████████████████████] 100% | ETA: 00:00:00\n",
            "Total time elapsed: 00:00:00\n",
            "0% [██████████████████████████████] 100% | ETA: 00:00:00\n",
            "Total time elapsed: 00:00:00\n",
            "100%|██████████| 33/33 [00:00<00:00, 298.86it/s]"
          ],
          "name": "stderr"
        },
        {
          "output_type": "stream",
          "text": [
            "| Epoch: 70 | Train Loss: 0.483 | Train Acc: 76.42% | Val. Loss: 1.024 | Val. Acc: 49.15% |\n"
          ],
          "name": "stdout"
        },
        {
          "output_type": "stream",
          "text": [
            "\n",
            "0% [██████████████████████████████] 100% | ETA: 00:00:00\n",
            "Total time elapsed: 00:00:00\n",
            "0% [██████████████████████████████] 100% | ETA: 00:00:00\n",
            "Total time elapsed: 00:00:00\n",
            "100%|██████████| 33/33 [00:00<00:00, 288.55it/s]"
          ],
          "name": "stderr"
        },
        {
          "output_type": "stream",
          "text": [
            "| Epoch: 71 | Train Loss: 0.480 | Train Acc: 76.67% | Val. Loss: 1.033 | Val. Acc: 49.38% |\n"
          ],
          "name": "stdout"
        },
        {
          "output_type": "stream",
          "text": [
            "\n",
            "0% [██████████████████████████████] 100% | ETA: 00:00:00\n",
            "Total time elapsed: 00:00:00\n",
            "0% [██████████████████████████████] 100% | ETA: 00:00:00\n",
            "Total time elapsed: 00:00:00\n",
            "100%|██████████| 33/33 [00:00<00:00, 279.52it/s]"
          ],
          "name": "stderr"
        },
        {
          "output_type": "stream",
          "text": [
            "| Epoch: 72 | Train Loss: 0.477 | Train Acc: 76.83% | Val. Loss: 1.041 | Val. Acc: 49.10% |\n"
          ],
          "name": "stdout"
        },
        {
          "output_type": "stream",
          "text": [
            "\n",
            "0% [██████████████████████████████] 100% | ETA: 00:00:00\n",
            "Total time elapsed: 00:00:00\n",
            "0% [██████████████████████████████] 100% | ETA: 00:00:00\n",
            "Total time elapsed: 00:00:00\n",
            "100%|██████████| 33/33 [00:00<00:00, 292.05it/s]"
          ],
          "name": "stderr"
        },
        {
          "output_type": "stream",
          "text": [
            "| Epoch: 73 | Train Loss: 0.473 | Train Acc: 77.59% | Val. Loss: 1.049 | Val. Acc: 49.38% |\n"
          ],
          "name": "stdout"
        },
        {
          "output_type": "stream",
          "text": [
            "\n",
            "0% [██████████████████████████████] 100% | ETA: 00:00:00\n",
            "Total time elapsed: 00:00:00\n",
            "0% [██████████████████████████████] 100% | ETA: 00:00:00\n",
            "Total time elapsed: 00:00:00\n",
            "100%|██████████| 33/33 [00:00<00:00, 295.60it/s]"
          ],
          "name": "stderr"
        },
        {
          "output_type": "stream",
          "text": [
            "| Epoch: 74 | Train Loss: 0.471 | Train Acc: 77.35% | Val. Loss: 1.057 | Val. Acc: 49.48% |\n"
          ],
          "name": "stdout"
        },
        {
          "output_type": "stream",
          "text": [
            "\n",
            "0% [██████████████████████████████] 100% | ETA: 00:00:00\n",
            "Total time elapsed: 00:00:00\n",
            "0% [██████████████████████████████] 100% | ETA: 00:00:00\n",
            "Total time elapsed: 00:00:00\n",
            "100%|██████████| 33/33 [00:00<00:00, 283.41it/s]"
          ],
          "name": "stderr"
        },
        {
          "output_type": "stream",
          "text": [
            "| Epoch: 75 | Train Loss: 0.468 | Train Acc: 77.40% | Val. Loss: 1.065 | Val. Acc: 49.57% |\n"
          ],
          "name": "stdout"
        },
        {
          "output_type": "stream",
          "text": [
            "\n",
            "0% [██████████████████████████████] 100% | ETA: 00:00:00\n",
            "Total time elapsed: 00:00:00\n",
            "0% [██████████████████████████████] 100% | ETA: 00:00:00\n",
            "Total time elapsed: 00:00:00\n",
            "100%|██████████| 33/33 [00:00<00:00, 298.55it/s]"
          ],
          "name": "stderr"
        },
        {
          "output_type": "stream",
          "text": [
            "| Epoch: 76 | Train Loss: 0.467 | Train Acc: 77.89% | Val. Loss: 1.075 | Val. Acc: 49.53% |\n"
          ],
          "name": "stdout"
        },
        {
          "output_type": "stream",
          "text": [
            "\n",
            "0% [██████████████████████████████] 100% | ETA: 00:00:00\n",
            "Total time elapsed: 00:00:00\n",
            "0% [██████████████████████████████] 100% | ETA: 00:00:00\n",
            "Total time elapsed: 00:00:00\n",
            "100%|██████████| 33/33 [00:00<00:00, 294.75it/s]\n"
          ],
          "name": "stderr"
        },
        {
          "output_type": "stream",
          "text": [
            "| Epoch: 77 | Train Loss: 0.465 | Train Acc: 77.68% | Val. Loss: 1.081 | Val. Acc: 49.81% |\n"
          ],
          "name": "stdout"
        },
        {
          "output_type": "stream",
          "text": [
            "0% [██████████████████████████████] 100% | ETA: 00:00:00\n",
            "Total time elapsed: 00:00:00\n",
            "0% [██████████████████████████████] 100% | ETA: 00:00:00\n",
            "Total time elapsed: 00:00:00\n",
            "100%|██████████| 33/33 [00:00<00:00, 310.10it/s]"
          ],
          "name": "stderr"
        },
        {
          "output_type": "stream",
          "text": [
            "| Epoch: 78 | Train Loss: 0.462 | Train Acc: 77.89% | Val. Loss: 1.090 | Val. Acc: 49.81% |\n"
          ],
          "name": "stdout"
        },
        {
          "output_type": "stream",
          "text": [
            "\n",
            "0% [██████████████████████████████] 100% | ETA: 00:00:00\n",
            "Total time elapsed: 00:00:00\n",
            "0% [██████████████████████████████] 100% | ETA: 00:00:00\n",
            "Total time elapsed: 00:00:00\n",
            "100%|██████████| 33/33 [00:00<00:00, 306.08it/s]"
          ],
          "name": "stderr"
        },
        {
          "output_type": "stream",
          "text": [
            "| Epoch: 79 | Train Loss: 0.458 | Train Acc: 78.11% | Val. Loss: 1.097 | Val. Acc: 49.57% |\n"
          ],
          "name": "stdout"
        },
        {
          "output_type": "stream",
          "text": [
            "\n",
            "0% [██████████████████████████████] 100% | ETA: 00:00:00\n",
            "Total time elapsed: 00:00:00\n",
            "0% [██████████████████████████████] 100% | ETA: 00:00:00\n",
            "Total time elapsed: 00:00:00\n",
            "100%|██████████| 33/33 [00:00<00:00, 270.95it/s]"
          ],
          "name": "stderr"
        },
        {
          "output_type": "stream",
          "text": [
            "| Epoch: 80 | Train Loss: 0.455 | Train Acc: 78.57% | Val. Loss: 1.106 | Val. Acc: 49.62% |\n"
          ],
          "name": "stdout"
        },
        {
          "output_type": "stream",
          "text": [
            "\n",
            "0% [██████████████████████████████] 100% | ETA: 00:00:00\n",
            "Total time elapsed: 00:00:00\n",
            "0% [██████████████████████████████] 100% | ETA: 00:00:00\n",
            "Total time elapsed: 00:00:00\n",
            "100%|██████████| 33/33 [00:00<00:00, 304.66it/s]"
          ],
          "name": "stderr"
        },
        {
          "output_type": "stream",
          "text": [
            "| Epoch: 81 | Train Loss: 0.452 | Train Acc: 78.54% | Val. Loss: 1.114 | Val. Acc: 49.34% |\n"
          ],
          "name": "stdout"
        },
        {
          "output_type": "stream",
          "text": [
            "\n",
            "0% [██████████████████████████████] 100% | ETA: 00:00:00\n",
            "Total time elapsed: 00:00:00\n",
            "0% [██████████████████████████████] 100% | ETA: 00:00:00\n",
            "Total time elapsed: 00:00:00\n",
            "100%|██████████| 33/33 [00:00<00:00, 294.77it/s]"
          ],
          "name": "stderr"
        },
        {
          "output_type": "stream",
          "text": [
            "| Epoch: 82 | Train Loss: 0.451 | Train Acc: 78.36% | Val. Loss: 1.124 | Val. Acc: 49.24% |\n"
          ],
          "name": "stdout"
        },
        {
          "output_type": "stream",
          "text": [
            "\n",
            "0% [██████████████████████████████] 100% | ETA: 00:00:00\n",
            "Total time elapsed: 00:00:00\n",
            "0% [██████████████████████████████] 100% | ETA: 00:00:00\n",
            "Total time elapsed: 00:00:00\n",
            "100%|██████████| 33/33 [00:00<00:00, 296.43it/s]"
          ],
          "name": "stderr"
        },
        {
          "output_type": "stream",
          "text": [
            "| Epoch: 83 | Train Loss: 0.448 | Train Acc: 79.18% | Val. Loss: 1.132 | Val. Acc: 49.24% |\n"
          ],
          "name": "stdout"
        },
        {
          "output_type": "stream",
          "text": [
            "\n",
            "0% [██████████████████████████████] 100% | ETA: 00:00:00\n",
            "Total time elapsed: 00:00:00\n",
            "0% [██████████████████████████████] 100% | ETA: 00:00:00\n",
            "Total time elapsed: 00:00:00\n",
            "100%|██████████| 33/33 [00:00<00:00, 280.59it/s]"
          ],
          "name": "stderr"
        },
        {
          "output_type": "stream",
          "text": [
            "| Epoch: 84 | Train Loss: 0.444 | Train Acc: 79.36% | Val. Loss: 1.142 | Val. Acc: 48.91% |\n"
          ],
          "name": "stdout"
        },
        {
          "output_type": "stream",
          "text": [
            "\n",
            "0% [██████████████████████████████] 100% | ETA: 00:00:00\n",
            "Total time elapsed: 00:00:00\n",
            "0% [██████████████████████████████] 100% | ETA: 00:00:00\n",
            "Total time elapsed: 00:00:00\n",
            "100%|██████████| 33/33 [00:00<00:00, 297.19it/s]"
          ],
          "name": "stderr"
        },
        {
          "output_type": "stream",
          "text": [
            "| Epoch: 85 | Train Loss: 0.440 | Train Acc: 79.69% | Val. Loss: 1.153 | Val. Acc: 49.10% |\n"
          ],
          "name": "stdout"
        },
        {
          "output_type": "stream",
          "text": [
            "\n",
            "0% [██████████████████████████████] 100% | ETA: 00:00:00\n",
            "Total time elapsed: 00:00:00\n",
            "0% [██████████████████████████████] 100% | ETA: 00:00:00\n",
            "Total time elapsed: 00:00:00\n",
            "100%|██████████| 33/33 [00:00<00:00, 301.10it/s]"
          ],
          "name": "stderr"
        },
        {
          "output_type": "stream",
          "text": [
            "| Epoch: 86 | Train Loss: 0.441 | Train Acc: 79.28% | Val. Loss: 1.161 | Val. Acc: 48.91% |\n"
          ],
          "name": "stdout"
        },
        {
          "output_type": "stream",
          "text": [
            "\n",
            "0% [██████████████████████████████] 100% | ETA: 00:00:00\n",
            "Total time elapsed: 00:00:00\n",
            "0% [██████████████████████████████] 100% | ETA: 00:00:00\n",
            "Total time elapsed: 00:00:00\n",
            "100%|██████████| 33/33 [00:00<00:00, 294.10it/s]"
          ],
          "name": "stderr"
        },
        {
          "output_type": "stream",
          "text": [
            "| Epoch: 87 | Train Loss: 0.436 | Train Acc: 79.59% | Val. Loss: 1.170 | Val. Acc: 49.01% |\n"
          ],
          "name": "stdout"
        },
        {
          "output_type": "stream",
          "text": [
            "\n",
            "0% [██████████████████████████████] 100% | ETA: 00:00:00\n",
            "Total time elapsed: 00:00:00\n",
            "0% [██████████████████████████████] 100% | ETA: 00:00:00\n",
            "Total time elapsed: 00:00:00\n",
            "100%|██████████| 33/33 [00:00<00:00, 290.04it/s]"
          ],
          "name": "stderr"
        },
        {
          "output_type": "stream",
          "text": [
            "| Epoch: 88 | Train Loss: 0.436 | Train Acc: 79.89% | Val. Loss: 1.179 | Val. Acc: 48.91% |\n"
          ],
          "name": "stdout"
        },
        {
          "output_type": "stream",
          "text": [
            "\n",
            "0% [██████████████████████████████] 100% | ETA: 00:00:00\n",
            "Total time elapsed: 00:00:00\n",
            "0% [██████████████████████████████] 100% | ETA: 00:00:00\n",
            "Total time elapsed: 00:00:00\n",
            "100%|██████████| 33/33 [00:00<00:00, 278.63it/s]"
          ],
          "name": "stderr"
        },
        {
          "output_type": "stream",
          "text": [
            "| Epoch: 89 | Train Loss: 0.433 | Train Acc: 80.32% | Val. Loss: 1.188 | Val. Acc: 49.24% |\n"
          ],
          "name": "stdout"
        },
        {
          "output_type": "stream",
          "text": [
            "\n",
            "0% [██████████████████████████████] 100% | ETA: 00:00:00\n",
            "Total time elapsed: 00:00:00\n",
            "0% [██████████████████████████████] 100% | ETA: 00:00:00\n",
            "Total time elapsed: 00:00:00\n",
            "100%|██████████| 33/33 [00:00<00:00, 286.23it/s]"
          ],
          "name": "stderr"
        },
        {
          "output_type": "stream",
          "text": [
            "| Epoch: 90 | Train Loss: 0.428 | Train Acc: 80.18% | Val. Loss: 1.196 | Val. Acc: 49.34% |\n"
          ],
          "name": "stdout"
        },
        {
          "output_type": "stream",
          "text": [
            "\n",
            "0% [██████████████████████████████] 100% | ETA: 00:00:00\n",
            "Total time elapsed: 00:00:00\n",
            "0% [██████████████████████████████] 100% | ETA: 00:00:00\n",
            "Total time elapsed: 00:00:00\n",
            "100%|██████████| 33/33 [00:00<00:00, 292.93it/s]"
          ],
          "name": "stderr"
        },
        {
          "output_type": "stream",
          "text": [
            "| Epoch: 91 | Train Loss: 0.429 | Train Acc: 79.96% | Val. Loss: 1.206 | Val. Acc: 49.29% |\n"
          ],
          "name": "stdout"
        },
        {
          "output_type": "stream",
          "text": [
            "\n",
            "0% [██████████████████████████████] 100% | ETA: 00:00:00\n",
            "Total time elapsed: 00:00:00\n",
            "0% [██████████████████████████████] 100% | ETA: 00:00:00\n",
            "Total time elapsed: 00:00:00\n",
            "100%|██████████| 33/33 [00:00<00:00, 271.86it/s]\n"
          ],
          "name": "stderr"
        },
        {
          "output_type": "stream",
          "text": [
            "| Epoch: 92 | Train Loss: 0.424 | Train Acc: 80.56% | Val. Loss: 1.216 | Val. Acc: 49.24% |\n"
          ],
          "name": "stdout"
        },
        {
          "output_type": "stream",
          "text": [
            "0% [██████████████████████████████] 100% | ETA: 00:00:00\n",
            "Total time elapsed: 00:00:00\n",
            "0% [██████████████████████████████] 100% | ETA: 00:00:00\n",
            "Total time elapsed: 00:00:00\n",
            "100%|██████████| 33/33 [00:00<00:00, 280.16it/s]"
          ],
          "name": "stderr"
        },
        {
          "output_type": "stream",
          "text": [
            "| Epoch: 93 | Train Loss: 0.422 | Train Acc: 80.62% | Val. Loss: 1.226 | Val. Acc: 49.43% |\n"
          ],
          "name": "stdout"
        },
        {
          "output_type": "stream",
          "text": [
            "\n",
            "0% [██████████████████████████████] 100% | ETA: 00:00:00\n",
            "Total time elapsed: 00:00:00\n",
            "0% [██████████████████████████████] 100% | ETA: 00:00:00\n",
            "Total time elapsed: 00:00:00\n",
            "100%|██████████| 33/33 [00:00<00:00, 318.63it/s]"
          ],
          "name": "stderr"
        },
        {
          "output_type": "stream",
          "text": [
            "| Epoch: 94 | Train Loss: 0.416 | Train Acc: 80.90% | Val. Loss: 1.236 | Val. Acc: 49.10% |\n"
          ],
          "name": "stdout"
        },
        {
          "output_type": "stream",
          "text": [
            "\n",
            "0% [██████████████████████████████] 100% | ETA: 00:00:00\n",
            "Total time elapsed: 00:00:00\n",
            "0% [██████████████████████████████] 100% | ETA: 00:00:00\n",
            "Total time elapsed: 00:00:00\n",
            "100%|██████████| 33/33 [00:00<00:00, 291.61it/s]"
          ],
          "name": "stderr"
        },
        {
          "output_type": "stream",
          "text": [
            "| Epoch: 95 | Train Loss: 0.415 | Train Acc: 81.00% | Val. Loss: 1.247 | Val. Acc: 49.34% |\n"
          ],
          "name": "stdout"
        },
        {
          "output_type": "stream",
          "text": [
            "\n",
            "0% [██████████████████████████████] 100% | ETA: 00:00:00\n",
            "Total time elapsed: 00:00:00\n",
            "0% [██████████████████████████████] 100% | ETA: 00:00:00\n",
            "Total time elapsed: 00:00:00\n",
            "100%|██████████| 33/33 [00:00<00:00, 276.68it/s]"
          ],
          "name": "stderr"
        },
        {
          "output_type": "stream",
          "text": [
            "| Epoch: 96 | Train Loss: 0.413 | Train Acc: 81.50% | Val. Loss: 1.258 | Val. Acc: 49.29% |\n"
          ],
          "name": "stdout"
        },
        {
          "output_type": "stream",
          "text": [
            "\n",
            "0% [██████████████████████████████] 100% | ETA: 00:00:00\n",
            "Total time elapsed: 00:00:00\n",
            "0% [██████████████████████████████] 100% | ETA: 00:00:00\n",
            "Total time elapsed: 00:00:00\n",
            "100%|██████████| 33/33 [00:00<00:00, 265.85it/s]"
          ],
          "name": "stderr"
        },
        {
          "output_type": "stream",
          "text": [
            "| Epoch: 97 | Train Loss: 0.412 | Train Acc: 81.57% | Val. Loss: 1.264 | Val. Acc: 49.15% |\n"
          ],
          "name": "stdout"
        },
        {
          "output_type": "stream",
          "text": [
            "\n",
            "0% [██████████████████████████████] 100% | ETA: 00:00:00\n",
            "Total time elapsed: 00:00:00\n",
            "0% [██████████████████████████████] 100% | ETA: 00:00:00\n",
            "Total time elapsed: 00:00:00\n",
            "100%|██████████| 33/33 [00:00<00:00, 294.91it/s]"
          ],
          "name": "stderr"
        },
        {
          "output_type": "stream",
          "text": [
            "| Epoch: 98 | Train Loss: 0.409 | Train Acc: 81.34% | Val. Loss: 1.276 | Val. Acc: 49.34% |\n"
          ],
          "name": "stdout"
        },
        {
          "output_type": "stream",
          "text": [
            "\n",
            "0% [██████████████████████████████] 100% | ETA: 00:00:00\n",
            "Total time elapsed: 00:00:00\n",
            "0% [██████████████████████████████] 100% | ETA: 00:00:00\n",
            "Total time elapsed: 00:00:00\n",
            "100%|██████████| 33/33 [00:00<00:00, 278.31it/s]"
          ],
          "name": "stderr"
        },
        {
          "output_type": "stream",
          "text": [
            "| Epoch: 99 | Train Loss: 0.406 | Train Acc: 81.57% | Val. Loss: 1.287 | Val. Acc: 49.38% |\n"
          ],
          "name": "stdout"
        },
        {
          "output_type": "stream",
          "text": [
            "\n",
            "0% [██████████████████████████████] 100% | ETA: 00:00:00\n",
            "Total time elapsed: 00:00:00\n",
            "0% [██████████████████████████████] 100% | ETA: 00:00:00\n",
            "Total time elapsed: 00:00:00\n",
            "100%|██████████| 33/33 [00:00<00:00, 301.75it/s]"
          ],
          "name": "stderr"
        },
        {
          "output_type": "stream",
          "text": [
            "| Epoch: 100 | Train Loss: 0.403 | Train Acc: 81.58% | Val. Loss: 1.297 | Val. Acc: 49.20% |\n"
          ],
          "name": "stdout"
        },
        {
          "output_type": "stream",
          "text": [
            "\n",
            "0% [██████████████████████████████] 100% | ETA: 00:00:00\n",
            "Total time elapsed: 00:00:00\n",
            "0% [██████████████████████████████] 100% | ETA: 00:00:00\n",
            "Total time elapsed: 00:00:00\n",
            "100%|██████████| 33/33 [00:00<00:00, 286.41it/s]"
          ],
          "name": "stderr"
        },
        {
          "output_type": "stream",
          "text": [
            "| Epoch: 101 | Train Loss: 0.401 | Train Acc: 81.87% | Val. Loss: 1.311 | Val. Acc: 49.43% |\n"
          ],
          "name": "stdout"
        },
        {
          "output_type": "stream",
          "text": [
            "\n",
            "0% [██████████████████████████████] 100% | ETA: 00:00:00\n",
            "Total time elapsed: 00:00:00\n",
            "0% [██████████████████████████████] 100% | ETA: 00:00:00\n",
            "Total time elapsed: 00:00:00\n",
            "100%|██████████| 33/33 [00:00<00:00, 297.21it/s]"
          ],
          "name": "stderr"
        },
        {
          "output_type": "stream",
          "text": [
            "| Epoch: 102 | Train Loss: 0.397 | Train Acc: 82.26% | Val. Loss: 1.323 | Val. Acc: 49.34% |\n"
          ],
          "name": "stdout"
        },
        {
          "output_type": "stream",
          "text": [
            "\n",
            "0% [██████████████████████████████] 100% | ETA: 00:00:00\n",
            "Total time elapsed: 00:00:00\n",
            "0% [██████████████████████████████] 100% | ETA: 00:00:00\n",
            "Total time elapsed: 00:00:00\n",
            "100%|██████████| 33/33 [00:00<00:00, 296.29it/s]"
          ],
          "name": "stderr"
        },
        {
          "output_type": "stream",
          "text": [
            "| Epoch: 103 | Train Loss: 0.396 | Train Acc: 82.17% | Val. Loss: 1.331 | Val. Acc: 49.48% |\n"
          ],
          "name": "stdout"
        },
        {
          "output_type": "stream",
          "text": [
            "\n",
            "0% [██████████████████████████████] 100% | ETA: 00:00:00\n",
            "Total time elapsed: 00:00:00\n",
            "0% [██████████████████████████████] 100% | ETA: 00:00:00\n",
            "Total time elapsed: 00:00:00\n",
            "100%|██████████| 33/33 [00:00<00:00, 287.79it/s]"
          ],
          "name": "stderr"
        },
        {
          "output_type": "stream",
          "text": [
            "| Epoch: 104 | Train Loss: 0.392 | Train Acc: 82.39% | Val. Loss: 1.341 | Val. Acc: 49.43% |\n"
          ],
          "name": "stdout"
        },
        {
          "output_type": "stream",
          "text": [
            "\n",
            "0% [██████████████████████████████] 100% | ETA: 00:00:00\n",
            "Total time elapsed: 00:00:00\n",
            "0% [██████████████████████████████] 100% | ETA: 00:00:00\n",
            "Total time elapsed: 00:00:00\n",
            "100%|██████████| 33/33 [00:00<00:00, 333.23it/s]"
          ],
          "name": "stderr"
        },
        {
          "output_type": "stream",
          "text": [
            "| Epoch: 105 | Train Loss: 0.391 | Train Acc: 82.83% | Val. Loss: 1.353 | Val. Acc: 49.29% |\n"
          ],
          "name": "stdout"
        },
        {
          "output_type": "stream",
          "text": [
            "\n",
            "0% [██████████████████████████████] 100% | ETA: 00:00:00\n",
            "Total time elapsed: 00:00:00\n",
            "0% [██████████████████████████████] 100% | ETA: 00:00:00\n",
            "Total time elapsed: 00:00:00\n",
            "100%|██████████| 33/33 [00:00<00:00, 287.47it/s]"
          ],
          "name": "stderr"
        },
        {
          "output_type": "stream",
          "text": [
            "| Epoch: 106 | Train Loss: 0.387 | Train Acc: 82.69% | Val. Loss: 1.364 | Val. Acc: 49.01% |\n"
          ],
          "name": "stdout"
        },
        {
          "output_type": "stream",
          "text": [
            "\n",
            "0% [██████████████████████████████] 100% | ETA: 00:00:00\n",
            "Total time elapsed: 00:00:00\n",
            "0% [██████████████████████████████] 100% | ETA: 00:00:00\n",
            "Total time elapsed: 00:00:00\n",
            "100%|██████████| 33/33 [00:00<00:00, 326.99it/s]"
          ],
          "name": "stderr"
        },
        {
          "output_type": "stream",
          "text": [
            "| Epoch: 107 | Train Loss: 0.386 | Train Acc: 82.94% | Val. Loss: 1.377 | Val. Acc: 49.48% |\n"
          ],
          "name": "stdout"
        },
        {
          "output_type": "stream",
          "text": [
            "\n",
            "0% [██████████████████████████████] 100% | ETA: 00:00:00\n",
            "Total time elapsed: 00:00:00\n",
            "0% [██████████████████████████████] 100% | ETA: 00:00:00\n",
            "Total time elapsed: 00:00:00\n",
            "100%|██████████| 33/33 [00:00<00:00, 298.28it/s]"
          ],
          "name": "stderr"
        },
        {
          "output_type": "stream",
          "text": [
            "| Epoch: 108 | Train Loss: 0.381 | Train Acc: 83.03% | Val. Loss: 1.388 | Val. Acc: 49.43% |\n"
          ],
          "name": "stdout"
        },
        {
          "output_type": "stream",
          "text": [
            "\n",
            "0% [██████████████████████████████] 100% | ETA: 00:00:00\n",
            "Total time elapsed: 00:00:00\n",
            "0% [██████████████████████████████] 100% | ETA: 00:00:00\n",
            "Total time elapsed: 00:00:00\n",
            "100%|██████████| 33/33 [00:00<00:00, 311.77it/s]"
          ],
          "name": "stderr"
        },
        {
          "output_type": "stream",
          "text": [
            "| Epoch: 109 | Train Loss: 0.378 | Train Acc: 83.41% | Val. Loss: 1.404 | Val. Acc: 49.34% |\n"
          ],
          "name": "stdout"
        },
        {
          "output_type": "stream",
          "text": [
            "\n",
            "0% [██████████████████████████████] 100% | ETA: 00:00:00\n",
            "Total time elapsed: 00:00:00\n",
            "0% [██████████████████████████████] 100% | ETA: 00:00:00\n",
            "Total time elapsed: 00:00:00\n",
            "100%|██████████| 33/33 [00:00<00:00, 296.80it/s]"
          ],
          "name": "stderr"
        },
        {
          "output_type": "stream",
          "text": [
            "| Epoch: 110 | Train Loss: 0.376 | Train Acc: 83.71% | Val. Loss: 1.416 | Val. Acc: 49.20% |\n"
          ],
          "name": "stdout"
        },
        {
          "output_type": "stream",
          "text": [
            "\n",
            "0% [██████████████████████████████] 100% | ETA: 00:00:00\n",
            "Total time elapsed: 00:00:00\n",
            "0% [██████████████████████████████] 100% | ETA: 00:00:00\n",
            "Total time elapsed: 00:00:00\n",
            "100%|██████████| 33/33 [00:00<00:00, 262.28it/s]"
          ],
          "name": "stderr"
        },
        {
          "output_type": "stream",
          "text": [
            "| Epoch: 111 | Train Loss: 0.375 | Train Acc: 83.65% | Val. Loss: 1.427 | Val. Acc: 49.01% |\n"
          ],
          "name": "stdout"
        },
        {
          "output_type": "stream",
          "text": [
            "\n",
            "0% [██████████████████████████████] 100% | ETA: 00:00:00\n",
            "Total time elapsed: 00:00:00\n",
            "0% [██████████████████████████████] 100% | ETA: 00:00:00\n",
            "Total time elapsed: 00:00:00\n",
            "100%|██████████| 33/33 [00:00<00:00, 293.68it/s]"
          ],
          "name": "stderr"
        },
        {
          "output_type": "stream",
          "text": [
            "| Epoch: 112 | Train Loss: 0.373 | Train Acc: 83.95% | Val. Loss: 1.438 | Val. Acc: 48.91% |\n"
          ],
          "name": "stdout"
        },
        {
          "output_type": "stream",
          "text": [
            "\n",
            "0% [██████████████████████████████] 100% | ETA: 00:00:00\n",
            "Total time elapsed: 00:00:00\n",
            "0% [██████████████████████████████] 100% | ETA: 00:00:00\n",
            "Total time elapsed: 00:00:00\n",
            "100%|██████████| 33/33 [00:00<00:00, 287.44it/s]"
          ],
          "name": "stderr"
        },
        {
          "output_type": "stream",
          "text": [
            "| Epoch: 113 | Train Loss: 0.369 | Train Acc: 84.30% | Val. Loss: 1.452 | Val. Acc: 49.15% |\n"
          ],
          "name": "stdout"
        },
        {
          "output_type": "stream",
          "text": [
            "\n",
            "0% [██████████████████████████████] 100% | ETA: 00:00:00\n",
            "Total time elapsed: 00:00:00\n",
            "0% [██████████████████████████████] 100% | ETA: 00:00:00\n",
            "Total time elapsed: 00:00:00\n",
            "100%|██████████| 33/33 [00:00<00:00, 266.09it/s]"
          ],
          "name": "stderr"
        },
        {
          "output_type": "stream",
          "text": [
            "| Epoch: 114 | Train Loss: 0.367 | Train Acc: 84.34% | Val. Loss: 1.465 | Val. Acc: 49.24% |\n"
          ],
          "name": "stdout"
        },
        {
          "output_type": "stream",
          "text": [
            "\n",
            "0% [██████████████████████████████] 100% | ETA: 00:00:00\n",
            "Total time elapsed: 00:00:00\n",
            "0% [██████████████████████████████] 100% | ETA: 00:00:00\n",
            "Total time elapsed: 00:00:00\n",
            "100%|██████████| 33/33 [00:00<00:00, 314.91it/s]"
          ],
          "name": "stderr"
        },
        {
          "output_type": "stream",
          "text": [
            "| Epoch: 115 | Train Loss: 0.367 | Train Acc: 84.44% | Val. Loss: 1.479 | Val. Acc: 48.96% |\n"
          ],
          "name": "stdout"
        },
        {
          "output_type": "stream",
          "text": [
            "\n",
            "0% [██████████████████████████████] 100% | ETA: 00:00:00\n",
            "Total time elapsed: 00:00:00\n",
            "0% [██████████████████████████████] 100% | ETA: 00:00:00\n",
            "Total time elapsed: 00:00:00\n",
            "100%|██████████| 33/33 [00:00<00:00, 278.63it/s]"
          ],
          "name": "stderr"
        },
        {
          "output_type": "stream",
          "text": [
            "| Epoch: 116 | Train Loss: 0.361 | Train Acc: 84.53% | Val. Loss: 1.490 | Val. Acc: 48.91% |\n"
          ],
          "name": "stdout"
        },
        {
          "output_type": "stream",
          "text": [
            "\n",
            "0% [██████████████████████████████] 100% | ETA: 00:00:00\n",
            "Total time elapsed: 00:00:00\n",
            "0% [██████████████████████████████] 100% | ETA: 00:00:00\n",
            "Total time elapsed: 00:00:00\n",
            "100%|██████████| 33/33 [00:00<00:00, 307.87it/s]"
          ],
          "name": "stderr"
        },
        {
          "output_type": "stream",
          "text": [
            "| Epoch: 117 | Train Loss: 0.358 | Train Acc: 84.83% | Val. Loss: 1.506 | Val. Acc: 48.77% |\n"
          ],
          "name": "stdout"
        },
        {
          "output_type": "stream",
          "text": [
            "\n",
            "0% [██████████████████████████████] 100% | ETA: 00:00:00\n",
            "Total time elapsed: 00:00:00\n",
            "0% [██████████████████████████████] 100% | ETA: 00:00:00\n",
            "Total time elapsed: 00:00:00\n",
            "100%|██████████| 33/33 [00:00<00:00, 323.44it/s]"
          ],
          "name": "stderr"
        },
        {
          "output_type": "stream",
          "text": [
            "| Epoch: 118 | Train Loss: 0.356 | Train Acc: 85.02% | Val. Loss: 1.520 | Val. Acc: 48.63% |\n"
          ],
          "name": "stdout"
        },
        {
          "output_type": "stream",
          "text": [
            "\n",
            "0% [██████████████████████████████] 100% | ETA: 00:00:00\n",
            "Total time elapsed: 00:00:00\n",
            "0% [██████████████████████████████] 100% | ETA: 00:00:00\n",
            "Total time elapsed: 00:00:00\n",
            "100%|██████████| 33/33 [00:00<00:00, 285.56it/s]"
          ],
          "name": "stderr"
        },
        {
          "output_type": "stream",
          "text": [
            "| Epoch: 119 | Train Loss: 0.351 | Train Acc: 85.09% | Val. Loss: 1.536 | Val. Acc: 48.82% |\n"
          ],
          "name": "stdout"
        },
        {
          "output_type": "stream",
          "text": [
            "\n",
            "0% [██████████████████████████████] 100% | ETA: 00:00:00\n",
            "Total time elapsed: 00:00:00\n",
            "0% [██████████████████████████████] 100% | ETA: 00:00:00\n",
            "Total time elapsed: 00:00:00\n",
            "100%|██████████| 33/33 [00:00<00:00, 304.82it/s]"
          ],
          "name": "stderr"
        },
        {
          "output_type": "stream",
          "text": [
            "| Epoch: 120 | Train Loss: 0.351 | Train Acc: 85.43% | Val. Loss: 1.550 | Val. Acc: 48.53% |\n"
          ],
          "name": "stdout"
        },
        {
          "output_type": "stream",
          "text": [
            "\n",
            "0% [██████████████████████████████] 100% | ETA: 00:00:00\n",
            "Total time elapsed: 00:00:00\n",
            "0% [██████████████████████████████] 100% | ETA: 00:00:00\n",
            "Total time elapsed: 00:00:00\n",
            "100%|██████████| 33/33 [00:00<00:00, 287.41it/s]"
          ],
          "name": "stderr"
        },
        {
          "output_type": "stream",
          "text": [
            "| Epoch: 121 | Train Loss: 0.348 | Train Acc: 85.54% | Val. Loss: 1.565 | Val. Acc: 48.48% |\n"
          ],
          "name": "stdout"
        },
        {
          "output_type": "stream",
          "text": [
            "\n",
            "0% [██████████████████████████████] 100% | ETA: 00:00:00\n",
            "Total time elapsed: 00:00:00\n",
            "0% [██████████████████████████████] 100% | ETA: 00:00:00\n",
            "Total time elapsed: 00:00:00\n",
            "100%|██████████| 33/33 [00:00<00:00, 316.45it/s]"
          ],
          "name": "stderr"
        },
        {
          "output_type": "stream",
          "text": [
            "| Epoch: 122 | Train Loss: 0.346 | Train Acc: 85.53% | Val. Loss: 1.582 | Val. Acc: 48.34% |\n"
          ],
          "name": "stdout"
        },
        {
          "output_type": "stream",
          "text": [
            "\n",
            "0% [██████████████████████████████] 100% | ETA: 00:00:00\n",
            "Total time elapsed: 00:00:00\n",
            "0% [██████████████████████████████] 100% | ETA: 00:00:00\n",
            "Total time elapsed: 00:00:00\n",
            "100%|██████████| 33/33 [00:00<00:00, 296.16it/s]"
          ],
          "name": "stderr"
        },
        {
          "output_type": "stream",
          "text": [
            "| Epoch: 123 | Train Loss: 0.341 | Train Acc: 85.70% | Val. Loss: 1.598 | Val. Acc: 48.67% |\n"
          ],
          "name": "stdout"
        },
        {
          "output_type": "stream",
          "text": [
            "\n",
            "0% [██████████████████████████████] 100% | ETA: 00:00:00\n",
            "Total time elapsed: 00:00:00\n",
            "0% [██████████████████████████████] 100% | ETA: 00:00:00\n",
            "Total time elapsed: 00:00:00\n",
            "100%|██████████| 33/33 [00:00<00:00, 296.60it/s]"
          ],
          "name": "stderr"
        },
        {
          "output_type": "stream",
          "text": [
            "| Epoch: 124 | Train Loss: 0.338 | Train Acc: 86.03% | Val. Loss: 1.611 | Val. Acc: 48.63% |\n"
          ],
          "name": "stdout"
        },
        {
          "output_type": "stream",
          "text": [
            "\n",
            "0% [██████████████████████████████] 100% | ETA: 00:00:00\n",
            "Total time elapsed: 00:00:00\n",
            "0% [██████████████████████████████] 100% | ETA: 00:00:00\n",
            "Total time elapsed: 00:00:00\n",
            "100%|██████████| 33/33 [00:00<00:00, 291.80it/s]"
          ],
          "name": "stderr"
        },
        {
          "output_type": "stream",
          "text": [
            "| Epoch: 125 | Train Loss: 0.335 | Train Acc: 86.05% | Val. Loss: 1.631 | Val. Acc: 48.01% |\n"
          ],
          "name": "stdout"
        },
        {
          "output_type": "stream",
          "text": [
            "\n",
            "0% [██████████████████████████████] 100% | ETA: 00:00:00\n",
            "Total time elapsed: 00:00:00\n",
            "0% [██████████████████████████████] 100% | ETA: 00:00:00\n",
            "Total time elapsed: 00:00:00\n",
            "100%|██████████| 33/33 [00:00<00:00, 301.41it/s]"
          ],
          "name": "stderr"
        },
        {
          "output_type": "stream",
          "text": [
            "| Epoch: 126 | Train Loss: 0.333 | Train Acc: 86.22% | Val. Loss: 1.642 | Val. Acc: 48.67% |\n"
          ],
          "name": "stdout"
        },
        {
          "output_type": "stream",
          "text": [
            "\n",
            "0% [██████████████████████████████] 100% | ETA: 00:00:00\n",
            "Total time elapsed: 00:00:00\n",
            "0% [██████████████████████████████] 100% | ETA: 00:00:00\n",
            "Total time elapsed: 00:00:00\n",
            "100%|██████████| 33/33 [00:00<00:00, 302.43it/s]"
          ],
          "name": "stderr"
        },
        {
          "output_type": "stream",
          "text": [
            "| Epoch: 127 | Train Loss: 0.331 | Train Acc: 86.41% | Val. Loss: 1.662 | Val. Acc: 48.39% |\n"
          ],
          "name": "stdout"
        },
        {
          "output_type": "stream",
          "text": [
            "\n",
            "0% [██████████████████████████████] 100% | ETA: 00:00:00\n",
            "Total time elapsed: 00:00:00\n",
            "0% [██████████████████████████████] 100% | ETA: 00:00:00\n",
            "Total time elapsed: 00:00:00\n",
            "100%|██████████| 33/33 [00:00<00:00, 301.19it/s]"
          ],
          "name": "stderr"
        },
        {
          "output_type": "stream",
          "text": [
            "| Epoch: 128 | Train Loss: 0.329 | Train Acc: 86.30% | Val. Loss: 1.682 | Val. Acc: 47.96% |\n"
          ],
          "name": "stdout"
        },
        {
          "output_type": "stream",
          "text": [
            "\n",
            "0% [██████████████████████████████] 100% | ETA: 00:00:00\n",
            "Total time elapsed: 00:00:00\n",
            "0% [██████████████████████████████] 100% | ETA: 00:00:00\n",
            "Total time elapsed: 00:00:00\n",
            "100%|██████████| 33/33 [00:00<00:00, 303.80it/s]"
          ],
          "name": "stderr"
        },
        {
          "output_type": "stream",
          "text": [
            "| Epoch: 129 | Train Loss: 0.327 | Train Acc: 86.55% | Val. Loss: 1.695 | Val. Acc: 48.58% |\n"
          ],
          "name": "stdout"
        },
        {
          "output_type": "stream",
          "text": [
            "\n",
            "0% [██████████████████████████████] 100% | ETA: 00:00:00\n",
            "Total time elapsed: 00:00:00\n",
            "0% [██████████████████████████████] 100% | ETA: 00:00:00\n",
            "Total time elapsed: 00:00:00\n",
            "100%|██████████| 33/33 [00:00<00:00, 287.04it/s]"
          ],
          "name": "stderr"
        },
        {
          "output_type": "stream",
          "text": [
            "| Epoch: 130 | Train Loss: 0.322 | Train Acc: 86.65% | Val. Loss: 1.707 | Val. Acc: 48.53% |\n"
          ],
          "name": "stdout"
        },
        {
          "output_type": "stream",
          "text": [
            "\n",
            "0% [██████████████████████████████] 100% | ETA: 00:00:00\n",
            "Total time elapsed: 00:00:00\n",
            "0% [██████████████████████████████] 100% | ETA: 00:00:00\n",
            "Total time elapsed: 00:00:00\n",
            "100%|██████████| 33/33 [00:00<00:00, 279.50it/s]"
          ],
          "name": "stderr"
        },
        {
          "output_type": "stream",
          "text": [
            "| Epoch: 131 | Train Loss: 0.322 | Train Acc: 86.98% | Val. Loss: 1.729 | Val. Acc: 48.25% |\n"
          ],
          "name": "stdout"
        },
        {
          "output_type": "stream",
          "text": [
            "\n",
            "0% [██████████████████████████████] 100% | ETA: 00:00:00\n",
            "Total time elapsed: 00:00:00\n",
            "0% [██████████████████████████████] 100% | ETA: 00:00:00\n",
            "Total time elapsed: 00:00:00\n",
            "100%|██████████| 33/33 [00:00<00:00, 307.35it/s]"
          ],
          "name": "stderr"
        },
        {
          "output_type": "stream",
          "text": [
            "| Epoch: 132 | Train Loss: 0.316 | Train Acc: 87.59% | Val. Loss: 1.748 | Val. Acc: 48.48% |\n"
          ],
          "name": "stdout"
        },
        {
          "output_type": "stream",
          "text": [
            "\n",
            "0% [██████████████████████████████] 100% | ETA: 00:00:00\n",
            "Total time elapsed: 00:00:00\n",
            "0% [██████████████████████████████] 100% | ETA: 00:00:00\n",
            "Total time elapsed: 00:00:00\n",
            "100%|██████████| 33/33 [00:00<00:00, 279.45it/s]"
          ],
          "name": "stderr"
        },
        {
          "output_type": "stream",
          "text": [
            "| Epoch: 133 | Train Loss: 0.313 | Train Acc: 87.18% | Val. Loss: 1.766 | Val. Acc: 48.39% |\n"
          ],
          "name": "stdout"
        },
        {
          "output_type": "stream",
          "text": [
            "\n",
            "0% [██████████████████████████████] 100% | ETA: 00:00:00\n",
            "Total time elapsed: 00:00:00\n",
            "0% [██████████████████████████████] 100% | ETA: 00:00:00\n",
            "Total time elapsed: 00:00:00\n",
            "100%|██████████| 33/33 [00:00<00:00, 284.85it/s]"
          ],
          "name": "stderr"
        },
        {
          "output_type": "stream",
          "text": [
            "| Epoch: 134 | Train Loss: 0.311 | Train Acc: 87.17% | Val. Loss: 1.781 | Val. Acc: 48.39% |\n"
          ],
          "name": "stdout"
        },
        {
          "output_type": "stream",
          "text": [
            "\n",
            "0% [██████████████████████████████] 100% | ETA: 00:00:00\n",
            "Total time elapsed: 00:00:00\n",
            "0% [██████████████████████████████] 100% | ETA: 00:00:00\n",
            "Total time elapsed: 00:00:00\n",
            "100%|██████████| 33/33 [00:00<00:00, 296.94it/s]"
          ],
          "name": "stderr"
        },
        {
          "output_type": "stream",
          "text": [
            "| Epoch: 135 | Train Loss: 0.307 | Train Acc: 87.86% | Val. Loss: 1.801 | Val. Acc: 48.77% |\n"
          ],
          "name": "stdout"
        },
        {
          "output_type": "stream",
          "text": [
            "\n",
            "0% [██████████████████████████████] 100% | ETA: 00:00:00\n",
            "Total time elapsed: 00:00:00\n",
            "0% [██████████████████████████████] 100% | ETA: 00:00:00\n",
            "Total time elapsed: 00:00:00\n",
            "100%|██████████| 33/33 [00:00<00:00, 299.30it/s]"
          ],
          "name": "stderr"
        },
        {
          "output_type": "stream",
          "text": [
            "| Epoch: 136 | Train Loss: 0.306 | Train Acc: 87.82% | Val. Loss: 1.821 | Val. Acc: 48.44% |\n"
          ],
          "name": "stdout"
        },
        {
          "output_type": "stream",
          "text": [
            "\n",
            "0% [██████████████████████████████] 100% | ETA: 00:00:00\n",
            "Total time elapsed: 00:00:00\n",
            "0% [██████████████████████████████] 100% | ETA: 00:00:00\n",
            "Total time elapsed: 00:00:00\n",
            "100%|██████████| 33/33 [00:00<00:00, 270.50it/s]"
          ],
          "name": "stderr"
        },
        {
          "output_type": "stream",
          "text": [
            "| Epoch: 137 | Train Loss: 0.302 | Train Acc: 87.93% | Val. Loss: 1.841 | Val. Acc: 48.34% |\n"
          ],
          "name": "stdout"
        },
        {
          "output_type": "stream",
          "text": [
            "\n",
            "0% [██████████████████████████████] 100% | ETA: 00:00:00\n",
            "Total time elapsed: 00:00:00\n",
            "0% [██████████████████████████████] 100% | ETA: 00:00:00\n",
            "Total time elapsed: 00:00:00\n",
            "100%|██████████| 33/33 [00:00<00:00, 300.00it/s]"
          ],
          "name": "stderr"
        },
        {
          "output_type": "stream",
          "text": [
            "| Epoch: 138 | Train Loss: 0.299 | Train Acc: 88.13% | Val. Loss: 1.859 | Val. Acc: 48.39% |\n"
          ],
          "name": "stdout"
        },
        {
          "output_type": "stream",
          "text": [
            "\n",
            "0% [██████████████████████████████] 100% | ETA: 00:00:00\n",
            "Total time elapsed: 00:00:00\n",
            "0% [██████████████████████████████] 100% | ETA: 00:00:00\n",
            "Total time elapsed: 00:00:00\n",
            "100%|██████████| 33/33 [00:00<00:00, 268.92it/s]"
          ],
          "name": "stderr"
        },
        {
          "output_type": "stream",
          "text": [
            "| Epoch: 139 | Train Loss: 0.298 | Train Acc: 88.34% | Val. Loss: 1.879 | Val. Acc: 48.34% |\n"
          ],
          "name": "stdout"
        },
        {
          "output_type": "stream",
          "text": [
            "\n",
            "0% [██████████████████████████████] 100% | ETA: 00:00:00\n",
            "Total time elapsed: 00:00:00\n",
            "0% [██████████████████████████████] 100% | ETA: 00:00:00\n",
            "Total time elapsed: 00:00:00\n",
            "100%|██████████| 33/33 [00:00<00:00, 291.84it/s]"
          ],
          "name": "stderr"
        },
        {
          "output_type": "stream",
          "text": [
            "| Epoch: 140 | Train Loss: 0.296 | Train Acc: 88.13% | Val. Loss: 1.902 | Val. Acc: 48.20% |\n"
          ],
          "name": "stdout"
        },
        {
          "output_type": "stream",
          "text": [
            "\n",
            "0% [██████████████████████████████] 100% | ETA: 00:00:00\n",
            "Total time elapsed: 00:00:00\n",
            "0% [██████████████████████████████] 100% | ETA: 00:00:00\n",
            "Total time elapsed: 00:00:00\n",
            "100%|██████████| 33/33 [00:00<00:00, 283.56it/s]"
          ],
          "name": "stderr"
        },
        {
          "output_type": "stream",
          "text": [
            "| Epoch: 141 | Train Loss: 0.291 | Train Acc: 88.60% | Val. Loss: 1.922 | Val. Acc: 48.34% |\n"
          ],
          "name": "stdout"
        },
        {
          "output_type": "stream",
          "text": [
            "\n",
            "0% [██████████████████████████████] 100% | ETA: 00:00:00\n",
            "Total time elapsed: 00:00:00\n",
            "0% [██████████████████████████████] 100% | ETA: 00:00:00\n",
            "Total time elapsed: 00:00:00\n",
            "100%|██████████| 33/33 [00:00<00:00, 296.44it/s]"
          ],
          "name": "stderr"
        },
        {
          "output_type": "stream",
          "text": [
            "| Epoch: 142 | Train Loss: 0.286 | Train Acc: 89.05% | Val. Loss: 1.945 | Val. Acc: 48.44% |\n"
          ],
          "name": "stdout"
        },
        {
          "output_type": "stream",
          "text": [
            "\n",
            "0% [██████████████████████████████] 100% | ETA: 00:00:00\n",
            "Total time elapsed: 00:00:00\n",
            "0% [██████████████████████████████] 100% | ETA: 00:00:00\n",
            "Total time elapsed: 00:00:00\n",
            "100%|██████████| 33/33 [00:00<00:00, 298.84it/s]"
          ],
          "name": "stderr"
        },
        {
          "output_type": "stream",
          "text": [
            "| Epoch: 143 | Train Loss: 0.285 | Train Acc: 88.78% | Val. Loss: 1.964 | Val. Acc: 48.20% |\n"
          ],
          "name": "stdout"
        },
        {
          "output_type": "stream",
          "text": [
            "\n",
            "0% [██████████████████████████████] 100% | ETA: 00:00:00\n",
            "Total time elapsed: 00:00:00\n",
            "0% [██████████████████████████████] 100% | ETA: 00:00:00\n",
            "Total time elapsed: 00:00:00\n",
            "100%|██████████| 33/33 [00:00<00:00, 337.38it/s]"
          ],
          "name": "stderr"
        },
        {
          "output_type": "stream",
          "text": [
            "| Epoch: 144 | Train Loss: 0.280 | Train Acc: 89.22% | Val. Loss: 1.990 | Val. Acc: 48.67% |\n"
          ],
          "name": "stdout"
        },
        {
          "output_type": "stream",
          "text": [
            "\n",
            "0% [██████████████████████████████] 100% | ETA: 00:00:00\n",
            "Total time elapsed: 00:00:00\n",
            "0% [██████████████████████████████] 100% | ETA: 00:00:00\n",
            "Total time elapsed: 00:00:00\n",
            "100%|██████████| 33/33 [00:00<00:00, 308.35it/s]"
          ],
          "name": "stderr"
        },
        {
          "output_type": "stream",
          "text": [
            "| Epoch: 145 | Train Loss: 0.275 | Train Acc: 89.46% | Val. Loss: 2.012 | Val. Acc: 48.63% |\n"
          ],
          "name": "stdout"
        },
        {
          "output_type": "stream",
          "text": [
            "\n",
            "0% [██████████████████████████████] 100% | ETA: 00:00:00\n",
            "Total time elapsed: 00:00:00\n",
            "0% [██████████████████████████████] 100% | ETA: 00:00:00\n",
            "Total time elapsed: 00:00:00\n",
            "100%|██████████| 33/33 [00:00<00:00, 313.15it/s]"
          ],
          "name": "stderr"
        },
        {
          "output_type": "stream",
          "text": [
            "| Epoch: 146 | Train Loss: 0.273 | Train Acc: 89.68% | Val. Loss: 2.034 | Val. Acc: 48.39% |\n"
          ],
          "name": "stdout"
        },
        {
          "output_type": "stream",
          "text": [
            "\n",
            "0% [██████████████████████████████] 100% | ETA: 00:00:00\n",
            "Total time elapsed: 00:00:00\n",
            "0% [██████████████████████████████] 100% | ETA: 00:00:00\n",
            "Total time elapsed: 00:00:00\n",
            "100%|██████████| 33/33 [00:00<00:00, 309.41it/s]"
          ],
          "name": "stderr"
        },
        {
          "output_type": "stream",
          "text": [
            "| Epoch: 147 | Train Loss: 0.270 | Train Acc: 89.74% | Val. Loss: 2.059 | Val. Acc: 48.72% |\n"
          ],
          "name": "stdout"
        },
        {
          "output_type": "stream",
          "text": [
            "\n",
            "0% [██████████████████████████████] 100% | ETA: 00:00:00\n",
            "Total time elapsed: 00:00:00\n",
            "0% [██████████████████████████████] 100% | ETA: 00:00:00\n",
            "Total time elapsed: 00:00:00\n",
            "100%|██████████| 33/33 [00:00<00:00, 288.50it/s]"
          ],
          "name": "stderr"
        },
        {
          "output_type": "stream",
          "text": [
            "| Epoch: 148 | Train Loss: 0.266 | Train Acc: 89.77% | Val. Loss: 2.078 | Val. Acc: 48.63% |\n"
          ],
          "name": "stdout"
        },
        {
          "output_type": "stream",
          "text": [
            "\n",
            "0% [██████████████████████████████] 100% | ETA: 00:00:00\n",
            "Total time elapsed: 00:00:00\n",
            "0% [██████████████████████████████] 100% | ETA: 00:00:00\n",
            "Total time elapsed: 00:00:00\n",
            "100%|██████████| 33/33 [00:00<00:00, 307.80it/s]"
          ],
          "name": "stderr"
        },
        {
          "output_type": "stream",
          "text": [
            "| Epoch: 149 | Train Loss: 0.264 | Train Acc: 90.25% | Val. Loss: 2.104 | Val. Acc: 48.39% |\n"
          ],
          "name": "stdout"
        },
        {
          "output_type": "stream",
          "text": [
            "\n",
            "0% [██████████████████████████████] 100% | ETA: 00:00:00\n",
            "Total time elapsed: 00:00:00\n",
            "0% [██████████████████████████████] 100% | ETA: 00:00:00\n",
            "Total time elapsed: 00:00:00\n",
            "100%|██████████| 33/33 [00:00<00:00, 308.93it/s]"
          ],
          "name": "stderr"
        },
        {
          "output_type": "stream",
          "text": [
            "| Epoch: 150 | Train Loss: 0.260 | Train Acc: 90.23% | Val. Loss: 2.126 | Val. Acc: 48.34% |\n"
          ],
          "name": "stdout"
        },
        {
          "output_type": "stream",
          "text": [
            "\n",
            "0% [██████████████████████████████] 100% | ETA: 00:00:00\n",
            "Total time elapsed: 00:00:00\n",
            "0% [██████████████████████████████] 100% | ETA: 00:00:00\n",
            "Total time elapsed: 00:00:00\n",
            "100%|██████████| 33/33 [00:00<00:00, 306.08it/s]"
          ],
          "name": "stderr"
        },
        {
          "output_type": "stream",
          "text": [
            "| Epoch: 151 | Train Loss: 0.259 | Train Acc: 90.12% | Val. Loss: 2.157 | Val. Acc: 48.53% |\n"
          ],
          "name": "stdout"
        },
        {
          "output_type": "stream",
          "text": [
            "\n",
            "0% [██████████████████████████████] 100% | ETA: 00:00:00\n",
            "Total time elapsed: 00:00:00\n",
            "0% [██████████████████████████████] 100% | ETA: 00:00:00\n",
            "Total time elapsed: 00:00:00\n",
            "100%|██████████| 33/33 [00:00<00:00, 292.78it/s]"
          ],
          "name": "stderr"
        },
        {
          "output_type": "stream",
          "text": [
            "| Epoch: 152 | Train Loss: 0.253 | Train Acc: 90.64% | Val. Loss: 2.187 | Val. Acc: 48.63% |\n"
          ],
          "name": "stdout"
        },
        {
          "output_type": "stream",
          "text": [
            "\n",
            "0% [██████████████████████████████] 100% | ETA: 00:00:00\n",
            "Total time elapsed: 00:00:00\n",
            "0% [██████████████████████████████] 100% | ETA: 00:00:00\n",
            "Total time elapsed: 00:00:00\n",
            "100%|██████████| 33/33 [00:00<00:00, 292.89it/s]"
          ],
          "name": "stderr"
        },
        {
          "output_type": "stream",
          "text": [
            "| Epoch: 153 | Train Loss: 0.253 | Train Acc: 90.97% | Val. Loss: 2.211 | Val. Acc: 48.58% |\n"
          ],
          "name": "stdout"
        },
        {
          "output_type": "stream",
          "text": [
            "\n",
            "0% [██████████████████████████████] 100% | ETA: 00:00:00\n",
            "Total time elapsed: 00:00:00\n",
            "0% [██████████████████████████████] 100% | ETA: 00:00:00\n",
            "Total time elapsed: 00:00:00\n",
            "100%|██████████| 33/33 [00:00<00:00, 293.25it/s]"
          ],
          "name": "stderr"
        },
        {
          "output_type": "stream",
          "text": [
            "| Epoch: 154 | Train Loss: 0.247 | Train Acc: 90.78% | Val. Loss: 2.238 | Val. Acc: 48.96% |\n"
          ],
          "name": "stdout"
        },
        {
          "output_type": "stream",
          "text": [
            "\n",
            "0% [██████████████████████████████] 100% | ETA: 00:00:00\n",
            "Total time elapsed: 00:00:00\n",
            "0% [██████████████████████████████] 100% | ETA: 00:00:00\n",
            "Total time elapsed: 00:00:00\n",
            "100%|██████████| 33/33 [00:00<00:00, 306.16it/s]"
          ],
          "name": "stderr"
        },
        {
          "output_type": "stream",
          "text": [
            "| Epoch: 155 | Train Loss: 0.242 | Train Acc: 90.94% | Val. Loss: 2.264 | Val. Acc: 48.82% |\n"
          ],
          "name": "stdout"
        },
        {
          "output_type": "stream",
          "text": [
            "\n",
            "0% [██████████████████████████████] 100% | ETA: 00:00:00\n",
            "Total time elapsed: 00:00:00\n",
            "0% [██████████████████████████████] 100% | ETA: 00:00:00\n",
            "Total time elapsed: 00:00:00\n",
            "100%|██████████| 33/33 [00:00<00:00, 283.46it/s]"
          ],
          "name": "stderr"
        },
        {
          "output_type": "stream",
          "text": [
            "| Epoch: 156 | Train Loss: 0.240 | Train Acc: 91.51% | Val. Loss: 2.289 | Val. Acc: 48.72% |\n"
          ],
          "name": "stdout"
        },
        {
          "output_type": "stream",
          "text": [
            "\n",
            "0% [██████████████████████████████] 100% | ETA: 00:00:00\n",
            "Total time elapsed: 00:00:00\n",
            "0% [██████████████████████████████] 100% | ETA: 00:00:00\n",
            "Total time elapsed: 00:00:00\n",
            "100%|██████████| 33/33 [00:00<00:00, 293.10it/s]"
          ],
          "name": "stderr"
        },
        {
          "output_type": "stream",
          "text": [
            "| Epoch: 157 | Train Loss: 0.237 | Train Acc: 91.48% | Val. Loss: 2.320 | Val. Acc: 48.86% |\n"
          ],
          "name": "stdout"
        },
        {
          "output_type": "stream",
          "text": [
            "\n",
            "0% [██████████████████████████████] 100% | ETA: 00:00:00\n",
            "Total time elapsed: 00:00:00\n",
            "0% [██████████████████████████████] 100% | ETA: 00:00:00\n",
            "Total time elapsed: 00:00:00\n",
            "100%|██████████| 33/33 [00:00<00:00, 305.34it/s]"
          ],
          "name": "stderr"
        },
        {
          "output_type": "stream",
          "text": [
            "| Epoch: 158 | Train Loss: 0.233 | Train Acc: 91.78% | Val. Loss: 2.354 | Val. Acc: 48.77% |\n"
          ],
          "name": "stdout"
        },
        {
          "output_type": "stream",
          "text": [
            "\n",
            "0% [██████████████████████████████] 100% | ETA: 00:00:00\n",
            "Total time elapsed: 00:00:00\n",
            "0% [██████████████████████████████] 100% | ETA: 00:00:00\n",
            "Total time elapsed: 00:00:00\n",
            "100%|██████████| 33/33 [00:00<00:00, 295.89it/s]"
          ],
          "name": "stderr"
        },
        {
          "output_type": "stream",
          "text": [
            "| Epoch: 159 | Train Loss: 0.230 | Train Acc: 91.97% | Val. Loss: 2.384 | Val. Acc: 48.77% |\n"
          ],
          "name": "stdout"
        },
        {
          "output_type": "stream",
          "text": [
            "\n",
            "0% [██████████████████████████████] 100% | ETA: 00:00:00\n",
            "Total time elapsed: 00:00:00\n",
            "0% [██████████████████████████████] 100% | ETA: 00:00:00\n",
            "Total time elapsed: 00:00:00\n",
            "100%|██████████| 33/33 [00:00<00:00, 296.12it/s]"
          ],
          "name": "stderr"
        },
        {
          "output_type": "stream",
          "text": [
            "| Epoch: 160 | Train Loss: 0.223 | Train Acc: 92.08% | Val. Loss: 2.418 | Val. Acc: 48.77% |\n"
          ],
          "name": "stdout"
        },
        {
          "output_type": "stream",
          "text": [
            "\n",
            "0% [██████████████████████████████] 100% | ETA: 00:00:00\n",
            "Total time elapsed: 00:00:00\n",
            "0% [██████████████████████████████] 100% | ETA: 00:00:00\n",
            "Total time elapsed: 00:00:00\n",
            "100%|██████████| 33/33 [00:00<00:00, 294.92it/s]"
          ],
          "name": "stderr"
        },
        {
          "output_type": "stream",
          "text": [
            "| Epoch: 161 | Train Loss: 0.221 | Train Acc: 92.42% | Val. Loss: 2.446 | Val. Acc: 48.91% |\n"
          ],
          "name": "stdout"
        },
        {
          "output_type": "stream",
          "text": [
            "\n",
            "0% [██████████████████████████████] 100% | ETA: 00:00:00\n",
            "Total time elapsed: 00:00:00\n",
            "0% [██████████████████████████████] 100% | ETA: 00:00:00\n",
            "Total time elapsed: 00:00:00\n",
            "100%|██████████| 33/33 [00:00<00:00, 289.78it/s]"
          ],
          "name": "stderr"
        },
        {
          "output_type": "stream",
          "text": [
            "| Epoch: 162 | Train Loss: 0.216 | Train Acc: 92.61% | Val. Loss: 2.478 | Val. Acc: 48.91% |\n"
          ],
          "name": "stdout"
        },
        {
          "output_type": "stream",
          "text": [
            "\n",
            "0% [██████████████████████████████] 100% | ETA: 00:00:00\n",
            "Total time elapsed: 00:00:00\n",
            "0% [██████████████████████████████] 100% | ETA: 00:00:00\n",
            "Total time elapsed: 00:00:00\n",
            "100%|██████████| 33/33 [00:00<00:00, 291.19it/s]"
          ],
          "name": "stderr"
        },
        {
          "output_type": "stream",
          "text": [
            "| Epoch: 163 | Train Loss: 0.215 | Train Acc: 92.53% | Val. Loss: 2.515 | Val. Acc: 48.77% |\n"
          ],
          "name": "stdout"
        },
        {
          "output_type": "stream",
          "text": [
            "\n",
            "0% [██████████████████████████████] 100% | ETA: 00:00:00\n",
            "Total time elapsed: 00:00:00\n",
            "0% [██████████████████████████████] 100% | ETA: 00:00:00\n",
            "Total time elapsed: 00:00:00\n",
            "100%|██████████| 33/33 [00:00<00:00, 294.92it/s]"
          ],
          "name": "stderr"
        },
        {
          "output_type": "stream",
          "text": [
            "| Epoch: 164 | Train Loss: 0.211 | Train Acc: 92.95% | Val. Loss: 2.550 | Val. Acc: 48.86% |\n"
          ],
          "name": "stdout"
        },
        {
          "output_type": "stream",
          "text": [
            "\n",
            "0% [██████████████████████████████] 100% | ETA: 00:00:00\n",
            "Total time elapsed: 00:00:00\n",
            "0% [██████████████████████████████] 100% | ETA: 00:00:00\n",
            "Total time elapsed: 00:00:00\n",
            "100%|██████████| 33/33 [00:00<00:00, 339.63it/s]"
          ],
          "name": "stderr"
        },
        {
          "output_type": "stream",
          "text": [
            "| Epoch: 165 | Train Loss: 0.205 | Train Acc: 93.07% | Val. Loss: 2.588 | Val. Acc: 48.82% |\n"
          ],
          "name": "stdout"
        },
        {
          "output_type": "stream",
          "text": [
            "\n",
            "0% [██████████████████████████████] 100% | ETA: 00:00:00\n",
            "Total time elapsed: 00:00:00\n",
            "0% [██████████████████████████████] 100% | ETA: 00:00:00\n",
            "Total time elapsed: 00:00:00\n",
            "100%|██████████| 33/33 [00:00<00:00, 275.59it/s]"
          ],
          "name": "stderr"
        },
        {
          "output_type": "stream",
          "text": [
            "| Epoch: 166 | Train Loss: 0.202 | Train Acc: 93.18% | Val. Loss: 2.619 | Val. Acc: 48.86% |\n"
          ],
          "name": "stdout"
        },
        {
          "output_type": "stream",
          "text": [
            "\n",
            "0% [██████████████████████████████] 100% | ETA: 00:00:00\n",
            "Total time elapsed: 00:00:00\n",
            "0% [██████████████████████████████] 100% | ETA: 00:00:00\n",
            "Total time elapsed: 00:00:00\n",
            "100%|██████████| 33/33 [00:00<00:00, 303.90it/s]"
          ],
          "name": "stderr"
        },
        {
          "output_type": "stream",
          "text": [
            "| Epoch: 167 | Train Loss: 0.198 | Train Acc: 93.61% | Val. Loss: 2.650 | Val. Acc: 49.01% |\n"
          ],
          "name": "stdout"
        },
        {
          "output_type": "stream",
          "text": [
            "\n",
            "0% [██████████████████████████████] 100% | ETA: 00:00:00\n",
            "Total time elapsed: 00:00:00\n",
            "0% [██████████████████████████████] 100% | ETA: 00:00:00\n",
            "Total time elapsed: 00:00:00\n",
            "100%|██████████| 33/33 [00:00<00:00, 281.87it/s]"
          ],
          "name": "stderr"
        },
        {
          "output_type": "stream",
          "text": [
            "| Epoch: 168 | Train Loss: 0.192 | Train Acc: 93.66% | Val. Loss: 2.702 | Val. Acc: 48.39% |\n"
          ],
          "name": "stdout"
        },
        {
          "output_type": "stream",
          "text": [
            "\n",
            "0% [██████████████████████████████] 100% | ETA: 00:00:00\n",
            "Total time elapsed: 00:00:00\n",
            "0% [██████████████████████████████] 100% | ETA: 00:00:00\n",
            "Total time elapsed: 00:00:00\n",
            "100%|██████████| 33/33 [00:00<00:00, 267.06it/s]"
          ],
          "name": "stderr"
        },
        {
          "output_type": "stream",
          "text": [
            "| Epoch: 169 | Train Loss: 0.189 | Train Acc: 93.69% | Val. Loss: 2.742 | Val. Acc: 48.58% |\n"
          ],
          "name": "stdout"
        },
        {
          "output_type": "stream",
          "text": [
            "\n",
            "0% [██████████████████████████████] 100% | ETA: 00:00:00\n",
            "Total time elapsed: 00:00:00\n",
            "0% [██████████████████████████████] 100% | ETA: 00:00:00\n",
            "Total time elapsed: 00:00:00\n",
            "100%|██████████| 33/33 [00:00<00:00, 290.88it/s]\n"
          ],
          "name": "stderr"
        },
        {
          "output_type": "stream",
          "text": [
            "| Epoch: 170 | Train Loss: 0.184 | Train Acc: 94.24% | Val. Loss: 2.773 | Val. Acc: 48.58% |\n"
          ],
          "name": "stdout"
        },
        {
          "output_type": "stream",
          "text": [
            "0% [██████████████████████████████] 100% | ETA: 00:00:00\n",
            "Total time elapsed: 00:00:00\n",
            "0% [██████████████████████████████] 100% | ETA: 00:00:00\n",
            "Total time elapsed: 00:00:00\n",
            "100%|██████████| 33/33 [00:00<00:00, 279.78it/s]"
          ],
          "name": "stderr"
        },
        {
          "output_type": "stream",
          "text": [
            "| Epoch: 171 | Train Loss: 0.181 | Train Acc: 94.27% | Val. Loss: 2.815 | Val. Acc: 48.91% |\n"
          ],
          "name": "stdout"
        },
        {
          "output_type": "stream",
          "text": [
            "\n",
            "0% [██████████████████████████████] 100% | ETA: 00:00:00\n",
            "Total time elapsed: 00:00:00\n",
            "0% [██████████████████████████████] 100% | ETA: 00:00:00\n",
            "Total time elapsed: 00:00:00\n",
            "100%|██████████| 33/33 [00:00<00:00, 329.80it/s]"
          ],
          "name": "stderr"
        },
        {
          "output_type": "stream",
          "text": [
            "| Epoch: 172 | Train Loss: 0.176 | Train Acc: 94.44% | Val. Loss: 2.862 | Val. Acc: 48.91% |\n"
          ],
          "name": "stdout"
        },
        {
          "output_type": "stream",
          "text": [
            "\n",
            "0% [██████████████████████████████] 100% | ETA: 00:00:00\n",
            "Total time elapsed: 00:00:00\n",
            "0% [██████████████████████████████] 100% | ETA: 00:00:00\n",
            "Total time elapsed: 00:00:00\n",
            "100%|██████████| 33/33 [00:00<00:00, 295.79it/s]\n"
          ],
          "name": "stderr"
        },
        {
          "output_type": "stream",
          "text": [
            "| Epoch: 173 | Train Loss: 0.171 | Train Acc: 94.78% | Val. Loss: 2.893 | Val. Acc: 48.91% |\n"
          ],
          "name": "stdout"
        },
        {
          "output_type": "stream",
          "text": [
            "0% [██████████████████████████████] 100% | ETA: 00:00:00\n",
            "Total time elapsed: 00:00:00\n",
            "0% [██████████████████████████████] 100% | ETA: 00:00:00\n",
            "Total time elapsed: 00:00:00\n",
            "100%|██████████| 33/33 [00:00<00:00, 251.12it/s]"
          ],
          "name": "stderr"
        },
        {
          "output_type": "stream",
          "text": [
            "| Epoch: 174 | Train Loss: 0.168 | Train Acc: 95.19% | Val. Loss: 2.942 | Val. Acc: 48.82% |\n"
          ],
          "name": "stdout"
        },
        {
          "output_type": "stream",
          "text": [
            "\n",
            "0% [██████████████████████████████] 100% | ETA: 00:00:00\n",
            "Total time elapsed: 00:00:00\n",
            "0% [██████████████████████████████] 100% | ETA: 00:00:00\n",
            "Total time elapsed: 00:00:00\n",
            "100%|██████████| 33/33 [00:00<00:00, 272.45it/s]"
          ],
          "name": "stderr"
        },
        {
          "output_type": "stream",
          "text": [
            "| Epoch: 175 | Train Loss: 0.163 | Train Acc: 95.01% | Val. Loss: 2.979 | Val. Acc: 48.34% |\n"
          ],
          "name": "stdout"
        },
        {
          "output_type": "stream",
          "text": [
            "\n",
            "0% [██████████████████████████████] 100% | ETA: 00:00:00\n",
            "Total time elapsed: 00:00:00\n",
            "0% [██████████████████████████████] 100% | ETA: 00:00:00\n",
            "Total time elapsed: 00:00:00\n",
            "100%|██████████| 33/33 [00:00<00:00, 304.41it/s]"
          ],
          "name": "stderr"
        },
        {
          "output_type": "stream",
          "text": [
            "| Epoch: 176 | Train Loss: 0.158 | Train Acc: 95.17% | Val. Loss: 3.031 | Val. Acc: 48.63% |\n"
          ],
          "name": "stdout"
        },
        {
          "output_type": "stream",
          "text": [
            "\n",
            "0% [██████████████████████████████] 100% | ETA: 00:00:00\n",
            "Total time elapsed: 00:00:00\n",
            "0% [██████████████████████████████] 100% | ETA: 00:00:00\n",
            "Total time elapsed: 00:00:00\n",
            "100%|██████████| 33/33 [00:00<00:00, 286.57it/s]"
          ],
          "name": "stderr"
        },
        {
          "output_type": "stream",
          "text": [
            "| Epoch: 177 | Train Loss: 0.156 | Train Acc: 95.83% | Val. Loss: 3.074 | Val. Acc: 48.82% |\n"
          ],
          "name": "stdout"
        },
        {
          "output_type": "stream",
          "text": [
            "\n",
            "0% [██████████████████████████████] 100% | ETA: 00:00:00\n",
            "Total time elapsed: 00:00:00\n",
            "0% [██████████████████████████████] 100% | ETA: 00:00:00\n",
            "Total time elapsed: 00:00:00\n",
            "100%|██████████| 33/33 [00:00<00:00, 302.38it/s]"
          ],
          "name": "stderr"
        },
        {
          "output_type": "stream",
          "text": [
            "| Epoch: 178 | Train Loss: 0.149 | Train Acc: 95.55% | Val. Loss: 3.106 | Val. Acc: 48.72% |\n"
          ],
          "name": "stdout"
        },
        {
          "output_type": "stream",
          "text": [
            "\n",
            "0% [██████████████████████████████] 100% | ETA: 00:00:00\n",
            "Total time elapsed: 00:00:00\n",
            "0% [██████████████████████████████] 100% | ETA: 00:00:00\n",
            "Total time elapsed: 00:00:00\n",
            "100%|██████████| 33/33 [00:00<00:00, 306.56it/s]"
          ],
          "name": "stderr"
        },
        {
          "output_type": "stream",
          "text": [
            "| Epoch: 179 | Train Loss: 0.148 | Train Acc: 95.64% | Val. Loss: 3.167 | Val. Acc: 48.77% |\n"
          ],
          "name": "stdout"
        },
        {
          "output_type": "stream",
          "text": [
            "\n",
            "0% [██████████████████████████████] 100% | ETA: 00:00:00\n",
            "Total time elapsed: 00:00:00\n",
            "0% [██████████████████████████████] 100% | ETA: 00:00:00\n",
            "Total time elapsed: 00:00:00\n",
            "100%|██████████| 33/33 [00:00<00:00, 274.60it/s]"
          ],
          "name": "stderr"
        },
        {
          "output_type": "stream",
          "text": [
            "| Epoch: 180 | Train Loss: 0.146 | Train Acc: 95.71% | Val. Loss: 3.216 | Val. Acc: 48.67% |\n"
          ],
          "name": "stdout"
        },
        {
          "output_type": "stream",
          "text": [
            "\n",
            "0% [██████████████████████████████] 100% | ETA: 00:00:00\n",
            "Total time elapsed: 00:00:00\n",
            "0% [██████████████████████████████] 100% | ETA: 00:00:00\n",
            "Total time elapsed: 00:00:00\n",
            "100%|██████████| 33/33 [00:00<00:00, 307.02it/s]"
          ],
          "name": "stderr"
        },
        {
          "output_type": "stream",
          "text": [
            "| Epoch: 181 | Train Loss: 0.137 | Train Acc: 96.16% | Val. Loss: 3.238 | Val. Acc: 48.91% |\n"
          ],
          "name": "stdout"
        },
        {
          "output_type": "stream",
          "text": [
            "\n",
            "0% [██████████████████████████████] 100% | ETA: 00:00:00\n",
            "Total time elapsed: 00:00:00\n",
            "0% [██████████████████████████████] 100% | ETA: 00:00:00\n",
            "Total time elapsed: 00:00:00\n",
            "100%|██████████| 33/33 [00:00<00:00, 289.27it/s]"
          ],
          "name": "stderr"
        },
        {
          "output_type": "stream",
          "text": [
            "| Epoch: 182 | Train Loss: 0.139 | Train Acc: 96.07% | Val. Loss: 3.313 | Val. Acc: 48.96% |\n"
          ],
          "name": "stdout"
        },
        {
          "output_type": "stream",
          "text": [
            "\n",
            "0% [██████████████████████████████] 100% | ETA: 00:00:00\n",
            "Total time elapsed: 00:00:00\n",
            "0% [██████████████████████████████] 100% | ETA: 00:00:00\n",
            "Total time elapsed: 00:00:00\n",
            "100%|██████████| 33/33 [00:00<00:00, 308.90it/s]"
          ],
          "name": "stderr"
        },
        {
          "output_type": "stream",
          "text": [
            "| Epoch: 183 | Train Loss: 0.129 | Train Acc: 96.73% | Val. Loss: 3.341 | Val. Acc: 48.53% |\n"
          ],
          "name": "stdout"
        },
        {
          "output_type": "stream",
          "text": [
            "\n",
            "0% [██████████████████████████████] 100% | ETA: 00:00:00\n",
            "Total time elapsed: 00:00:00\n",
            "0% [██████████████████████████████] 100% | ETA: 00:00:00\n",
            "Total time elapsed: 00:00:00\n",
            "100%|██████████| 33/33 [00:00<00:00, 307.21it/s]"
          ],
          "name": "stderr"
        },
        {
          "output_type": "stream",
          "text": [
            "| Epoch: 184 | Train Loss: 0.127 | Train Acc: 96.61% | Val. Loss: 3.413 | Val. Acc: 48.91% |\n"
          ],
          "name": "stdout"
        },
        {
          "output_type": "stream",
          "text": [
            "\n",
            "0% [██████████████████████████████] 100% | ETA: 00:00:00\n",
            "Total time elapsed: 00:00:00\n",
            "0% [██████████████████████████████] 100% | ETA: 00:00:00\n",
            "Total time elapsed: 00:00:00\n",
            "100%|██████████| 33/33 [00:00<00:00, 317.18it/s]"
          ],
          "name": "stderr"
        },
        {
          "output_type": "stream",
          "text": [
            "| Epoch: 185 | Train Loss: 0.124 | Train Acc: 96.75% | Val. Loss: 3.452 | Val. Acc: 48.63% |\n"
          ],
          "name": "stdout"
        },
        {
          "output_type": "stream",
          "text": [
            "\n",
            "0% [██████████████████████████████] 100% | ETA: 00:00:00\n",
            "Total time elapsed: 00:00:00\n",
            "0% [██████████████████████████████] 100% | ETA: 00:00:00\n",
            "Total time elapsed: 00:00:00\n",
            "100%|██████████| 33/33 [00:00<00:00, 299.01it/s]"
          ],
          "name": "stderr"
        },
        {
          "output_type": "stream",
          "text": [
            "| Epoch: 186 | Train Loss: 0.115 | Train Acc: 97.33% | Val. Loss: 3.513 | Val. Acc: 48.82% |\n"
          ],
          "name": "stdout"
        },
        {
          "output_type": "stream",
          "text": [
            "\n",
            "0% [██████████████████████████████] 100% | ETA: 00:00:00\n",
            "Total time elapsed: 00:00:00\n",
            "0% [██████████████████████████████] 100% | ETA: 00:00:00\n",
            "Total time elapsed: 00:00:00\n",
            "100%|██████████| 33/33 [00:00<00:00, 288.35it/s]"
          ],
          "name": "stderr"
        },
        {
          "output_type": "stream",
          "text": [
            "| Epoch: 187 | Train Loss: 0.120 | Train Acc: 96.72% | Val. Loss: 3.565 | Val. Acc: 49.01% |\n"
          ],
          "name": "stdout"
        },
        {
          "output_type": "stream",
          "text": [
            "\n",
            "0% [██████████████████████████████] 100% | ETA: 00:00:00\n",
            "Total time elapsed: 00:00:00\n",
            "0% [██████████████████████████████] 100% | ETA: 00:00:00\n",
            "Total time elapsed: 00:00:00\n",
            "100%|██████████| 33/33 [00:00<00:00, 297.44it/s]"
          ],
          "name": "stderr"
        },
        {
          "output_type": "stream",
          "text": [
            "| Epoch: 188 | Train Loss: 0.111 | Train Acc: 97.35% | Val. Loss: 3.601 | Val. Acc: 48.53% |\n"
          ],
          "name": "stdout"
        },
        {
          "output_type": "stream",
          "text": [
            "\n",
            "0% [██████████████████████████████] 100% | ETA: 00:00:00\n",
            "Total time elapsed: 00:00:00\n",
            "0% [██████████████████████████████] 100% | ETA: 00:00:00\n",
            "Total time elapsed: 00:00:00\n",
            "100%|██████████| 33/33 [00:00<00:00, 265.43it/s]"
          ],
          "name": "stderr"
        },
        {
          "output_type": "stream",
          "text": [
            "| Epoch: 189 | Train Loss: 0.108 | Train Acc: 97.19% | Val. Loss: 3.649 | Val. Acc: 48.67% |\n"
          ],
          "name": "stdout"
        },
        {
          "output_type": "stream",
          "text": [
            "\n",
            "0% [██████████████████████████████] 100% | ETA: 00:00:00\n",
            "Total time elapsed: 00:00:00\n",
            "0% [██████████████████████████████] 100% | ETA: 00:00:00\n",
            "Total time elapsed: 00:00:00\n",
            "100%|██████████| 33/33 [00:00<00:00, 274.24it/s]"
          ],
          "name": "stderr"
        },
        {
          "output_type": "stream",
          "text": [
            "| Epoch: 190 | Train Loss: 0.109 | Train Acc: 97.17% | Val. Loss: 3.710 | Val. Acc: 49.05% |\n"
          ],
          "name": "stdout"
        },
        {
          "output_type": "stream",
          "text": [
            "\n",
            "0% [██████████████████████████████] 100% | ETA: 00:00:00\n",
            "Total time elapsed: 00:00:00\n",
            "0% [██████████████████████████████] 100% | ETA: 00:00:00\n",
            "Total time elapsed: 00:00:00\n",
            "100%|██████████| 33/33 [00:00<00:00, 330.45it/s]"
          ],
          "name": "stderr"
        },
        {
          "output_type": "stream",
          "text": [
            "| Epoch: 191 | Train Loss: 0.103 | Train Acc: 97.47% | Val. Loss: 3.745 | Val. Acc: 48.72% |\n"
          ],
          "name": "stdout"
        },
        {
          "output_type": "stream",
          "text": [
            "\n",
            "0% [██████████████████████████████] 100% | ETA: 00:00:00\n",
            "Total time elapsed: 00:00:00\n",
            "0% [██████████████████████████████] 100% | ETA: 00:00:00\n",
            "Total time elapsed: 00:00:00\n",
            "100%|██████████| 33/33 [00:00<00:00, 300.89it/s]"
          ],
          "name": "stderr"
        },
        {
          "output_type": "stream",
          "text": [
            "| Epoch: 192 | Train Loss: 0.102 | Train Acc: 97.57% | Val. Loss: 3.796 | Val. Acc: 48.72% |\n"
          ],
          "name": "stdout"
        },
        {
          "output_type": "stream",
          "text": [
            "\n",
            "0% [██████████████████████████████] 100% | ETA: 00:00:00\n",
            "Total time elapsed: 00:00:00\n",
            "0% [██████████████████████████████] 100% | ETA: 00:00:00\n",
            "Total time elapsed: 00:00:00\n",
            "100%|██████████| 33/33 [00:00<00:00, 300.55it/s]"
          ],
          "name": "stderr"
        },
        {
          "output_type": "stream",
          "text": [
            "| Epoch: 193 | Train Loss: 0.096 | Train Acc: 97.59% | Val. Loss: 3.831 | Val. Acc: 48.63% |\n"
          ],
          "name": "stdout"
        },
        {
          "output_type": "stream",
          "text": [
            "\n",
            "0% [██████████████████████████████] 100% | ETA: 00:00:00\n",
            "Total time elapsed: 00:00:00\n",
            "0% [██████████████████████████████] 100% | ETA: 00:00:00\n",
            "Total time elapsed: 00:00:00\n",
            "100%|██████████| 33/33 [00:00<00:00, 298.02it/s]"
          ],
          "name": "stderr"
        },
        {
          "output_type": "stream",
          "text": [
            "| Epoch: 194 | Train Loss: 0.102 | Train Acc: 97.24% | Val. Loss: 3.892 | Val. Acc: 48.96% |\n"
          ],
          "name": "stdout"
        },
        {
          "output_type": "stream",
          "text": [
            "\n",
            "0% [██████████████████████████████] 100% | ETA: 00:00:00\n",
            "Total time elapsed: 00:00:00\n",
            "0% [██████████████████████████████] 100% | ETA: 00:00:00\n",
            "Total time elapsed: 00:00:00\n",
            "100%|██████████| 33/33 [00:00<00:00, 299.94it/s]"
          ],
          "name": "stderr"
        },
        {
          "output_type": "stream",
          "text": [
            "| Epoch: 195 | Train Loss: 0.089 | Train Acc: 98.20% | Val. Loss: 3.921 | Val. Acc: 49.05% |\n"
          ],
          "name": "stdout"
        },
        {
          "output_type": "stream",
          "text": [
            "\n",
            "0% [██████████████████████████████] 100% | ETA: 00:00:00\n",
            "Total time elapsed: 00:00:00\n",
            "0% [██████████████████████████████] 100% | ETA: 00:00:00\n",
            "Total time elapsed: 00:00:00\n",
            "100%|██████████| 33/33 [00:00<00:00, 280.82it/s]"
          ],
          "name": "stderr"
        },
        {
          "output_type": "stream",
          "text": [
            "| Epoch: 196 | Train Loss: 0.085 | Train Acc: 98.07% | Val. Loss: 3.981 | Val. Acc: 48.34% |\n"
          ],
          "name": "stdout"
        },
        {
          "output_type": "stream",
          "text": [
            "\n",
            "0% [██████████████████████████████] 100% | ETA: 00:00:00\n",
            "Total time elapsed: 00:00:00\n",
            "0% [██████████████████████████████] 100% | ETA: 00:00:00\n",
            "Total time elapsed: 00:00:00\n",
            "100%|██████████| 33/33 [00:00<00:00, 305.60it/s]"
          ],
          "name": "stderr"
        },
        {
          "output_type": "stream",
          "text": [
            "| Epoch: 197 | Train Loss: 0.087 | Train Acc: 98.03% | Val. Loss: 4.013 | Val. Acc: 49.05% |\n"
          ],
          "name": "stdout"
        },
        {
          "output_type": "stream",
          "text": [
            "\n",
            "0% [██████████████████████████████] 100% | ETA: 00:00:00\n",
            "Total time elapsed: 00:00:00\n",
            "0% [██████████████████████████████] 100% | ETA: 00:00:00\n",
            "Total time elapsed: 00:00:00\n",
            "100%|██████████| 33/33 [00:00<00:00, 303.34it/s]"
          ],
          "name": "stderr"
        },
        {
          "output_type": "stream",
          "text": [
            "| Epoch: 198 | Train Loss: 0.086 | Train Acc: 97.82% | Val. Loss: 4.084 | Val. Acc: 48.82% |\n"
          ],
          "name": "stdout"
        },
        {
          "output_type": "stream",
          "text": [
            "\n",
            "0% [██████████████████████████████] 100% | ETA: 00:00:00\n",
            "Total time elapsed: 00:00:00\n",
            "0% [██████████████████████████████] 100% | ETA: 00:00:00\n",
            "Total time elapsed: 00:00:00\n",
            "100%|██████████| 33/33 [00:00<00:00, 257.86it/s]"
          ],
          "name": "stderr"
        },
        {
          "output_type": "stream",
          "text": [
            "| Epoch: 199 | Train Loss: 0.079 | Train Acc: 98.18% | Val. Loss: 4.102 | Val. Acc: 49.15% |\n"
          ],
          "name": "stdout"
        },
        {
          "output_type": "stream",
          "text": [
            "\n",
            "0% [██████████████████████████████] 100% | ETA: 00:00:00\n",
            "Total time elapsed: 00:00:00\n",
            "0% [██████████████████████████████] 100% | ETA: 00:00:00\n",
            "Total time elapsed: 00:00:00\n",
            "100%|██████████| 33/33 [00:00<00:00, 298.07it/s]"
          ],
          "name": "stderr"
        },
        {
          "output_type": "stream",
          "text": [
            "| Epoch: 200 | Train Loss: 0.076 | Train Acc: 98.26% | Val. Loss: 4.158 | Val. Acc: 48.86% |\n"
          ],
          "name": "stdout"
        },
        {
          "output_type": "stream",
          "text": [
            "\n"
          ],
          "name": "stderr"
        }
      ]
    },
    {
      "cell_type": "code",
      "metadata": {
        "id": "uCzPPRDRm_mg",
        "outputId": "a88ee97a-21e2-4444-f343-a23e79f11051",
        "colab": {
          "base_uri": "https://localhost:8080/",
          "height": 86
        }
      },
      "source": [
        "test_loss, test_acc = evaluate(model, embedding_x_test.cuda(), y_test.cuda(), BATCH_SIZE, criterion)\n",
        "\n",
        "print(f'| Test Loss: {test_loss:.3f} | Test Acc: {test_acc*100:.2f}% |')"
      ],
      "execution_count": null,
      "outputs": [
        {
          "output_type": "stream",
          "text": [
            "0% [██████████████████████████████] 100% | ETA: 00:00:00\n",
            "Total time elapsed: 00:00:00\n",
            "100%|██████████| 33/33 [00:00<00:00, 286.15it/s]"
          ],
          "name": "stderr"
        },
        {
          "output_type": "stream",
          "text": [
            "| Test Loss: 2.920 | Test Acc: 49.05% |\n"
          ],
          "name": "stdout"
        },
        {
          "output_type": "stream",
          "text": [
            "\n"
          ],
          "name": "stderr"
        }
      ]
    },
    {
      "cell_type": "code",
      "metadata": {
        "id": "09jH4OfDniBd",
        "outputId": "8cff070f-5bd4-48a0-8c6c-9a5685531550",
        "colab": {
          "base_uri": "https://localhost:8080/",
          "height": 89
        }
      },
      "source": [
        "x_test[:2]"
      ],
      "execution_count": null,
      "outputs": [
        {
          "output_type": "execute_result",
          "data": {
            "text/plain": [
              "array([\"it 's clear that mehta simply wanted to update her beloved genre for the thousands of indians who fancy themselves too sophisticated for the cheese - laced spectacles that pack  'em in on the subcontinent .\",\n",
              "       'compassionately explores the seemingly irreconcilable situation between conservative christian parents and their estranged gay and lesbian children .'],\n",
              "      dtype='<U266')"
            ]
          },
          "metadata": {
            "tags": []
          },
          "execution_count": 43
        }
      ]
    },
    {
      "cell_type": "code",
      "metadata": {
        "id": "HTaTz8RYoAlD"
      },
      "source": [
        "test_ut = [\"the movie was horrible .\",\n",
        "           \"awesome movie . greatest ever built .\"]"
      ],
      "execution_count": null,
      "outputs": []
    },
    {
      "cell_type": "code",
      "metadata": {
        "id": "IAjJnNcUoI1W"
      },
      "source": [
        "embed_ut = create_embedding(test_ut,sequence_length)"
      ],
      "execution_count": null,
      "outputs": []
    },
    {
      "cell_type": "code",
      "metadata": {
        "id": "hGy-HKoaoW1I"
      },
      "source": [
        "out = model(embed_ut)"
      ],
      "execution_count": null,
      "outputs": []
    }
  ]
}